{
 "cells": [
  {
   "cell_type": "markdown",
   "id": "brown-earth",
   "metadata": {},
   "source": [
    "# Figure 2: MS2/Identification visualization\n",
    "\n",
    "## Library imports"
   ]
  },
  {
   "cell_type": "code",
   "execution_count": 52,
   "id": "surgical-scheduling",
   "metadata": {},
   "outputs": [],
   "source": [
    "import pandas as pd\n",
    "import numpy as np\n",
    "\n",
    "from sklearn.preprocessing import MinMaxScaler\n",
    "\n",
    "import plotly.graph_objects as go\n",
    "\n",
    "import utils\n",
    "import alphatims.bruker"
   ]
  },
  {
   "cell_type": "markdown",
   "id": "written-stewart",
   "metadata": {},
   "source": [
    "## Fig 2 A: MS2 DDA spectra \n",
    "\n",
    "For this figure we used the [PXD012867 PRIDE project](https://www.ebi.ac.uk/pride/archive/projects/PXD012867) as example data."
   ]
  },
  {
   "cell_type": "code",
   "execution_count": 24,
   "id": "legal-exchange",
   "metadata": {},
   "outputs": [],
   "source": [
    "ms2_dda_path = '.../Data/PXD012867_yeast_project/20190124_QX3_JuSc_SA_JS7_1_wt_4h_1.raw'"
   ]
  },
  {
   "cell_type": "code",
   "execution_count": null,
   "id": "exotic-georgia",
   "metadata": {},
   "outputs": [],
   "source": [
    "ms2_dda_data = utils.load_thermo_raw(ms2_dda_path)"
   ]
  },
  {
   "cell_type": "code",
   "execution_count": 104,
   "id": "clear-sandwich",
   "metadata": {},
   "outputs": [],
   "source": [
    "# this plotting function is taken from the AlphaViz package (https://github.com/MannLabs/alphaviz) and modified\n",
    "def plot_mass_spectra(\n",
    "    mz_values: np.ndarray,\n",
    "    intensity_values: np.ndarray,\n",
    "    title: str,\n",
    "    predicted: tuple = (),\n",
    "    spectrum_color: str = 'grey',\n",
    "    template: str = \"plotly_white\",\n",
    "    spectrum_line_width: float = 1.5,\n",
    "    height: int = 520\n",
    "):\n",
    "    fig = go.Figure()\n",
    "\n",
    "    fig.add_trace(\n",
    "        go.Scatter(\n",
    "            x=mz_values,\n",
    "            y=intensity_values,\n",
    "            mode='markers',\n",
    "            marker=dict(color=spectrum_color, size=3),\n",
    "            hovertemplate='<b>m/z:</b> %{x};<br><b>Intensity:</b> %{y}.',\n",
    "            name='',\n",
    "            showlegend=False\n",
    "        )\n",
    "    )\n",
    "    \n",
    "    if predicted:\n",
    "        fig.add_trace(\n",
    "            go.Scatter(\n",
    "                x=predicted[0],\n",
    "                y=predicted[1],\n",
    "                mode='markers',\n",
    "                hovertext=predicted[2],\n",
    "                marker=dict(color='lightblue', size=3),\n",
    "                hovertemplate='<b>m/z:</b> %{x};<br><b>Intensity:</b> %{y};<br><b>Ion:</b> %{hovertext}.',\n",
    "                name='',\n",
    "                showlegend=False\n",
    "            )\n",
    "        )\n",
    "    \n",
    "    # Use the 'shapes' attribute from the layout to draw the vertical lines\n",
    "    fig.update_layout(\n",
    "        template=template,\n",
    "        shapes=[\n",
    "            dict(\n",
    "                type='line',\n",
    "                xref='x',\n",
    "                yref='y',\n",
    "                x0=mz_values[i],\n",
    "                y0=0,\n",
    "                x1=mz_values[i],\n",
    "                y1=intensity_values[i],\n",
    "                line=dict(\n",
    "                    color = spectrum_color,\n",
    "                    width=spectrum_line_width\n",
    "                )\n",
    "            ) for i, val in enumerate(zip(mz_values, intensity_values))\n",
    "        ],\n",
    "        xaxis=dict(\n",
    "            title='m/z, Th',\n",
    "            mirror=True\n",
    "        ),\n",
    "        yaxis=dict(\n",
    "            title='Intensity',\n",
    "        ),\n",
    "        legend=dict(\n",
    "            orientation=\"h\",\n",
    "            x=1,\n",
    "            xanchor=\"right\",\n",
    "            yanchor=\"bottom\",\n",
    "            y=1.01\n",
    "        ),\n",
    "        hovermode=\"closest\",\n",
    "        height=height,\n",
    "        title=dict(\n",
    "            text=title,\n",
    "            font=dict(\n",
    "                size=16,\n",
    "            ),\n",
    "            x=0.5,\n",
    "            xanchor='center',\n",
    "            yanchor='top'\n",
    "        ),\n",
    "    )\n",
    "    \n",
    "    if predicted:\n",
    "        combined_mz = list(mz_values) + list(predicted[0])\n",
    "        combined_int = list(intensity_values) + list(predicted[1])\n",
    "        fig.update_layout(\n",
    "            shapes=[\n",
    "                dict(\n",
    "                    type='line',\n",
    "                    xref='x',\n",
    "                    yref='y',\n",
    "                    x0=combined_mz[i],\n",
    "                    y0=0,\n",
    "                    x1=combined_mz[i],\n",
    "                    y1=combined_int[i],\n",
    "                    line=dict(\n",
    "                        color = spectrum_color if i < len(mz_values) else 'lightblue',\n",
    "                        width=spectrum_line_width\n",
    "                    )\n",
    "                ) for i, val in enumerate(zip(combined_mz, combined_int))\n",
    "            ],\n",
    "            yaxis=dict(\n",
    "                title='Relative intensity, %',\n",
    "            ),\n",
    "        )\n",
    "    return fig"
   ]
  },
  {
   "cell_type": "code",
   "execution_count": 47,
   "id": "active-fireplace",
   "metadata": {},
   "outputs": [],
   "source": [
    "df_ms2 = pd.DataFrame({'scan': ms2_dda_data['scan_list_ms2'], \n",
    "                    'RT': ms2_dda_data['rt_list_ms2'],\n",
    "                    'prec_mono_mz': ms2_dda_data['mono_mzs2'],\n",
    "                    'prec_charge': ms2_dda_data['charge_ms2'],\n",
    "                    'mz_values': ms2_dda_data['mass_list_ms2'],\n",
    "                   'intensity_values': ms2_dda_data['int_list_ms2'],\n",
    "                    'order': 'ms2'})\n",
    "df_ms2[df_ms2.RT > 50].head()"
   ]
  },
  {
   "cell_type": "code",
   "execution_count": null,
   "id": "annoying-christopher",
   "metadata": {},
   "outputs": [],
   "source": [
    "# let's plot the MS2 spectra acquired at 50.0019 min for the precursor m/z = 590.2973\n",
    "plot_mass_spectra(\n",
    "    mz_values=df_ms2[df_ms2.scan == 61885].mz_values.values[0], \n",
    "    intensity_values=df_ms2[df_ms2.scan == 61885].intensity_values.values[0],\n",
    "    title=f\"MS2 DDA spectrum for precursor m/z={df_ms2[df_ms2.scan == 61885].prec_mono_mz.values[0]} and charge={df_ms2[df_ms2.scan == 61885].prec_charge.values[0]}.\"\n",
    ").show(config=utils.config)"
   ]
  },
  {
   "cell_type": "markdown",
   "id": "stuffed-consideration",
   "metadata": {},
   "source": [
    "## Fig 2 B: MS2 DIA spectra \n",
    "\n",
    "For this figure we used the Bruker raw file from the [Project PXD017703 from ProteomeXchange](https://www.ebi.ac.uk/pride/archive/projects/PXD017703). as example data.\n",
    "\n",
    "To read the raw TIMS-TOF data we use a recently published [AlphaTims package](https://github.com/MannLabs/alphatims)."
   ]
  },
  {
   "cell_type": "code",
   "execution_count": 2,
   "id": "reverse-license",
   "metadata": {},
   "outputs": [],
   "source": [
    "bruker_file_path = '../Data/PXD017703_diaPASEF/20200428_Evosep_60SPD_SG06-16_MLHeLa_200ng_py8_S3-A6_1_2452.d'"
   ]
  },
  {
   "cell_type": "code",
   "execution_count": 3,
   "id": "reported-essay",
   "metadata": {},
   "outputs": [
    {
     "name": "stderr",
     "output_type": "stream",
     "text": [
      "100%|████████████████████████████████████████████████████████████████████████████████████████████████████████████████████████████████| 11872/11872 [00:20<00:00, 570.97it/s]\n"
     ]
    }
   ],
   "source": [
    "bruker_raw_data = alphatims.bruker.TimsTOF(bruker_file_path)"
   ]
  },
  {
   "cell_type": "code",
   "execution_count": null,
   "id": "turned-leonard",
   "metadata": {},
   "outputs": [],
   "source": [
    "# extract the MS2 DIA spectrum from the frame 6005 (10.564 min) and m/z window: 400-425 Th\n",
    "peptide_data = bruker_raw_data[6005, :, slice(400., 425.)]\n",
    "peptide_data.head()"
   ]
  },
  {
   "cell_type": "code",
   "execution_count": null,
   "id": "involved-promise",
   "metadata": {},
   "outputs": [],
   "source": [
    "plot_mass_spectra(\n",
    "    mz_values=peptide_data.mz_values.values, \n",
    "    intensity_values=peptide_data.intensity_values.values,\n",
    "    title='MS2 DIA spectrum for the RT = 10.564 min and m/z window = 400-425 Th.'\n",
    ").show(config=utils.config)"
   ]
  },
  {
   "cell_type": "markdown",
   "id": "aware-execution",
   "metadata": {},
   "source": [
    "## Fig 2 C: Phospho MS2 spectra \n",
    "\n",
    "For this figure we used the [PXD010697 PRIDE project](https://www.ebi.ac.uk/pride/archive/projects/PXD010697) as example data."
   ]
  },
  {
   "cell_type": "code",
   "execution_count": 17,
   "id": "black-record",
   "metadata": {},
   "outputs": [],
   "source": [
    "phospho_path = '../Data/PXD010697_circadian_clock/20170123_Qep6_ChRo_SA_collab_SYN_CT_phospho_1.raw'"
   ]
  },
  {
   "cell_type": "code",
   "execution_count": 18,
   "id": "loaded-influence",
   "metadata": {},
   "outputs": [
    {
     "name": "stderr",
     "output_type": "stream",
     "text": [
      "100%|████████████████████████████████████████████████████████████████████████████████████████████████████████████████████████████████| 54493/54493 [01:58<00:00, 460.62it/s]\n"
     ]
    }
   ],
   "source": [
    "phospho_data = utils.load_thermo_raw(phospho_path)"
   ]
  },
  {
   "cell_type": "code",
   "execution_count": 19,
   "id": "funny-broadcasting",
   "metadata": {},
   "outputs": [
    {
     "data": {
      "text/html": [
       "<div>\n",
       "<style scoped>\n",
       "    .dataframe tbody tr th:only-of-type {\n",
       "        vertical-align: middle;\n",
       "    }\n",
       "\n",
       "    .dataframe tbody tr th {\n",
       "        vertical-align: top;\n",
       "    }\n",
       "\n",
       "    .dataframe thead th {\n",
       "        text-align: right;\n",
       "    }\n",
       "</style>\n",
       "<table border=\"1\" class=\"dataframe\">\n",
       "  <thead>\n",
       "    <tr style=\"text-align: right;\">\n",
       "      <th></th>\n",
       "      <th>scan</th>\n",
       "      <th>RT</th>\n",
       "      <th>prec_mono_mz</th>\n",
       "      <th>prec_charge</th>\n",
       "      <th>mz_values</th>\n",
       "      <th>intensity_values</th>\n",
       "      <th>order</th>\n",
       "    </tr>\n",
       "  </thead>\n",
       "  <tbody>\n",
       "    <tr>\n",
       "      <th>16055</th>\n",
       "      <td>20544</td>\n",
       "      <td>50.001946</td>\n",
       "      <td>473.224500</td>\n",
       "      <td>2</td>\n",
       "      <td>[101.01766967773438, 102.05557250976562, 110.0...</td>\n",
       "      <td>[32731, 2690, 8449, 1218, 2323, 34334, 22946, ...</td>\n",
       "      <td>ms2</td>\n",
       "    </tr>\n",
       "    <tr>\n",
       "      <th>16056</th>\n",
       "      <td>20545</td>\n",
       "      <td>50.004480</td>\n",
       "      <td>691.008118</td>\n",
       "      <td>3</td>\n",
       "      <td>[101.07112121582031, 102.05569458007812, 110.0...</td>\n",
       "      <td>[1445, 2576, 2548, 1807, 2375, 5065, 2100, 183...</td>\n",
       "      <td>ms2</td>\n",
       "    </tr>\n",
       "    <tr>\n",
       "      <th>16057</th>\n",
       "      <td>20546</td>\n",
       "      <td>50.006332</td>\n",
       "      <td>695.341797</td>\n",
       "      <td>3</td>\n",
       "      <td>[101.07183837890625, 102.05586242675781, 110.0...</td>\n",
       "      <td>[12392, 18667, 8993, 1861, 1604, 4179, 1997, 1...</td>\n",
       "      <td>ms2</td>\n",
       "    </tr>\n",
       "    <tr>\n",
       "      <th>16058</th>\n",
       "      <td>20547</td>\n",
       "      <td>50.008876</td>\n",
       "      <td>946.916992</td>\n",
       "      <td>2</td>\n",
       "      <td>[101.07193756103516, 102.05623626708984, 103.2...</td>\n",
       "      <td>[4184, 1701, 950, 1233, 5056, 2468, 1291, 4600...</td>\n",
       "      <td>ms2</td>\n",
       "    </tr>\n",
       "    <tr>\n",
       "      <th>16059</th>\n",
       "      <td>20548</td>\n",
       "      <td>50.011451</td>\n",
       "      <td>1298.466431</td>\n",
       "      <td>3</td>\n",
       "      <td>[110.99449920654297, 112.05134582519531, 126.0...</td>\n",
       "      <td>[1422, 1988, 51974, 2238, 2081, 23566, 295747,...</td>\n",
       "      <td>ms2</td>\n",
       "    </tr>\n",
       "  </tbody>\n",
       "</table>\n",
       "</div>"
      ],
      "text/plain": [
       "        scan         RT  prec_mono_mz  prec_charge  \\\n",
       "16055  20544  50.001946    473.224500            2   \n",
       "16056  20545  50.004480    691.008118            3   \n",
       "16057  20546  50.006332    695.341797            3   \n",
       "16058  20547  50.008876    946.916992            2   \n",
       "16059  20548  50.011451   1298.466431            3   \n",
       "\n",
       "                                               mz_values  \\\n",
       "16055  [101.01766967773438, 102.05557250976562, 110.0...   \n",
       "16056  [101.07112121582031, 102.05569458007812, 110.0...   \n",
       "16057  [101.07183837890625, 102.05586242675781, 110.0...   \n",
       "16058  [101.07193756103516, 102.05623626708984, 103.2...   \n",
       "16059  [110.99449920654297, 112.05134582519531, 126.0...   \n",
       "\n",
       "                                        intensity_values order  \n",
       "16055  [32731, 2690, 8449, 1218, 2323, 34334, 22946, ...   ms2  \n",
       "16056  [1445, 2576, 2548, 1807, 2375, 5065, 2100, 183...   ms2  \n",
       "16057  [12392, 18667, 8993, 1861, 1604, 4179, 1997, 1...   ms2  \n",
       "16058  [4184, 1701, 950, 1233, 5056, 2468, 1291, 4600...   ms2  \n",
       "16059  [1422, 1988, 51974, 2238, 2081, 23566, 295747,...   ms2  "
      ]
     },
     "execution_count": 19,
     "metadata": {},
     "output_type": "execute_result"
    }
   ],
   "source": [
    "df_ms2_phospho = pd.DataFrame({'scan': phospho_data['scan_list_ms2'], \n",
    "                    'RT': phospho_data['rt_list_ms2'],\n",
    "                    'prec_mono_mz': phospho_data['mono_mzs2'],\n",
    "                    'prec_charge': phospho_data['charge_ms2'],\n",
    "                    'mz_values': phospho_data['mass_list_ms2'],\n",
    "                   'intensity_values': phospho_data['int_list_ms2'],\n",
    "                    'order': 'ms2'})\n",
    "df_ms2_phospho[df_ms2_phospho.RT > 50].head()"
   ]
  },
  {
   "cell_type": "code",
   "execution_count": 22,
   "id": "computational-polls",
   "metadata": {},
   "outputs": [
    {
     "data": {
      "application/vnd.plotly.v1+json": {
       "config": {
        "displaylogo": false,
        "plotlyServerURL": "https://plot.ly",
        "responsive": true,
        "toImageButtonOptions": {
         "filename": "custom_image",
         "format": "svg",
         "height": 400,
         "scale": 1,
         "width": 700
        }
       },
       "data": [
        {
         "hovertemplate": "<b>m/z:</b> %{x};<br><b>Intensity:</b> %{y}.",
         "marker": {
          "color": "grey",
          "size": 1
         },
         "mode": "markers",
         "name": "",
         "showlegend": false,
         "type": "scatter",
         "x": [
          101.01766967773438,
          102.05557250976562,
          110.07215881347656,
          115.07549285888672,
          120.08141326904297,
          129.10293579101562,
          130.08705139160156,
          133.0876007080078,
          136.06216430664062,
          146.03878784179688,
          147.0220947265625,
          147.11343383789062,
          155.07032775878906,
          157.1341552734375,
          175.11953735351562,
          183.11317443847656,
          185.12904357910156,
          199.62979125976562,
          200.1404266357422,
          201.08836364746094,
          201.1245880126953,
          209.0929412841797,
          214.10162353515625,
          215.10487365722656,
          226.11900329589844,
          227.10305786132812,
          228.1350555419922,
          229.11940002441406,
          231.0985870361328,
          235.11871337890625,
          241.08335876464844,
          242.09669494628906,
          243.098876953125,
          244.13002014160156,
          244.16574096679688,
          245.11434936523438,
          259.0929870605469,
          261.127197265625,
          262.14068603515625,
          263.1422424316406,
          280.165771484375,
          284.1246643066406,
          288.20513916015625,
          289.1626892089844,
          300.155029296875,
          301.1246643066406,
          312.11785888671875,
          314.17486572265625,
          330.130859375,
          330.1716613769531,
          331.13275146484375,
          334.4084777832031,
          343.1626892089844,
          371.1390380859375,
          372.139404296875,
          375.2255859375,
          375.728515625,
          376.2206115722656,
          397.2095642089844,
          415.2230529785156,
          424.2358703613281,
          424.7373046875,
          425.2102966308594,
          428.03961181640625,
          429.2019348144531,
          443.215576171875,
          446.2626037597656,
          447.2669982910156,
          454.7217712402344,
          455.2303161621094,
          464.20867919921875,
          464.71905517578125,
          472.1873474121094,
          473.2172546386719,
          473.72381591796875,
          500.1825256347656,
          501.187255859375,
          509.7640075683594,
          543.2291870117188,
          557.2975463867188,
          558.2500610351562,
          567.3037719726562,
          569.3435668945312,
          571.21923828125,
          572.2230224609375,
          575.3062133789062,
          576.3131103515625,
          620.767333984375,
          666.3982543945312,
          668.3255615234375,
          686.33935546875,
          687.34375,
          704.3487548828125,
          705.3507080078125,
          714.337890625,
          751.409912109375,
          799.32666015625,
          817.4393920898438,
          848.454345703125
         ],
         "y": [
          32731,
          2690,
          8449,
          1218,
          2323,
          34334,
          22946,
          1364,
          15221,
          4697,
          1175,
          33463,
          1520,
          2025,
          5914,
          1336,
          2107,
          1161,
          5054,
          1999,
          5264,
          1447,
          258242,
          17600,
          9982,
          1387,
          12685,
          4546,
          2213,
          1208,
          2616,
          79977,
          5040,
          8259,
          1827,
          5773,
          6239,
          5875,
          55592,
          1297,
          1915,
          2370,
          1365,
          1889,
          2728,
          1155,
          8884,
          1664,
          33849,
          2124,
          1985,
          1218,
          7829,
          25794,
          1994,
          14581,
          1324,
          1262,
          7331,
          1707,
          1669,
          6902,
          1735,
          2411,
          2462,
          2780,
          21982,
          1753,
          1630,
          1284,
          3114,
          1320,
          2200,
          52170,
          20591,
          25910,
          2234,
          1593,
          1347,
          6294,
          1200,
          1602,
          2005,
          41318,
          5449,
          25040,
          1724,
          1295,
          1493,
          2253,
          21521,
          5619,
          93848,
          22128,
          1636,
          2308,
          1935,
          2568,
          1193
         ]
        }
       ],
       "layout": {
        "height": 520,
        "hovermode": "closest",
        "legend": {
         "orientation": "h",
         "x": 1,
         "xanchor": "right",
         "y": 1.01,
         "yanchor": "bottom"
        },
        "shapes": [
         {
          "line": {
           "color": "grey",
           "width": 1.5
          },
          "type": "line",
          "x0": 101.01766967773438,
          "x1": 101.01766967773438,
          "xref": "x",
          "y0": 0,
          "y1": 32731,
          "yref": "y"
         },
         {
          "line": {
           "color": "grey",
           "width": 1.5
          },
          "type": "line",
          "x0": 102.05557250976562,
          "x1": 102.05557250976562,
          "xref": "x",
          "y0": 0,
          "y1": 2690,
          "yref": "y"
         },
         {
          "line": {
           "color": "grey",
           "width": 1.5
          },
          "type": "line",
          "x0": 110.07215881347656,
          "x1": 110.07215881347656,
          "xref": "x",
          "y0": 0,
          "y1": 8449,
          "yref": "y"
         },
         {
          "line": {
           "color": "grey",
           "width": 1.5
          },
          "type": "line",
          "x0": 115.07549285888672,
          "x1": 115.07549285888672,
          "xref": "x",
          "y0": 0,
          "y1": 1218,
          "yref": "y"
         },
         {
          "line": {
           "color": "grey",
           "width": 1.5
          },
          "type": "line",
          "x0": 120.08141326904297,
          "x1": 120.08141326904297,
          "xref": "x",
          "y0": 0,
          "y1": 2323,
          "yref": "y"
         },
         {
          "line": {
           "color": "grey",
           "width": 1.5
          },
          "type": "line",
          "x0": 129.10293579101562,
          "x1": 129.10293579101562,
          "xref": "x",
          "y0": 0,
          "y1": 34334,
          "yref": "y"
         },
         {
          "line": {
           "color": "grey",
           "width": 1.5
          },
          "type": "line",
          "x0": 130.08705139160156,
          "x1": 130.08705139160156,
          "xref": "x",
          "y0": 0,
          "y1": 22946,
          "yref": "y"
         },
         {
          "line": {
           "color": "grey",
           "width": 1.5
          },
          "type": "line",
          "x0": 133.0876007080078,
          "x1": 133.0876007080078,
          "xref": "x",
          "y0": 0,
          "y1": 1364,
          "yref": "y"
         },
         {
          "line": {
           "color": "grey",
           "width": 1.5
          },
          "type": "line",
          "x0": 136.06216430664062,
          "x1": 136.06216430664062,
          "xref": "x",
          "y0": 0,
          "y1": 15221,
          "yref": "y"
         },
         {
          "line": {
           "color": "grey",
           "width": 1.5
          },
          "type": "line",
          "x0": 146.03878784179688,
          "x1": 146.03878784179688,
          "xref": "x",
          "y0": 0,
          "y1": 4697,
          "yref": "y"
         },
         {
          "line": {
           "color": "grey",
           "width": 1.5
          },
          "type": "line",
          "x0": 147.0220947265625,
          "x1": 147.0220947265625,
          "xref": "x",
          "y0": 0,
          "y1": 1175,
          "yref": "y"
         },
         {
          "line": {
           "color": "grey",
           "width": 1.5
          },
          "type": "line",
          "x0": 147.11343383789062,
          "x1": 147.11343383789062,
          "xref": "x",
          "y0": 0,
          "y1": 33463,
          "yref": "y"
         },
         {
          "line": {
           "color": "grey",
           "width": 1.5
          },
          "type": "line",
          "x0": 155.07032775878906,
          "x1": 155.07032775878906,
          "xref": "x",
          "y0": 0,
          "y1": 1520,
          "yref": "y"
         },
         {
          "line": {
           "color": "grey",
           "width": 1.5
          },
          "type": "line",
          "x0": 157.1341552734375,
          "x1": 157.1341552734375,
          "xref": "x",
          "y0": 0,
          "y1": 2025,
          "yref": "y"
         },
         {
          "line": {
           "color": "grey",
           "width": 1.5
          },
          "type": "line",
          "x0": 175.11953735351562,
          "x1": 175.11953735351562,
          "xref": "x",
          "y0": 0,
          "y1": 5914,
          "yref": "y"
         },
         {
          "line": {
           "color": "grey",
           "width": 1.5
          },
          "type": "line",
          "x0": 183.11317443847656,
          "x1": 183.11317443847656,
          "xref": "x",
          "y0": 0,
          "y1": 1336,
          "yref": "y"
         },
         {
          "line": {
           "color": "grey",
           "width": 1.5
          },
          "type": "line",
          "x0": 185.12904357910156,
          "x1": 185.12904357910156,
          "xref": "x",
          "y0": 0,
          "y1": 2107,
          "yref": "y"
         },
         {
          "line": {
           "color": "grey",
           "width": 1.5
          },
          "type": "line",
          "x0": 199.62979125976562,
          "x1": 199.62979125976562,
          "xref": "x",
          "y0": 0,
          "y1": 1161,
          "yref": "y"
         },
         {
          "line": {
           "color": "grey",
           "width": 1.5
          },
          "type": "line",
          "x0": 200.1404266357422,
          "x1": 200.1404266357422,
          "xref": "x",
          "y0": 0,
          "y1": 5054,
          "yref": "y"
         },
         {
          "line": {
           "color": "grey",
           "width": 1.5
          },
          "type": "line",
          "x0": 201.08836364746094,
          "x1": 201.08836364746094,
          "xref": "x",
          "y0": 0,
          "y1": 1999,
          "yref": "y"
         },
         {
          "line": {
           "color": "grey",
           "width": 1.5
          },
          "type": "line",
          "x0": 201.1245880126953,
          "x1": 201.1245880126953,
          "xref": "x",
          "y0": 0,
          "y1": 5264,
          "yref": "y"
         },
         {
          "line": {
           "color": "grey",
           "width": 1.5
          },
          "type": "line",
          "x0": 209.0929412841797,
          "x1": 209.0929412841797,
          "xref": "x",
          "y0": 0,
          "y1": 1447,
          "yref": "y"
         },
         {
          "line": {
           "color": "grey",
           "width": 1.5
          },
          "type": "line",
          "x0": 214.10162353515625,
          "x1": 214.10162353515625,
          "xref": "x",
          "y0": 0,
          "y1": 258242,
          "yref": "y"
         },
         {
          "line": {
           "color": "grey",
           "width": 1.5
          },
          "type": "line",
          "x0": 215.10487365722656,
          "x1": 215.10487365722656,
          "xref": "x",
          "y0": 0,
          "y1": 17600,
          "yref": "y"
         },
         {
          "line": {
           "color": "grey",
           "width": 1.5
          },
          "type": "line",
          "x0": 226.11900329589844,
          "x1": 226.11900329589844,
          "xref": "x",
          "y0": 0,
          "y1": 9982,
          "yref": "y"
         },
         {
          "line": {
           "color": "grey",
           "width": 1.5
          },
          "type": "line",
          "x0": 227.10305786132812,
          "x1": 227.10305786132812,
          "xref": "x",
          "y0": 0,
          "y1": 1387,
          "yref": "y"
         },
         {
          "line": {
           "color": "grey",
           "width": 1.5
          },
          "type": "line",
          "x0": 228.1350555419922,
          "x1": 228.1350555419922,
          "xref": "x",
          "y0": 0,
          "y1": 12685,
          "yref": "y"
         },
         {
          "line": {
           "color": "grey",
           "width": 1.5
          },
          "type": "line",
          "x0": 229.11940002441406,
          "x1": 229.11940002441406,
          "xref": "x",
          "y0": 0,
          "y1": 4546,
          "yref": "y"
         },
         {
          "line": {
           "color": "grey",
           "width": 1.5
          },
          "type": "line",
          "x0": 231.0985870361328,
          "x1": 231.0985870361328,
          "xref": "x",
          "y0": 0,
          "y1": 2213,
          "yref": "y"
         },
         {
          "line": {
           "color": "grey",
           "width": 1.5
          },
          "type": "line",
          "x0": 235.11871337890625,
          "x1": 235.11871337890625,
          "xref": "x",
          "y0": 0,
          "y1": 1208,
          "yref": "y"
         },
         {
          "line": {
           "color": "grey",
           "width": 1.5
          },
          "type": "line",
          "x0": 241.08335876464844,
          "x1": 241.08335876464844,
          "xref": "x",
          "y0": 0,
          "y1": 2616,
          "yref": "y"
         },
         {
          "line": {
           "color": "grey",
           "width": 1.5
          },
          "type": "line",
          "x0": 242.09669494628906,
          "x1": 242.09669494628906,
          "xref": "x",
          "y0": 0,
          "y1": 79977,
          "yref": "y"
         },
         {
          "line": {
           "color": "grey",
           "width": 1.5
          },
          "type": "line",
          "x0": 243.098876953125,
          "x1": 243.098876953125,
          "xref": "x",
          "y0": 0,
          "y1": 5040,
          "yref": "y"
         },
         {
          "line": {
           "color": "grey",
           "width": 1.5
          },
          "type": "line",
          "x0": 244.13002014160156,
          "x1": 244.13002014160156,
          "xref": "x",
          "y0": 0,
          "y1": 8259,
          "yref": "y"
         },
         {
          "line": {
           "color": "grey",
           "width": 1.5
          },
          "type": "line",
          "x0": 244.16574096679688,
          "x1": 244.16574096679688,
          "xref": "x",
          "y0": 0,
          "y1": 1827,
          "yref": "y"
         },
         {
          "line": {
           "color": "grey",
           "width": 1.5
          },
          "type": "line",
          "x0": 245.11434936523438,
          "x1": 245.11434936523438,
          "xref": "x",
          "y0": 0,
          "y1": 5773,
          "yref": "y"
         },
         {
          "line": {
           "color": "grey",
           "width": 1.5
          },
          "type": "line",
          "x0": 259.0929870605469,
          "x1": 259.0929870605469,
          "xref": "x",
          "y0": 0,
          "y1": 6239,
          "yref": "y"
         },
         {
          "line": {
           "color": "grey",
           "width": 1.5
          },
          "type": "line",
          "x0": 261.127197265625,
          "x1": 261.127197265625,
          "xref": "x",
          "y0": 0,
          "y1": 5875,
          "yref": "y"
         },
         {
          "line": {
           "color": "grey",
           "width": 1.5
          },
          "type": "line",
          "x0": 262.14068603515625,
          "x1": 262.14068603515625,
          "xref": "x",
          "y0": 0,
          "y1": 55592,
          "yref": "y"
         },
         {
          "line": {
           "color": "grey",
           "width": 1.5
          },
          "type": "line",
          "x0": 263.1422424316406,
          "x1": 263.1422424316406,
          "xref": "x",
          "y0": 0,
          "y1": 1297,
          "yref": "y"
         },
         {
          "line": {
           "color": "grey",
           "width": 1.5
          },
          "type": "line",
          "x0": 280.165771484375,
          "x1": 280.165771484375,
          "xref": "x",
          "y0": 0,
          "y1": 1915,
          "yref": "y"
         },
         {
          "line": {
           "color": "grey",
           "width": 1.5
          },
          "type": "line",
          "x0": 284.1246643066406,
          "x1": 284.1246643066406,
          "xref": "x",
          "y0": 0,
          "y1": 2370,
          "yref": "y"
         },
         {
          "line": {
           "color": "grey",
           "width": 1.5
          },
          "type": "line",
          "x0": 288.20513916015625,
          "x1": 288.20513916015625,
          "xref": "x",
          "y0": 0,
          "y1": 1365,
          "yref": "y"
         },
         {
          "line": {
           "color": "grey",
           "width": 1.5
          },
          "type": "line",
          "x0": 289.1626892089844,
          "x1": 289.1626892089844,
          "xref": "x",
          "y0": 0,
          "y1": 1889,
          "yref": "y"
         },
         {
          "line": {
           "color": "grey",
           "width": 1.5
          },
          "type": "line",
          "x0": 300.155029296875,
          "x1": 300.155029296875,
          "xref": "x",
          "y0": 0,
          "y1": 2728,
          "yref": "y"
         },
         {
          "line": {
           "color": "grey",
           "width": 1.5
          },
          "type": "line",
          "x0": 301.1246643066406,
          "x1": 301.1246643066406,
          "xref": "x",
          "y0": 0,
          "y1": 1155,
          "yref": "y"
         },
         {
          "line": {
           "color": "grey",
           "width": 1.5
          },
          "type": "line",
          "x0": 312.11785888671875,
          "x1": 312.11785888671875,
          "xref": "x",
          "y0": 0,
          "y1": 8884,
          "yref": "y"
         },
         {
          "line": {
           "color": "grey",
           "width": 1.5
          },
          "type": "line",
          "x0": 314.17486572265625,
          "x1": 314.17486572265625,
          "xref": "x",
          "y0": 0,
          "y1": 1664,
          "yref": "y"
         },
         {
          "line": {
           "color": "grey",
           "width": 1.5
          },
          "type": "line",
          "x0": 330.130859375,
          "x1": 330.130859375,
          "xref": "x",
          "y0": 0,
          "y1": 33849,
          "yref": "y"
         },
         {
          "line": {
           "color": "grey",
           "width": 1.5
          },
          "type": "line",
          "x0": 330.1716613769531,
          "x1": 330.1716613769531,
          "xref": "x",
          "y0": 0,
          "y1": 2124,
          "yref": "y"
         },
         {
          "line": {
           "color": "grey",
           "width": 1.5
          },
          "type": "line",
          "x0": 331.13275146484375,
          "x1": 331.13275146484375,
          "xref": "x",
          "y0": 0,
          "y1": 1985,
          "yref": "y"
         },
         {
          "line": {
           "color": "grey",
           "width": 1.5
          },
          "type": "line",
          "x0": 334.4084777832031,
          "x1": 334.4084777832031,
          "xref": "x",
          "y0": 0,
          "y1": 1218,
          "yref": "y"
         },
         {
          "line": {
           "color": "grey",
           "width": 1.5
          },
          "type": "line",
          "x0": 343.1626892089844,
          "x1": 343.1626892089844,
          "xref": "x",
          "y0": 0,
          "y1": 7829,
          "yref": "y"
         },
         {
          "line": {
           "color": "grey",
           "width": 1.5
          },
          "type": "line",
          "x0": 371.1390380859375,
          "x1": 371.1390380859375,
          "xref": "x",
          "y0": 0,
          "y1": 25794,
          "yref": "y"
         },
         {
          "line": {
           "color": "grey",
           "width": 1.5
          },
          "type": "line",
          "x0": 372.139404296875,
          "x1": 372.139404296875,
          "xref": "x",
          "y0": 0,
          "y1": 1994,
          "yref": "y"
         },
         {
          "line": {
           "color": "grey",
           "width": 1.5
          },
          "type": "line",
          "x0": 375.2255859375,
          "x1": 375.2255859375,
          "xref": "x",
          "y0": 0,
          "y1": 14581,
          "yref": "y"
         },
         {
          "line": {
           "color": "grey",
           "width": 1.5
          },
          "type": "line",
          "x0": 375.728515625,
          "x1": 375.728515625,
          "xref": "x",
          "y0": 0,
          "y1": 1324,
          "yref": "y"
         },
         {
          "line": {
           "color": "grey",
           "width": 1.5
          },
          "type": "line",
          "x0": 376.2206115722656,
          "x1": 376.2206115722656,
          "xref": "x",
          "y0": 0,
          "y1": 1262,
          "yref": "y"
         },
         {
          "line": {
           "color": "grey",
           "width": 1.5
          },
          "type": "line",
          "x0": 397.2095642089844,
          "x1": 397.2095642089844,
          "xref": "x",
          "y0": 0,
          "y1": 7331,
          "yref": "y"
         },
         {
          "line": {
           "color": "grey",
           "width": 1.5
          },
          "type": "line",
          "x0": 415.2230529785156,
          "x1": 415.2230529785156,
          "xref": "x",
          "y0": 0,
          "y1": 1707,
          "yref": "y"
         },
         {
          "line": {
           "color": "grey",
           "width": 1.5
          },
          "type": "line",
          "x0": 424.2358703613281,
          "x1": 424.2358703613281,
          "xref": "x",
          "y0": 0,
          "y1": 1669,
          "yref": "y"
         },
         {
          "line": {
           "color": "grey",
           "width": 1.5
          },
          "type": "line",
          "x0": 424.7373046875,
          "x1": 424.7373046875,
          "xref": "x",
          "y0": 0,
          "y1": 6902,
          "yref": "y"
         },
         {
          "line": {
           "color": "grey",
           "width": 1.5
          },
          "type": "line",
          "x0": 425.2102966308594,
          "x1": 425.2102966308594,
          "xref": "x",
          "y0": 0,
          "y1": 1735,
          "yref": "y"
         },
         {
          "line": {
           "color": "grey",
           "width": 1.5
          },
          "type": "line",
          "x0": 428.03961181640625,
          "x1": 428.03961181640625,
          "xref": "x",
          "y0": 0,
          "y1": 2411,
          "yref": "y"
         },
         {
          "line": {
           "color": "grey",
           "width": 1.5
          },
          "type": "line",
          "x0": 429.2019348144531,
          "x1": 429.2019348144531,
          "xref": "x",
          "y0": 0,
          "y1": 2462,
          "yref": "y"
         },
         {
          "line": {
           "color": "grey",
           "width": 1.5
          },
          "type": "line",
          "x0": 443.215576171875,
          "x1": 443.215576171875,
          "xref": "x",
          "y0": 0,
          "y1": 2780,
          "yref": "y"
         },
         {
          "line": {
           "color": "grey",
           "width": 1.5
          },
          "type": "line",
          "x0": 446.2626037597656,
          "x1": 446.2626037597656,
          "xref": "x",
          "y0": 0,
          "y1": 21982,
          "yref": "y"
         },
         {
          "line": {
           "color": "grey",
           "width": 1.5
          },
          "type": "line",
          "x0": 447.2669982910156,
          "x1": 447.2669982910156,
          "xref": "x",
          "y0": 0,
          "y1": 1753,
          "yref": "y"
         },
         {
          "line": {
           "color": "grey",
           "width": 1.5
          },
          "type": "line",
          "x0": 454.7217712402344,
          "x1": 454.7217712402344,
          "xref": "x",
          "y0": 0,
          "y1": 1630,
          "yref": "y"
         },
         {
          "line": {
           "color": "grey",
           "width": 1.5
          },
          "type": "line",
          "x0": 455.2303161621094,
          "x1": 455.2303161621094,
          "xref": "x",
          "y0": 0,
          "y1": 1284,
          "yref": "y"
         },
         {
          "line": {
           "color": "grey",
           "width": 1.5
          },
          "type": "line",
          "x0": 464.20867919921875,
          "x1": 464.20867919921875,
          "xref": "x",
          "y0": 0,
          "y1": 3114,
          "yref": "y"
         },
         {
          "line": {
           "color": "grey",
           "width": 1.5
          },
          "type": "line",
          "x0": 464.71905517578125,
          "x1": 464.71905517578125,
          "xref": "x",
          "y0": 0,
          "y1": 1320,
          "yref": "y"
         },
         {
          "line": {
           "color": "grey",
           "width": 1.5
          },
          "type": "line",
          "x0": 472.1873474121094,
          "x1": 472.1873474121094,
          "xref": "x",
          "y0": 0,
          "y1": 2200,
          "yref": "y"
         },
         {
          "line": {
           "color": "grey",
           "width": 1.5
          },
          "type": "line",
          "x0": 473.2172546386719,
          "x1": 473.2172546386719,
          "xref": "x",
          "y0": 0,
          "y1": 52170,
          "yref": "y"
         },
         {
          "line": {
           "color": "grey",
           "width": 1.5
          },
          "type": "line",
          "x0": 473.72381591796875,
          "x1": 473.72381591796875,
          "xref": "x",
          "y0": 0,
          "y1": 20591,
          "yref": "y"
         },
         {
          "line": {
           "color": "grey",
           "width": 1.5
          },
          "type": "line",
          "x0": 500.1825256347656,
          "x1": 500.1825256347656,
          "xref": "x",
          "y0": 0,
          "y1": 25910,
          "yref": "y"
         },
         {
          "line": {
           "color": "grey",
           "width": 1.5
          },
          "type": "line",
          "x0": 501.187255859375,
          "x1": 501.187255859375,
          "xref": "x",
          "y0": 0,
          "y1": 2234,
          "yref": "y"
         },
         {
          "line": {
           "color": "grey",
           "width": 1.5
          },
          "type": "line",
          "x0": 509.7640075683594,
          "x1": 509.7640075683594,
          "xref": "x",
          "y0": 0,
          "y1": 1593,
          "yref": "y"
         },
         {
          "line": {
           "color": "grey",
           "width": 1.5
          },
          "type": "line",
          "x0": 543.2291870117188,
          "x1": 543.2291870117188,
          "xref": "x",
          "y0": 0,
          "y1": 1347,
          "yref": "y"
         },
         {
          "line": {
           "color": "grey",
           "width": 1.5
          },
          "type": "line",
          "x0": 557.2975463867188,
          "x1": 557.2975463867188,
          "xref": "x",
          "y0": 0,
          "y1": 6294,
          "yref": "y"
         },
         {
          "line": {
           "color": "grey",
           "width": 1.5
          },
          "type": "line",
          "x0": 558.2500610351562,
          "x1": 558.2500610351562,
          "xref": "x",
          "y0": 0,
          "y1": 1200,
          "yref": "y"
         },
         {
          "line": {
           "color": "grey",
           "width": 1.5
          },
          "type": "line",
          "x0": 567.3037719726562,
          "x1": 567.3037719726562,
          "xref": "x",
          "y0": 0,
          "y1": 1602,
          "yref": "y"
         },
         {
          "line": {
           "color": "grey",
           "width": 1.5
          },
          "type": "line",
          "x0": 569.3435668945312,
          "x1": 569.3435668945312,
          "xref": "x",
          "y0": 0,
          "y1": 2005,
          "yref": "y"
         },
         {
          "line": {
           "color": "grey",
           "width": 1.5
          },
          "type": "line",
          "x0": 571.21923828125,
          "x1": 571.21923828125,
          "xref": "x",
          "y0": 0,
          "y1": 41318,
          "yref": "y"
         },
         {
          "line": {
           "color": "grey",
           "width": 1.5
          },
          "type": "line",
          "x0": 572.2230224609375,
          "x1": 572.2230224609375,
          "xref": "x",
          "y0": 0,
          "y1": 5449,
          "yref": "y"
         },
         {
          "line": {
           "color": "grey",
           "width": 1.5
          },
          "type": "line",
          "x0": 575.3062133789062,
          "x1": 575.3062133789062,
          "xref": "x",
          "y0": 0,
          "y1": 25040,
          "yref": "y"
         },
         {
          "line": {
           "color": "grey",
           "width": 1.5
          },
          "type": "line",
          "x0": 576.3131103515625,
          "x1": 576.3131103515625,
          "xref": "x",
          "y0": 0,
          "y1": 1724,
          "yref": "y"
         },
         {
          "line": {
           "color": "grey",
           "width": 1.5
          },
          "type": "line",
          "x0": 620.767333984375,
          "x1": 620.767333984375,
          "xref": "x",
          "y0": 0,
          "y1": 1295,
          "yref": "y"
         },
         {
          "line": {
           "color": "grey",
           "width": 1.5
          },
          "type": "line",
          "x0": 666.3982543945312,
          "x1": 666.3982543945312,
          "xref": "x",
          "y0": 0,
          "y1": 1493,
          "yref": "y"
         },
         {
          "line": {
           "color": "grey",
           "width": 1.5
          },
          "type": "line",
          "x0": 668.3255615234375,
          "x1": 668.3255615234375,
          "xref": "x",
          "y0": 0,
          "y1": 2253,
          "yref": "y"
         },
         {
          "line": {
           "color": "grey",
           "width": 1.5
          },
          "type": "line",
          "x0": 686.33935546875,
          "x1": 686.33935546875,
          "xref": "x",
          "y0": 0,
          "y1": 21521,
          "yref": "y"
         },
         {
          "line": {
           "color": "grey",
           "width": 1.5
          },
          "type": "line",
          "x0": 687.34375,
          "x1": 687.34375,
          "xref": "x",
          "y0": 0,
          "y1": 5619,
          "yref": "y"
         },
         {
          "line": {
           "color": "grey",
           "width": 1.5
          },
          "type": "line",
          "x0": 704.3487548828125,
          "x1": 704.3487548828125,
          "xref": "x",
          "y0": 0,
          "y1": 93848,
          "yref": "y"
         },
         {
          "line": {
           "color": "grey",
           "width": 1.5
          },
          "type": "line",
          "x0": 705.3507080078125,
          "x1": 705.3507080078125,
          "xref": "x",
          "y0": 0,
          "y1": 22128,
          "yref": "y"
         },
         {
          "line": {
           "color": "grey",
           "width": 1.5
          },
          "type": "line",
          "x0": 714.337890625,
          "x1": 714.337890625,
          "xref": "x",
          "y0": 0,
          "y1": 1636,
          "yref": "y"
         },
         {
          "line": {
           "color": "grey",
           "width": 1.5
          },
          "type": "line",
          "x0": 751.409912109375,
          "x1": 751.409912109375,
          "xref": "x",
          "y0": 0,
          "y1": 2308,
          "yref": "y"
         },
         {
          "line": {
           "color": "grey",
           "width": 1.5
          },
          "type": "line",
          "x0": 799.32666015625,
          "x1": 799.32666015625,
          "xref": "x",
          "y0": 0,
          "y1": 1935,
          "yref": "y"
         },
         {
          "line": {
           "color": "grey",
           "width": 1.5
          },
          "type": "line",
          "x0": 817.4393920898438,
          "x1": 817.4393920898438,
          "xref": "x",
          "y0": 0,
          "y1": 2568,
          "yref": "y"
         },
         {
          "line": {
           "color": "grey",
           "width": 1.5
          },
          "type": "line",
          "x0": 848.454345703125,
          "x1": 848.454345703125,
          "xref": "x",
          "y0": 0,
          "y1": 1193,
          "yref": "y"
         }
        ],
        "template": {
         "data": {
          "bar": [
           {
            "error_x": {
             "color": "#2a3f5f"
            },
            "error_y": {
             "color": "#2a3f5f"
            },
            "marker": {
             "line": {
              "color": "white",
              "width": 0.5
             }
            },
            "type": "bar"
           }
          ],
          "barpolar": [
           {
            "marker": {
             "line": {
              "color": "white",
              "width": 0.5
             }
            },
            "type": "barpolar"
           }
          ],
          "carpet": [
           {
            "aaxis": {
             "endlinecolor": "#2a3f5f",
             "gridcolor": "#C8D4E3",
             "linecolor": "#C8D4E3",
             "minorgridcolor": "#C8D4E3",
             "startlinecolor": "#2a3f5f"
            },
            "baxis": {
             "endlinecolor": "#2a3f5f",
             "gridcolor": "#C8D4E3",
             "linecolor": "#C8D4E3",
             "minorgridcolor": "#C8D4E3",
             "startlinecolor": "#2a3f5f"
            },
            "type": "carpet"
           }
          ],
          "choropleth": [
           {
            "colorbar": {
             "outlinewidth": 0,
             "ticks": ""
            },
            "type": "choropleth"
           }
          ],
          "contour": [
           {
            "colorbar": {
             "outlinewidth": 0,
             "ticks": ""
            },
            "colorscale": [
             [
              0,
              "#0d0887"
             ],
             [
              0.1111111111111111,
              "#46039f"
             ],
             [
              0.2222222222222222,
              "#7201a8"
             ],
             [
              0.3333333333333333,
              "#9c179e"
             ],
             [
              0.4444444444444444,
              "#bd3786"
             ],
             [
              0.5555555555555556,
              "#d8576b"
             ],
             [
              0.6666666666666666,
              "#ed7953"
             ],
             [
              0.7777777777777778,
              "#fb9f3a"
             ],
             [
              0.8888888888888888,
              "#fdca26"
             ],
             [
              1,
              "#f0f921"
             ]
            ],
            "type": "contour"
           }
          ],
          "contourcarpet": [
           {
            "colorbar": {
             "outlinewidth": 0,
             "ticks": ""
            },
            "type": "contourcarpet"
           }
          ],
          "heatmap": [
           {
            "colorbar": {
             "outlinewidth": 0,
             "ticks": ""
            },
            "colorscale": [
             [
              0,
              "#0d0887"
             ],
             [
              0.1111111111111111,
              "#46039f"
             ],
             [
              0.2222222222222222,
              "#7201a8"
             ],
             [
              0.3333333333333333,
              "#9c179e"
             ],
             [
              0.4444444444444444,
              "#bd3786"
             ],
             [
              0.5555555555555556,
              "#d8576b"
             ],
             [
              0.6666666666666666,
              "#ed7953"
             ],
             [
              0.7777777777777778,
              "#fb9f3a"
             ],
             [
              0.8888888888888888,
              "#fdca26"
             ],
             [
              1,
              "#f0f921"
             ]
            ],
            "type": "heatmap"
           }
          ],
          "heatmapgl": [
           {
            "colorbar": {
             "outlinewidth": 0,
             "ticks": ""
            },
            "colorscale": [
             [
              0,
              "#0d0887"
             ],
             [
              0.1111111111111111,
              "#46039f"
             ],
             [
              0.2222222222222222,
              "#7201a8"
             ],
             [
              0.3333333333333333,
              "#9c179e"
             ],
             [
              0.4444444444444444,
              "#bd3786"
             ],
             [
              0.5555555555555556,
              "#d8576b"
             ],
             [
              0.6666666666666666,
              "#ed7953"
             ],
             [
              0.7777777777777778,
              "#fb9f3a"
             ],
             [
              0.8888888888888888,
              "#fdca26"
             ],
             [
              1,
              "#f0f921"
             ]
            ],
            "type": "heatmapgl"
           }
          ],
          "histogram": [
           {
            "marker": {
             "colorbar": {
              "outlinewidth": 0,
              "ticks": ""
             }
            },
            "type": "histogram"
           }
          ],
          "histogram2d": [
           {
            "colorbar": {
             "outlinewidth": 0,
             "ticks": ""
            },
            "colorscale": [
             [
              0,
              "#0d0887"
             ],
             [
              0.1111111111111111,
              "#46039f"
             ],
             [
              0.2222222222222222,
              "#7201a8"
             ],
             [
              0.3333333333333333,
              "#9c179e"
             ],
             [
              0.4444444444444444,
              "#bd3786"
             ],
             [
              0.5555555555555556,
              "#d8576b"
             ],
             [
              0.6666666666666666,
              "#ed7953"
             ],
             [
              0.7777777777777778,
              "#fb9f3a"
             ],
             [
              0.8888888888888888,
              "#fdca26"
             ],
             [
              1,
              "#f0f921"
             ]
            ],
            "type": "histogram2d"
           }
          ],
          "histogram2dcontour": [
           {
            "colorbar": {
             "outlinewidth": 0,
             "ticks": ""
            },
            "colorscale": [
             [
              0,
              "#0d0887"
             ],
             [
              0.1111111111111111,
              "#46039f"
             ],
             [
              0.2222222222222222,
              "#7201a8"
             ],
             [
              0.3333333333333333,
              "#9c179e"
             ],
             [
              0.4444444444444444,
              "#bd3786"
             ],
             [
              0.5555555555555556,
              "#d8576b"
             ],
             [
              0.6666666666666666,
              "#ed7953"
             ],
             [
              0.7777777777777778,
              "#fb9f3a"
             ],
             [
              0.8888888888888888,
              "#fdca26"
             ],
             [
              1,
              "#f0f921"
             ]
            ],
            "type": "histogram2dcontour"
           }
          ],
          "mesh3d": [
           {
            "colorbar": {
             "outlinewidth": 0,
             "ticks": ""
            },
            "type": "mesh3d"
           }
          ],
          "parcoords": [
           {
            "line": {
             "colorbar": {
              "outlinewidth": 0,
              "ticks": ""
             }
            },
            "type": "parcoords"
           }
          ],
          "pie": [
           {
            "automargin": true,
            "type": "pie"
           }
          ],
          "scatter": [
           {
            "marker": {
             "colorbar": {
              "outlinewidth": 0,
              "ticks": ""
             }
            },
            "type": "scatter"
           }
          ],
          "scatter3d": [
           {
            "line": {
             "colorbar": {
              "outlinewidth": 0,
              "ticks": ""
             }
            },
            "marker": {
             "colorbar": {
              "outlinewidth": 0,
              "ticks": ""
             }
            },
            "type": "scatter3d"
           }
          ],
          "scattercarpet": [
           {
            "marker": {
             "colorbar": {
              "outlinewidth": 0,
              "ticks": ""
             }
            },
            "type": "scattercarpet"
           }
          ],
          "scattergeo": [
           {
            "marker": {
             "colorbar": {
              "outlinewidth": 0,
              "ticks": ""
             }
            },
            "type": "scattergeo"
           }
          ],
          "scattergl": [
           {
            "marker": {
             "colorbar": {
              "outlinewidth": 0,
              "ticks": ""
             }
            },
            "type": "scattergl"
           }
          ],
          "scattermapbox": [
           {
            "marker": {
             "colorbar": {
              "outlinewidth": 0,
              "ticks": ""
             }
            },
            "type": "scattermapbox"
           }
          ],
          "scatterpolar": [
           {
            "marker": {
             "colorbar": {
              "outlinewidth": 0,
              "ticks": ""
             }
            },
            "type": "scatterpolar"
           }
          ],
          "scatterpolargl": [
           {
            "marker": {
             "colorbar": {
              "outlinewidth": 0,
              "ticks": ""
             }
            },
            "type": "scatterpolargl"
           }
          ],
          "scatterternary": [
           {
            "marker": {
             "colorbar": {
              "outlinewidth": 0,
              "ticks": ""
             }
            },
            "type": "scatterternary"
           }
          ],
          "surface": [
           {
            "colorbar": {
             "outlinewidth": 0,
             "ticks": ""
            },
            "colorscale": [
             [
              0,
              "#0d0887"
             ],
             [
              0.1111111111111111,
              "#46039f"
             ],
             [
              0.2222222222222222,
              "#7201a8"
             ],
             [
              0.3333333333333333,
              "#9c179e"
             ],
             [
              0.4444444444444444,
              "#bd3786"
             ],
             [
              0.5555555555555556,
              "#d8576b"
             ],
             [
              0.6666666666666666,
              "#ed7953"
             ],
             [
              0.7777777777777778,
              "#fb9f3a"
             ],
             [
              0.8888888888888888,
              "#fdca26"
             ],
             [
              1,
              "#f0f921"
             ]
            ],
            "type": "surface"
           }
          ],
          "table": [
           {
            "cells": {
             "fill": {
              "color": "#EBF0F8"
             },
             "line": {
              "color": "white"
             }
            },
            "header": {
             "fill": {
              "color": "#C8D4E3"
             },
             "line": {
              "color": "white"
             }
            },
            "type": "table"
           }
          ]
         },
         "layout": {
          "annotationdefaults": {
           "arrowcolor": "#2a3f5f",
           "arrowhead": 0,
           "arrowwidth": 1
          },
          "autotypenumbers": "strict",
          "coloraxis": {
           "colorbar": {
            "outlinewidth": 0,
            "ticks": ""
           }
          },
          "colorscale": {
           "diverging": [
            [
             0,
             "#8e0152"
            ],
            [
             0.1,
             "#c51b7d"
            ],
            [
             0.2,
             "#de77ae"
            ],
            [
             0.3,
             "#f1b6da"
            ],
            [
             0.4,
             "#fde0ef"
            ],
            [
             0.5,
             "#f7f7f7"
            ],
            [
             0.6,
             "#e6f5d0"
            ],
            [
             0.7,
             "#b8e186"
            ],
            [
             0.8,
             "#7fbc41"
            ],
            [
             0.9,
             "#4d9221"
            ],
            [
             1,
             "#276419"
            ]
           ],
           "sequential": [
            [
             0,
             "#0d0887"
            ],
            [
             0.1111111111111111,
             "#46039f"
            ],
            [
             0.2222222222222222,
             "#7201a8"
            ],
            [
             0.3333333333333333,
             "#9c179e"
            ],
            [
             0.4444444444444444,
             "#bd3786"
            ],
            [
             0.5555555555555556,
             "#d8576b"
            ],
            [
             0.6666666666666666,
             "#ed7953"
            ],
            [
             0.7777777777777778,
             "#fb9f3a"
            ],
            [
             0.8888888888888888,
             "#fdca26"
            ],
            [
             1,
             "#f0f921"
            ]
           ],
           "sequentialminus": [
            [
             0,
             "#0d0887"
            ],
            [
             0.1111111111111111,
             "#46039f"
            ],
            [
             0.2222222222222222,
             "#7201a8"
            ],
            [
             0.3333333333333333,
             "#9c179e"
            ],
            [
             0.4444444444444444,
             "#bd3786"
            ],
            [
             0.5555555555555556,
             "#d8576b"
            ],
            [
             0.6666666666666666,
             "#ed7953"
            ],
            [
             0.7777777777777778,
             "#fb9f3a"
            ],
            [
             0.8888888888888888,
             "#fdca26"
            ],
            [
             1,
             "#f0f921"
            ]
           ]
          },
          "colorway": [
           "#636efa",
           "#EF553B",
           "#00cc96",
           "#ab63fa",
           "#FFA15A",
           "#19d3f3",
           "#FF6692",
           "#B6E880",
           "#FF97FF",
           "#FECB52"
          ],
          "font": {
           "color": "#2a3f5f"
          },
          "geo": {
           "bgcolor": "white",
           "lakecolor": "white",
           "landcolor": "white",
           "showlakes": true,
           "showland": true,
           "subunitcolor": "#C8D4E3"
          },
          "hoverlabel": {
           "align": "left"
          },
          "hovermode": "closest",
          "mapbox": {
           "style": "light"
          },
          "paper_bgcolor": "white",
          "plot_bgcolor": "white",
          "polar": {
           "angularaxis": {
            "gridcolor": "#EBF0F8",
            "linecolor": "#EBF0F8",
            "ticks": ""
           },
           "bgcolor": "white",
           "radialaxis": {
            "gridcolor": "#EBF0F8",
            "linecolor": "#EBF0F8",
            "ticks": ""
           }
          },
          "scene": {
           "xaxis": {
            "backgroundcolor": "white",
            "gridcolor": "#DFE8F3",
            "gridwidth": 2,
            "linecolor": "#EBF0F8",
            "showbackground": true,
            "ticks": "",
            "zerolinecolor": "#EBF0F8"
           },
           "yaxis": {
            "backgroundcolor": "white",
            "gridcolor": "#DFE8F3",
            "gridwidth": 2,
            "linecolor": "#EBF0F8",
            "showbackground": true,
            "ticks": "",
            "zerolinecolor": "#EBF0F8"
           },
           "zaxis": {
            "backgroundcolor": "white",
            "gridcolor": "#DFE8F3",
            "gridwidth": 2,
            "linecolor": "#EBF0F8",
            "showbackground": true,
            "ticks": "",
            "zerolinecolor": "#EBF0F8"
           }
          },
          "shapedefaults": {
           "line": {
            "color": "#2a3f5f"
           }
          },
          "ternary": {
           "aaxis": {
            "gridcolor": "#DFE8F3",
            "linecolor": "#A2B1C6",
            "ticks": ""
           },
           "baxis": {
            "gridcolor": "#DFE8F3",
            "linecolor": "#A2B1C6",
            "ticks": ""
           },
           "bgcolor": "white",
           "caxis": {
            "gridcolor": "#DFE8F3",
            "linecolor": "#A2B1C6",
            "ticks": ""
           }
          },
          "title": {
           "x": 0.05
          },
          "xaxis": {
           "automargin": true,
           "gridcolor": "#EBF0F8",
           "linecolor": "#EBF0F8",
           "ticks": "",
           "title": {
            "standoff": 15
           },
           "zerolinecolor": "#EBF0F8",
           "zerolinewidth": 2
          },
          "yaxis": {
           "automargin": true,
           "gridcolor": "#EBF0F8",
           "linecolor": "#EBF0F8",
           "ticks": "",
           "title": {
            "standoff": 15
           },
           "zerolinecolor": "#EBF0F8",
           "zerolinewidth": 2
          }
         }
        },
        "title": {
         "font": {
          "size": 16
         },
         "text": "MS2 DDA spectrum for precursor m/z=473.2245 and charge=2.",
         "x": 0.5,
         "xanchor": "center",
         "yanchor": "top"
        },
        "xaxis": {
         "title": {
          "text": "m/z, Th"
         }
        },
        "yaxis": {
         "title": {
          "text": "Intensity"
         }
        }
       }
      },
      "text/html": [
       "<div>                            <div id=\"dae10200-bbc8-433f-8f9e-9e1b3cf1744a\" class=\"plotly-graph-div\" style=\"height:520px; width:100%;\"></div>            <script type=\"text/javascript\">                require([\"plotly\"], function(Plotly) {                    window.PLOTLYENV=window.PLOTLYENV || {};                                    if (document.getElementById(\"dae10200-bbc8-433f-8f9e-9e1b3cf1744a\")) {                    Plotly.newPlot(                        \"dae10200-bbc8-433f-8f9e-9e1b3cf1744a\",                        [{\"hovertemplate\": \"<b>m/z:</b> %{x};<br><b>Intensity:</b> %{y}.\", \"marker\": {\"color\": \"grey\", \"size\": 1}, \"mode\": \"markers\", \"name\": \"\", \"showlegend\": false, \"type\": \"scatter\", \"x\": [101.01766967773438, 102.05557250976562, 110.07215881347656, 115.07549285888672, 120.08141326904297, 129.10293579101562, 130.08705139160156, 133.0876007080078, 136.06216430664062, 146.03878784179688, 147.0220947265625, 147.11343383789062, 155.07032775878906, 157.1341552734375, 175.11953735351562, 183.11317443847656, 185.12904357910156, 199.62979125976562, 200.1404266357422, 201.08836364746094, 201.1245880126953, 209.0929412841797, 214.10162353515625, 215.10487365722656, 226.11900329589844, 227.10305786132812, 228.1350555419922, 229.11940002441406, 231.0985870361328, 235.11871337890625, 241.08335876464844, 242.09669494628906, 243.098876953125, 244.13002014160156, 244.16574096679688, 245.11434936523438, 259.0929870605469, 261.127197265625, 262.14068603515625, 263.1422424316406, 280.165771484375, 284.1246643066406, 288.20513916015625, 289.1626892089844, 300.155029296875, 301.1246643066406, 312.11785888671875, 314.17486572265625, 330.130859375, 330.1716613769531, 331.13275146484375, 334.4084777832031, 343.1626892089844, 371.1390380859375, 372.139404296875, 375.2255859375, 375.728515625, 376.2206115722656, 397.2095642089844, 415.2230529785156, 424.2358703613281, 424.7373046875, 425.2102966308594, 428.03961181640625, 429.2019348144531, 443.215576171875, 446.2626037597656, 447.2669982910156, 454.7217712402344, 455.2303161621094, 464.20867919921875, 464.71905517578125, 472.1873474121094, 473.2172546386719, 473.72381591796875, 500.1825256347656, 501.187255859375, 509.7640075683594, 543.2291870117188, 557.2975463867188, 558.2500610351562, 567.3037719726562, 569.3435668945312, 571.21923828125, 572.2230224609375, 575.3062133789062, 576.3131103515625, 620.767333984375, 666.3982543945312, 668.3255615234375, 686.33935546875, 687.34375, 704.3487548828125, 705.3507080078125, 714.337890625, 751.409912109375, 799.32666015625, 817.4393920898438, 848.454345703125], \"y\": [32731, 2690, 8449, 1218, 2323, 34334, 22946, 1364, 15221, 4697, 1175, 33463, 1520, 2025, 5914, 1336, 2107, 1161, 5054, 1999, 5264, 1447, 258242, 17600, 9982, 1387, 12685, 4546, 2213, 1208, 2616, 79977, 5040, 8259, 1827, 5773, 6239, 5875, 55592, 1297, 1915, 2370, 1365, 1889, 2728, 1155, 8884, 1664, 33849, 2124, 1985, 1218, 7829, 25794, 1994, 14581, 1324, 1262, 7331, 1707, 1669, 6902, 1735, 2411, 2462, 2780, 21982, 1753, 1630, 1284, 3114, 1320, 2200, 52170, 20591, 25910, 2234, 1593, 1347, 6294, 1200, 1602, 2005, 41318, 5449, 25040, 1724, 1295, 1493, 2253, 21521, 5619, 93848, 22128, 1636, 2308, 1935, 2568, 1193]}],                        {\"height\": 520, \"hovermode\": \"closest\", \"legend\": {\"orientation\": \"h\", \"x\": 1, \"xanchor\": \"right\", \"y\": 1.01, \"yanchor\": \"bottom\"}, \"shapes\": [{\"line\": {\"color\": \"grey\", \"width\": 1.5}, \"type\": \"line\", \"x0\": 101.01766967773438, \"x1\": 101.01766967773438, \"xref\": \"x\", \"y0\": 0, \"y1\": 32731, \"yref\": \"y\"}, {\"line\": {\"color\": \"grey\", \"width\": 1.5}, \"type\": \"line\", \"x0\": 102.05557250976562, \"x1\": 102.05557250976562, \"xref\": \"x\", \"y0\": 0, \"y1\": 2690, \"yref\": \"y\"}, {\"line\": {\"color\": \"grey\", \"width\": 1.5}, \"type\": \"line\", \"x0\": 110.07215881347656, \"x1\": 110.07215881347656, \"xref\": \"x\", \"y0\": 0, \"y1\": 8449, \"yref\": \"y\"}, {\"line\": {\"color\": \"grey\", \"width\": 1.5}, \"type\": \"line\", \"x0\": 115.07549285888672, \"x1\": 115.07549285888672, \"xref\": \"x\", \"y0\": 0, \"y1\": 1218, \"yref\": \"y\"}, {\"line\": {\"color\": \"grey\", \"width\": 1.5}, \"type\": \"line\", \"x0\": 120.08141326904297, \"x1\": 120.08141326904297, \"xref\": \"x\", \"y0\": 0, \"y1\": 2323, \"yref\": \"y\"}, {\"line\": {\"color\": \"grey\", \"width\": 1.5}, \"type\": \"line\", \"x0\": 129.10293579101562, \"x1\": 129.10293579101562, \"xref\": \"x\", \"y0\": 0, \"y1\": 34334, \"yref\": \"y\"}, {\"line\": {\"color\": \"grey\", \"width\": 1.5}, \"type\": \"line\", \"x0\": 130.08705139160156, \"x1\": 130.08705139160156, \"xref\": \"x\", \"y0\": 0, \"y1\": 22946, \"yref\": \"y\"}, {\"line\": {\"color\": \"grey\", \"width\": 1.5}, \"type\": \"line\", \"x0\": 133.0876007080078, \"x1\": 133.0876007080078, \"xref\": \"x\", \"y0\": 0, \"y1\": 1364, \"yref\": \"y\"}, {\"line\": {\"color\": \"grey\", \"width\": 1.5}, \"type\": \"line\", \"x0\": 136.06216430664062, \"x1\": 136.06216430664062, \"xref\": \"x\", \"y0\": 0, \"y1\": 15221, \"yref\": \"y\"}, {\"line\": {\"color\": \"grey\", \"width\": 1.5}, \"type\": \"line\", \"x0\": 146.03878784179688, \"x1\": 146.03878784179688, \"xref\": \"x\", \"y0\": 0, \"y1\": 4697, \"yref\": \"y\"}, {\"line\": {\"color\": \"grey\", \"width\": 1.5}, \"type\": \"line\", \"x0\": 147.0220947265625, \"x1\": 147.0220947265625, \"xref\": \"x\", \"y0\": 0, \"y1\": 1175, \"yref\": \"y\"}, {\"line\": {\"color\": \"grey\", \"width\": 1.5}, \"type\": \"line\", \"x0\": 147.11343383789062, \"x1\": 147.11343383789062, \"xref\": \"x\", \"y0\": 0, \"y1\": 33463, \"yref\": \"y\"}, {\"line\": {\"color\": \"grey\", \"width\": 1.5}, \"type\": \"line\", \"x0\": 155.07032775878906, \"x1\": 155.07032775878906, \"xref\": \"x\", \"y0\": 0, \"y1\": 1520, \"yref\": \"y\"}, {\"line\": {\"color\": \"grey\", \"width\": 1.5}, \"type\": \"line\", \"x0\": 157.1341552734375, \"x1\": 157.1341552734375, \"xref\": \"x\", \"y0\": 0, \"y1\": 2025, \"yref\": \"y\"}, {\"line\": {\"color\": \"grey\", \"width\": 1.5}, \"type\": \"line\", \"x0\": 175.11953735351562, \"x1\": 175.11953735351562, \"xref\": \"x\", \"y0\": 0, \"y1\": 5914, \"yref\": \"y\"}, {\"line\": {\"color\": \"grey\", \"width\": 1.5}, \"type\": \"line\", \"x0\": 183.11317443847656, \"x1\": 183.11317443847656, \"xref\": \"x\", \"y0\": 0, \"y1\": 1336, \"yref\": \"y\"}, {\"line\": {\"color\": \"grey\", \"width\": 1.5}, \"type\": \"line\", \"x0\": 185.12904357910156, \"x1\": 185.12904357910156, \"xref\": \"x\", \"y0\": 0, \"y1\": 2107, \"yref\": \"y\"}, {\"line\": {\"color\": \"grey\", \"width\": 1.5}, \"type\": \"line\", \"x0\": 199.62979125976562, \"x1\": 199.62979125976562, \"xref\": \"x\", \"y0\": 0, \"y1\": 1161, \"yref\": \"y\"}, {\"line\": {\"color\": \"grey\", \"width\": 1.5}, \"type\": \"line\", \"x0\": 200.1404266357422, \"x1\": 200.1404266357422, \"xref\": \"x\", \"y0\": 0, \"y1\": 5054, \"yref\": \"y\"}, {\"line\": {\"color\": \"grey\", \"width\": 1.5}, \"type\": \"line\", \"x0\": 201.08836364746094, \"x1\": 201.08836364746094, \"xref\": \"x\", \"y0\": 0, \"y1\": 1999, \"yref\": \"y\"}, {\"line\": {\"color\": \"grey\", \"width\": 1.5}, \"type\": \"line\", \"x0\": 201.1245880126953, \"x1\": 201.1245880126953, \"xref\": \"x\", \"y0\": 0, \"y1\": 5264, \"yref\": \"y\"}, {\"line\": {\"color\": \"grey\", \"width\": 1.5}, \"type\": \"line\", \"x0\": 209.0929412841797, \"x1\": 209.0929412841797, \"xref\": \"x\", \"y0\": 0, \"y1\": 1447, \"yref\": \"y\"}, {\"line\": {\"color\": \"grey\", \"width\": 1.5}, \"type\": \"line\", \"x0\": 214.10162353515625, \"x1\": 214.10162353515625, \"xref\": \"x\", \"y0\": 0, \"y1\": 258242, \"yref\": \"y\"}, {\"line\": {\"color\": \"grey\", \"width\": 1.5}, \"type\": \"line\", \"x0\": 215.10487365722656, \"x1\": 215.10487365722656, \"xref\": \"x\", \"y0\": 0, \"y1\": 17600, \"yref\": \"y\"}, {\"line\": {\"color\": \"grey\", \"width\": 1.5}, \"type\": \"line\", \"x0\": 226.11900329589844, \"x1\": 226.11900329589844, \"xref\": \"x\", \"y0\": 0, \"y1\": 9982, \"yref\": \"y\"}, {\"line\": {\"color\": \"grey\", \"width\": 1.5}, \"type\": \"line\", \"x0\": 227.10305786132812, \"x1\": 227.10305786132812, \"xref\": \"x\", \"y0\": 0, \"y1\": 1387, \"yref\": \"y\"}, {\"line\": {\"color\": \"grey\", \"width\": 1.5}, \"type\": \"line\", \"x0\": 228.1350555419922, \"x1\": 228.1350555419922, \"xref\": \"x\", \"y0\": 0, \"y1\": 12685, \"yref\": \"y\"}, {\"line\": {\"color\": \"grey\", \"width\": 1.5}, \"type\": \"line\", \"x0\": 229.11940002441406, \"x1\": 229.11940002441406, \"xref\": \"x\", \"y0\": 0, \"y1\": 4546, \"yref\": \"y\"}, {\"line\": {\"color\": \"grey\", \"width\": 1.5}, \"type\": \"line\", \"x0\": 231.0985870361328, \"x1\": 231.0985870361328, \"xref\": \"x\", \"y0\": 0, \"y1\": 2213, \"yref\": \"y\"}, {\"line\": {\"color\": \"grey\", \"width\": 1.5}, \"type\": \"line\", \"x0\": 235.11871337890625, \"x1\": 235.11871337890625, \"xref\": \"x\", \"y0\": 0, \"y1\": 1208, \"yref\": \"y\"}, {\"line\": {\"color\": \"grey\", \"width\": 1.5}, \"type\": \"line\", \"x0\": 241.08335876464844, \"x1\": 241.08335876464844, \"xref\": \"x\", \"y0\": 0, \"y1\": 2616, \"yref\": \"y\"}, {\"line\": {\"color\": \"grey\", \"width\": 1.5}, \"type\": \"line\", \"x0\": 242.09669494628906, \"x1\": 242.09669494628906, \"xref\": \"x\", \"y0\": 0, \"y1\": 79977, \"yref\": \"y\"}, {\"line\": {\"color\": \"grey\", \"width\": 1.5}, \"type\": \"line\", \"x0\": 243.098876953125, \"x1\": 243.098876953125, \"xref\": \"x\", \"y0\": 0, \"y1\": 5040, \"yref\": \"y\"}, {\"line\": {\"color\": \"grey\", \"width\": 1.5}, \"type\": \"line\", \"x0\": 244.13002014160156, \"x1\": 244.13002014160156, \"xref\": \"x\", \"y0\": 0, \"y1\": 8259, \"yref\": \"y\"}, {\"line\": {\"color\": \"grey\", \"width\": 1.5}, \"type\": \"line\", \"x0\": 244.16574096679688, \"x1\": 244.16574096679688, \"xref\": \"x\", \"y0\": 0, \"y1\": 1827, \"yref\": \"y\"}, {\"line\": {\"color\": \"grey\", \"width\": 1.5}, \"type\": \"line\", \"x0\": 245.11434936523438, \"x1\": 245.11434936523438, \"xref\": \"x\", \"y0\": 0, \"y1\": 5773, \"yref\": \"y\"}, {\"line\": {\"color\": \"grey\", \"width\": 1.5}, \"type\": \"line\", \"x0\": 259.0929870605469, \"x1\": 259.0929870605469, \"xref\": \"x\", \"y0\": 0, \"y1\": 6239, \"yref\": \"y\"}, {\"line\": {\"color\": \"grey\", \"width\": 1.5}, \"type\": \"line\", \"x0\": 261.127197265625, \"x1\": 261.127197265625, \"xref\": \"x\", \"y0\": 0, \"y1\": 5875, \"yref\": \"y\"}, {\"line\": {\"color\": \"grey\", \"width\": 1.5}, \"type\": \"line\", \"x0\": 262.14068603515625, \"x1\": 262.14068603515625, \"xref\": \"x\", \"y0\": 0, \"y1\": 55592, \"yref\": \"y\"}, {\"line\": {\"color\": \"grey\", \"width\": 1.5}, \"type\": \"line\", \"x0\": 263.1422424316406, \"x1\": 263.1422424316406, \"xref\": \"x\", \"y0\": 0, \"y1\": 1297, \"yref\": \"y\"}, {\"line\": {\"color\": \"grey\", \"width\": 1.5}, \"type\": \"line\", \"x0\": 280.165771484375, \"x1\": 280.165771484375, \"xref\": \"x\", \"y0\": 0, \"y1\": 1915, \"yref\": \"y\"}, {\"line\": {\"color\": \"grey\", \"width\": 1.5}, \"type\": \"line\", \"x0\": 284.1246643066406, \"x1\": 284.1246643066406, \"xref\": \"x\", \"y0\": 0, \"y1\": 2370, \"yref\": \"y\"}, {\"line\": {\"color\": \"grey\", \"width\": 1.5}, \"type\": \"line\", \"x0\": 288.20513916015625, \"x1\": 288.20513916015625, \"xref\": \"x\", \"y0\": 0, \"y1\": 1365, \"yref\": \"y\"}, {\"line\": {\"color\": \"grey\", \"width\": 1.5}, \"type\": \"line\", \"x0\": 289.1626892089844, \"x1\": 289.1626892089844, \"xref\": \"x\", \"y0\": 0, \"y1\": 1889, \"yref\": \"y\"}, {\"line\": {\"color\": \"grey\", \"width\": 1.5}, \"type\": \"line\", \"x0\": 300.155029296875, \"x1\": 300.155029296875, \"xref\": \"x\", \"y0\": 0, \"y1\": 2728, \"yref\": \"y\"}, {\"line\": {\"color\": \"grey\", \"width\": 1.5}, \"type\": \"line\", \"x0\": 301.1246643066406, \"x1\": 301.1246643066406, \"xref\": \"x\", \"y0\": 0, \"y1\": 1155, \"yref\": \"y\"}, {\"line\": {\"color\": \"grey\", \"width\": 1.5}, \"type\": \"line\", \"x0\": 312.11785888671875, \"x1\": 312.11785888671875, \"xref\": \"x\", \"y0\": 0, \"y1\": 8884, \"yref\": \"y\"}, {\"line\": {\"color\": \"grey\", \"width\": 1.5}, \"type\": \"line\", \"x0\": 314.17486572265625, \"x1\": 314.17486572265625, \"xref\": \"x\", \"y0\": 0, \"y1\": 1664, \"yref\": \"y\"}, {\"line\": {\"color\": \"grey\", \"width\": 1.5}, \"type\": \"line\", \"x0\": 330.130859375, \"x1\": 330.130859375, \"xref\": \"x\", \"y0\": 0, \"y1\": 33849, \"yref\": \"y\"}, {\"line\": {\"color\": \"grey\", \"width\": 1.5}, \"type\": \"line\", \"x0\": 330.1716613769531, \"x1\": 330.1716613769531, \"xref\": \"x\", \"y0\": 0, \"y1\": 2124, \"yref\": \"y\"}, {\"line\": {\"color\": \"grey\", \"width\": 1.5}, \"type\": \"line\", \"x0\": 331.13275146484375, \"x1\": 331.13275146484375, \"xref\": \"x\", \"y0\": 0, \"y1\": 1985, \"yref\": \"y\"}, {\"line\": {\"color\": \"grey\", \"width\": 1.5}, \"type\": \"line\", \"x0\": 334.4084777832031, \"x1\": 334.4084777832031, \"xref\": \"x\", \"y0\": 0, \"y1\": 1218, \"yref\": \"y\"}, {\"line\": {\"color\": \"grey\", \"width\": 1.5}, \"type\": \"line\", \"x0\": 343.1626892089844, \"x1\": 343.1626892089844, \"xref\": \"x\", \"y0\": 0, \"y1\": 7829, \"yref\": \"y\"}, {\"line\": {\"color\": \"grey\", \"width\": 1.5}, \"type\": \"line\", \"x0\": 371.1390380859375, \"x1\": 371.1390380859375, \"xref\": \"x\", \"y0\": 0, \"y1\": 25794, \"yref\": \"y\"}, {\"line\": {\"color\": \"grey\", \"width\": 1.5}, \"type\": \"line\", \"x0\": 372.139404296875, \"x1\": 372.139404296875, \"xref\": \"x\", \"y0\": 0, \"y1\": 1994, \"yref\": \"y\"}, {\"line\": {\"color\": \"grey\", \"width\": 1.5}, \"type\": \"line\", \"x0\": 375.2255859375, \"x1\": 375.2255859375, \"xref\": \"x\", \"y0\": 0, \"y1\": 14581, \"yref\": \"y\"}, {\"line\": {\"color\": \"grey\", \"width\": 1.5}, \"type\": \"line\", \"x0\": 375.728515625, \"x1\": 375.728515625, \"xref\": \"x\", \"y0\": 0, \"y1\": 1324, \"yref\": \"y\"}, {\"line\": {\"color\": \"grey\", \"width\": 1.5}, \"type\": \"line\", \"x0\": 376.2206115722656, \"x1\": 376.2206115722656, \"xref\": \"x\", \"y0\": 0, \"y1\": 1262, \"yref\": \"y\"}, {\"line\": {\"color\": \"grey\", \"width\": 1.5}, \"type\": \"line\", \"x0\": 397.2095642089844, \"x1\": 397.2095642089844, \"xref\": \"x\", \"y0\": 0, \"y1\": 7331, \"yref\": \"y\"}, {\"line\": {\"color\": \"grey\", \"width\": 1.5}, \"type\": \"line\", \"x0\": 415.2230529785156, \"x1\": 415.2230529785156, \"xref\": \"x\", \"y0\": 0, \"y1\": 1707, \"yref\": \"y\"}, {\"line\": {\"color\": \"grey\", \"width\": 1.5}, \"type\": \"line\", \"x0\": 424.2358703613281, \"x1\": 424.2358703613281, \"xref\": \"x\", \"y0\": 0, \"y1\": 1669, \"yref\": \"y\"}, {\"line\": {\"color\": \"grey\", \"width\": 1.5}, \"type\": \"line\", \"x0\": 424.7373046875, \"x1\": 424.7373046875, \"xref\": \"x\", \"y0\": 0, \"y1\": 6902, \"yref\": \"y\"}, {\"line\": {\"color\": \"grey\", \"width\": 1.5}, \"type\": \"line\", \"x0\": 425.2102966308594, \"x1\": 425.2102966308594, \"xref\": \"x\", \"y0\": 0, \"y1\": 1735, \"yref\": \"y\"}, {\"line\": {\"color\": \"grey\", \"width\": 1.5}, \"type\": \"line\", \"x0\": 428.03961181640625, \"x1\": 428.03961181640625, \"xref\": \"x\", \"y0\": 0, \"y1\": 2411, \"yref\": \"y\"}, {\"line\": {\"color\": \"grey\", \"width\": 1.5}, \"type\": \"line\", \"x0\": 429.2019348144531, \"x1\": 429.2019348144531, \"xref\": \"x\", \"y0\": 0, \"y1\": 2462, \"yref\": \"y\"}, {\"line\": {\"color\": \"grey\", \"width\": 1.5}, \"type\": \"line\", \"x0\": 443.215576171875, \"x1\": 443.215576171875, \"xref\": \"x\", \"y0\": 0, \"y1\": 2780, \"yref\": \"y\"}, {\"line\": {\"color\": \"grey\", \"width\": 1.5}, \"type\": \"line\", \"x0\": 446.2626037597656, \"x1\": 446.2626037597656, \"xref\": \"x\", \"y0\": 0, \"y1\": 21982, \"yref\": \"y\"}, {\"line\": {\"color\": \"grey\", \"width\": 1.5}, \"type\": \"line\", \"x0\": 447.2669982910156, \"x1\": 447.2669982910156, \"xref\": \"x\", \"y0\": 0, \"y1\": 1753, \"yref\": \"y\"}, {\"line\": {\"color\": \"grey\", \"width\": 1.5}, \"type\": \"line\", \"x0\": 454.7217712402344, \"x1\": 454.7217712402344, \"xref\": \"x\", \"y0\": 0, \"y1\": 1630, \"yref\": \"y\"}, {\"line\": {\"color\": \"grey\", \"width\": 1.5}, \"type\": \"line\", \"x0\": 455.2303161621094, \"x1\": 455.2303161621094, \"xref\": \"x\", \"y0\": 0, \"y1\": 1284, \"yref\": \"y\"}, {\"line\": {\"color\": \"grey\", \"width\": 1.5}, \"type\": \"line\", \"x0\": 464.20867919921875, \"x1\": 464.20867919921875, \"xref\": \"x\", \"y0\": 0, \"y1\": 3114, \"yref\": \"y\"}, {\"line\": {\"color\": \"grey\", \"width\": 1.5}, \"type\": \"line\", \"x0\": 464.71905517578125, \"x1\": 464.71905517578125, \"xref\": \"x\", \"y0\": 0, \"y1\": 1320, \"yref\": \"y\"}, {\"line\": {\"color\": \"grey\", \"width\": 1.5}, \"type\": \"line\", \"x0\": 472.1873474121094, \"x1\": 472.1873474121094, \"xref\": \"x\", \"y0\": 0, \"y1\": 2200, \"yref\": \"y\"}, {\"line\": {\"color\": \"grey\", \"width\": 1.5}, \"type\": \"line\", \"x0\": 473.2172546386719, \"x1\": 473.2172546386719, \"xref\": \"x\", \"y0\": 0, \"y1\": 52170, \"yref\": \"y\"}, {\"line\": {\"color\": \"grey\", \"width\": 1.5}, \"type\": \"line\", \"x0\": 473.72381591796875, \"x1\": 473.72381591796875, \"xref\": \"x\", \"y0\": 0, \"y1\": 20591, \"yref\": \"y\"}, {\"line\": {\"color\": \"grey\", \"width\": 1.5}, \"type\": \"line\", \"x0\": 500.1825256347656, \"x1\": 500.1825256347656, \"xref\": \"x\", \"y0\": 0, \"y1\": 25910, \"yref\": \"y\"}, {\"line\": {\"color\": \"grey\", \"width\": 1.5}, \"type\": \"line\", \"x0\": 501.187255859375, \"x1\": 501.187255859375, \"xref\": \"x\", \"y0\": 0, \"y1\": 2234, \"yref\": \"y\"}, {\"line\": {\"color\": \"grey\", \"width\": 1.5}, \"type\": \"line\", \"x0\": 509.7640075683594, \"x1\": 509.7640075683594, \"xref\": \"x\", \"y0\": 0, \"y1\": 1593, \"yref\": \"y\"}, {\"line\": {\"color\": \"grey\", \"width\": 1.5}, \"type\": \"line\", \"x0\": 543.2291870117188, \"x1\": 543.2291870117188, \"xref\": \"x\", \"y0\": 0, \"y1\": 1347, \"yref\": \"y\"}, {\"line\": {\"color\": \"grey\", \"width\": 1.5}, \"type\": \"line\", \"x0\": 557.2975463867188, \"x1\": 557.2975463867188, \"xref\": \"x\", \"y0\": 0, \"y1\": 6294, \"yref\": \"y\"}, {\"line\": {\"color\": \"grey\", \"width\": 1.5}, \"type\": \"line\", \"x0\": 558.2500610351562, \"x1\": 558.2500610351562, \"xref\": \"x\", \"y0\": 0, \"y1\": 1200, \"yref\": \"y\"}, {\"line\": {\"color\": \"grey\", \"width\": 1.5}, \"type\": \"line\", \"x0\": 567.3037719726562, \"x1\": 567.3037719726562, \"xref\": \"x\", \"y0\": 0, \"y1\": 1602, \"yref\": \"y\"}, {\"line\": {\"color\": \"grey\", \"width\": 1.5}, \"type\": \"line\", \"x0\": 569.3435668945312, \"x1\": 569.3435668945312, \"xref\": \"x\", \"y0\": 0, \"y1\": 2005, \"yref\": \"y\"}, {\"line\": {\"color\": \"grey\", \"width\": 1.5}, \"type\": \"line\", \"x0\": 571.21923828125, \"x1\": 571.21923828125, \"xref\": \"x\", \"y0\": 0, \"y1\": 41318, \"yref\": \"y\"}, {\"line\": {\"color\": \"grey\", \"width\": 1.5}, \"type\": \"line\", \"x0\": 572.2230224609375, \"x1\": 572.2230224609375, \"xref\": \"x\", \"y0\": 0, \"y1\": 5449, \"yref\": \"y\"}, {\"line\": {\"color\": \"grey\", \"width\": 1.5}, \"type\": \"line\", \"x0\": 575.3062133789062, \"x1\": 575.3062133789062, \"xref\": \"x\", \"y0\": 0, \"y1\": 25040, \"yref\": \"y\"}, {\"line\": {\"color\": \"grey\", \"width\": 1.5}, \"type\": \"line\", \"x0\": 576.3131103515625, \"x1\": 576.3131103515625, \"xref\": \"x\", \"y0\": 0, \"y1\": 1724, \"yref\": \"y\"}, {\"line\": {\"color\": \"grey\", \"width\": 1.5}, \"type\": \"line\", \"x0\": 620.767333984375, \"x1\": 620.767333984375, \"xref\": \"x\", \"y0\": 0, \"y1\": 1295, \"yref\": \"y\"}, {\"line\": {\"color\": \"grey\", \"width\": 1.5}, \"type\": \"line\", \"x0\": 666.3982543945312, \"x1\": 666.3982543945312, \"xref\": \"x\", \"y0\": 0, \"y1\": 1493, \"yref\": \"y\"}, {\"line\": {\"color\": \"grey\", \"width\": 1.5}, \"type\": \"line\", \"x0\": 668.3255615234375, \"x1\": 668.3255615234375, \"xref\": \"x\", \"y0\": 0, \"y1\": 2253, \"yref\": \"y\"}, {\"line\": {\"color\": \"grey\", \"width\": 1.5}, \"type\": \"line\", \"x0\": 686.33935546875, \"x1\": 686.33935546875, \"xref\": \"x\", \"y0\": 0, \"y1\": 21521, \"yref\": \"y\"}, {\"line\": {\"color\": \"grey\", \"width\": 1.5}, \"type\": \"line\", \"x0\": 687.34375, \"x1\": 687.34375, \"xref\": \"x\", \"y0\": 0, \"y1\": 5619, \"yref\": \"y\"}, {\"line\": {\"color\": \"grey\", \"width\": 1.5}, \"type\": \"line\", \"x0\": 704.3487548828125, \"x1\": 704.3487548828125, \"xref\": \"x\", \"y0\": 0, \"y1\": 93848, \"yref\": \"y\"}, {\"line\": {\"color\": \"grey\", \"width\": 1.5}, \"type\": \"line\", \"x0\": 705.3507080078125, \"x1\": 705.3507080078125, \"xref\": \"x\", \"y0\": 0, \"y1\": 22128, \"yref\": \"y\"}, {\"line\": {\"color\": \"grey\", \"width\": 1.5}, \"type\": \"line\", \"x0\": 714.337890625, \"x1\": 714.337890625, \"xref\": \"x\", \"y0\": 0, \"y1\": 1636, \"yref\": \"y\"}, {\"line\": {\"color\": \"grey\", \"width\": 1.5}, \"type\": \"line\", \"x0\": 751.409912109375, \"x1\": 751.409912109375, \"xref\": \"x\", \"y0\": 0, \"y1\": 2308, \"yref\": \"y\"}, {\"line\": {\"color\": \"grey\", \"width\": 1.5}, \"type\": \"line\", \"x0\": 799.32666015625, \"x1\": 799.32666015625, \"xref\": \"x\", \"y0\": 0, \"y1\": 1935, \"yref\": \"y\"}, {\"line\": {\"color\": \"grey\", \"width\": 1.5}, \"type\": \"line\", \"x0\": 817.4393920898438, \"x1\": 817.4393920898438, \"xref\": \"x\", \"y0\": 0, \"y1\": 2568, \"yref\": \"y\"}, {\"line\": {\"color\": \"grey\", \"width\": 1.5}, \"type\": \"line\", \"x0\": 848.454345703125, \"x1\": 848.454345703125, \"xref\": \"x\", \"y0\": 0, \"y1\": 1193, \"yref\": \"y\"}], \"template\": {\"data\": {\"bar\": [{\"error_x\": {\"color\": \"#2a3f5f\"}, \"error_y\": {\"color\": \"#2a3f5f\"}, \"marker\": {\"line\": {\"color\": \"white\", \"width\": 0.5}}, \"type\": \"bar\"}], \"barpolar\": [{\"marker\": {\"line\": {\"color\": \"white\", \"width\": 0.5}}, \"type\": \"barpolar\"}], \"carpet\": [{\"aaxis\": {\"endlinecolor\": \"#2a3f5f\", \"gridcolor\": \"#C8D4E3\", \"linecolor\": \"#C8D4E3\", \"minorgridcolor\": \"#C8D4E3\", \"startlinecolor\": \"#2a3f5f\"}, \"baxis\": {\"endlinecolor\": \"#2a3f5f\", \"gridcolor\": \"#C8D4E3\", \"linecolor\": \"#C8D4E3\", \"minorgridcolor\": \"#C8D4E3\", \"startlinecolor\": \"#2a3f5f\"}, \"type\": \"carpet\"}], \"choropleth\": [{\"colorbar\": {\"outlinewidth\": 0, \"ticks\": \"\"}, \"type\": \"choropleth\"}], \"contour\": [{\"colorbar\": {\"outlinewidth\": 0, \"ticks\": \"\"}, \"colorscale\": [[0.0, \"#0d0887\"], [0.1111111111111111, \"#46039f\"], [0.2222222222222222, \"#7201a8\"], [0.3333333333333333, \"#9c179e\"], [0.4444444444444444, \"#bd3786\"], [0.5555555555555556, \"#d8576b\"], [0.6666666666666666, \"#ed7953\"], [0.7777777777777778, \"#fb9f3a\"], [0.8888888888888888, \"#fdca26\"], [1.0, \"#f0f921\"]], \"type\": \"contour\"}], \"contourcarpet\": [{\"colorbar\": {\"outlinewidth\": 0, \"ticks\": \"\"}, \"type\": \"contourcarpet\"}], \"heatmap\": [{\"colorbar\": {\"outlinewidth\": 0, \"ticks\": \"\"}, \"colorscale\": [[0.0, \"#0d0887\"], [0.1111111111111111, \"#46039f\"], [0.2222222222222222, \"#7201a8\"], [0.3333333333333333, \"#9c179e\"], [0.4444444444444444, \"#bd3786\"], [0.5555555555555556, \"#d8576b\"], [0.6666666666666666, \"#ed7953\"], [0.7777777777777778, \"#fb9f3a\"], [0.8888888888888888, \"#fdca26\"], [1.0, \"#f0f921\"]], \"type\": \"heatmap\"}], \"heatmapgl\": [{\"colorbar\": {\"outlinewidth\": 0, \"ticks\": \"\"}, \"colorscale\": [[0.0, \"#0d0887\"], [0.1111111111111111, \"#46039f\"], [0.2222222222222222, \"#7201a8\"], [0.3333333333333333, \"#9c179e\"], [0.4444444444444444, \"#bd3786\"], [0.5555555555555556, \"#d8576b\"], [0.6666666666666666, \"#ed7953\"], [0.7777777777777778, \"#fb9f3a\"], [0.8888888888888888, \"#fdca26\"], [1.0, \"#f0f921\"]], \"type\": \"heatmapgl\"}], \"histogram\": [{\"marker\": {\"colorbar\": {\"outlinewidth\": 0, \"ticks\": \"\"}}, \"type\": \"histogram\"}], \"histogram2d\": [{\"colorbar\": {\"outlinewidth\": 0, \"ticks\": \"\"}, \"colorscale\": [[0.0, \"#0d0887\"], [0.1111111111111111, \"#46039f\"], [0.2222222222222222, \"#7201a8\"], [0.3333333333333333, \"#9c179e\"], [0.4444444444444444, \"#bd3786\"], [0.5555555555555556, \"#d8576b\"], [0.6666666666666666, \"#ed7953\"], [0.7777777777777778, \"#fb9f3a\"], [0.8888888888888888, \"#fdca26\"], [1.0, \"#f0f921\"]], \"type\": \"histogram2d\"}], \"histogram2dcontour\": [{\"colorbar\": {\"outlinewidth\": 0, \"ticks\": \"\"}, \"colorscale\": [[0.0, \"#0d0887\"], [0.1111111111111111, \"#46039f\"], [0.2222222222222222, \"#7201a8\"], [0.3333333333333333, \"#9c179e\"], [0.4444444444444444, \"#bd3786\"], [0.5555555555555556, \"#d8576b\"], [0.6666666666666666, \"#ed7953\"], [0.7777777777777778, \"#fb9f3a\"], [0.8888888888888888, \"#fdca26\"], [1.0, \"#f0f921\"]], \"type\": \"histogram2dcontour\"}], \"mesh3d\": [{\"colorbar\": {\"outlinewidth\": 0, \"ticks\": \"\"}, \"type\": \"mesh3d\"}], \"parcoords\": [{\"line\": {\"colorbar\": {\"outlinewidth\": 0, \"ticks\": \"\"}}, \"type\": \"parcoords\"}], \"pie\": [{\"automargin\": true, \"type\": \"pie\"}], \"scatter\": [{\"marker\": {\"colorbar\": {\"outlinewidth\": 0, \"ticks\": \"\"}}, \"type\": \"scatter\"}], \"scatter3d\": [{\"line\": {\"colorbar\": {\"outlinewidth\": 0, \"ticks\": \"\"}}, \"marker\": {\"colorbar\": {\"outlinewidth\": 0, \"ticks\": \"\"}}, \"type\": \"scatter3d\"}], \"scattercarpet\": [{\"marker\": {\"colorbar\": {\"outlinewidth\": 0, \"ticks\": \"\"}}, \"type\": \"scattercarpet\"}], \"scattergeo\": [{\"marker\": {\"colorbar\": {\"outlinewidth\": 0, \"ticks\": \"\"}}, \"type\": \"scattergeo\"}], \"scattergl\": [{\"marker\": {\"colorbar\": {\"outlinewidth\": 0, \"ticks\": \"\"}}, \"type\": \"scattergl\"}], \"scattermapbox\": [{\"marker\": {\"colorbar\": {\"outlinewidth\": 0, \"ticks\": \"\"}}, \"type\": \"scattermapbox\"}], \"scatterpolar\": [{\"marker\": {\"colorbar\": {\"outlinewidth\": 0, \"ticks\": \"\"}}, \"type\": \"scatterpolar\"}], \"scatterpolargl\": [{\"marker\": {\"colorbar\": {\"outlinewidth\": 0, \"ticks\": \"\"}}, \"type\": \"scatterpolargl\"}], \"scatterternary\": [{\"marker\": {\"colorbar\": {\"outlinewidth\": 0, \"ticks\": \"\"}}, \"type\": \"scatterternary\"}], \"surface\": [{\"colorbar\": {\"outlinewidth\": 0, \"ticks\": \"\"}, \"colorscale\": [[0.0, \"#0d0887\"], [0.1111111111111111, \"#46039f\"], [0.2222222222222222, \"#7201a8\"], [0.3333333333333333, \"#9c179e\"], [0.4444444444444444, \"#bd3786\"], [0.5555555555555556, \"#d8576b\"], [0.6666666666666666, \"#ed7953\"], [0.7777777777777778, \"#fb9f3a\"], [0.8888888888888888, \"#fdca26\"], [1.0, \"#f0f921\"]], \"type\": \"surface\"}], \"table\": [{\"cells\": {\"fill\": {\"color\": \"#EBF0F8\"}, \"line\": {\"color\": \"white\"}}, \"header\": {\"fill\": {\"color\": \"#C8D4E3\"}, \"line\": {\"color\": \"white\"}}, \"type\": \"table\"}]}, \"layout\": {\"annotationdefaults\": {\"arrowcolor\": \"#2a3f5f\", \"arrowhead\": 0, \"arrowwidth\": 1}, \"autotypenumbers\": \"strict\", \"coloraxis\": {\"colorbar\": {\"outlinewidth\": 0, \"ticks\": \"\"}}, \"colorscale\": {\"diverging\": [[0, \"#8e0152\"], [0.1, \"#c51b7d\"], [0.2, \"#de77ae\"], [0.3, \"#f1b6da\"], [0.4, \"#fde0ef\"], [0.5, \"#f7f7f7\"], [0.6, \"#e6f5d0\"], [0.7, \"#b8e186\"], [0.8, \"#7fbc41\"], [0.9, \"#4d9221\"], [1, \"#276419\"]], \"sequential\": [[0.0, \"#0d0887\"], [0.1111111111111111, \"#46039f\"], [0.2222222222222222, \"#7201a8\"], [0.3333333333333333, \"#9c179e\"], [0.4444444444444444, \"#bd3786\"], [0.5555555555555556, \"#d8576b\"], [0.6666666666666666, \"#ed7953\"], [0.7777777777777778, \"#fb9f3a\"], [0.8888888888888888, \"#fdca26\"], [1.0, \"#f0f921\"]], \"sequentialminus\": [[0.0, \"#0d0887\"], [0.1111111111111111, \"#46039f\"], [0.2222222222222222, \"#7201a8\"], [0.3333333333333333, \"#9c179e\"], [0.4444444444444444, \"#bd3786\"], [0.5555555555555556, \"#d8576b\"], [0.6666666666666666, \"#ed7953\"], [0.7777777777777778, \"#fb9f3a\"], [0.8888888888888888, \"#fdca26\"], [1.0, \"#f0f921\"]]}, \"colorway\": [\"#636efa\", \"#EF553B\", \"#00cc96\", \"#ab63fa\", \"#FFA15A\", \"#19d3f3\", \"#FF6692\", \"#B6E880\", \"#FF97FF\", \"#FECB52\"], \"font\": {\"color\": \"#2a3f5f\"}, \"geo\": {\"bgcolor\": \"white\", \"lakecolor\": \"white\", \"landcolor\": \"white\", \"showlakes\": true, \"showland\": true, \"subunitcolor\": \"#C8D4E3\"}, \"hoverlabel\": {\"align\": \"left\"}, \"hovermode\": \"closest\", \"mapbox\": {\"style\": \"light\"}, \"paper_bgcolor\": \"white\", \"plot_bgcolor\": \"white\", \"polar\": {\"angularaxis\": {\"gridcolor\": \"#EBF0F8\", \"linecolor\": \"#EBF0F8\", \"ticks\": \"\"}, \"bgcolor\": \"white\", \"radialaxis\": {\"gridcolor\": \"#EBF0F8\", \"linecolor\": \"#EBF0F8\", \"ticks\": \"\"}}, \"scene\": {\"xaxis\": {\"backgroundcolor\": \"white\", \"gridcolor\": \"#DFE8F3\", \"gridwidth\": 2, \"linecolor\": \"#EBF0F8\", \"showbackground\": true, \"ticks\": \"\", \"zerolinecolor\": \"#EBF0F8\"}, \"yaxis\": {\"backgroundcolor\": \"white\", \"gridcolor\": \"#DFE8F3\", \"gridwidth\": 2, \"linecolor\": \"#EBF0F8\", \"showbackground\": true, \"ticks\": \"\", \"zerolinecolor\": \"#EBF0F8\"}, \"zaxis\": {\"backgroundcolor\": \"white\", \"gridcolor\": \"#DFE8F3\", \"gridwidth\": 2, \"linecolor\": \"#EBF0F8\", \"showbackground\": true, \"ticks\": \"\", \"zerolinecolor\": \"#EBF0F8\"}}, \"shapedefaults\": {\"line\": {\"color\": \"#2a3f5f\"}}, \"ternary\": {\"aaxis\": {\"gridcolor\": \"#DFE8F3\", \"linecolor\": \"#A2B1C6\", \"ticks\": \"\"}, \"baxis\": {\"gridcolor\": \"#DFE8F3\", \"linecolor\": \"#A2B1C6\", \"ticks\": \"\"}, \"bgcolor\": \"white\", \"caxis\": {\"gridcolor\": \"#DFE8F3\", \"linecolor\": \"#A2B1C6\", \"ticks\": \"\"}}, \"title\": {\"x\": 0.05}, \"xaxis\": {\"automargin\": true, \"gridcolor\": \"#EBF0F8\", \"linecolor\": \"#EBF0F8\", \"ticks\": \"\", \"title\": {\"standoff\": 15}, \"zerolinecolor\": \"#EBF0F8\", \"zerolinewidth\": 2}, \"yaxis\": {\"automargin\": true, \"gridcolor\": \"#EBF0F8\", \"linecolor\": \"#EBF0F8\", \"ticks\": \"\", \"title\": {\"standoff\": 15}, \"zerolinecolor\": \"#EBF0F8\", \"zerolinewidth\": 2}}}, \"title\": {\"font\": {\"size\": 16}, \"text\": \"MS2 DDA spectrum for precursor m/z=473.2245 and charge=2.\", \"x\": 0.5, \"xanchor\": \"center\", \"yanchor\": \"top\"}, \"xaxis\": {\"title\": {\"text\": \"m/z, Th\"}}, \"yaxis\": {\"title\": {\"text\": \"Intensity\"}}},                        {\"displaylogo\": false, \"toImageButtonOptions\": {\"format\": \"svg\", \"filename\": \"custom_image\", \"height\": 400, \"width\": 700, \"scale\": 1}, \"responsive\": true}                    ).then(function(){\n",
       "                            \n",
       "var gd = document.getElementById('dae10200-bbc8-433f-8f9e-9e1b3cf1744a');\n",
       "var x = new MutationObserver(function (mutations, observer) {{\n",
       "        var display = window.getComputedStyle(gd).display;\n",
       "        if (!display || display === 'none') {{\n",
       "            console.log([gd, 'removed!']);\n",
       "            Plotly.purge(gd);\n",
       "            observer.disconnect();\n",
       "        }}\n",
       "}});\n",
       "\n",
       "// Listen for the removal of the full notebook cells\n",
       "var notebookContainer = gd.closest('#notebook-container');\n",
       "if (notebookContainer) {{\n",
       "    x.observe(notebookContainer, {childList: true});\n",
       "}}\n",
       "\n",
       "// Listen for the clearing of the current output cell\n",
       "var outputEl = gd.closest('.output');\n",
       "if (outputEl) {{\n",
       "    x.observe(outputEl, {childList: true});\n",
       "}}\n",
       "\n",
       "                        })                };                });            </script>        </div>"
      ]
     },
     "metadata": {},
     "output_type": "display_data"
    }
   ],
   "source": [
    "# let's plot the MS2 spectra acquired at 50.001946 min for the precursor m/z = 473.224500\n",
    "scan = 20544\n",
    "plot_mass_spectra(\n",
    "    mz_values=df_ms2_phospho[df_ms2_phospho.scan == scan].mz_values.values[0], \n",
    "    intensity_values=df_ms2_phospho[df_ms2_phospho.scan == scan].intensity_values.values[0],\n",
    "    title=f\"MS2 DDA spectrum for precursor m/z={df_ms2_phospho[df_ms2_phospho.scan == scan].prec_mono_mz.values[0]} and charge={df_ms2_phospho[df_ms2_phospho.scan == scan].prec_charge.values[0]}.\"\n",
    ").show(config=utils.config)"
   ]
  },
  {
   "cell_type": "markdown",
   "id": "combined-brown",
   "metadata": {},
   "source": [
    "## Fig 2 F: Mirrored spectra \n",
    "\n",
    "For this figure we used the raw file from the [Project  from ProteomeXchange](https://www.ebi.ac.uk/pride/archive/projects/). as example data."
   ]
  },
  {
   "cell_type": "code",
   "execution_count": 9,
   "id": "integrated-object",
   "metadata": {},
   "outputs": [],
   "source": [
    "mirrored_path = \"D:/Holoviz_project/Data_test_case/Cancer_adenoma_for_testing/20191028_QX6_LiSc_FFPE_Covaris_Experiment4_7B.raw\""
   ]
  },
  {
   "cell_type": "code",
   "execution_count": 10,
   "id": "returning-andrews",
   "metadata": {},
   "outputs": [
    {
     "name": "stderr",
     "output_type": "stream",
     "text": [
      "100%|█████████████████████████████████████████████████████████████████████████████████████████████████████████████████████████████| 120314/120314 [01:44<00:00, 1146.50it/s]\n"
     ]
    }
   ],
   "source": [
    "mirrored_data = utils.load_thermo_raw(mirrored_path)"
   ]
  },
  {
   "cell_type": "code",
   "execution_count": 11,
   "id": "lightweight-indicator",
   "metadata": {},
   "outputs": [],
   "source": [
    "df_ms2_mirrored = pd.DataFrame({'scan': mirrored_data['scan_list_ms2'], \n",
    "                    'RT': mirrored_data['rt_list_ms2'],\n",
    "                    'prec_mono_mz': mirrored_data['mono_mzs2'],\n",
    "                    'prec_charge': mirrored_data['charge_ms2'],\n",
    "                    'mz_values': mirrored_data['mass_list_ms2'],\n",
    "                   'intensity_values': mirrored_data['int_list_ms2'],\n",
    "                    'order': 'ms2'})"
   ]
  },
  {
   "cell_type": "markdown",
   "id": "fabulous-occasions",
   "metadata": {},
   "source": [
    "Let's extract the information for the identified peptide **AAAITSDILEALGR** of **Periostin** protein with \n",
    "* m/z = 700.8901978, \n",
    "* charge = 2,\n",
    "* CE = 27."
   ]
  },
  {
   "cell_type": "code",
   "execution_count": 45,
   "id": "ideal-contrary",
   "metadata": {},
   "outputs": [],
   "source": [
    "peptide = {\n",
    "    'sequence': 'AAAITSDILEALGR',\n",
    "    'm/z': 700.8901978,\n",
    "    'charge': 2,\n",
    "    'CE': 27\n",
    "}"
   ]
  },
  {
   "cell_type": "code",
   "execution_count": 55,
   "id": "interesting-tobacco",
   "metadata": {},
   "outputs": [
    {
     "data": {
      "text/html": [
       "<div>\n",
       "<style scoped>\n",
       "    .dataframe tbody tr th:only-of-type {\n",
       "        vertical-align: middle;\n",
       "    }\n",
       "\n",
       "    .dataframe tbody tr th {\n",
       "        vertical-align: top;\n",
       "    }\n",
       "\n",
       "    .dataframe thead th {\n",
       "        text-align: right;\n",
       "    }\n",
       "</style>\n",
       "<table border=\"1\" class=\"dataframe\">\n",
       "  <thead>\n",
       "    <tr style=\"text-align: right;\">\n",
       "      <th></th>\n",
       "      <th>scan</th>\n",
       "      <th>RT</th>\n",
       "      <th>prec_mono_mz</th>\n",
       "      <th>prec_charge</th>\n",
       "      <th>mz_values</th>\n",
       "      <th>intensity_values</th>\n",
       "      <th>order</th>\n",
       "    </tr>\n",
       "  </thead>\n",
       "  <tbody>\n",
       "    <tr>\n",
       "      <th>109728</th>\n",
       "      <td>117845</td>\n",
       "      <td>97.508609</td>\n",
       "      <td>700.8902</td>\n",
       "      <td>2</td>\n",
       "      <td>[101.07103729248047, 102.05522918701172, 110.0...</td>\n",
       "      <td>[28429, 48170, 51207, 31792, 31418, 681695, 16...</td>\n",
       "      <td>ms2</td>\n",
       "    </tr>\n",
       "  </tbody>\n",
       "</table>\n",
       "</div>"
      ],
      "text/plain": [
       "          scan         RT  prec_mono_mz  prec_charge  \\\n",
       "109728  117845  97.508609      700.8902            2   \n",
       "\n",
       "                                                mz_values  \\\n",
       "109728  [101.07103729248047, 102.05522918701172, 110.0...   \n",
       "\n",
       "                                         intensity_values order  \n",
       "109728  [28429, 48170, 51207, 31792, 31418, 681695, 16...   ms2  "
      ]
     },
     "execution_count": 55,
     "metadata": {},
     "output_type": "execute_result"
    }
   ],
   "source": [
    "# let's extract the information for the identified peptide AAAITSDILEALGR using the # of spectrum from the evidence.txt \n",
    "scan = 117845\n",
    "df_ms2_mirrored[df_ms2_mirrored.scan == scan]"
   ]
  },
  {
   "cell_type": "markdown",
   "id": "handmade-cleaning",
   "metadata": {},
   "source": [
    "The mirrored predicted MS2 spectrum was generated with [Prosit_2020_intensity_hcd](https://doi.org/10.1038/s41592-019-0426-7) model using the platform https://www.proteomicsdb.org/prosit/ for submitting the job. For this the peptide was saved into .csv file with the amino acid sequence, CE and charge."
   ]
  },
  {
   "cell_type": "code",
   "execution_count": 46,
   "id": "demographic-hello",
   "metadata": {},
   "outputs": [],
   "source": [
    "pd.DataFrame.from_dict(data={\n",
    "    'modified_sequence': [peptide['sequence']], \n",
    "    'collision_energy': [peptide['CE']], \n",
    "    'precursor_charge': [peptide['charge']]\n",
    "}).to_csv('prediction.csv', index=False)"
   ]
  },
  {
   "cell_type": "markdown",
   "id": "confused-louis",
   "metadata": {},
   "source": [
    "When you get the predicted file, you can upload it here and extract the predicted fragment ions and their intensities."
   ]
  },
  {
   "cell_type": "code",
   "execution_count": 91,
   "id": "frequent-mother",
   "metadata": {},
   "outputs": [
    {
     "data": {
      "text/html": [
       "<div>\n",
       "<style scoped>\n",
       "    .dataframe tbody tr th:only-of-type {\n",
       "        vertical-align: middle;\n",
       "    }\n",
       "\n",
       "    .dataframe tbody tr th {\n",
       "        vertical-align: top;\n",
       "    }\n",
       "\n",
       "    .dataframe thead th {\n",
       "        text-align: right;\n",
       "    }\n",
       "</style>\n",
       "<table border=\"1\" class=\"dataframe\">\n",
       "  <thead>\n",
       "    <tr style=\"text-align: right;\">\n",
       "      <th></th>\n",
       "      <th>RelativeIntensity</th>\n",
       "      <th>FragmentMz</th>\n",
       "      <th>StrippedPeptide</th>\n",
       "      <th>FragmentNumber</th>\n",
       "      <th>FragmentType</th>\n",
       "      <th>FragmentCharge</th>\n",
       "      <th>ions</th>\n",
       "    </tr>\n",
       "  </thead>\n",
       "  <tbody>\n",
       "    <tr>\n",
       "      <th>0</th>\n",
       "      <td>-1.994496</td>\n",
       "      <td>175.11896</td>\n",
       "      <td>AAAITSDILEALGR</td>\n",
       "      <td>1</td>\n",
       "      <td>y</td>\n",
       "      <td>1</td>\n",
       "      <td>y1_+1</td>\n",
       "    </tr>\n",
       "    <tr>\n",
       "      <th>4</th>\n",
       "      <td>-15.300025</td>\n",
       "      <td>232.14041</td>\n",
       "      <td>AAAITSDILEALGR</td>\n",
       "      <td>2</td>\n",
       "      <td>y</td>\n",
       "      <td>1</td>\n",
       "      <td>y2_+1</td>\n",
       "    </tr>\n",
       "    <tr>\n",
       "      <th>6</th>\n",
       "      <td>-13.627195</td>\n",
       "      <td>143.08150</td>\n",
       "      <td>AAAITSDILEALGR</td>\n",
       "      <td>2</td>\n",
       "      <td>b</td>\n",
       "      <td>1</td>\n",
       "      <td>b2_+1</td>\n",
       "    </tr>\n",
       "    <tr>\n",
       "      <th>8</th>\n",
       "      <td>-8.322782</td>\n",
       "      <td>345.22450</td>\n",
       "      <td>AAAITSDILEALGR</td>\n",
       "      <td>3</td>\n",
       "      <td>y</td>\n",
       "      <td>1</td>\n",
       "      <td>y3_+1</td>\n",
       "    </tr>\n",
       "    <tr>\n",
       "      <th>10</th>\n",
       "      <td>-67.320096</td>\n",
       "      <td>214.11862</td>\n",
       "      <td>AAAITSDILEALGR</td>\n",
       "      <td>3</td>\n",
       "      <td>b</td>\n",
       "      <td>1</td>\n",
       "      <td>b3_+1</td>\n",
       "    </tr>\n",
       "  </tbody>\n",
       "</table>\n",
       "</div>"
      ],
      "text/plain": [
       "    RelativeIntensity  FragmentMz StrippedPeptide  FragmentNumber  \\\n",
       "0           -1.994496   175.11896  AAAITSDILEALGR               1   \n",
       "4          -15.300025   232.14041  AAAITSDILEALGR               2   \n",
       "6          -13.627195   143.08150  AAAITSDILEALGR               2   \n",
       "8           -8.322782   345.22450  AAAITSDILEALGR               3   \n",
       "10         -67.320096   214.11862  AAAITSDILEALGR               3   \n",
       "\n",
       "   FragmentType  FragmentCharge   ions  \n",
       "0             y               1  y1_+1  \n",
       "4             y               1  y2_+1  \n",
       "6             b               1  b2_+1  \n",
       "8             y               1  y3_+1  \n",
       "10            b               1  b3_+1  "
      ]
     },
     "execution_count": 91,
     "metadata": {},
     "output_type": "execute_result"
    }
   ],
   "source": [
    "path_to_prediction = '../Data/PXD012867_yeast_project/myPrositLib.csv'\n",
    "predicted_df = pd.read_csv(\n",
    "    path_to_prediction, \n",
    "    usecols=['RelativeIntensity', 'FragmentMz', 'StrippedPeptide', 'FragmentNumber', 'FragmentType', 'FragmentCharge']\n",
    ")\n",
    "predicted_df = predicted_df[(predicted_df.StrippedPeptide == peptide['sequence']) & (predicted_df.RelativeIntensity > 0)]\n",
    "predicted_df.RelativeIntensity *= -100\n",
    "predicted_df['ions'] = predicted_df.apply(lambda x: f\"{x.FragmentType}{x.FragmentNumber}_+{x.FragmentCharge}\", axis=1)\n",
    "predicted_df.head()"
   ]
  },
  {
   "cell_type": "markdown",
   "id": "fossil-paris",
   "metadata": {},
   "source": [
    "To visualize the mirrored plot, we need to get the Relative abundance(%) of the ions instead of Absolute intensity. For this let's use the MinMaxScaler from Sklearn."
   ]
  },
  {
   "cell_type": "code",
   "execution_count": 83,
   "id": "incomplete-purple",
   "metadata": {},
   "outputs": [],
   "source": [
    "mz_values = df_ms2_mirrored[df_ms2_mirrored.scan == scan].mz_values.values[0]\n",
    "intensity_values = df_ms2_mirrored[df_ms2_mirrored.scan == scan].intensity_values.values[0].reshape(-1, 1)\n",
    "relat_intensity_values = MinMaxScaler().fit_transform(intensity_values).reshape(1, -1)[0] * 100"
   ]
  },
  {
   "cell_type": "code",
   "execution_count": 105,
   "id": "limiting-precipitation",
   "metadata": {},
   "outputs": [
    {
     "data": {
      "application/vnd.plotly.v1+json": {
       "config": {
        "displaylogo": false,
        "plotlyServerURL": "https://plot.ly",
        "responsive": true,
        "toImageButtonOptions": {
         "filename": "custom_image",
         "format": "svg",
         "height": 400,
         "scale": 1,
         "width": 700
        }
       },
       "data": [
        {
         "hovertemplate": "<b>m/z:</b> %{x};<br><b>Intensity:</b> %{y}.",
         "marker": {
          "color": "grey",
          "size": 3
         },
         "mode": "markers",
         "name": "",
         "showlegend": false,
         "type": "scatter",
         "x": [
          101.07103729248047,
          102.05522918701172,
          110.0711669921875,
          111.33304595947266,
          112.08697509765625,
          115.08676147460938,
          120.08071899414062,
          129.102783203125,
          130.06495666503906,
          130.08546447753906,
          136.0753173828125,
          141.1020965576172,
          142.12277221679688,
          143.0813751220703,
          143.1173095703125,
          144.08470153808594,
          147.11366271972656,
          153.0662384033203,
          155.0806121826172,
          157.1334686279297,
          158.09278869628906,
          158.1370849609375,
          159.07765197753906,
          159.0916290283203,
          161.0919189453125,
          169.08047485351562,
          169.09693908691406,
          170.10011291503906,
          171.07623291015625,
          171.11361694335938,
          172.1082305908203,
          173.0914764404297,
          175.1188507080078,
          183.14932250976562,
          185.12823486328125,
          186.12887573242188,
          187.14381408691406,
          189.08665466308594,
          196.10699462890625,
          197.12796020507812,
          199.1077117919922,
          199.17942810058594,
          201.12210083007812,
          203.06613159179688,
          203.13784790039062,
          211.14389038085938,
          213.16006469726562,
          214.1183319091797,
          215.11972045898438,
          215.13931274414062,
          216.14149475097656,
          226.11911010742188,
          227.17572021484375,
          228.16934204101562,
          229.11692810058594,
          230.11309814453125,
          232.14019775390625,
          233.14337158203125,
          238.15509033203125,
          241.15399169921875,
          242.1150665283203,
          242.1466064453125,
          243.09547424316406,
          244.12904357910156,
          255.14968872070312,
          256.1650390625,
          268.1651611328125,
          269.167236328125,
          270.1444091796875,
          271.1393737792969,
          272.1769104003906,
          281.1961669921875,
          282.1806335449219,
          283.1418151855469,
          284.1585998535156,
          286.1020202636719,
          286.1396484375,
          286.1756286621094,
          287.1747741699219,
          294.1817321777344,
          297.15484619140625,
          299.2074279785156,
          300.1697692871094,
          300.2109375,
          302.171630859375,
          304.11358642578125,
          312.1933288574219,
          313.1502990722656,
          314.17059326171875,
          315.1658935546875,
          315.207275390625,
          316.1553039550781,
          327.2018127441406,
          328.2027282714844,
          337.18524169921875,
          339.2023620605469,
          345.2239074707031,
          355.195556640625,
          357.2144775390625,
          366.1735534667969,
          371.2001037597656,
          382.2425231933594,
          383.22918701171875,
          384.1868896484375,
          385.1949157714844,
          387.1935729980469,
          389.20184326171875,
          395.2669982910156,
          399.18304443359375,
          399.23590087890625,
          400.256591796875,
          402.19915771484375,
          410.23748779296875,
          416.26104736328125,
          417.19793701171875,
          417.2638244628906,
          426.2356262207031,
          427.2550964355469,
          428.250244140625,
          429.2529296875,
          452.2121887207031,
          470.2275390625,
          471.2292175292969,
          479.2589111328125,
          488.2354431152344,
          494.263671875,
          497.26995849609375,
          499.2171325683594,
          500.2701110839844,
          502.2876892089844,
          512.2696533203125,
          515.2791137695312,
          527.2913818359375,
          529.282958984375,
          530.2824096679688,
          537.7891845703125,
          541.262451171875,
          545.3040771484375,
          546.30810546875,
          559.272705078125,
          583.3099975585938,
          584.3113403320312,
          585.327880859375,
          585.8253784179688,
          601.3194580078125,
          602.3258666992188,
          612.2994995117188,
          620.8479614257812,
          621.3533935546875,
          629.3179321289062,
          630.3096313476562,
          631.3141479492188,
          647.3463134765625,
          654.34912109375,
          658.3878173828125,
          659.3941040039062,
          668.370849609375,
          672.359619140625,
          691.8911743164062,
          700.3893432617188,
          701.4208984375,
          712.3469848632812,
          725.3826904296875,
          726.3825073242188,
          730.358642578125,
          743.3914794921875,
          744.39404296875,
          771.4711303710938,
          772.4766845703125,
          801.39501953125,
          817.4588012695312,
          836.4530029296875,
          843.4492797851562,
          868.4848022460938,
          869.4830932617188,
          886.498291015625,
          887.5008544921875,
          893.4781494140625,
          914.4778442382812,
          932.4891967773438,
          955.521240234375,
          956.5142211914062,
          973.530517578125,
          974.5328369140625,
          1029.5406494140625,
          1030.5489501953125,
          1031.5455322265625,
          1038.55859375,
          1039.5626220703125,
          1056.5648193359375,
          1057.5618896484375,
          1074.5772705078125,
          1075.580810546875,
          1076.5810546875,
          1084.5767822265625,
          1085.57421875,
          1100.562255859375,
          1101.556396484375,
          1169.6624755859375,
          1187.661865234375,
          1188.6629638671875,
          1189.676513671875,
          1258.7020263671875,
          1259.69482421875
         ],
         "y": [
          0.06355917443628661,
          0.3561715024555809,
          0.4011876434917288,
          0.11340747285728285,
          0.10786383217650597,
          9.746639316062964,
          2.1231402678942124,
          0.11696488933692575,
          0.16046912836922547,
          0.08228007866040737,
          1.32201007667863,
          0.41457242299638525,
          0.1388430006867296,
          39.065680135786586,
          0.6545053419796342,
          1.3505435213590993,
          0.05186416775946057,
          0.49750469467806047,
          0.38679492931784026,
          21.679696445651793,
          0.4365542923268454,
          0.8970915007539499,
          0.05235331252541149,
          0.5612862076443248,
          0.13697535703491712,
          0.5321746827859136,
          17.478061486682886,
          0.28445991525344594,
          1.070708247529189,
          0.007100010390620644,
          0.07220073196808584,
          0.7077331860562911,
          5.743078342166844,
          0.48188170730496205,
          7.785628304228479,
          0,
          3.2759951909658227,
          0.9039691726145931,
          0.0687470734690992,
          0.9800385950042904,
          0.05331677948864806,
          0.17890840378870787,
          0.41635113123620665,
          0.044111964347572086,
          0.16410065769219428,
          1.6083821032898837,
          0.11354087597526949,
          100,
          5.48704811361321,
          6.323426373114588,
          0.0645967542428491,
          1.579359513843464,
          0.5366659210914628,
          0.2603732411725304,
          0.5858027362165303,
          0.4257189946325997,
          15.642256712363164,
          0.4409565952204034,
          0.05291657013468823,
          0.2822068848163387,
          0.07393497250191179,
          0.1456613822727119,
          0.0701107497862956,
          2.8017619290920925,
          0.42789791222638096,
          3.1749793855126294,
          4.00418352178006,
          0.38024335396783115,
          2.5487703271148208,
          0.03766414697821928,
          1.6721487936874828,
          0.3480932025330584,
          2.344085476417367,
          0.41884132277195674,
          1.4454524285222388,
          0.8997447405450169,
          0.23968093531594087,
          5.965327936732534,
          0.9630222861766652,
          0.10068970894255942,
          5.494192591709826,
          28.477504306326757,
          1.4420284151605824,
          2.4809718980402935,
          0.1842445285081722,
          3.9940448848130776,
          0.06601972083470631,
          0.7533570524077114,
          0.7844548014672565,
          7.928280705062159,
          0.13909498435403764,
          0.41621772811822005,
          12.130923598700297,
          1.482301334223873,
          0.21132536145945383,
          2.08231891379031,
          7.009844705430352,
          0.6159221957441737,
          2.0189524327466706,
          0.06716105862192506,
          0.24292707785361503,
          0.09877759758475137,
          1.418356773002292,
          3.4264294403487217,
          0.3904709263468045,
          0.4099626041415146,
          1.3515514560283313,
          0.08348070672228687,
          0.591331554328642,
          0.3913751030353805,
          1.6836511069716615,
          0.8416106262401857,
          1.7759215969123994,
          17.422506499325795,
          3.7655105211333515,
          2.1507843584547706,
          0.12141165993647934,
          0.22238299768367722,
          5.439867877551946,
          0.6028190450441557,
          0.12854131546443034,
          0.8588640961664538,
          0.06845062209579564,
          0.14380856118956448,
          1.1913046661890834,
          0.07807046915949663,
          0.9412924005135131,
          0.19952659680197152,
          0.11143607122481407,
          0.5155734058809134,
          0.8497185713000386,
          0.9081343144095082,
          0.4865804615718237,
          0.22067840228718164,
          1.3615270447399968,
          0.36410157669145143,
          0.2734022790292226,
          16.7311226065072,
          3.9292406146089163,
          0.4469152678238054,
          0.5112896835366767,
          0.1665760266592791,
          1.0035916566132594,
          0.29594740596895946,
          0.5852987688819143,
          0.10532917293476045,
          1.9504425203762146,
          1.3176374189224023,
          0.7957792439274531,
          0.8894134101853874,
          3.8407054119718036,
          0.8710482476092309,
          0.3299800236242099,
          0.21612787370697178,
          26.108324221159247,
          6.273770768086238,
          0.23450785885179345,
          0.21258527979599404,
          0.5987576612298967,
          0.10743397768521579,
          0.054635988099849,
          0.18786123526247583,
          0.5971123561080619,
          0.1227160459790151,
          1.1448655585610785,
          1.1635864627851993,
          0.1611954342338192,
          19.254412938086578,
          5.945169243347891,
          0.1889136376377035,
          0.59736433977537,
          0.17323135998994435,
          0.5412905625149985,
          0.10771560648985415,
          0.20326188410559662,
          18.60373181882256,
          6.124774307863863,
          0.11068012022288995,
          0.43018058780081847,
          0.25328805335057497,
          0.9002635304482982,
          0.25570413204299913,
          47.0674511362907,
          17.75250134551867,
          1.2350905340260214,
          2.54994131003937,
          0.6082144600382808,
          1.2910457307370713,
          0.8437154309906412,
          3.5991716555727153,
          1.57863320797887,
          95.78910093561535,
          42.109894820535004,
          0.7030196092207642,
          0.33444161679242873,
          0.12983087893830092,
          0.4789320161405915,
          0.11816551739880525,
          0.4200715959711666,
          10.920705334894446,
          5.527009758734533,
          0.17176392569209167,
          4.551180773231152,
          2.4449234110465787
         ]
        },
        {
         "hovertemplate": "<b>m/z:</b> %{x};<br><b>Intensity:</b> %{y};<br><b>Ion:</b> %{hovertext}.",
         "hovertext": [
          "y1_+1",
          "y2_+1",
          "b2_+1",
          "y3_+1",
          "b3_+1",
          "y4_+1",
          "b4_+1",
          "b4_+2",
          "y5_+1",
          "b5_+1",
          "b5_+2",
          "y6_+1",
          "b6_+1",
          "b6_+2",
          "y7_+1",
          "b7_+1",
          "b7_+2",
          "y8_+1",
          "b8_+1",
          "b8_+2",
          "y9_+1",
          "b9_+1",
          "y10_+1",
          "y10_+2",
          "b10_+1",
          "y11_+1",
          "y11_+2",
          "b11_+1",
          "y12_+1",
          "y12_+2",
          "b12_+1"
         ],
         "marker": {
          "color": "lightblue",
          "size": 3
         },
         "mode": "markers",
         "name": "",
         "showlegend": false,
         "type": "scatter",
         "x": [
          175.11896,
          232.14041,
          143.0815,
          345.2245,
          214.11862,
          416.2616,
          327.20267,
          164.10498,
          545.3042,
          428.25037,
          214.62881,
          658.38824,
          515.2824,
          258.14484,
          771.4723,
          630.3093,
          315.6583,
          886.49927,
          743.3934,
          372.20035,
          973.5313,
          856.4775,
          1074.579,
          537.7931,
          985.5201,
          1187.6631,
          594.33514,
          1056.5571,
          1258.7002,
          629.8537,
          1169.6412
         ],
         "y": [
          -1.9944956999999999,
          -15.300025,
          -13.627195,
          -8.322782,
          -67.32009599999999,
          -15.832223,
          -23.941295,
          -0.39109619999999995,
          -20.433846,
          -11.445445999999999,
          -0.0700736,
          -30.068564,
          -2.3193207,
          -0.05487133,
          -14.350693,
          -6.9786735,
          -0.091373146,
          -20.525270000000003,
          -5.226955,
          -0.01433533,
          -50.23156399999999,
          -1.9454353,
          -100,
          -2.282732,
          -1.9337429,
          -12.601395000000002,
          -4.805667000000001,
          -0.9185349,
          -4.843226400000001,
          -2.8046576,
          -1.0429648
         ]
        }
       ],
       "layout": {
        "height": 520,
        "hovermode": "closest",
        "legend": {
         "orientation": "h",
         "x": 1,
         "xanchor": "right",
         "y": 1.01,
         "yanchor": "bottom"
        },
        "shapes": [
         {
          "line": {
           "color": "grey",
           "width": 1.5
          },
          "type": "line",
          "x0": 101.07103729248047,
          "x1": 101.07103729248047,
          "xref": "x",
          "y0": 0,
          "y1": 0.06355917443628661,
          "yref": "y"
         },
         {
          "line": {
           "color": "grey",
           "width": 1.5
          },
          "type": "line",
          "x0": 102.05522918701172,
          "x1": 102.05522918701172,
          "xref": "x",
          "y0": 0,
          "y1": 0.3561715024555809,
          "yref": "y"
         },
         {
          "line": {
           "color": "grey",
           "width": 1.5
          },
          "type": "line",
          "x0": 110.0711669921875,
          "x1": 110.0711669921875,
          "xref": "x",
          "y0": 0,
          "y1": 0.4011876434917288,
          "yref": "y"
         },
         {
          "line": {
           "color": "grey",
           "width": 1.5
          },
          "type": "line",
          "x0": 111.33304595947266,
          "x1": 111.33304595947266,
          "xref": "x",
          "y0": 0,
          "y1": 0.11340747285728285,
          "yref": "y"
         },
         {
          "line": {
           "color": "grey",
           "width": 1.5
          },
          "type": "line",
          "x0": 112.08697509765625,
          "x1": 112.08697509765625,
          "xref": "x",
          "y0": 0,
          "y1": 0.10786383217650597,
          "yref": "y"
         },
         {
          "line": {
           "color": "grey",
           "width": 1.5
          },
          "type": "line",
          "x0": 115.08676147460938,
          "x1": 115.08676147460938,
          "xref": "x",
          "y0": 0,
          "y1": 9.746639316062964,
          "yref": "y"
         },
         {
          "line": {
           "color": "grey",
           "width": 1.5
          },
          "type": "line",
          "x0": 120.08071899414062,
          "x1": 120.08071899414062,
          "xref": "x",
          "y0": 0,
          "y1": 2.1231402678942124,
          "yref": "y"
         },
         {
          "line": {
           "color": "grey",
           "width": 1.5
          },
          "type": "line",
          "x0": 129.102783203125,
          "x1": 129.102783203125,
          "xref": "x",
          "y0": 0,
          "y1": 0.11696488933692575,
          "yref": "y"
         },
         {
          "line": {
           "color": "grey",
           "width": 1.5
          },
          "type": "line",
          "x0": 130.06495666503906,
          "x1": 130.06495666503906,
          "xref": "x",
          "y0": 0,
          "y1": 0.16046912836922547,
          "yref": "y"
         },
         {
          "line": {
           "color": "grey",
           "width": 1.5
          },
          "type": "line",
          "x0": 130.08546447753906,
          "x1": 130.08546447753906,
          "xref": "x",
          "y0": 0,
          "y1": 0.08228007866040737,
          "yref": "y"
         },
         {
          "line": {
           "color": "grey",
           "width": 1.5
          },
          "type": "line",
          "x0": 136.0753173828125,
          "x1": 136.0753173828125,
          "xref": "x",
          "y0": 0,
          "y1": 1.32201007667863,
          "yref": "y"
         },
         {
          "line": {
           "color": "grey",
           "width": 1.5
          },
          "type": "line",
          "x0": 141.1020965576172,
          "x1": 141.1020965576172,
          "xref": "x",
          "y0": 0,
          "y1": 0.41457242299638525,
          "yref": "y"
         },
         {
          "line": {
           "color": "grey",
           "width": 1.5
          },
          "type": "line",
          "x0": 142.12277221679688,
          "x1": 142.12277221679688,
          "xref": "x",
          "y0": 0,
          "y1": 0.1388430006867296,
          "yref": "y"
         },
         {
          "line": {
           "color": "grey",
           "width": 1.5
          },
          "type": "line",
          "x0": 143.0813751220703,
          "x1": 143.0813751220703,
          "xref": "x",
          "y0": 0,
          "y1": 39.065680135786586,
          "yref": "y"
         },
         {
          "line": {
           "color": "grey",
           "width": 1.5
          },
          "type": "line",
          "x0": 143.1173095703125,
          "x1": 143.1173095703125,
          "xref": "x",
          "y0": 0,
          "y1": 0.6545053419796342,
          "yref": "y"
         },
         {
          "line": {
           "color": "grey",
           "width": 1.5
          },
          "type": "line",
          "x0": 144.08470153808594,
          "x1": 144.08470153808594,
          "xref": "x",
          "y0": 0,
          "y1": 1.3505435213590993,
          "yref": "y"
         },
         {
          "line": {
           "color": "grey",
           "width": 1.5
          },
          "type": "line",
          "x0": 147.11366271972656,
          "x1": 147.11366271972656,
          "xref": "x",
          "y0": 0,
          "y1": 0.05186416775946057,
          "yref": "y"
         },
         {
          "line": {
           "color": "grey",
           "width": 1.5
          },
          "type": "line",
          "x0": 153.0662384033203,
          "x1": 153.0662384033203,
          "xref": "x",
          "y0": 0,
          "y1": 0.49750469467806047,
          "yref": "y"
         },
         {
          "line": {
           "color": "grey",
           "width": 1.5
          },
          "type": "line",
          "x0": 155.0806121826172,
          "x1": 155.0806121826172,
          "xref": "x",
          "y0": 0,
          "y1": 0.38679492931784026,
          "yref": "y"
         },
         {
          "line": {
           "color": "grey",
           "width": 1.5
          },
          "type": "line",
          "x0": 157.1334686279297,
          "x1": 157.1334686279297,
          "xref": "x",
          "y0": 0,
          "y1": 21.679696445651793,
          "yref": "y"
         },
         {
          "line": {
           "color": "grey",
           "width": 1.5
          },
          "type": "line",
          "x0": 158.09278869628906,
          "x1": 158.09278869628906,
          "xref": "x",
          "y0": 0,
          "y1": 0.4365542923268454,
          "yref": "y"
         },
         {
          "line": {
           "color": "grey",
           "width": 1.5
          },
          "type": "line",
          "x0": 158.1370849609375,
          "x1": 158.1370849609375,
          "xref": "x",
          "y0": 0,
          "y1": 0.8970915007539499,
          "yref": "y"
         },
         {
          "line": {
           "color": "grey",
           "width": 1.5
          },
          "type": "line",
          "x0": 159.07765197753906,
          "x1": 159.07765197753906,
          "xref": "x",
          "y0": 0,
          "y1": 0.05235331252541149,
          "yref": "y"
         },
         {
          "line": {
           "color": "grey",
           "width": 1.5
          },
          "type": "line",
          "x0": 159.0916290283203,
          "x1": 159.0916290283203,
          "xref": "x",
          "y0": 0,
          "y1": 0.5612862076443248,
          "yref": "y"
         },
         {
          "line": {
           "color": "grey",
           "width": 1.5
          },
          "type": "line",
          "x0": 161.0919189453125,
          "x1": 161.0919189453125,
          "xref": "x",
          "y0": 0,
          "y1": 0.13697535703491712,
          "yref": "y"
         },
         {
          "line": {
           "color": "grey",
           "width": 1.5
          },
          "type": "line",
          "x0": 169.08047485351562,
          "x1": 169.08047485351562,
          "xref": "x",
          "y0": 0,
          "y1": 0.5321746827859136,
          "yref": "y"
         },
         {
          "line": {
           "color": "grey",
           "width": 1.5
          },
          "type": "line",
          "x0": 169.09693908691406,
          "x1": 169.09693908691406,
          "xref": "x",
          "y0": 0,
          "y1": 17.478061486682886,
          "yref": "y"
         },
         {
          "line": {
           "color": "grey",
           "width": 1.5
          },
          "type": "line",
          "x0": 170.10011291503906,
          "x1": 170.10011291503906,
          "xref": "x",
          "y0": 0,
          "y1": 0.28445991525344594,
          "yref": "y"
         },
         {
          "line": {
           "color": "grey",
           "width": 1.5
          },
          "type": "line",
          "x0": 171.07623291015625,
          "x1": 171.07623291015625,
          "xref": "x",
          "y0": 0,
          "y1": 1.070708247529189,
          "yref": "y"
         },
         {
          "line": {
           "color": "grey",
           "width": 1.5
          },
          "type": "line",
          "x0": 171.11361694335938,
          "x1": 171.11361694335938,
          "xref": "x",
          "y0": 0,
          "y1": 0.007100010390620644,
          "yref": "y"
         },
         {
          "line": {
           "color": "grey",
           "width": 1.5
          },
          "type": "line",
          "x0": 172.1082305908203,
          "x1": 172.1082305908203,
          "xref": "x",
          "y0": 0,
          "y1": 0.07220073196808584,
          "yref": "y"
         },
         {
          "line": {
           "color": "grey",
           "width": 1.5
          },
          "type": "line",
          "x0": 173.0914764404297,
          "x1": 173.0914764404297,
          "xref": "x",
          "y0": 0,
          "y1": 0.7077331860562911,
          "yref": "y"
         },
         {
          "line": {
           "color": "grey",
           "width": 1.5
          },
          "type": "line",
          "x0": 175.1188507080078,
          "x1": 175.1188507080078,
          "xref": "x",
          "y0": 0,
          "y1": 5.743078342166844,
          "yref": "y"
         },
         {
          "line": {
           "color": "grey",
           "width": 1.5
          },
          "type": "line",
          "x0": 183.14932250976562,
          "x1": 183.14932250976562,
          "xref": "x",
          "y0": 0,
          "y1": 0.48188170730496205,
          "yref": "y"
         },
         {
          "line": {
           "color": "grey",
           "width": 1.5
          },
          "type": "line",
          "x0": 185.12823486328125,
          "x1": 185.12823486328125,
          "xref": "x",
          "y0": 0,
          "y1": 7.785628304228479,
          "yref": "y"
         },
         {
          "line": {
           "color": "grey",
           "width": 1.5
          },
          "type": "line",
          "x0": 186.12887573242188,
          "x1": 186.12887573242188,
          "xref": "x",
          "y0": 0,
          "y1": 0,
          "yref": "y"
         },
         {
          "line": {
           "color": "grey",
           "width": 1.5
          },
          "type": "line",
          "x0": 187.14381408691406,
          "x1": 187.14381408691406,
          "xref": "x",
          "y0": 0,
          "y1": 3.2759951909658227,
          "yref": "y"
         },
         {
          "line": {
           "color": "grey",
           "width": 1.5
          },
          "type": "line",
          "x0": 189.08665466308594,
          "x1": 189.08665466308594,
          "xref": "x",
          "y0": 0,
          "y1": 0.9039691726145931,
          "yref": "y"
         },
         {
          "line": {
           "color": "grey",
           "width": 1.5
          },
          "type": "line",
          "x0": 196.10699462890625,
          "x1": 196.10699462890625,
          "xref": "x",
          "y0": 0,
          "y1": 0.0687470734690992,
          "yref": "y"
         },
         {
          "line": {
           "color": "grey",
           "width": 1.5
          },
          "type": "line",
          "x0": 197.12796020507812,
          "x1": 197.12796020507812,
          "xref": "x",
          "y0": 0,
          "y1": 0.9800385950042904,
          "yref": "y"
         },
         {
          "line": {
           "color": "grey",
           "width": 1.5
          },
          "type": "line",
          "x0": 199.1077117919922,
          "x1": 199.1077117919922,
          "xref": "x",
          "y0": 0,
          "y1": 0.05331677948864806,
          "yref": "y"
         },
         {
          "line": {
           "color": "grey",
           "width": 1.5
          },
          "type": "line",
          "x0": 199.17942810058594,
          "x1": 199.17942810058594,
          "xref": "x",
          "y0": 0,
          "y1": 0.17890840378870787,
          "yref": "y"
         },
         {
          "line": {
           "color": "grey",
           "width": 1.5
          },
          "type": "line",
          "x0": 201.12210083007812,
          "x1": 201.12210083007812,
          "xref": "x",
          "y0": 0,
          "y1": 0.41635113123620665,
          "yref": "y"
         },
         {
          "line": {
           "color": "grey",
           "width": 1.5
          },
          "type": "line",
          "x0": 203.06613159179688,
          "x1": 203.06613159179688,
          "xref": "x",
          "y0": 0,
          "y1": 0.044111964347572086,
          "yref": "y"
         },
         {
          "line": {
           "color": "grey",
           "width": 1.5
          },
          "type": "line",
          "x0": 203.13784790039062,
          "x1": 203.13784790039062,
          "xref": "x",
          "y0": 0,
          "y1": 0.16410065769219428,
          "yref": "y"
         },
         {
          "line": {
           "color": "grey",
           "width": 1.5
          },
          "type": "line",
          "x0": 211.14389038085938,
          "x1": 211.14389038085938,
          "xref": "x",
          "y0": 0,
          "y1": 1.6083821032898837,
          "yref": "y"
         },
         {
          "line": {
           "color": "grey",
           "width": 1.5
          },
          "type": "line",
          "x0": 213.16006469726562,
          "x1": 213.16006469726562,
          "xref": "x",
          "y0": 0,
          "y1": 0.11354087597526949,
          "yref": "y"
         },
         {
          "line": {
           "color": "grey",
           "width": 1.5
          },
          "type": "line",
          "x0": 214.1183319091797,
          "x1": 214.1183319091797,
          "xref": "x",
          "y0": 0,
          "y1": 100,
          "yref": "y"
         },
         {
          "line": {
           "color": "grey",
           "width": 1.5
          },
          "type": "line",
          "x0": 215.11972045898438,
          "x1": 215.11972045898438,
          "xref": "x",
          "y0": 0,
          "y1": 5.48704811361321,
          "yref": "y"
         },
         {
          "line": {
           "color": "grey",
           "width": 1.5
          },
          "type": "line",
          "x0": 215.13931274414062,
          "x1": 215.13931274414062,
          "xref": "x",
          "y0": 0,
          "y1": 6.323426373114588,
          "yref": "y"
         },
         {
          "line": {
           "color": "grey",
           "width": 1.5
          },
          "type": "line",
          "x0": 216.14149475097656,
          "x1": 216.14149475097656,
          "xref": "x",
          "y0": 0,
          "y1": 0.0645967542428491,
          "yref": "y"
         },
         {
          "line": {
           "color": "grey",
           "width": 1.5
          },
          "type": "line",
          "x0": 226.11911010742188,
          "x1": 226.11911010742188,
          "xref": "x",
          "y0": 0,
          "y1": 1.579359513843464,
          "yref": "y"
         },
         {
          "line": {
           "color": "grey",
           "width": 1.5
          },
          "type": "line",
          "x0": 227.17572021484375,
          "x1": 227.17572021484375,
          "xref": "x",
          "y0": 0,
          "y1": 0.5366659210914628,
          "yref": "y"
         },
         {
          "line": {
           "color": "grey",
           "width": 1.5
          },
          "type": "line",
          "x0": 228.16934204101562,
          "x1": 228.16934204101562,
          "xref": "x",
          "y0": 0,
          "y1": 0.2603732411725304,
          "yref": "y"
         },
         {
          "line": {
           "color": "grey",
           "width": 1.5
          },
          "type": "line",
          "x0": 229.11692810058594,
          "x1": 229.11692810058594,
          "xref": "x",
          "y0": 0,
          "y1": 0.5858027362165303,
          "yref": "y"
         },
         {
          "line": {
           "color": "grey",
           "width": 1.5
          },
          "type": "line",
          "x0": 230.11309814453125,
          "x1": 230.11309814453125,
          "xref": "x",
          "y0": 0,
          "y1": 0.4257189946325997,
          "yref": "y"
         },
         {
          "line": {
           "color": "grey",
           "width": 1.5
          },
          "type": "line",
          "x0": 232.14019775390625,
          "x1": 232.14019775390625,
          "xref": "x",
          "y0": 0,
          "y1": 15.642256712363164,
          "yref": "y"
         },
         {
          "line": {
           "color": "grey",
           "width": 1.5
          },
          "type": "line",
          "x0": 233.14337158203125,
          "x1": 233.14337158203125,
          "xref": "x",
          "y0": 0,
          "y1": 0.4409565952204034,
          "yref": "y"
         },
         {
          "line": {
           "color": "grey",
           "width": 1.5
          },
          "type": "line",
          "x0": 238.15509033203125,
          "x1": 238.15509033203125,
          "xref": "x",
          "y0": 0,
          "y1": 0.05291657013468823,
          "yref": "y"
         },
         {
          "line": {
           "color": "grey",
           "width": 1.5
          },
          "type": "line",
          "x0": 241.15399169921875,
          "x1": 241.15399169921875,
          "xref": "x",
          "y0": 0,
          "y1": 0.2822068848163387,
          "yref": "y"
         },
         {
          "line": {
           "color": "grey",
           "width": 1.5
          },
          "type": "line",
          "x0": 242.1150665283203,
          "x1": 242.1150665283203,
          "xref": "x",
          "y0": 0,
          "y1": 0.07393497250191179,
          "yref": "y"
         },
         {
          "line": {
           "color": "grey",
           "width": 1.5
          },
          "type": "line",
          "x0": 242.1466064453125,
          "x1": 242.1466064453125,
          "xref": "x",
          "y0": 0,
          "y1": 0.1456613822727119,
          "yref": "y"
         },
         {
          "line": {
           "color": "grey",
           "width": 1.5
          },
          "type": "line",
          "x0": 243.09547424316406,
          "x1": 243.09547424316406,
          "xref": "x",
          "y0": 0,
          "y1": 0.0701107497862956,
          "yref": "y"
         },
         {
          "line": {
           "color": "grey",
           "width": 1.5
          },
          "type": "line",
          "x0": 244.12904357910156,
          "x1": 244.12904357910156,
          "xref": "x",
          "y0": 0,
          "y1": 2.8017619290920925,
          "yref": "y"
         },
         {
          "line": {
           "color": "grey",
           "width": 1.5
          },
          "type": "line",
          "x0": 255.14968872070312,
          "x1": 255.14968872070312,
          "xref": "x",
          "y0": 0,
          "y1": 0.42789791222638096,
          "yref": "y"
         },
         {
          "line": {
           "color": "grey",
           "width": 1.5
          },
          "type": "line",
          "x0": 256.1650390625,
          "x1": 256.1650390625,
          "xref": "x",
          "y0": 0,
          "y1": 3.1749793855126294,
          "yref": "y"
         },
         {
          "line": {
           "color": "grey",
           "width": 1.5
          },
          "type": "line",
          "x0": 268.1651611328125,
          "x1": 268.1651611328125,
          "xref": "x",
          "y0": 0,
          "y1": 4.00418352178006,
          "yref": "y"
         },
         {
          "line": {
           "color": "grey",
           "width": 1.5
          },
          "type": "line",
          "x0": 269.167236328125,
          "x1": 269.167236328125,
          "xref": "x",
          "y0": 0,
          "y1": 0.38024335396783115,
          "yref": "y"
         },
         {
          "line": {
           "color": "grey",
           "width": 1.5
          },
          "type": "line",
          "x0": 270.1444091796875,
          "x1": 270.1444091796875,
          "xref": "x",
          "y0": 0,
          "y1": 2.5487703271148208,
          "yref": "y"
         },
         {
          "line": {
           "color": "grey",
           "width": 1.5
          },
          "type": "line",
          "x0": 271.1393737792969,
          "x1": 271.1393737792969,
          "xref": "x",
          "y0": 0,
          "y1": 0.03766414697821928,
          "yref": "y"
         },
         {
          "line": {
           "color": "grey",
           "width": 1.5
          },
          "type": "line",
          "x0": 272.1769104003906,
          "x1": 272.1769104003906,
          "xref": "x",
          "y0": 0,
          "y1": 1.6721487936874828,
          "yref": "y"
         },
         {
          "line": {
           "color": "grey",
           "width": 1.5
          },
          "type": "line",
          "x0": 281.1961669921875,
          "x1": 281.1961669921875,
          "xref": "x",
          "y0": 0,
          "y1": 0.3480932025330584,
          "yref": "y"
         },
         {
          "line": {
           "color": "grey",
           "width": 1.5
          },
          "type": "line",
          "x0": 282.1806335449219,
          "x1": 282.1806335449219,
          "xref": "x",
          "y0": 0,
          "y1": 2.344085476417367,
          "yref": "y"
         },
         {
          "line": {
           "color": "grey",
           "width": 1.5
          },
          "type": "line",
          "x0": 283.1418151855469,
          "x1": 283.1418151855469,
          "xref": "x",
          "y0": 0,
          "y1": 0.41884132277195674,
          "yref": "y"
         },
         {
          "line": {
           "color": "grey",
           "width": 1.5
          },
          "type": "line",
          "x0": 284.1585998535156,
          "x1": 284.1585998535156,
          "xref": "x",
          "y0": 0,
          "y1": 1.4454524285222388,
          "yref": "y"
         },
         {
          "line": {
           "color": "grey",
           "width": 1.5
          },
          "type": "line",
          "x0": 286.1020202636719,
          "x1": 286.1020202636719,
          "xref": "x",
          "y0": 0,
          "y1": 0.8997447405450169,
          "yref": "y"
         },
         {
          "line": {
           "color": "grey",
           "width": 1.5
          },
          "type": "line",
          "x0": 286.1396484375,
          "x1": 286.1396484375,
          "xref": "x",
          "y0": 0,
          "y1": 0.23968093531594087,
          "yref": "y"
         },
         {
          "line": {
           "color": "grey",
           "width": 1.5
          },
          "type": "line",
          "x0": 286.1756286621094,
          "x1": 286.1756286621094,
          "xref": "x",
          "y0": 0,
          "y1": 5.965327936732534,
          "yref": "y"
         },
         {
          "line": {
           "color": "grey",
           "width": 1.5
          },
          "type": "line",
          "x0": 287.1747741699219,
          "x1": 287.1747741699219,
          "xref": "x",
          "y0": 0,
          "y1": 0.9630222861766652,
          "yref": "y"
         },
         {
          "line": {
           "color": "grey",
           "width": 1.5
          },
          "type": "line",
          "x0": 294.1817321777344,
          "x1": 294.1817321777344,
          "xref": "x",
          "y0": 0,
          "y1": 0.10068970894255942,
          "yref": "y"
         },
         {
          "line": {
           "color": "grey",
           "width": 1.5
          },
          "type": "line",
          "x0": 297.15484619140625,
          "x1": 297.15484619140625,
          "xref": "x",
          "y0": 0,
          "y1": 5.494192591709826,
          "yref": "y"
         },
         {
          "line": {
           "color": "grey",
           "width": 1.5
          },
          "type": "line",
          "x0": 299.2074279785156,
          "x1": 299.2074279785156,
          "xref": "x",
          "y0": 0,
          "y1": 28.477504306326757,
          "yref": "y"
         },
         {
          "line": {
           "color": "grey",
           "width": 1.5
          },
          "type": "line",
          "x0": 300.1697692871094,
          "x1": 300.1697692871094,
          "xref": "x",
          "y0": 0,
          "y1": 1.4420284151605824,
          "yref": "y"
         },
         {
          "line": {
           "color": "grey",
           "width": 1.5
          },
          "type": "line",
          "x0": 300.2109375,
          "x1": 300.2109375,
          "xref": "x",
          "y0": 0,
          "y1": 2.4809718980402935,
          "yref": "y"
         },
         {
          "line": {
           "color": "grey",
           "width": 1.5
          },
          "type": "line",
          "x0": 302.171630859375,
          "x1": 302.171630859375,
          "xref": "x",
          "y0": 0,
          "y1": 0.1842445285081722,
          "yref": "y"
         },
         {
          "line": {
           "color": "grey",
           "width": 1.5
          },
          "type": "line",
          "x0": 304.11358642578125,
          "x1": 304.11358642578125,
          "xref": "x",
          "y0": 0,
          "y1": 3.9940448848130776,
          "yref": "y"
         },
         {
          "line": {
           "color": "grey",
           "width": 1.5
          },
          "type": "line",
          "x0": 312.1933288574219,
          "x1": 312.1933288574219,
          "xref": "x",
          "y0": 0,
          "y1": 0.06601972083470631,
          "yref": "y"
         },
         {
          "line": {
           "color": "grey",
           "width": 1.5
          },
          "type": "line",
          "x0": 313.1502990722656,
          "x1": 313.1502990722656,
          "xref": "x",
          "y0": 0,
          "y1": 0.7533570524077114,
          "yref": "y"
         },
         {
          "line": {
           "color": "grey",
           "width": 1.5
          },
          "type": "line",
          "x0": 314.17059326171875,
          "x1": 314.17059326171875,
          "xref": "x",
          "y0": 0,
          "y1": 0.7844548014672565,
          "yref": "y"
         },
         {
          "line": {
           "color": "grey",
           "width": 1.5
          },
          "type": "line",
          "x0": 315.1658935546875,
          "x1": 315.1658935546875,
          "xref": "x",
          "y0": 0,
          "y1": 7.928280705062159,
          "yref": "y"
         },
         {
          "line": {
           "color": "grey",
           "width": 1.5
          },
          "type": "line",
          "x0": 315.207275390625,
          "x1": 315.207275390625,
          "xref": "x",
          "y0": 0,
          "y1": 0.13909498435403764,
          "yref": "y"
         },
         {
          "line": {
           "color": "grey",
           "width": 1.5
          },
          "type": "line",
          "x0": 316.1553039550781,
          "x1": 316.1553039550781,
          "xref": "x",
          "y0": 0,
          "y1": 0.41621772811822005,
          "yref": "y"
         },
         {
          "line": {
           "color": "grey",
           "width": 1.5
          },
          "type": "line",
          "x0": 327.2018127441406,
          "x1": 327.2018127441406,
          "xref": "x",
          "y0": 0,
          "y1": 12.130923598700297,
          "yref": "y"
         },
         {
          "line": {
           "color": "grey",
           "width": 1.5
          },
          "type": "line",
          "x0": 328.2027282714844,
          "x1": 328.2027282714844,
          "xref": "x",
          "y0": 0,
          "y1": 1.482301334223873,
          "yref": "y"
         },
         {
          "line": {
           "color": "grey",
           "width": 1.5
          },
          "type": "line",
          "x0": 337.18524169921875,
          "x1": 337.18524169921875,
          "xref": "x",
          "y0": 0,
          "y1": 0.21132536145945383,
          "yref": "y"
         },
         {
          "line": {
           "color": "grey",
           "width": 1.5
          },
          "type": "line",
          "x0": 339.2023620605469,
          "x1": 339.2023620605469,
          "xref": "x",
          "y0": 0,
          "y1": 2.08231891379031,
          "yref": "y"
         },
         {
          "line": {
           "color": "grey",
           "width": 1.5
          },
          "type": "line",
          "x0": 345.2239074707031,
          "x1": 345.2239074707031,
          "xref": "x",
          "y0": 0,
          "y1": 7.009844705430352,
          "yref": "y"
         },
         {
          "line": {
           "color": "grey",
           "width": 1.5
          },
          "type": "line",
          "x0": 355.195556640625,
          "x1": 355.195556640625,
          "xref": "x",
          "y0": 0,
          "y1": 0.6159221957441737,
          "yref": "y"
         },
         {
          "line": {
           "color": "grey",
           "width": 1.5
          },
          "type": "line",
          "x0": 357.2144775390625,
          "x1": 357.2144775390625,
          "xref": "x",
          "y0": 0,
          "y1": 2.0189524327466706,
          "yref": "y"
         },
         {
          "line": {
           "color": "grey",
           "width": 1.5
          },
          "type": "line",
          "x0": 366.1735534667969,
          "x1": 366.1735534667969,
          "xref": "x",
          "y0": 0,
          "y1": 0.06716105862192506,
          "yref": "y"
         },
         {
          "line": {
           "color": "grey",
           "width": 1.5
          },
          "type": "line",
          "x0": 371.2001037597656,
          "x1": 371.2001037597656,
          "xref": "x",
          "y0": 0,
          "y1": 0.24292707785361503,
          "yref": "y"
         },
         {
          "line": {
           "color": "grey",
           "width": 1.5
          },
          "type": "line",
          "x0": 382.2425231933594,
          "x1": 382.2425231933594,
          "xref": "x",
          "y0": 0,
          "y1": 0.09877759758475137,
          "yref": "y"
         },
         {
          "line": {
           "color": "grey",
           "width": 1.5
          },
          "type": "line",
          "x0": 383.22918701171875,
          "x1": 383.22918701171875,
          "xref": "x",
          "y0": 0,
          "y1": 1.418356773002292,
          "yref": "y"
         },
         {
          "line": {
           "color": "grey",
           "width": 1.5
          },
          "type": "line",
          "x0": 384.1868896484375,
          "x1": 384.1868896484375,
          "xref": "x",
          "y0": 0,
          "y1": 3.4264294403487217,
          "yref": "y"
         },
         {
          "line": {
           "color": "grey",
           "width": 1.5
          },
          "type": "line",
          "x0": 385.1949157714844,
          "x1": 385.1949157714844,
          "xref": "x",
          "y0": 0,
          "y1": 0.3904709263468045,
          "yref": "y"
         },
         {
          "line": {
           "color": "grey",
           "width": 1.5
          },
          "type": "line",
          "x0": 387.1935729980469,
          "x1": 387.1935729980469,
          "xref": "x",
          "y0": 0,
          "y1": 0.4099626041415146,
          "yref": "y"
         },
         {
          "line": {
           "color": "grey",
           "width": 1.5
          },
          "type": "line",
          "x0": 389.20184326171875,
          "x1": 389.20184326171875,
          "xref": "x",
          "y0": 0,
          "y1": 1.3515514560283313,
          "yref": "y"
         },
         {
          "line": {
           "color": "grey",
           "width": 1.5
          },
          "type": "line",
          "x0": 395.2669982910156,
          "x1": 395.2669982910156,
          "xref": "x",
          "y0": 0,
          "y1": 0.08348070672228687,
          "yref": "y"
         },
         {
          "line": {
           "color": "grey",
           "width": 1.5
          },
          "type": "line",
          "x0": 399.18304443359375,
          "x1": 399.18304443359375,
          "xref": "x",
          "y0": 0,
          "y1": 0.591331554328642,
          "yref": "y"
         },
         {
          "line": {
           "color": "grey",
           "width": 1.5
          },
          "type": "line",
          "x0": 399.23590087890625,
          "x1": 399.23590087890625,
          "xref": "x",
          "y0": 0,
          "y1": 0.3913751030353805,
          "yref": "y"
         },
         {
          "line": {
           "color": "grey",
           "width": 1.5
          },
          "type": "line",
          "x0": 400.256591796875,
          "x1": 400.256591796875,
          "xref": "x",
          "y0": 0,
          "y1": 1.6836511069716615,
          "yref": "y"
         },
         {
          "line": {
           "color": "grey",
           "width": 1.5
          },
          "type": "line",
          "x0": 402.19915771484375,
          "x1": 402.19915771484375,
          "xref": "x",
          "y0": 0,
          "y1": 0.8416106262401857,
          "yref": "y"
         },
         {
          "line": {
           "color": "grey",
           "width": 1.5
          },
          "type": "line",
          "x0": 410.23748779296875,
          "x1": 410.23748779296875,
          "xref": "x",
          "y0": 0,
          "y1": 1.7759215969123994,
          "yref": "y"
         },
         {
          "line": {
           "color": "grey",
           "width": 1.5
          },
          "type": "line",
          "x0": 416.26104736328125,
          "x1": 416.26104736328125,
          "xref": "x",
          "y0": 0,
          "y1": 17.422506499325795,
          "yref": "y"
         },
         {
          "line": {
           "color": "grey",
           "width": 1.5
          },
          "type": "line",
          "x0": 417.19793701171875,
          "x1": 417.19793701171875,
          "xref": "x",
          "y0": 0,
          "y1": 3.7655105211333515,
          "yref": "y"
         },
         {
          "line": {
           "color": "grey",
           "width": 1.5
          },
          "type": "line",
          "x0": 417.2638244628906,
          "x1": 417.2638244628906,
          "xref": "x",
          "y0": 0,
          "y1": 2.1507843584547706,
          "yref": "y"
         },
         {
          "line": {
           "color": "grey",
           "width": 1.5
          },
          "type": "line",
          "x0": 426.2356262207031,
          "x1": 426.2356262207031,
          "xref": "x",
          "y0": 0,
          "y1": 0.12141165993647934,
          "yref": "y"
         },
         {
          "line": {
           "color": "grey",
           "width": 1.5
          },
          "type": "line",
          "x0": 427.2550964355469,
          "x1": 427.2550964355469,
          "xref": "x",
          "y0": 0,
          "y1": 0.22238299768367722,
          "yref": "y"
         },
         {
          "line": {
           "color": "grey",
           "width": 1.5
          },
          "type": "line",
          "x0": 428.250244140625,
          "x1": 428.250244140625,
          "xref": "x",
          "y0": 0,
          "y1": 5.439867877551946,
          "yref": "y"
         },
         {
          "line": {
           "color": "grey",
           "width": 1.5
          },
          "type": "line",
          "x0": 429.2529296875,
          "x1": 429.2529296875,
          "xref": "x",
          "y0": 0,
          "y1": 0.6028190450441557,
          "yref": "y"
         },
         {
          "line": {
           "color": "grey",
           "width": 1.5
          },
          "type": "line",
          "x0": 452.2121887207031,
          "x1": 452.2121887207031,
          "xref": "x",
          "y0": 0,
          "y1": 0.12854131546443034,
          "yref": "y"
         },
         {
          "line": {
           "color": "grey",
           "width": 1.5
          },
          "type": "line",
          "x0": 470.2275390625,
          "x1": 470.2275390625,
          "xref": "x",
          "y0": 0,
          "y1": 0.8588640961664538,
          "yref": "y"
         },
         {
          "line": {
           "color": "grey",
           "width": 1.5
          },
          "type": "line",
          "x0": 471.2292175292969,
          "x1": 471.2292175292969,
          "xref": "x",
          "y0": 0,
          "y1": 0.06845062209579564,
          "yref": "y"
         },
         {
          "line": {
           "color": "grey",
           "width": 1.5
          },
          "type": "line",
          "x0": 479.2589111328125,
          "x1": 479.2589111328125,
          "xref": "x",
          "y0": 0,
          "y1": 0.14380856118956448,
          "yref": "y"
         },
         {
          "line": {
           "color": "grey",
           "width": 1.5
          },
          "type": "line",
          "x0": 488.2354431152344,
          "x1": 488.2354431152344,
          "xref": "x",
          "y0": 0,
          "y1": 1.1913046661890834,
          "yref": "y"
         },
         {
          "line": {
           "color": "grey",
           "width": 1.5
          },
          "type": "line",
          "x0": 494.263671875,
          "x1": 494.263671875,
          "xref": "x",
          "y0": 0,
          "y1": 0.07807046915949663,
          "yref": "y"
         },
         {
          "line": {
           "color": "grey",
           "width": 1.5
          },
          "type": "line",
          "x0": 497.26995849609375,
          "x1": 497.26995849609375,
          "xref": "x",
          "y0": 0,
          "y1": 0.9412924005135131,
          "yref": "y"
         },
         {
          "line": {
           "color": "grey",
           "width": 1.5
          },
          "type": "line",
          "x0": 499.2171325683594,
          "x1": 499.2171325683594,
          "xref": "x",
          "y0": 0,
          "y1": 0.19952659680197152,
          "yref": "y"
         },
         {
          "line": {
           "color": "grey",
           "width": 1.5
          },
          "type": "line",
          "x0": 500.2701110839844,
          "x1": 500.2701110839844,
          "xref": "x",
          "y0": 0,
          "y1": 0.11143607122481407,
          "yref": "y"
         },
         {
          "line": {
           "color": "grey",
           "width": 1.5
          },
          "type": "line",
          "x0": 502.2876892089844,
          "x1": 502.2876892089844,
          "xref": "x",
          "y0": 0,
          "y1": 0.5155734058809134,
          "yref": "y"
         },
         {
          "line": {
           "color": "grey",
           "width": 1.5
          },
          "type": "line",
          "x0": 512.2696533203125,
          "x1": 512.2696533203125,
          "xref": "x",
          "y0": 0,
          "y1": 0.8497185713000386,
          "yref": "y"
         },
         {
          "line": {
           "color": "grey",
           "width": 1.5
          },
          "type": "line",
          "x0": 515.2791137695312,
          "x1": 515.2791137695312,
          "xref": "x",
          "y0": 0,
          "y1": 0.9081343144095082,
          "yref": "y"
         },
         {
          "line": {
           "color": "grey",
           "width": 1.5
          },
          "type": "line",
          "x0": 527.2913818359375,
          "x1": 527.2913818359375,
          "xref": "x",
          "y0": 0,
          "y1": 0.4865804615718237,
          "yref": "y"
         },
         {
          "line": {
           "color": "grey",
           "width": 1.5
          },
          "type": "line",
          "x0": 529.282958984375,
          "x1": 529.282958984375,
          "xref": "x",
          "y0": 0,
          "y1": 0.22067840228718164,
          "yref": "y"
         },
         {
          "line": {
           "color": "grey",
           "width": 1.5
          },
          "type": "line",
          "x0": 530.2824096679688,
          "x1": 530.2824096679688,
          "xref": "x",
          "y0": 0,
          "y1": 1.3615270447399968,
          "yref": "y"
         },
         {
          "line": {
           "color": "grey",
           "width": 1.5
          },
          "type": "line",
          "x0": 537.7891845703125,
          "x1": 537.7891845703125,
          "xref": "x",
          "y0": 0,
          "y1": 0.36410157669145143,
          "yref": "y"
         },
         {
          "line": {
           "color": "grey",
           "width": 1.5
          },
          "type": "line",
          "x0": 541.262451171875,
          "x1": 541.262451171875,
          "xref": "x",
          "y0": 0,
          "y1": 0.2734022790292226,
          "yref": "y"
         },
         {
          "line": {
           "color": "grey",
           "width": 1.5
          },
          "type": "line",
          "x0": 545.3040771484375,
          "x1": 545.3040771484375,
          "xref": "x",
          "y0": 0,
          "y1": 16.7311226065072,
          "yref": "y"
         },
         {
          "line": {
           "color": "grey",
           "width": 1.5
          },
          "type": "line",
          "x0": 546.30810546875,
          "x1": 546.30810546875,
          "xref": "x",
          "y0": 0,
          "y1": 3.9292406146089163,
          "yref": "y"
         },
         {
          "line": {
           "color": "grey",
           "width": 1.5
          },
          "type": "line",
          "x0": 559.272705078125,
          "x1": 559.272705078125,
          "xref": "x",
          "y0": 0,
          "y1": 0.4469152678238054,
          "yref": "y"
         },
         {
          "line": {
           "color": "grey",
           "width": 1.5
          },
          "type": "line",
          "x0": 583.3099975585938,
          "x1": 583.3099975585938,
          "xref": "x",
          "y0": 0,
          "y1": 0.5112896835366767,
          "yref": "y"
         },
         {
          "line": {
           "color": "grey",
           "width": 1.5
          },
          "type": "line",
          "x0": 584.3113403320312,
          "x1": 584.3113403320312,
          "xref": "x",
          "y0": 0,
          "y1": 0.1665760266592791,
          "yref": "y"
         },
         {
          "line": {
           "color": "grey",
           "width": 1.5
          },
          "type": "line",
          "x0": 585.327880859375,
          "x1": 585.327880859375,
          "xref": "x",
          "y0": 0,
          "y1": 1.0035916566132594,
          "yref": "y"
         },
         {
          "line": {
           "color": "grey",
           "width": 1.5
          },
          "type": "line",
          "x0": 585.8253784179688,
          "x1": 585.8253784179688,
          "xref": "x",
          "y0": 0,
          "y1": 0.29594740596895946,
          "yref": "y"
         },
         {
          "line": {
           "color": "grey",
           "width": 1.5
          },
          "type": "line",
          "x0": 601.3194580078125,
          "x1": 601.3194580078125,
          "xref": "x",
          "y0": 0,
          "y1": 0.5852987688819143,
          "yref": "y"
         },
         {
          "line": {
           "color": "grey",
           "width": 1.5
          },
          "type": "line",
          "x0": 602.3258666992188,
          "x1": 602.3258666992188,
          "xref": "x",
          "y0": 0,
          "y1": 0.10532917293476045,
          "yref": "y"
         },
         {
          "line": {
           "color": "grey",
           "width": 1.5
          },
          "type": "line",
          "x0": 612.2994995117188,
          "x1": 612.2994995117188,
          "xref": "x",
          "y0": 0,
          "y1": 1.9504425203762146,
          "yref": "y"
         },
         {
          "line": {
           "color": "grey",
           "width": 1.5
          },
          "type": "line",
          "x0": 620.8479614257812,
          "x1": 620.8479614257812,
          "xref": "x",
          "y0": 0,
          "y1": 1.3176374189224023,
          "yref": "y"
         },
         {
          "line": {
           "color": "grey",
           "width": 1.5
          },
          "type": "line",
          "x0": 621.3533935546875,
          "x1": 621.3533935546875,
          "xref": "x",
          "y0": 0,
          "y1": 0.7957792439274531,
          "yref": "y"
         },
         {
          "line": {
           "color": "grey",
           "width": 1.5
          },
          "type": "line",
          "x0": 629.3179321289062,
          "x1": 629.3179321289062,
          "xref": "x",
          "y0": 0,
          "y1": 0.8894134101853874,
          "yref": "y"
         },
         {
          "line": {
           "color": "grey",
           "width": 1.5
          },
          "type": "line",
          "x0": 630.3096313476562,
          "x1": 630.3096313476562,
          "xref": "x",
          "y0": 0,
          "y1": 3.8407054119718036,
          "yref": "y"
         },
         {
          "line": {
           "color": "grey",
           "width": 1.5
          },
          "type": "line",
          "x0": 631.3141479492188,
          "x1": 631.3141479492188,
          "xref": "x",
          "y0": 0,
          "y1": 0.8710482476092309,
          "yref": "y"
         },
         {
          "line": {
           "color": "grey",
           "width": 1.5
          },
          "type": "line",
          "x0": 647.3463134765625,
          "x1": 647.3463134765625,
          "xref": "x",
          "y0": 0,
          "y1": 0.3299800236242099,
          "yref": "y"
         },
         {
          "line": {
           "color": "grey",
           "width": 1.5
          },
          "type": "line",
          "x0": 654.34912109375,
          "x1": 654.34912109375,
          "xref": "x",
          "y0": 0,
          "y1": 0.21612787370697178,
          "yref": "y"
         },
         {
          "line": {
           "color": "grey",
           "width": 1.5
          },
          "type": "line",
          "x0": 658.3878173828125,
          "x1": 658.3878173828125,
          "xref": "x",
          "y0": 0,
          "y1": 26.108324221159247,
          "yref": "y"
         },
         {
          "line": {
           "color": "grey",
           "width": 1.5
          },
          "type": "line",
          "x0": 659.3941040039062,
          "x1": 659.3941040039062,
          "xref": "x",
          "y0": 0,
          "y1": 6.273770768086238,
          "yref": "y"
         },
         {
          "line": {
           "color": "grey",
           "width": 1.5
          },
          "type": "line",
          "x0": 668.370849609375,
          "x1": 668.370849609375,
          "xref": "x",
          "y0": 0,
          "y1": 0.23450785885179345,
          "yref": "y"
         },
         {
          "line": {
           "color": "grey",
           "width": 1.5
          },
          "type": "line",
          "x0": 672.359619140625,
          "x1": 672.359619140625,
          "xref": "x",
          "y0": 0,
          "y1": 0.21258527979599404,
          "yref": "y"
         },
         {
          "line": {
           "color": "grey",
           "width": 1.5
          },
          "type": "line",
          "x0": 691.8911743164062,
          "x1": 691.8911743164062,
          "xref": "x",
          "y0": 0,
          "y1": 0.5987576612298967,
          "yref": "y"
         },
         {
          "line": {
           "color": "grey",
           "width": 1.5
          },
          "type": "line",
          "x0": 700.3893432617188,
          "x1": 700.3893432617188,
          "xref": "x",
          "y0": 0,
          "y1": 0.10743397768521579,
          "yref": "y"
         },
         {
          "line": {
           "color": "grey",
           "width": 1.5
          },
          "type": "line",
          "x0": 701.4208984375,
          "x1": 701.4208984375,
          "xref": "x",
          "y0": 0,
          "y1": 0.054635988099849,
          "yref": "y"
         },
         {
          "line": {
           "color": "grey",
           "width": 1.5
          },
          "type": "line",
          "x0": 712.3469848632812,
          "x1": 712.3469848632812,
          "xref": "x",
          "y0": 0,
          "y1": 0.18786123526247583,
          "yref": "y"
         },
         {
          "line": {
           "color": "grey",
           "width": 1.5
          },
          "type": "line",
          "x0": 725.3826904296875,
          "x1": 725.3826904296875,
          "xref": "x",
          "y0": 0,
          "y1": 0.5971123561080619,
          "yref": "y"
         },
         {
          "line": {
           "color": "grey",
           "width": 1.5
          },
          "type": "line",
          "x0": 726.3825073242188,
          "x1": 726.3825073242188,
          "xref": "x",
          "y0": 0,
          "y1": 0.1227160459790151,
          "yref": "y"
         },
         {
          "line": {
           "color": "grey",
           "width": 1.5
          },
          "type": "line",
          "x0": 730.358642578125,
          "x1": 730.358642578125,
          "xref": "x",
          "y0": 0,
          "y1": 1.1448655585610785,
          "yref": "y"
         },
         {
          "line": {
           "color": "grey",
           "width": 1.5
          },
          "type": "line",
          "x0": 743.3914794921875,
          "x1": 743.3914794921875,
          "xref": "x",
          "y0": 0,
          "y1": 1.1635864627851993,
          "yref": "y"
         },
         {
          "line": {
           "color": "grey",
           "width": 1.5
          },
          "type": "line",
          "x0": 744.39404296875,
          "x1": 744.39404296875,
          "xref": "x",
          "y0": 0,
          "y1": 0.1611954342338192,
          "yref": "y"
         },
         {
          "line": {
           "color": "grey",
           "width": 1.5
          },
          "type": "line",
          "x0": 771.4711303710938,
          "x1": 771.4711303710938,
          "xref": "x",
          "y0": 0,
          "y1": 19.254412938086578,
          "yref": "y"
         },
         {
          "line": {
           "color": "grey",
           "width": 1.5
          },
          "type": "line",
          "x0": 772.4766845703125,
          "x1": 772.4766845703125,
          "xref": "x",
          "y0": 0,
          "y1": 5.945169243347891,
          "yref": "y"
         },
         {
          "line": {
           "color": "grey",
           "width": 1.5
          },
          "type": "line",
          "x0": 801.39501953125,
          "x1": 801.39501953125,
          "xref": "x",
          "y0": 0,
          "y1": 0.1889136376377035,
          "yref": "y"
         },
         {
          "line": {
           "color": "grey",
           "width": 1.5
          },
          "type": "line",
          "x0": 817.4588012695312,
          "x1": 817.4588012695312,
          "xref": "x",
          "y0": 0,
          "y1": 0.59736433977537,
          "yref": "y"
         },
         {
          "line": {
           "color": "grey",
           "width": 1.5
          },
          "type": "line",
          "x0": 836.4530029296875,
          "x1": 836.4530029296875,
          "xref": "x",
          "y0": 0,
          "y1": 0.17323135998994435,
          "yref": "y"
         },
         {
          "line": {
           "color": "grey",
           "width": 1.5
          },
          "type": "line",
          "x0": 843.4492797851562,
          "x1": 843.4492797851562,
          "xref": "x",
          "y0": 0,
          "y1": 0.5412905625149985,
          "yref": "y"
         },
         {
          "line": {
           "color": "grey",
           "width": 1.5
          },
          "type": "line",
          "x0": 868.4848022460938,
          "x1": 868.4848022460938,
          "xref": "x",
          "y0": 0,
          "y1": 0.10771560648985415,
          "yref": "y"
         },
         {
          "line": {
           "color": "grey",
           "width": 1.5
          },
          "type": "line",
          "x0": 869.4830932617188,
          "x1": 869.4830932617188,
          "xref": "x",
          "y0": 0,
          "y1": 0.20326188410559662,
          "yref": "y"
         },
         {
          "line": {
           "color": "grey",
           "width": 1.5
          },
          "type": "line",
          "x0": 886.498291015625,
          "x1": 886.498291015625,
          "xref": "x",
          "y0": 0,
          "y1": 18.60373181882256,
          "yref": "y"
         },
         {
          "line": {
           "color": "grey",
           "width": 1.5
          },
          "type": "line",
          "x0": 887.5008544921875,
          "x1": 887.5008544921875,
          "xref": "x",
          "y0": 0,
          "y1": 6.124774307863863,
          "yref": "y"
         },
         {
          "line": {
           "color": "grey",
           "width": 1.5
          },
          "type": "line",
          "x0": 893.4781494140625,
          "x1": 893.4781494140625,
          "xref": "x",
          "y0": 0,
          "y1": 0.11068012022288995,
          "yref": "y"
         },
         {
          "line": {
           "color": "grey",
           "width": 1.5
          },
          "type": "line",
          "x0": 914.4778442382812,
          "x1": 914.4778442382812,
          "xref": "x",
          "y0": 0,
          "y1": 0.43018058780081847,
          "yref": "y"
         },
         {
          "line": {
           "color": "grey",
           "width": 1.5
          },
          "type": "line",
          "x0": 932.4891967773438,
          "x1": 932.4891967773438,
          "xref": "x",
          "y0": 0,
          "y1": 0.25328805335057497,
          "yref": "y"
         },
         {
          "line": {
           "color": "grey",
           "width": 1.5
          },
          "type": "line",
          "x0": 955.521240234375,
          "x1": 955.521240234375,
          "xref": "x",
          "y0": 0,
          "y1": 0.9002635304482982,
          "yref": "y"
         },
         {
          "line": {
           "color": "grey",
           "width": 1.5
          },
          "type": "line",
          "x0": 956.5142211914062,
          "x1": 956.5142211914062,
          "xref": "x",
          "y0": 0,
          "y1": 0.25570413204299913,
          "yref": "y"
         },
         {
          "line": {
           "color": "grey",
           "width": 1.5
          },
          "type": "line",
          "x0": 973.530517578125,
          "x1": 973.530517578125,
          "xref": "x",
          "y0": 0,
          "y1": 47.0674511362907,
          "yref": "y"
         },
         {
          "line": {
           "color": "grey",
           "width": 1.5
          },
          "type": "line",
          "x0": 974.5328369140625,
          "x1": 974.5328369140625,
          "xref": "x",
          "y0": 0,
          "y1": 17.75250134551867,
          "yref": "y"
         },
         {
          "line": {
           "color": "grey",
           "width": 1.5
          },
          "type": "line",
          "x0": 1029.5406494140625,
          "x1": 1029.5406494140625,
          "xref": "x",
          "y0": 0,
          "y1": 1.2350905340260214,
          "yref": "y"
         },
         {
          "line": {
           "color": "grey",
           "width": 1.5
          },
          "type": "line",
          "x0": 1030.5489501953125,
          "x1": 1030.5489501953125,
          "xref": "x",
          "y0": 0,
          "y1": 2.54994131003937,
          "yref": "y"
         },
         {
          "line": {
           "color": "grey",
           "width": 1.5
          },
          "type": "line",
          "x0": 1031.5455322265625,
          "x1": 1031.5455322265625,
          "xref": "x",
          "y0": 0,
          "y1": 0.6082144600382808,
          "yref": "y"
         },
         {
          "line": {
           "color": "grey",
           "width": 1.5
          },
          "type": "line",
          "x0": 1038.55859375,
          "x1": 1038.55859375,
          "xref": "x",
          "y0": 0,
          "y1": 1.2910457307370713,
          "yref": "y"
         },
         {
          "line": {
           "color": "grey",
           "width": 1.5
          },
          "type": "line",
          "x0": 1039.5626220703125,
          "x1": 1039.5626220703125,
          "xref": "x",
          "y0": 0,
          "y1": 0.8437154309906412,
          "yref": "y"
         },
         {
          "line": {
           "color": "grey",
           "width": 1.5
          },
          "type": "line",
          "x0": 1056.5648193359375,
          "x1": 1056.5648193359375,
          "xref": "x",
          "y0": 0,
          "y1": 3.5991716555727153,
          "yref": "y"
         },
         {
          "line": {
           "color": "grey",
           "width": 1.5
          },
          "type": "line",
          "x0": 1057.5618896484375,
          "x1": 1057.5618896484375,
          "xref": "x",
          "y0": 0,
          "y1": 1.57863320797887,
          "yref": "y"
         },
         {
          "line": {
           "color": "grey",
           "width": 1.5
          },
          "type": "line",
          "x0": 1074.5772705078125,
          "x1": 1074.5772705078125,
          "xref": "x",
          "y0": 0,
          "y1": 95.78910093561535,
          "yref": "y"
         },
         {
          "line": {
           "color": "grey",
           "width": 1.5
          },
          "type": "line",
          "x0": 1075.580810546875,
          "x1": 1075.580810546875,
          "xref": "x",
          "y0": 0,
          "y1": 42.109894820535004,
          "yref": "y"
         },
         {
          "line": {
           "color": "grey",
           "width": 1.5
          },
          "type": "line",
          "x0": 1076.5810546875,
          "x1": 1076.5810546875,
          "xref": "x",
          "y0": 0,
          "y1": 0.7030196092207642,
          "yref": "y"
         },
         {
          "line": {
           "color": "grey",
           "width": 1.5
          },
          "type": "line",
          "x0": 1084.5767822265625,
          "x1": 1084.5767822265625,
          "xref": "x",
          "y0": 0,
          "y1": 0.33444161679242873,
          "yref": "y"
         },
         {
          "line": {
           "color": "grey",
           "width": 1.5
          },
          "type": "line",
          "x0": 1085.57421875,
          "x1": 1085.57421875,
          "xref": "x",
          "y0": 0,
          "y1": 0.12983087893830092,
          "yref": "y"
         },
         {
          "line": {
           "color": "grey",
           "width": 1.5
          },
          "type": "line",
          "x0": 1100.562255859375,
          "x1": 1100.562255859375,
          "xref": "x",
          "y0": 0,
          "y1": 0.4789320161405915,
          "yref": "y"
         },
         {
          "line": {
           "color": "grey",
           "width": 1.5
          },
          "type": "line",
          "x0": 1101.556396484375,
          "x1": 1101.556396484375,
          "xref": "x",
          "y0": 0,
          "y1": 0.11816551739880525,
          "yref": "y"
         },
         {
          "line": {
           "color": "grey",
           "width": 1.5
          },
          "type": "line",
          "x0": 1169.6624755859375,
          "x1": 1169.6624755859375,
          "xref": "x",
          "y0": 0,
          "y1": 0.4200715959711666,
          "yref": "y"
         },
         {
          "line": {
           "color": "grey",
           "width": 1.5
          },
          "type": "line",
          "x0": 1187.661865234375,
          "x1": 1187.661865234375,
          "xref": "x",
          "y0": 0,
          "y1": 10.920705334894446,
          "yref": "y"
         },
         {
          "line": {
           "color": "grey",
           "width": 1.5
          },
          "type": "line",
          "x0": 1188.6629638671875,
          "x1": 1188.6629638671875,
          "xref": "x",
          "y0": 0,
          "y1": 5.527009758734533,
          "yref": "y"
         },
         {
          "line": {
           "color": "grey",
           "width": 1.5
          },
          "type": "line",
          "x0": 1189.676513671875,
          "x1": 1189.676513671875,
          "xref": "x",
          "y0": 0,
          "y1": 0.17176392569209167,
          "yref": "y"
         },
         {
          "line": {
           "color": "grey",
           "width": 1.5
          },
          "type": "line",
          "x0": 1258.7020263671875,
          "x1": 1258.7020263671875,
          "xref": "x",
          "y0": 0,
          "y1": 4.551180773231152,
          "yref": "y"
         },
         {
          "line": {
           "color": "grey",
           "width": 1.5
          },
          "type": "line",
          "x0": 1259.69482421875,
          "x1": 1259.69482421875,
          "xref": "x",
          "y0": 0,
          "y1": 2.4449234110465787,
          "yref": "y"
         },
         {
          "line": {
           "color": "lightblue",
           "width": 1.5
          },
          "type": "line",
          "x0": 175.11896,
          "x1": 175.11896,
          "xref": "x",
          "y0": 0,
          "y1": -1.9944956999999999,
          "yref": "y"
         },
         {
          "line": {
           "color": "lightblue",
           "width": 1.5
          },
          "type": "line",
          "x0": 232.14041,
          "x1": 232.14041,
          "xref": "x",
          "y0": 0,
          "y1": -15.300025,
          "yref": "y"
         },
         {
          "line": {
           "color": "lightblue",
           "width": 1.5
          },
          "type": "line",
          "x0": 143.0815,
          "x1": 143.0815,
          "xref": "x",
          "y0": 0,
          "y1": -13.627195,
          "yref": "y"
         },
         {
          "line": {
           "color": "lightblue",
           "width": 1.5
          },
          "type": "line",
          "x0": 345.2245,
          "x1": 345.2245,
          "xref": "x",
          "y0": 0,
          "y1": -8.322782,
          "yref": "y"
         },
         {
          "line": {
           "color": "lightblue",
           "width": 1.5
          },
          "type": "line",
          "x0": 214.11862,
          "x1": 214.11862,
          "xref": "x",
          "y0": 0,
          "y1": -67.32009599999999,
          "yref": "y"
         },
         {
          "line": {
           "color": "lightblue",
           "width": 1.5
          },
          "type": "line",
          "x0": 416.2616,
          "x1": 416.2616,
          "xref": "x",
          "y0": 0,
          "y1": -15.832223,
          "yref": "y"
         },
         {
          "line": {
           "color": "lightblue",
           "width": 1.5
          },
          "type": "line",
          "x0": 327.20267,
          "x1": 327.20267,
          "xref": "x",
          "y0": 0,
          "y1": -23.941295,
          "yref": "y"
         },
         {
          "line": {
           "color": "lightblue",
           "width": 1.5
          },
          "type": "line",
          "x0": 164.10498,
          "x1": 164.10498,
          "xref": "x",
          "y0": 0,
          "y1": -0.39109619999999995,
          "yref": "y"
         },
         {
          "line": {
           "color": "lightblue",
           "width": 1.5
          },
          "type": "line",
          "x0": 545.3042,
          "x1": 545.3042,
          "xref": "x",
          "y0": 0,
          "y1": -20.433846,
          "yref": "y"
         },
         {
          "line": {
           "color": "lightblue",
           "width": 1.5
          },
          "type": "line",
          "x0": 428.25037,
          "x1": 428.25037,
          "xref": "x",
          "y0": 0,
          "y1": -11.445445999999999,
          "yref": "y"
         },
         {
          "line": {
           "color": "lightblue",
           "width": 1.5
          },
          "type": "line",
          "x0": 214.62881,
          "x1": 214.62881,
          "xref": "x",
          "y0": 0,
          "y1": -0.0700736,
          "yref": "y"
         },
         {
          "line": {
           "color": "lightblue",
           "width": 1.5
          },
          "type": "line",
          "x0": 658.38824,
          "x1": 658.38824,
          "xref": "x",
          "y0": 0,
          "y1": -30.068564,
          "yref": "y"
         },
         {
          "line": {
           "color": "lightblue",
           "width": 1.5
          },
          "type": "line",
          "x0": 515.2824,
          "x1": 515.2824,
          "xref": "x",
          "y0": 0,
          "y1": -2.3193207,
          "yref": "y"
         },
         {
          "line": {
           "color": "lightblue",
           "width": 1.5
          },
          "type": "line",
          "x0": 258.14484,
          "x1": 258.14484,
          "xref": "x",
          "y0": 0,
          "y1": -0.05487133,
          "yref": "y"
         },
         {
          "line": {
           "color": "lightblue",
           "width": 1.5
          },
          "type": "line",
          "x0": 771.4723,
          "x1": 771.4723,
          "xref": "x",
          "y0": 0,
          "y1": -14.350693,
          "yref": "y"
         },
         {
          "line": {
           "color": "lightblue",
           "width": 1.5
          },
          "type": "line",
          "x0": 630.3093,
          "x1": 630.3093,
          "xref": "x",
          "y0": 0,
          "y1": -6.9786735,
          "yref": "y"
         },
         {
          "line": {
           "color": "lightblue",
           "width": 1.5
          },
          "type": "line",
          "x0": 315.6583,
          "x1": 315.6583,
          "xref": "x",
          "y0": 0,
          "y1": -0.091373146,
          "yref": "y"
         },
         {
          "line": {
           "color": "lightblue",
           "width": 1.5
          },
          "type": "line",
          "x0": 886.49927,
          "x1": 886.49927,
          "xref": "x",
          "y0": 0,
          "y1": -20.525270000000003,
          "yref": "y"
         },
         {
          "line": {
           "color": "lightblue",
           "width": 1.5
          },
          "type": "line",
          "x0": 743.3934,
          "x1": 743.3934,
          "xref": "x",
          "y0": 0,
          "y1": -5.226955,
          "yref": "y"
         },
         {
          "line": {
           "color": "lightblue",
           "width": 1.5
          },
          "type": "line",
          "x0": 372.20035,
          "x1": 372.20035,
          "xref": "x",
          "y0": 0,
          "y1": -0.01433533,
          "yref": "y"
         },
         {
          "line": {
           "color": "lightblue",
           "width": 1.5
          },
          "type": "line",
          "x0": 973.5313,
          "x1": 973.5313,
          "xref": "x",
          "y0": 0,
          "y1": -50.23156399999999,
          "yref": "y"
         },
         {
          "line": {
           "color": "lightblue",
           "width": 1.5
          },
          "type": "line",
          "x0": 856.4775,
          "x1": 856.4775,
          "xref": "x",
          "y0": 0,
          "y1": -1.9454353,
          "yref": "y"
         },
         {
          "line": {
           "color": "lightblue",
           "width": 1.5
          },
          "type": "line",
          "x0": 1074.579,
          "x1": 1074.579,
          "xref": "x",
          "y0": 0,
          "y1": -100,
          "yref": "y"
         },
         {
          "line": {
           "color": "lightblue",
           "width": 1.5
          },
          "type": "line",
          "x0": 537.7931,
          "x1": 537.7931,
          "xref": "x",
          "y0": 0,
          "y1": -2.282732,
          "yref": "y"
         },
         {
          "line": {
           "color": "lightblue",
           "width": 1.5
          },
          "type": "line",
          "x0": 985.5201,
          "x1": 985.5201,
          "xref": "x",
          "y0": 0,
          "y1": -1.9337429,
          "yref": "y"
         },
         {
          "line": {
           "color": "lightblue",
           "width": 1.5
          },
          "type": "line",
          "x0": 1187.6631,
          "x1": 1187.6631,
          "xref": "x",
          "y0": 0,
          "y1": -12.601395000000002,
          "yref": "y"
         },
         {
          "line": {
           "color": "lightblue",
           "width": 1.5
          },
          "type": "line",
          "x0": 594.33514,
          "x1": 594.33514,
          "xref": "x",
          "y0": 0,
          "y1": -4.805667000000001,
          "yref": "y"
         },
         {
          "line": {
           "color": "lightblue",
           "width": 1.5
          },
          "type": "line",
          "x0": 1056.5571,
          "x1": 1056.5571,
          "xref": "x",
          "y0": 0,
          "y1": -0.9185349,
          "yref": "y"
         },
         {
          "line": {
           "color": "lightblue",
           "width": 1.5
          },
          "type": "line",
          "x0": 1258.7002,
          "x1": 1258.7002,
          "xref": "x",
          "y0": 0,
          "y1": -4.843226400000001,
          "yref": "y"
         },
         {
          "line": {
           "color": "lightblue",
           "width": 1.5
          },
          "type": "line",
          "x0": 629.8537,
          "x1": 629.8537,
          "xref": "x",
          "y0": 0,
          "y1": -2.8046576,
          "yref": "y"
         },
         {
          "line": {
           "color": "lightblue",
           "width": 1.5
          },
          "type": "line",
          "x0": 1169.6412,
          "x1": 1169.6412,
          "xref": "x",
          "y0": 0,
          "y1": -1.0429648,
          "yref": "y"
         }
        ],
        "template": {
         "data": {
          "bar": [
           {
            "error_x": {
             "color": "#2a3f5f"
            },
            "error_y": {
             "color": "#2a3f5f"
            },
            "marker": {
             "line": {
              "color": "white",
              "width": 0.5
             }
            },
            "type": "bar"
           }
          ],
          "barpolar": [
           {
            "marker": {
             "line": {
              "color": "white",
              "width": 0.5
             }
            },
            "type": "barpolar"
           }
          ],
          "carpet": [
           {
            "aaxis": {
             "endlinecolor": "#2a3f5f",
             "gridcolor": "#C8D4E3",
             "linecolor": "#C8D4E3",
             "minorgridcolor": "#C8D4E3",
             "startlinecolor": "#2a3f5f"
            },
            "baxis": {
             "endlinecolor": "#2a3f5f",
             "gridcolor": "#C8D4E3",
             "linecolor": "#C8D4E3",
             "minorgridcolor": "#C8D4E3",
             "startlinecolor": "#2a3f5f"
            },
            "type": "carpet"
           }
          ],
          "choropleth": [
           {
            "colorbar": {
             "outlinewidth": 0,
             "ticks": ""
            },
            "type": "choropleth"
           }
          ],
          "contour": [
           {
            "colorbar": {
             "outlinewidth": 0,
             "ticks": ""
            },
            "colorscale": [
             [
              0,
              "#0d0887"
             ],
             [
              0.1111111111111111,
              "#46039f"
             ],
             [
              0.2222222222222222,
              "#7201a8"
             ],
             [
              0.3333333333333333,
              "#9c179e"
             ],
             [
              0.4444444444444444,
              "#bd3786"
             ],
             [
              0.5555555555555556,
              "#d8576b"
             ],
             [
              0.6666666666666666,
              "#ed7953"
             ],
             [
              0.7777777777777778,
              "#fb9f3a"
             ],
             [
              0.8888888888888888,
              "#fdca26"
             ],
             [
              1,
              "#f0f921"
             ]
            ],
            "type": "contour"
           }
          ],
          "contourcarpet": [
           {
            "colorbar": {
             "outlinewidth": 0,
             "ticks": ""
            },
            "type": "contourcarpet"
           }
          ],
          "heatmap": [
           {
            "colorbar": {
             "outlinewidth": 0,
             "ticks": ""
            },
            "colorscale": [
             [
              0,
              "#0d0887"
             ],
             [
              0.1111111111111111,
              "#46039f"
             ],
             [
              0.2222222222222222,
              "#7201a8"
             ],
             [
              0.3333333333333333,
              "#9c179e"
             ],
             [
              0.4444444444444444,
              "#bd3786"
             ],
             [
              0.5555555555555556,
              "#d8576b"
             ],
             [
              0.6666666666666666,
              "#ed7953"
             ],
             [
              0.7777777777777778,
              "#fb9f3a"
             ],
             [
              0.8888888888888888,
              "#fdca26"
             ],
             [
              1,
              "#f0f921"
             ]
            ],
            "type": "heatmap"
           }
          ],
          "heatmapgl": [
           {
            "colorbar": {
             "outlinewidth": 0,
             "ticks": ""
            },
            "colorscale": [
             [
              0,
              "#0d0887"
             ],
             [
              0.1111111111111111,
              "#46039f"
             ],
             [
              0.2222222222222222,
              "#7201a8"
             ],
             [
              0.3333333333333333,
              "#9c179e"
             ],
             [
              0.4444444444444444,
              "#bd3786"
             ],
             [
              0.5555555555555556,
              "#d8576b"
             ],
             [
              0.6666666666666666,
              "#ed7953"
             ],
             [
              0.7777777777777778,
              "#fb9f3a"
             ],
             [
              0.8888888888888888,
              "#fdca26"
             ],
             [
              1,
              "#f0f921"
             ]
            ],
            "type": "heatmapgl"
           }
          ],
          "histogram": [
           {
            "marker": {
             "colorbar": {
              "outlinewidth": 0,
              "ticks": ""
             }
            },
            "type": "histogram"
           }
          ],
          "histogram2d": [
           {
            "colorbar": {
             "outlinewidth": 0,
             "ticks": ""
            },
            "colorscale": [
             [
              0,
              "#0d0887"
             ],
             [
              0.1111111111111111,
              "#46039f"
             ],
             [
              0.2222222222222222,
              "#7201a8"
             ],
             [
              0.3333333333333333,
              "#9c179e"
             ],
             [
              0.4444444444444444,
              "#bd3786"
             ],
             [
              0.5555555555555556,
              "#d8576b"
             ],
             [
              0.6666666666666666,
              "#ed7953"
             ],
             [
              0.7777777777777778,
              "#fb9f3a"
             ],
             [
              0.8888888888888888,
              "#fdca26"
             ],
             [
              1,
              "#f0f921"
             ]
            ],
            "type": "histogram2d"
           }
          ],
          "histogram2dcontour": [
           {
            "colorbar": {
             "outlinewidth": 0,
             "ticks": ""
            },
            "colorscale": [
             [
              0,
              "#0d0887"
             ],
             [
              0.1111111111111111,
              "#46039f"
             ],
             [
              0.2222222222222222,
              "#7201a8"
             ],
             [
              0.3333333333333333,
              "#9c179e"
             ],
             [
              0.4444444444444444,
              "#bd3786"
             ],
             [
              0.5555555555555556,
              "#d8576b"
             ],
             [
              0.6666666666666666,
              "#ed7953"
             ],
             [
              0.7777777777777778,
              "#fb9f3a"
             ],
             [
              0.8888888888888888,
              "#fdca26"
             ],
             [
              1,
              "#f0f921"
             ]
            ],
            "type": "histogram2dcontour"
           }
          ],
          "mesh3d": [
           {
            "colorbar": {
             "outlinewidth": 0,
             "ticks": ""
            },
            "type": "mesh3d"
           }
          ],
          "parcoords": [
           {
            "line": {
             "colorbar": {
              "outlinewidth": 0,
              "ticks": ""
             }
            },
            "type": "parcoords"
           }
          ],
          "pie": [
           {
            "automargin": true,
            "type": "pie"
           }
          ],
          "scatter": [
           {
            "marker": {
             "colorbar": {
              "outlinewidth": 0,
              "ticks": ""
             }
            },
            "type": "scatter"
           }
          ],
          "scatter3d": [
           {
            "line": {
             "colorbar": {
              "outlinewidth": 0,
              "ticks": ""
             }
            },
            "marker": {
             "colorbar": {
              "outlinewidth": 0,
              "ticks": ""
             }
            },
            "type": "scatter3d"
           }
          ],
          "scattercarpet": [
           {
            "marker": {
             "colorbar": {
              "outlinewidth": 0,
              "ticks": ""
             }
            },
            "type": "scattercarpet"
           }
          ],
          "scattergeo": [
           {
            "marker": {
             "colorbar": {
              "outlinewidth": 0,
              "ticks": ""
             }
            },
            "type": "scattergeo"
           }
          ],
          "scattergl": [
           {
            "marker": {
             "colorbar": {
              "outlinewidth": 0,
              "ticks": ""
             }
            },
            "type": "scattergl"
           }
          ],
          "scattermapbox": [
           {
            "marker": {
             "colorbar": {
              "outlinewidth": 0,
              "ticks": ""
             }
            },
            "type": "scattermapbox"
           }
          ],
          "scatterpolar": [
           {
            "marker": {
             "colorbar": {
              "outlinewidth": 0,
              "ticks": ""
             }
            },
            "type": "scatterpolar"
           }
          ],
          "scatterpolargl": [
           {
            "marker": {
             "colorbar": {
              "outlinewidth": 0,
              "ticks": ""
             }
            },
            "type": "scatterpolargl"
           }
          ],
          "scatterternary": [
           {
            "marker": {
             "colorbar": {
              "outlinewidth": 0,
              "ticks": ""
             }
            },
            "type": "scatterternary"
           }
          ],
          "surface": [
           {
            "colorbar": {
             "outlinewidth": 0,
             "ticks": ""
            },
            "colorscale": [
             [
              0,
              "#0d0887"
             ],
             [
              0.1111111111111111,
              "#46039f"
             ],
             [
              0.2222222222222222,
              "#7201a8"
             ],
             [
              0.3333333333333333,
              "#9c179e"
             ],
             [
              0.4444444444444444,
              "#bd3786"
             ],
             [
              0.5555555555555556,
              "#d8576b"
             ],
             [
              0.6666666666666666,
              "#ed7953"
             ],
             [
              0.7777777777777778,
              "#fb9f3a"
             ],
             [
              0.8888888888888888,
              "#fdca26"
             ],
             [
              1,
              "#f0f921"
             ]
            ],
            "type": "surface"
           }
          ],
          "table": [
           {
            "cells": {
             "fill": {
              "color": "#EBF0F8"
             },
             "line": {
              "color": "white"
             }
            },
            "header": {
             "fill": {
              "color": "#C8D4E3"
             },
             "line": {
              "color": "white"
             }
            },
            "type": "table"
           }
          ]
         },
         "layout": {
          "annotationdefaults": {
           "arrowcolor": "#2a3f5f",
           "arrowhead": 0,
           "arrowwidth": 1
          },
          "autotypenumbers": "strict",
          "coloraxis": {
           "colorbar": {
            "outlinewidth": 0,
            "ticks": ""
           }
          },
          "colorscale": {
           "diverging": [
            [
             0,
             "#8e0152"
            ],
            [
             0.1,
             "#c51b7d"
            ],
            [
             0.2,
             "#de77ae"
            ],
            [
             0.3,
             "#f1b6da"
            ],
            [
             0.4,
             "#fde0ef"
            ],
            [
             0.5,
             "#f7f7f7"
            ],
            [
             0.6,
             "#e6f5d0"
            ],
            [
             0.7,
             "#b8e186"
            ],
            [
             0.8,
             "#7fbc41"
            ],
            [
             0.9,
             "#4d9221"
            ],
            [
             1,
             "#276419"
            ]
           ],
           "sequential": [
            [
             0,
             "#0d0887"
            ],
            [
             0.1111111111111111,
             "#46039f"
            ],
            [
             0.2222222222222222,
             "#7201a8"
            ],
            [
             0.3333333333333333,
             "#9c179e"
            ],
            [
             0.4444444444444444,
             "#bd3786"
            ],
            [
             0.5555555555555556,
             "#d8576b"
            ],
            [
             0.6666666666666666,
             "#ed7953"
            ],
            [
             0.7777777777777778,
             "#fb9f3a"
            ],
            [
             0.8888888888888888,
             "#fdca26"
            ],
            [
             1,
             "#f0f921"
            ]
           ],
           "sequentialminus": [
            [
             0,
             "#0d0887"
            ],
            [
             0.1111111111111111,
             "#46039f"
            ],
            [
             0.2222222222222222,
             "#7201a8"
            ],
            [
             0.3333333333333333,
             "#9c179e"
            ],
            [
             0.4444444444444444,
             "#bd3786"
            ],
            [
             0.5555555555555556,
             "#d8576b"
            ],
            [
             0.6666666666666666,
             "#ed7953"
            ],
            [
             0.7777777777777778,
             "#fb9f3a"
            ],
            [
             0.8888888888888888,
             "#fdca26"
            ],
            [
             1,
             "#f0f921"
            ]
           ]
          },
          "colorway": [
           "#636efa",
           "#EF553B",
           "#00cc96",
           "#ab63fa",
           "#FFA15A",
           "#19d3f3",
           "#FF6692",
           "#B6E880",
           "#FF97FF",
           "#FECB52"
          ],
          "font": {
           "color": "#2a3f5f"
          },
          "geo": {
           "bgcolor": "white",
           "lakecolor": "white",
           "landcolor": "white",
           "showlakes": true,
           "showland": true,
           "subunitcolor": "#C8D4E3"
          },
          "hoverlabel": {
           "align": "left"
          },
          "hovermode": "closest",
          "mapbox": {
           "style": "light"
          },
          "paper_bgcolor": "white",
          "plot_bgcolor": "white",
          "polar": {
           "angularaxis": {
            "gridcolor": "#EBF0F8",
            "linecolor": "#EBF0F8",
            "ticks": ""
           },
           "bgcolor": "white",
           "radialaxis": {
            "gridcolor": "#EBF0F8",
            "linecolor": "#EBF0F8",
            "ticks": ""
           }
          },
          "scene": {
           "xaxis": {
            "backgroundcolor": "white",
            "gridcolor": "#DFE8F3",
            "gridwidth": 2,
            "linecolor": "#EBF0F8",
            "showbackground": true,
            "ticks": "",
            "zerolinecolor": "#EBF0F8"
           },
           "yaxis": {
            "backgroundcolor": "white",
            "gridcolor": "#DFE8F3",
            "gridwidth": 2,
            "linecolor": "#EBF0F8",
            "showbackground": true,
            "ticks": "",
            "zerolinecolor": "#EBF0F8"
           },
           "zaxis": {
            "backgroundcolor": "white",
            "gridcolor": "#DFE8F3",
            "gridwidth": 2,
            "linecolor": "#EBF0F8",
            "showbackground": true,
            "ticks": "",
            "zerolinecolor": "#EBF0F8"
           }
          },
          "shapedefaults": {
           "line": {
            "color": "#2a3f5f"
           }
          },
          "ternary": {
           "aaxis": {
            "gridcolor": "#DFE8F3",
            "linecolor": "#A2B1C6",
            "ticks": ""
           },
           "baxis": {
            "gridcolor": "#DFE8F3",
            "linecolor": "#A2B1C6",
            "ticks": ""
           },
           "bgcolor": "white",
           "caxis": {
            "gridcolor": "#DFE8F3",
            "linecolor": "#A2B1C6",
            "ticks": ""
           }
          },
          "title": {
           "x": 0.05
          },
          "xaxis": {
           "automargin": true,
           "gridcolor": "#EBF0F8",
           "linecolor": "#EBF0F8",
           "ticks": "",
           "title": {
            "standoff": 15
           },
           "zerolinecolor": "#EBF0F8",
           "zerolinewidth": 2
          },
          "yaxis": {
           "automargin": true,
           "gridcolor": "#EBF0F8",
           "linecolor": "#EBF0F8",
           "ticks": "",
           "title": {
            "standoff": 15
           },
           "zerolinecolor": "#EBF0F8",
           "zerolinewidth": 2
          }
         }
        },
        "title": {
         "font": {
          "size": 16
         },
         "text": "Experimental and predicted spectrum for peptide AAAITSDILEALGR with m/z=700.8902 and charge=2.",
         "x": 0.5,
         "xanchor": "center",
         "yanchor": "top"
        },
        "xaxis": {
         "mirror": true,
         "title": {
          "text": "m/z, Th"
         }
        },
        "yaxis": {
         "title": {
          "text": "Relative intensity, %"
         }
        }
       }
      },
      "text/html": [
       "<div>                            <div id=\"2ef04dc6-aeab-4e0b-adf1-d01d1862e7c9\" class=\"plotly-graph-div\" style=\"height:520px; width:100%;\"></div>            <script type=\"text/javascript\">                require([\"plotly\"], function(Plotly) {                    window.PLOTLYENV=window.PLOTLYENV || {};                                    if (document.getElementById(\"2ef04dc6-aeab-4e0b-adf1-d01d1862e7c9\")) {                    Plotly.newPlot(                        \"2ef04dc6-aeab-4e0b-adf1-d01d1862e7c9\",                        [{\"hovertemplate\": \"<b>m/z:</b> %{x};<br><b>Intensity:</b> %{y}.\", \"marker\": {\"color\": \"grey\", \"size\": 3}, \"mode\": \"markers\", \"name\": \"\", \"showlegend\": false, \"type\": \"scatter\", \"x\": [101.07103729248047, 102.05522918701172, 110.0711669921875, 111.33304595947266, 112.08697509765625, 115.08676147460938, 120.08071899414062, 129.102783203125, 130.06495666503906, 130.08546447753906, 136.0753173828125, 141.1020965576172, 142.12277221679688, 143.0813751220703, 143.1173095703125, 144.08470153808594, 147.11366271972656, 153.0662384033203, 155.0806121826172, 157.1334686279297, 158.09278869628906, 158.1370849609375, 159.07765197753906, 159.0916290283203, 161.0919189453125, 169.08047485351562, 169.09693908691406, 170.10011291503906, 171.07623291015625, 171.11361694335938, 172.1082305908203, 173.0914764404297, 175.1188507080078, 183.14932250976562, 185.12823486328125, 186.12887573242188, 187.14381408691406, 189.08665466308594, 196.10699462890625, 197.12796020507812, 199.1077117919922, 199.17942810058594, 201.12210083007812, 203.06613159179688, 203.13784790039062, 211.14389038085938, 213.16006469726562, 214.1183319091797, 215.11972045898438, 215.13931274414062, 216.14149475097656, 226.11911010742188, 227.17572021484375, 228.16934204101562, 229.11692810058594, 230.11309814453125, 232.14019775390625, 233.14337158203125, 238.15509033203125, 241.15399169921875, 242.1150665283203, 242.1466064453125, 243.09547424316406, 244.12904357910156, 255.14968872070312, 256.1650390625, 268.1651611328125, 269.167236328125, 270.1444091796875, 271.1393737792969, 272.1769104003906, 281.1961669921875, 282.1806335449219, 283.1418151855469, 284.1585998535156, 286.1020202636719, 286.1396484375, 286.1756286621094, 287.1747741699219, 294.1817321777344, 297.15484619140625, 299.2074279785156, 300.1697692871094, 300.2109375, 302.171630859375, 304.11358642578125, 312.1933288574219, 313.1502990722656, 314.17059326171875, 315.1658935546875, 315.207275390625, 316.1553039550781, 327.2018127441406, 328.2027282714844, 337.18524169921875, 339.2023620605469, 345.2239074707031, 355.195556640625, 357.2144775390625, 366.1735534667969, 371.2001037597656, 382.2425231933594, 383.22918701171875, 384.1868896484375, 385.1949157714844, 387.1935729980469, 389.20184326171875, 395.2669982910156, 399.18304443359375, 399.23590087890625, 400.256591796875, 402.19915771484375, 410.23748779296875, 416.26104736328125, 417.19793701171875, 417.2638244628906, 426.2356262207031, 427.2550964355469, 428.250244140625, 429.2529296875, 452.2121887207031, 470.2275390625, 471.2292175292969, 479.2589111328125, 488.2354431152344, 494.263671875, 497.26995849609375, 499.2171325683594, 500.2701110839844, 502.2876892089844, 512.2696533203125, 515.2791137695312, 527.2913818359375, 529.282958984375, 530.2824096679688, 537.7891845703125, 541.262451171875, 545.3040771484375, 546.30810546875, 559.272705078125, 583.3099975585938, 584.3113403320312, 585.327880859375, 585.8253784179688, 601.3194580078125, 602.3258666992188, 612.2994995117188, 620.8479614257812, 621.3533935546875, 629.3179321289062, 630.3096313476562, 631.3141479492188, 647.3463134765625, 654.34912109375, 658.3878173828125, 659.3941040039062, 668.370849609375, 672.359619140625, 691.8911743164062, 700.3893432617188, 701.4208984375, 712.3469848632812, 725.3826904296875, 726.3825073242188, 730.358642578125, 743.3914794921875, 744.39404296875, 771.4711303710938, 772.4766845703125, 801.39501953125, 817.4588012695312, 836.4530029296875, 843.4492797851562, 868.4848022460938, 869.4830932617188, 886.498291015625, 887.5008544921875, 893.4781494140625, 914.4778442382812, 932.4891967773438, 955.521240234375, 956.5142211914062, 973.530517578125, 974.5328369140625, 1029.5406494140625, 1030.5489501953125, 1031.5455322265625, 1038.55859375, 1039.5626220703125, 1056.5648193359375, 1057.5618896484375, 1074.5772705078125, 1075.580810546875, 1076.5810546875, 1084.5767822265625, 1085.57421875, 1100.562255859375, 1101.556396484375, 1169.6624755859375, 1187.661865234375, 1188.6629638671875, 1189.676513671875, 1258.7020263671875, 1259.69482421875], \"y\": [0.06355917443628661, 0.3561715024555809, 0.4011876434917288, 0.11340747285728285, 0.10786383217650597, 9.746639316062964, 2.1231402678942124, 0.11696488933692575, 0.16046912836922547, 0.08228007866040737, 1.32201007667863, 0.41457242299638525, 0.1388430006867296, 39.065680135786586, 0.6545053419796342, 1.3505435213590993, 0.05186416775946057, 0.49750469467806047, 0.38679492931784026, 21.679696445651793, 0.4365542923268454, 0.8970915007539499, 0.05235331252541149, 0.5612862076443248, 0.13697535703491712, 0.5321746827859136, 17.478061486682886, 0.28445991525344594, 1.070708247529189, 0.007100010390620644, 0.07220073196808584, 0.7077331860562911, 5.743078342166844, 0.48188170730496205, 7.785628304228479, 0.0, 3.2759951909658227, 0.9039691726145931, 0.0687470734690992, 0.9800385950042904, 0.05331677948864806, 0.17890840378870787, 0.41635113123620665, 0.044111964347572086, 0.16410065769219428, 1.6083821032898837, 0.11354087597526949, 100.0, 5.48704811361321, 6.323426373114588, 0.0645967542428491, 1.579359513843464, 0.5366659210914628, 0.2603732411725304, 0.5858027362165303, 0.4257189946325997, 15.642256712363164, 0.4409565952204034, 0.05291657013468823, 0.2822068848163387, 0.07393497250191179, 0.1456613822727119, 0.0701107497862956, 2.8017619290920925, 0.42789791222638096, 3.1749793855126294, 4.00418352178006, 0.38024335396783115, 2.5487703271148208, 0.03766414697821928, 1.6721487936874828, 0.3480932025330584, 2.344085476417367, 0.41884132277195674, 1.4454524285222388, 0.8997447405450169, 0.23968093531594087, 5.965327936732534, 0.9630222861766652, 0.10068970894255942, 5.494192591709826, 28.477504306326757, 1.4420284151605824, 2.4809718980402935, 0.1842445285081722, 3.9940448848130776, 0.06601972083470631, 0.7533570524077114, 0.7844548014672565, 7.928280705062159, 0.13909498435403764, 0.41621772811822005, 12.130923598700297, 1.482301334223873, 0.21132536145945383, 2.08231891379031, 7.009844705430352, 0.6159221957441737, 2.0189524327466706, 0.06716105862192506, 0.24292707785361503, 0.09877759758475137, 1.418356773002292, 3.4264294403487217, 0.3904709263468045, 0.4099626041415146, 1.3515514560283313, 0.08348070672228687, 0.591331554328642, 0.3913751030353805, 1.6836511069716615, 0.8416106262401857, 1.7759215969123994, 17.422506499325795, 3.7655105211333515, 2.1507843584547706, 0.12141165993647934, 0.22238299768367722, 5.439867877551946, 0.6028190450441557, 0.12854131546443034, 0.8588640961664538, 0.06845062209579564, 0.14380856118956448, 1.1913046661890834, 0.07807046915949663, 0.9412924005135131, 0.19952659680197152, 0.11143607122481407, 0.5155734058809134, 0.8497185713000386, 0.9081343144095082, 0.4865804615718237, 0.22067840228718164, 1.3615270447399968, 0.36410157669145143, 0.2734022790292226, 16.7311226065072, 3.9292406146089163, 0.4469152678238054, 0.5112896835366767, 0.1665760266592791, 1.0035916566132594, 0.29594740596895946, 0.5852987688819143, 0.10532917293476045, 1.9504425203762146, 1.3176374189224023, 0.7957792439274531, 0.8894134101853874, 3.8407054119718036, 0.8710482476092309, 0.3299800236242099, 0.21612787370697178, 26.108324221159247, 6.273770768086238, 0.23450785885179345, 0.21258527979599404, 0.5987576612298967, 0.10743397768521579, 0.054635988099849, 0.18786123526247583, 0.5971123561080619, 0.1227160459790151, 1.1448655585610785, 1.1635864627851993, 0.1611954342338192, 19.254412938086578, 5.945169243347891, 0.1889136376377035, 0.59736433977537, 0.17323135998994435, 0.5412905625149985, 0.10771560648985415, 0.20326188410559662, 18.60373181882256, 6.124774307863863, 0.11068012022288995, 0.43018058780081847, 0.25328805335057497, 0.9002635304482982, 0.25570413204299913, 47.0674511362907, 17.75250134551867, 1.2350905340260214, 2.54994131003937, 0.6082144600382808, 1.2910457307370713, 0.8437154309906412, 3.5991716555727153, 1.57863320797887, 95.78910093561535, 42.109894820535004, 0.7030196092207642, 0.33444161679242873, 0.12983087893830092, 0.4789320161405915, 0.11816551739880525, 0.4200715959711666, 10.920705334894446, 5.527009758734533, 0.17176392569209167, 4.551180773231152, 2.4449234110465787]}, {\"hovertemplate\": \"<b>m/z:</b> %{x};<br><b>Intensity:</b> %{y};<br><b>Ion:</b> %{hovertext}.\", \"hovertext\": [\"y1_+1\", \"y2_+1\", \"b2_+1\", \"y3_+1\", \"b3_+1\", \"y4_+1\", \"b4_+1\", \"b4_+2\", \"y5_+1\", \"b5_+1\", \"b5_+2\", \"y6_+1\", \"b6_+1\", \"b6_+2\", \"y7_+1\", \"b7_+1\", \"b7_+2\", \"y8_+1\", \"b8_+1\", \"b8_+2\", \"y9_+1\", \"b9_+1\", \"y10_+1\", \"y10_+2\", \"b10_+1\", \"y11_+1\", \"y11_+2\", \"b11_+1\", \"y12_+1\", \"y12_+2\", \"b12_+1\"], \"marker\": {\"color\": \"lightblue\", \"size\": 3}, \"mode\": \"markers\", \"name\": \"\", \"showlegend\": false, \"type\": \"scatter\", \"x\": [175.11896, 232.14041, 143.0815, 345.2245, 214.11862, 416.2616, 327.20267, 164.10498, 545.3042, 428.25037, 214.62881, 658.38824, 515.2824, 258.14484, 771.4723, 630.3093, 315.6583, 886.49927, 743.3934, 372.20035, 973.5313, 856.4775, 1074.579, 537.7931, 985.5201, 1187.6631, 594.33514, 1056.5571, 1258.7002, 629.8537, 1169.6412], \"y\": [-1.9944956999999999, -15.300025, -13.627195, -8.322782, -67.32009599999999, -15.832223, -23.941295, -0.39109619999999995, -20.433846, -11.445445999999999, -0.0700736, -30.068564, -2.3193207, -0.05487133, -14.350693, -6.9786735, -0.091373146, -20.525270000000003, -5.226955, -0.01433533, -50.23156399999999, -1.9454353, -100.0, -2.282732, -1.9337429, -12.601395000000002, -4.805667000000001, -0.9185349, -4.843226400000001, -2.8046576, -1.0429648]}],                        {\"height\": 520, \"hovermode\": \"closest\", \"legend\": {\"orientation\": \"h\", \"x\": 1, \"xanchor\": \"right\", \"y\": 1.01, \"yanchor\": \"bottom\"}, \"shapes\": [{\"line\": {\"color\": \"grey\", \"width\": 1.5}, \"type\": \"line\", \"x0\": 101.07103729248047, \"x1\": 101.07103729248047, \"xref\": \"x\", \"y0\": 0, \"y1\": 0.06355917443628661, \"yref\": \"y\"}, {\"line\": {\"color\": \"grey\", \"width\": 1.5}, \"type\": \"line\", \"x0\": 102.05522918701172, \"x1\": 102.05522918701172, \"xref\": \"x\", \"y0\": 0, \"y1\": 0.3561715024555809, \"yref\": \"y\"}, {\"line\": {\"color\": \"grey\", \"width\": 1.5}, \"type\": \"line\", \"x0\": 110.0711669921875, \"x1\": 110.0711669921875, \"xref\": \"x\", \"y0\": 0, \"y1\": 0.4011876434917288, \"yref\": \"y\"}, {\"line\": {\"color\": \"grey\", \"width\": 1.5}, \"type\": \"line\", \"x0\": 111.33304595947266, \"x1\": 111.33304595947266, \"xref\": \"x\", \"y0\": 0, \"y1\": 0.11340747285728285, \"yref\": \"y\"}, {\"line\": {\"color\": \"grey\", \"width\": 1.5}, \"type\": \"line\", \"x0\": 112.08697509765625, \"x1\": 112.08697509765625, \"xref\": \"x\", \"y0\": 0, \"y1\": 0.10786383217650597, \"yref\": \"y\"}, {\"line\": {\"color\": \"grey\", \"width\": 1.5}, \"type\": \"line\", \"x0\": 115.08676147460938, \"x1\": 115.08676147460938, \"xref\": \"x\", \"y0\": 0, \"y1\": 9.746639316062964, \"yref\": \"y\"}, {\"line\": {\"color\": \"grey\", \"width\": 1.5}, \"type\": \"line\", \"x0\": 120.08071899414062, \"x1\": 120.08071899414062, \"xref\": \"x\", \"y0\": 0, \"y1\": 2.1231402678942124, \"yref\": \"y\"}, {\"line\": {\"color\": \"grey\", \"width\": 1.5}, \"type\": \"line\", \"x0\": 129.102783203125, \"x1\": 129.102783203125, \"xref\": \"x\", \"y0\": 0, \"y1\": 0.11696488933692575, \"yref\": \"y\"}, {\"line\": {\"color\": \"grey\", \"width\": 1.5}, \"type\": \"line\", \"x0\": 130.06495666503906, \"x1\": 130.06495666503906, \"xref\": \"x\", \"y0\": 0, \"y1\": 0.16046912836922547, \"yref\": \"y\"}, {\"line\": {\"color\": \"grey\", \"width\": 1.5}, \"type\": \"line\", \"x0\": 130.08546447753906, \"x1\": 130.08546447753906, \"xref\": \"x\", \"y0\": 0, \"y1\": 0.08228007866040737, \"yref\": \"y\"}, {\"line\": {\"color\": \"grey\", \"width\": 1.5}, \"type\": \"line\", \"x0\": 136.0753173828125, \"x1\": 136.0753173828125, \"xref\": \"x\", \"y0\": 0, \"y1\": 1.32201007667863, \"yref\": \"y\"}, {\"line\": {\"color\": \"grey\", \"width\": 1.5}, \"type\": \"line\", \"x0\": 141.1020965576172, \"x1\": 141.1020965576172, \"xref\": \"x\", \"y0\": 0, \"y1\": 0.41457242299638525, \"yref\": \"y\"}, {\"line\": {\"color\": \"grey\", \"width\": 1.5}, \"type\": \"line\", \"x0\": 142.12277221679688, \"x1\": 142.12277221679688, \"xref\": \"x\", \"y0\": 0, \"y1\": 0.1388430006867296, \"yref\": \"y\"}, {\"line\": {\"color\": \"grey\", \"width\": 1.5}, \"type\": \"line\", \"x0\": 143.0813751220703, \"x1\": 143.0813751220703, \"xref\": \"x\", \"y0\": 0, \"y1\": 39.065680135786586, \"yref\": \"y\"}, {\"line\": {\"color\": \"grey\", \"width\": 1.5}, \"type\": \"line\", \"x0\": 143.1173095703125, \"x1\": 143.1173095703125, \"xref\": \"x\", \"y0\": 0, \"y1\": 0.6545053419796342, \"yref\": \"y\"}, {\"line\": {\"color\": \"grey\", \"width\": 1.5}, \"type\": \"line\", \"x0\": 144.08470153808594, \"x1\": 144.08470153808594, \"xref\": \"x\", \"y0\": 0, \"y1\": 1.3505435213590993, \"yref\": \"y\"}, {\"line\": {\"color\": \"grey\", \"width\": 1.5}, \"type\": \"line\", \"x0\": 147.11366271972656, \"x1\": 147.11366271972656, \"xref\": \"x\", \"y0\": 0, \"y1\": 0.05186416775946057, \"yref\": \"y\"}, {\"line\": {\"color\": \"grey\", \"width\": 1.5}, \"type\": \"line\", \"x0\": 153.0662384033203, \"x1\": 153.0662384033203, \"xref\": \"x\", \"y0\": 0, \"y1\": 0.49750469467806047, \"yref\": \"y\"}, {\"line\": {\"color\": \"grey\", \"width\": 1.5}, \"type\": \"line\", \"x0\": 155.0806121826172, \"x1\": 155.0806121826172, \"xref\": \"x\", \"y0\": 0, \"y1\": 0.38679492931784026, \"yref\": \"y\"}, {\"line\": {\"color\": \"grey\", \"width\": 1.5}, \"type\": \"line\", \"x0\": 157.1334686279297, \"x1\": 157.1334686279297, \"xref\": \"x\", \"y0\": 0, \"y1\": 21.679696445651793, \"yref\": \"y\"}, {\"line\": {\"color\": \"grey\", \"width\": 1.5}, \"type\": \"line\", \"x0\": 158.09278869628906, \"x1\": 158.09278869628906, \"xref\": \"x\", \"y0\": 0, \"y1\": 0.4365542923268454, \"yref\": \"y\"}, {\"line\": {\"color\": \"grey\", \"width\": 1.5}, \"type\": \"line\", \"x0\": 158.1370849609375, \"x1\": 158.1370849609375, \"xref\": \"x\", \"y0\": 0, \"y1\": 0.8970915007539499, \"yref\": \"y\"}, {\"line\": {\"color\": \"grey\", \"width\": 1.5}, \"type\": \"line\", \"x0\": 159.07765197753906, \"x1\": 159.07765197753906, \"xref\": \"x\", \"y0\": 0, \"y1\": 0.05235331252541149, \"yref\": \"y\"}, {\"line\": {\"color\": \"grey\", \"width\": 1.5}, \"type\": \"line\", \"x0\": 159.0916290283203, \"x1\": 159.0916290283203, \"xref\": \"x\", \"y0\": 0, \"y1\": 0.5612862076443248, \"yref\": \"y\"}, {\"line\": {\"color\": \"grey\", \"width\": 1.5}, \"type\": \"line\", \"x0\": 161.0919189453125, \"x1\": 161.0919189453125, \"xref\": \"x\", \"y0\": 0, \"y1\": 0.13697535703491712, \"yref\": \"y\"}, {\"line\": {\"color\": \"grey\", \"width\": 1.5}, \"type\": \"line\", \"x0\": 169.08047485351562, \"x1\": 169.08047485351562, \"xref\": \"x\", \"y0\": 0, \"y1\": 0.5321746827859136, \"yref\": \"y\"}, {\"line\": {\"color\": \"grey\", \"width\": 1.5}, \"type\": \"line\", \"x0\": 169.09693908691406, \"x1\": 169.09693908691406, \"xref\": \"x\", \"y0\": 0, \"y1\": 17.478061486682886, \"yref\": \"y\"}, {\"line\": {\"color\": \"grey\", \"width\": 1.5}, \"type\": \"line\", \"x0\": 170.10011291503906, \"x1\": 170.10011291503906, \"xref\": \"x\", \"y0\": 0, \"y1\": 0.28445991525344594, \"yref\": \"y\"}, {\"line\": {\"color\": \"grey\", \"width\": 1.5}, \"type\": \"line\", \"x0\": 171.07623291015625, \"x1\": 171.07623291015625, \"xref\": \"x\", \"y0\": 0, \"y1\": 1.070708247529189, \"yref\": \"y\"}, {\"line\": {\"color\": \"grey\", \"width\": 1.5}, \"type\": \"line\", \"x0\": 171.11361694335938, \"x1\": 171.11361694335938, \"xref\": \"x\", \"y0\": 0, \"y1\": 0.007100010390620644, \"yref\": \"y\"}, {\"line\": {\"color\": \"grey\", \"width\": 1.5}, \"type\": \"line\", \"x0\": 172.1082305908203, \"x1\": 172.1082305908203, \"xref\": \"x\", \"y0\": 0, \"y1\": 0.07220073196808584, \"yref\": \"y\"}, {\"line\": {\"color\": \"grey\", \"width\": 1.5}, \"type\": \"line\", \"x0\": 173.0914764404297, \"x1\": 173.0914764404297, \"xref\": \"x\", \"y0\": 0, \"y1\": 0.7077331860562911, \"yref\": \"y\"}, {\"line\": {\"color\": \"grey\", \"width\": 1.5}, \"type\": \"line\", \"x0\": 175.1188507080078, \"x1\": 175.1188507080078, \"xref\": \"x\", \"y0\": 0, \"y1\": 5.743078342166844, \"yref\": \"y\"}, {\"line\": {\"color\": \"grey\", \"width\": 1.5}, \"type\": \"line\", \"x0\": 183.14932250976562, \"x1\": 183.14932250976562, \"xref\": \"x\", \"y0\": 0, \"y1\": 0.48188170730496205, \"yref\": \"y\"}, {\"line\": {\"color\": \"grey\", \"width\": 1.5}, \"type\": \"line\", \"x0\": 185.12823486328125, \"x1\": 185.12823486328125, \"xref\": \"x\", \"y0\": 0, \"y1\": 7.785628304228479, \"yref\": \"y\"}, {\"line\": {\"color\": \"grey\", \"width\": 1.5}, \"type\": \"line\", \"x0\": 186.12887573242188, \"x1\": 186.12887573242188, \"xref\": \"x\", \"y0\": 0, \"y1\": 0.0, \"yref\": \"y\"}, {\"line\": {\"color\": \"grey\", \"width\": 1.5}, \"type\": \"line\", \"x0\": 187.14381408691406, \"x1\": 187.14381408691406, \"xref\": \"x\", \"y0\": 0, \"y1\": 3.2759951909658227, \"yref\": \"y\"}, {\"line\": {\"color\": \"grey\", \"width\": 1.5}, \"type\": \"line\", \"x0\": 189.08665466308594, \"x1\": 189.08665466308594, \"xref\": \"x\", \"y0\": 0, \"y1\": 0.9039691726145931, \"yref\": \"y\"}, {\"line\": {\"color\": \"grey\", \"width\": 1.5}, \"type\": \"line\", \"x0\": 196.10699462890625, \"x1\": 196.10699462890625, \"xref\": \"x\", \"y0\": 0, \"y1\": 0.0687470734690992, \"yref\": \"y\"}, {\"line\": {\"color\": \"grey\", \"width\": 1.5}, \"type\": \"line\", \"x0\": 197.12796020507812, \"x1\": 197.12796020507812, \"xref\": \"x\", \"y0\": 0, \"y1\": 0.9800385950042904, \"yref\": \"y\"}, {\"line\": {\"color\": \"grey\", \"width\": 1.5}, \"type\": \"line\", \"x0\": 199.1077117919922, \"x1\": 199.1077117919922, \"xref\": \"x\", \"y0\": 0, \"y1\": 0.05331677948864806, \"yref\": \"y\"}, {\"line\": {\"color\": \"grey\", \"width\": 1.5}, \"type\": \"line\", \"x0\": 199.17942810058594, \"x1\": 199.17942810058594, \"xref\": \"x\", \"y0\": 0, \"y1\": 0.17890840378870787, \"yref\": \"y\"}, {\"line\": {\"color\": \"grey\", \"width\": 1.5}, \"type\": \"line\", \"x0\": 201.12210083007812, \"x1\": 201.12210083007812, \"xref\": \"x\", \"y0\": 0, \"y1\": 0.41635113123620665, \"yref\": \"y\"}, {\"line\": {\"color\": \"grey\", \"width\": 1.5}, \"type\": \"line\", \"x0\": 203.06613159179688, \"x1\": 203.06613159179688, \"xref\": \"x\", \"y0\": 0, \"y1\": 0.044111964347572086, \"yref\": \"y\"}, {\"line\": {\"color\": \"grey\", \"width\": 1.5}, \"type\": \"line\", \"x0\": 203.13784790039062, \"x1\": 203.13784790039062, \"xref\": \"x\", \"y0\": 0, \"y1\": 0.16410065769219428, \"yref\": \"y\"}, {\"line\": {\"color\": \"grey\", \"width\": 1.5}, \"type\": \"line\", \"x0\": 211.14389038085938, \"x1\": 211.14389038085938, \"xref\": \"x\", \"y0\": 0, \"y1\": 1.6083821032898837, \"yref\": \"y\"}, {\"line\": {\"color\": \"grey\", \"width\": 1.5}, \"type\": \"line\", \"x0\": 213.16006469726562, \"x1\": 213.16006469726562, \"xref\": \"x\", \"y0\": 0, \"y1\": 0.11354087597526949, \"yref\": \"y\"}, {\"line\": {\"color\": \"grey\", \"width\": 1.5}, \"type\": \"line\", \"x0\": 214.1183319091797, \"x1\": 214.1183319091797, \"xref\": \"x\", \"y0\": 0, \"y1\": 100.0, \"yref\": \"y\"}, {\"line\": {\"color\": \"grey\", \"width\": 1.5}, \"type\": \"line\", \"x0\": 215.11972045898438, \"x1\": 215.11972045898438, \"xref\": \"x\", \"y0\": 0, \"y1\": 5.48704811361321, \"yref\": \"y\"}, {\"line\": {\"color\": \"grey\", \"width\": 1.5}, \"type\": \"line\", \"x0\": 215.13931274414062, \"x1\": 215.13931274414062, \"xref\": \"x\", \"y0\": 0, \"y1\": 6.323426373114588, \"yref\": \"y\"}, {\"line\": {\"color\": \"grey\", \"width\": 1.5}, \"type\": \"line\", \"x0\": 216.14149475097656, \"x1\": 216.14149475097656, \"xref\": \"x\", \"y0\": 0, \"y1\": 0.0645967542428491, \"yref\": \"y\"}, {\"line\": {\"color\": \"grey\", \"width\": 1.5}, \"type\": \"line\", \"x0\": 226.11911010742188, \"x1\": 226.11911010742188, \"xref\": \"x\", \"y0\": 0, \"y1\": 1.579359513843464, \"yref\": \"y\"}, {\"line\": {\"color\": \"grey\", \"width\": 1.5}, \"type\": \"line\", \"x0\": 227.17572021484375, \"x1\": 227.17572021484375, \"xref\": \"x\", \"y0\": 0, \"y1\": 0.5366659210914628, \"yref\": \"y\"}, {\"line\": {\"color\": \"grey\", \"width\": 1.5}, \"type\": \"line\", \"x0\": 228.16934204101562, \"x1\": 228.16934204101562, \"xref\": \"x\", \"y0\": 0, \"y1\": 0.2603732411725304, \"yref\": \"y\"}, {\"line\": {\"color\": \"grey\", \"width\": 1.5}, \"type\": \"line\", \"x0\": 229.11692810058594, \"x1\": 229.11692810058594, \"xref\": \"x\", \"y0\": 0, \"y1\": 0.5858027362165303, \"yref\": \"y\"}, {\"line\": {\"color\": \"grey\", \"width\": 1.5}, \"type\": \"line\", \"x0\": 230.11309814453125, \"x1\": 230.11309814453125, \"xref\": \"x\", \"y0\": 0, \"y1\": 0.4257189946325997, \"yref\": \"y\"}, {\"line\": {\"color\": \"grey\", \"width\": 1.5}, \"type\": \"line\", \"x0\": 232.14019775390625, \"x1\": 232.14019775390625, \"xref\": \"x\", \"y0\": 0, \"y1\": 15.642256712363164, \"yref\": \"y\"}, {\"line\": {\"color\": \"grey\", \"width\": 1.5}, \"type\": \"line\", \"x0\": 233.14337158203125, \"x1\": 233.14337158203125, \"xref\": \"x\", \"y0\": 0, \"y1\": 0.4409565952204034, \"yref\": \"y\"}, {\"line\": {\"color\": \"grey\", \"width\": 1.5}, \"type\": \"line\", \"x0\": 238.15509033203125, \"x1\": 238.15509033203125, \"xref\": \"x\", \"y0\": 0, \"y1\": 0.05291657013468823, \"yref\": \"y\"}, {\"line\": {\"color\": \"grey\", \"width\": 1.5}, \"type\": \"line\", \"x0\": 241.15399169921875, \"x1\": 241.15399169921875, \"xref\": \"x\", \"y0\": 0, \"y1\": 0.2822068848163387, \"yref\": \"y\"}, {\"line\": {\"color\": \"grey\", \"width\": 1.5}, \"type\": \"line\", \"x0\": 242.1150665283203, \"x1\": 242.1150665283203, \"xref\": \"x\", \"y0\": 0, \"y1\": 0.07393497250191179, \"yref\": \"y\"}, {\"line\": {\"color\": \"grey\", \"width\": 1.5}, \"type\": \"line\", \"x0\": 242.1466064453125, \"x1\": 242.1466064453125, \"xref\": \"x\", \"y0\": 0, \"y1\": 0.1456613822727119, \"yref\": \"y\"}, {\"line\": {\"color\": \"grey\", \"width\": 1.5}, \"type\": \"line\", \"x0\": 243.09547424316406, \"x1\": 243.09547424316406, \"xref\": \"x\", \"y0\": 0, \"y1\": 0.0701107497862956, \"yref\": \"y\"}, {\"line\": {\"color\": \"grey\", \"width\": 1.5}, \"type\": \"line\", \"x0\": 244.12904357910156, \"x1\": 244.12904357910156, \"xref\": \"x\", \"y0\": 0, \"y1\": 2.8017619290920925, \"yref\": \"y\"}, {\"line\": {\"color\": \"grey\", \"width\": 1.5}, \"type\": \"line\", \"x0\": 255.14968872070312, \"x1\": 255.14968872070312, \"xref\": \"x\", \"y0\": 0, \"y1\": 0.42789791222638096, \"yref\": \"y\"}, {\"line\": {\"color\": \"grey\", \"width\": 1.5}, \"type\": \"line\", \"x0\": 256.1650390625, \"x1\": 256.1650390625, \"xref\": \"x\", \"y0\": 0, \"y1\": 3.1749793855126294, \"yref\": \"y\"}, {\"line\": {\"color\": \"grey\", \"width\": 1.5}, \"type\": \"line\", \"x0\": 268.1651611328125, \"x1\": 268.1651611328125, \"xref\": \"x\", \"y0\": 0, \"y1\": 4.00418352178006, \"yref\": \"y\"}, {\"line\": {\"color\": \"grey\", \"width\": 1.5}, \"type\": \"line\", \"x0\": 269.167236328125, \"x1\": 269.167236328125, \"xref\": \"x\", \"y0\": 0, \"y1\": 0.38024335396783115, \"yref\": \"y\"}, {\"line\": {\"color\": \"grey\", \"width\": 1.5}, \"type\": \"line\", \"x0\": 270.1444091796875, \"x1\": 270.1444091796875, \"xref\": \"x\", \"y0\": 0, \"y1\": 2.5487703271148208, \"yref\": \"y\"}, {\"line\": {\"color\": \"grey\", \"width\": 1.5}, \"type\": \"line\", \"x0\": 271.1393737792969, \"x1\": 271.1393737792969, \"xref\": \"x\", \"y0\": 0, \"y1\": 0.03766414697821928, \"yref\": \"y\"}, {\"line\": {\"color\": \"grey\", \"width\": 1.5}, \"type\": \"line\", \"x0\": 272.1769104003906, \"x1\": 272.1769104003906, \"xref\": \"x\", \"y0\": 0, \"y1\": 1.6721487936874828, \"yref\": \"y\"}, {\"line\": {\"color\": \"grey\", \"width\": 1.5}, \"type\": \"line\", \"x0\": 281.1961669921875, \"x1\": 281.1961669921875, \"xref\": \"x\", \"y0\": 0, \"y1\": 0.3480932025330584, \"yref\": \"y\"}, {\"line\": {\"color\": \"grey\", \"width\": 1.5}, \"type\": \"line\", \"x0\": 282.1806335449219, \"x1\": 282.1806335449219, \"xref\": \"x\", \"y0\": 0, \"y1\": 2.344085476417367, \"yref\": \"y\"}, {\"line\": {\"color\": \"grey\", \"width\": 1.5}, \"type\": \"line\", \"x0\": 283.1418151855469, \"x1\": 283.1418151855469, \"xref\": \"x\", \"y0\": 0, \"y1\": 0.41884132277195674, \"yref\": \"y\"}, {\"line\": {\"color\": \"grey\", \"width\": 1.5}, \"type\": \"line\", \"x0\": 284.1585998535156, \"x1\": 284.1585998535156, \"xref\": \"x\", \"y0\": 0, \"y1\": 1.4454524285222388, \"yref\": \"y\"}, {\"line\": {\"color\": \"grey\", \"width\": 1.5}, \"type\": \"line\", \"x0\": 286.1020202636719, \"x1\": 286.1020202636719, \"xref\": \"x\", \"y0\": 0, \"y1\": 0.8997447405450169, \"yref\": \"y\"}, {\"line\": {\"color\": \"grey\", \"width\": 1.5}, \"type\": \"line\", \"x0\": 286.1396484375, \"x1\": 286.1396484375, \"xref\": \"x\", \"y0\": 0, \"y1\": 0.23968093531594087, \"yref\": \"y\"}, {\"line\": {\"color\": \"grey\", \"width\": 1.5}, \"type\": \"line\", \"x0\": 286.1756286621094, \"x1\": 286.1756286621094, \"xref\": \"x\", \"y0\": 0, \"y1\": 5.965327936732534, \"yref\": \"y\"}, {\"line\": {\"color\": \"grey\", \"width\": 1.5}, \"type\": \"line\", \"x0\": 287.1747741699219, \"x1\": 287.1747741699219, \"xref\": \"x\", \"y0\": 0, \"y1\": 0.9630222861766652, \"yref\": \"y\"}, {\"line\": {\"color\": \"grey\", \"width\": 1.5}, \"type\": \"line\", \"x0\": 294.1817321777344, \"x1\": 294.1817321777344, \"xref\": \"x\", \"y0\": 0, \"y1\": 0.10068970894255942, \"yref\": \"y\"}, {\"line\": {\"color\": \"grey\", \"width\": 1.5}, \"type\": \"line\", \"x0\": 297.15484619140625, \"x1\": 297.15484619140625, \"xref\": \"x\", \"y0\": 0, \"y1\": 5.494192591709826, \"yref\": \"y\"}, {\"line\": {\"color\": \"grey\", \"width\": 1.5}, \"type\": \"line\", \"x0\": 299.2074279785156, \"x1\": 299.2074279785156, \"xref\": \"x\", \"y0\": 0, \"y1\": 28.477504306326757, \"yref\": \"y\"}, {\"line\": {\"color\": \"grey\", \"width\": 1.5}, \"type\": \"line\", \"x0\": 300.1697692871094, \"x1\": 300.1697692871094, \"xref\": \"x\", \"y0\": 0, \"y1\": 1.4420284151605824, \"yref\": \"y\"}, {\"line\": {\"color\": \"grey\", \"width\": 1.5}, \"type\": \"line\", \"x0\": 300.2109375, \"x1\": 300.2109375, \"xref\": \"x\", \"y0\": 0, \"y1\": 2.4809718980402935, \"yref\": \"y\"}, {\"line\": {\"color\": \"grey\", \"width\": 1.5}, \"type\": \"line\", \"x0\": 302.171630859375, \"x1\": 302.171630859375, \"xref\": \"x\", \"y0\": 0, \"y1\": 0.1842445285081722, \"yref\": \"y\"}, {\"line\": {\"color\": \"grey\", \"width\": 1.5}, \"type\": \"line\", \"x0\": 304.11358642578125, \"x1\": 304.11358642578125, \"xref\": \"x\", \"y0\": 0, \"y1\": 3.9940448848130776, \"yref\": \"y\"}, {\"line\": {\"color\": \"grey\", \"width\": 1.5}, \"type\": \"line\", \"x0\": 312.1933288574219, \"x1\": 312.1933288574219, \"xref\": \"x\", \"y0\": 0, \"y1\": 0.06601972083470631, \"yref\": \"y\"}, {\"line\": {\"color\": \"grey\", \"width\": 1.5}, \"type\": \"line\", \"x0\": 313.1502990722656, \"x1\": 313.1502990722656, \"xref\": \"x\", \"y0\": 0, \"y1\": 0.7533570524077114, \"yref\": \"y\"}, {\"line\": {\"color\": \"grey\", \"width\": 1.5}, \"type\": \"line\", \"x0\": 314.17059326171875, \"x1\": 314.17059326171875, \"xref\": \"x\", \"y0\": 0, \"y1\": 0.7844548014672565, \"yref\": \"y\"}, {\"line\": {\"color\": \"grey\", \"width\": 1.5}, \"type\": \"line\", \"x0\": 315.1658935546875, \"x1\": 315.1658935546875, \"xref\": \"x\", \"y0\": 0, \"y1\": 7.928280705062159, \"yref\": \"y\"}, {\"line\": {\"color\": \"grey\", \"width\": 1.5}, \"type\": \"line\", \"x0\": 315.207275390625, \"x1\": 315.207275390625, \"xref\": \"x\", \"y0\": 0, \"y1\": 0.13909498435403764, \"yref\": \"y\"}, {\"line\": {\"color\": \"grey\", \"width\": 1.5}, \"type\": \"line\", \"x0\": 316.1553039550781, \"x1\": 316.1553039550781, \"xref\": \"x\", \"y0\": 0, \"y1\": 0.41621772811822005, \"yref\": \"y\"}, {\"line\": {\"color\": \"grey\", \"width\": 1.5}, \"type\": \"line\", \"x0\": 327.2018127441406, \"x1\": 327.2018127441406, \"xref\": \"x\", \"y0\": 0, \"y1\": 12.130923598700297, \"yref\": \"y\"}, {\"line\": {\"color\": \"grey\", \"width\": 1.5}, \"type\": \"line\", \"x0\": 328.2027282714844, \"x1\": 328.2027282714844, \"xref\": \"x\", \"y0\": 0, \"y1\": 1.482301334223873, \"yref\": \"y\"}, {\"line\": {\"color\": \"grey\", \"width\": 1.5}, \"type\": \"line\", \"x0\": 337.18524169921875, \"x1\": 337.18524169921875, \"xref\": \"x\", \"y0\": 0, \"y1\": 0.21132536145945383, \"yref\": \"y\"}, {\"line\": {\"color\": \"grey\", \"width\": 1.5}, \"type\": \"line\", \"x0\": 339.2023620605469, \"x1\": 339.2023620605469, \"xref\": \"x\", \"y0\": 0, \"y1\": 2.08231891379031, \"yref\": \"y\"}, {\"line\": {\"color\": \"grey\", \"width\": 1.5}, \"type\": \"line\", \"x0\": 345.2239074707031, \"x1\": 345.2239074707031, \"xref\": \"x\", \"y0\": 0, \"y1\": 7.009844705430352, \"yref\": \"y\"}, {\"line\": {\"color\": \"grey\", \"width\": 1.5}, \"type\": \"line\", \"x0\": 355.195556640625, \"x1\": 355.195556640625, \"xref\": \"x\", \"y0\": 0, \"y1\": 0.6159221957441737, \"yref\": \"y\"}, {\"line\": {\"color\": \"grey\", \"width\": 1.5}, \"type\": \"line\", \"x0\": 357.2144775390625, \"x1\": 357.2144775390625, \"xref\": \"x\", \"y0\": 0, \"y1\": 2.0189524327466706, \"yref\": \"y\"}, {\"line\": {\"color\": \"grey\", \"width\": 1.5}, \"type\": \"line\", \"x0\": 366.1735534667969, \"x1\": 366.1735534667969, \"xref\": \"x\", \"y0\": 0, \"y1\": 0.06716105862192506, \"yref\": \"y\"}, {\"line\": {\"color\": \"grey\", \"width\": 1.5}, \"type\": \"line\", \"x0\": 371.2001037597656, \"x1\": 371.2001037597656, \"xref\": \"x\", \"y0\": 0, \"y1\": 0.24292707785361503, \"yref\": \"y\"}, {\"line\": {\"color\": \"grey\", \"width\": 1.5}, \"type\": \"line\", \"x0\": 382.2425231933594, \"x1\": 382.2425231933594, \"xref\": \"x\", \"y0\": 0, \"y1\": 0.09877759758475137, \"yref\": \"y\"}, {\"line\": {\"color\": \"grey\", \"width\": 1.5}, \"type\": \"line\", \"x0\": 383.22918701171875, \"x1\": 383.22918701171875, \"xref\": \"x\", \"y0\": 0, \"y1\": 1.418356773002292, \"yref\": \"y\"}, {\"line\": {\"color\": \"grey\", \"width\": 1.5}, \"type\": \"line\", \"x0\": 384.1868896484375, \"x1\": 384.1868896484375, \"xref\": \"x\", \"y0\": 0, \"y1\": 3.4264294403487217, \"yref\": \"y\"}, {\"line\": {\"color\": \"grey\", \"width\": 1.5}, \"type\": \"line\", \"x0\": 385.1949157714844, \"x1\": 385.1949157714844, \"xref\": \"x\", \"y0\": 0, \"y1\": 0.3904709263468045, \"yref\": \"y\"}, {\"line\": {\"color\": \"grey\", \"width\": 1.5}, \"type\": \"line\", \"x0\": 387.1935729980469, \"x1\": 387.1935729980469, \"xref\": \"x\", \"y0\": 0, \"y1\": 0.4099626041415146, \"yref\": \"y\"}, {\"line\": {\"color\": \"grey\", \"width\": 1.5}, \"type\": \"line\", \"x0\": 389.20184326171875, \"x1\": 389.20184326171875, \"xref\": \"x\", \"y0\": 0, \"y1\": 1.3515514560283313, \"yref\": \"y\"}, {\"line\": {\"color\": \"grey\", \"width\": 1.5}, \"type\": \"line\", \"x0\": 395.2669982910156, \"x1\": 395.2669982910156, \"xref\": \"x\", \"y0\": 0, \"y1\": 0.08348070672228687, \"yref\": \"y\"}, {\"line\": {\"color\": \"grey\", \"width\": 1.5}, \"type\": \"line\", \"x0\": 399.18304443359375, \"x1\": 399.18304443359375, \"xref\": \"x\", \"y0\": 0, \"y1\": 0.591331554328642, \"yref\": \"y\"}, {\"line\": {\"color\": \"grey\", \"width\": 1.5}, \"type\": \"line\", \"x0\": 399.23590087890625, \"x1\": 399.23590087890625, \"xref\": \"x\", \"y0\": 0, \"y1\": 0.3913751030353805, \"yref\": \"y\"}, {\"line\": {\"color\": \"grey\", \"width\": 1.5}, \"type\": \"line\", \"x0\": 400.256591796875, \"x1\": 400.256591796875, \"xref\": \"x\", \"y0\": 0, \"y1\": 1.6836511069716615, \"yref\": \"y\"}, {\"line\": {\"color\": \"grey\", \"width\": 1.5}, \"type\": \"line\", \"x0\": 402.19915771484375, \"x1\": 402.19915771484375, \"xref\": \"x\", \"y0\": 0, \"y1\": 0.8416106262401857, \"yref\": \"y\"}, {\"line\": {\"color\": \"grey\", \"width\": 1.5}, \"type\": \"line\", \"x0\": 410.23748779296875, \"x1\": 410.23748779296875, \"xref\": \"x\", \"y0\": 0, \"y1\": 1.7759215969123994, \"yref\": \"y\"}, {\"line\": {\"color\": \"grey\", \"width\": 1.5}, \"type\": \"line\", \"x0\": 416.26104736328125, \"x1\": 416.26104736328125, \"xref\": \"x\", \"y0\": 0, \"y1\": 17.422506499325795, \"yref\": \"y\"}, {\"line\": {\"color\": \"grey\", \"width\": 1.5}, \"type\": \"line\", \"x0\": 417.19793701171875, \"x1\": 417.19793701171875, \"xref\": \"x\", \"y0\": 0, \"y1\": 3.7655105211333515, \"yref\": \"y\"}, {\"line\": {\"color\": \"grey\", \"width\": 1.5}, \"type\": \"line\", \"x0\": 417.2638244628906, \"x1\": 417.2638244628906, \"xref\": \"x\", \"y0\": 0, \"y1\": 2.1507843584547706, \"yref\": \"y\"}, {\"line\": {\"color\": \"grey\", \"width\": 1.5}, \"type\": \"line\", \"x0\": 426.2356262207031, \"x1\": 426.2356262207031, \"xref\": \"x\", \"y0\": 0, \"y1\": 0.12141165993647934, \"yref\": \"y\"}, {\"line\": {\"color\": \"grey\", \"width\": 1.5}, \"type\": \"line\", \"x0\": 427.2550964355469, \"x1\": 427.2550964355469, \"xref\": \"x\", \"y0\": 0, \"y1\": 0.22238299768367722, \"yref\": \"y\"}, {\"line\": {\"color\": \"grey\", \"width\": 1.5}, \"type\": \"line\", \"x0\": 428.250244140625, \"x1\": 428.250244140625, \"xref\": \"x\", \"y0\": 0, \"y1\": 5.439867877551946, \"yref\": \"y\"}, {\"line\": {\"color\": \"grey\", \"width\": 1.5}, \"type\": \"line\", \"x0\": 429.2529296875, \"x1\": 429.2529296875, \"xref\": \"x\", \"y0\": 0, \"y1\": 0.6028190450441557, \"yref\": \"y\"}, {\"line\": {\"color\": \"grey\", \"width\": 1.5}, \"type\": \"line\", \"x0\": 452.2121887207031, \"x1\": 452.2121887207031, \"xref\": \"x\", \"y0\": 0, \"y1\": 0.12854131546443034, \"yref\": \"y\"}, {\"line\": {\"color\": \"grey\", \"width\": 1.5}, \"type\": \"line\", \"x0\": 470.2275390625, \"x1\": 470.2275390625, \"xref\": \"x\", \"y0\": 0, \"y1\": 0.8588640961664538, \"yref\": \"y\"}, {\"line\": {\"color\": \"grey\", \"width\": 1.5}, \"type\": \"line\", \"x0\": 471.2292175292969, \"x1\": 471.2292175292969, \"xref\": \"x\", \"y0\": 0, \"y1\": 0.06845062209579564, \"yref\": \"y\"}, {\"line\": {\"color\": \"grey\", \"width\": 1.5}, \"type\": \"line\", \"x0\": 479.2589111328125, \"x1\": 479.2589111328125, \"xref\": \"x\", \"y0\": 0, \"y1\": 0.14380856118956448, \"yref\": \"y\"}, {\"line\": {\"color\": \"grey\", \"width\": 1.5}, \"type\": \"line\", \"x0\": 488.2354431152344, \"x1\": 488.2354431152344, \"xref\": \"x\", \"y0\": 0, \"y1\": 1.1913046661890834, \"yref\": \"y\"}, {\"line\": {\"color\": \"grey\", \"width\": 1.5}, \"type\": \"line\", \"x0\": 494.263671875, \"x1\": 494.263671875, \"xref\": \"x\", \"y0\": 0, \"y1\": 0.07807046915949663, \"yref\": \"y\"}, {\"line\": {\"color\": \"grey\", \"width\": 1.5}, \"type\": \"line\", \"x0\": 497.26995849609375, \"x1\": 497.26995849609375, \"xref\": \"x\", \"y0\": 0, \"y1\": 0.9412924005135131, \"yref\": \"y\"}, {\"line\": {\"color\": \"grey\", \"width\": 1.5}, \"type\": \"line\", \"x0\": 499.2171325683594, \"x1\": 499.2171325683594, \"xref\": \"x\", \"y0\": 0, \"y1\": 0.19952659680197152, \"yref\": \"y\"}, {\"line\": {\"color\": \"grey\", \"width\": 1.5}, \"type\": \"line\", \"x0\": 500.2701110839844, \"x1\": 500.2701110839844, \"xref\": \"x\", \"y0\": 0, \"y1\": 0.11143607122481407, \"yref\": \"y\"}, {\"line\": {\"color\": \"grey\", \"width\": 1.5}, \"type\": \"line\", \"x0\": 502.2876892089844, \"x1\": 502.2876892089844, \"xref\": \"x\", \"y0\": 0, \"y1\": 0.5155734058809134, \"yref\": \"y\"}, {\"line\": {\"color\": \"grey\", \"width\": 1.5}, \"type\": \"line\", \"x0\": 512.2696533203125, \"x1\": 512.2696533203125, \"xref\": \"x\", \"y0\": 0, \"y1\": 0.8497185713000386, \"yref\": \"y\"}, {\"line\": {\"color\": \"grey\", \"width\": 1.5}, \"type\": \"line\", \"x0\": 515.2791137695312, \"x1\": 515.2791137695312, \"xref\": \"x\", \"y0\": 0, \"y1\": 0.9081343144095082, \"yref\": \"y\"}, {\"line\": {\"color\": \"grey\", \"width\": 1.5}, \"type\": \"line\", \"x0\": 527.2913818359375, \"x1\": 527.2913818359375, \"xref\": \"x\", \"y0\": 0, \"y1\": 0.4865804615718237, \"yref\": \"y\"}, {\"line\": {\"color\": \"grey\", \"width\": 1.5}, \"type\": \"line\", \"x0\": 529.282958984375, \"x1\": 529.282958984375, \"xref\": \"x\", \"y0\": 0, \"y1\": 0.22067840228718164, \"yref\": \"y\"}, {\"line\": {\"color\": \"grey\", \"width\": 1.5}, \"type\": \"line\", \"x0\": 530.2824096679688, \"x1\": 530.2824096679688, \"xref\": \"x\", \"y0\": 0, \"y1\": 1.3615270447399968, \"yref\": \"y\"}, {\"line\": {\"color\": \"grey\", \"width\": 1.5}, \"type\": \"line\", \"x0\": 537.7891845703125, \"x1\": 537.7891845703125, \"xref\": \"x\", \"y0\": 0, \"y1\": 0.36410157669145143, \"yref\": \"y\"}, {\"line\": {\"color\": \"grey\", \"width\": 1.5}, \"type\": \"line\", \"x0\": 541.262451171875, \"x1\": 541.262451171875, \"xref\": \"x\", \"y0\": 0, \"y1\": 0.2734022790292226, \"yref\": \"y\"}, {\"line\": {\"color\": \"grey\", \"width\": 1.5}, \"type\": \"line\", \"x0\": 545.3040771484375, \"x1\": 545.3040771484375, \"xref\": \"x\", \"y0\": 0, \"y1\": 16.7311226065072, \"yref\": \"y\"}, {\"line\": {\"color\": \"grey\", \"width\": 1.5}, \"type\": \"line\", \"x0\": 546.30810546875, \"x1\": 546.30810546875, \"xref\": \"x\", \"y0\": 0, \"y1\": 3.9292406146089163, \"yref\": \"y\"}, {\"line\": {\"color\": \"grey\", \"width\": 1.5}, \"type\": \"line\", \"x0\": 559.272705078125, \"x1\": 559.272705078125, \"xref\": \"x\", \"y0\": 0, \"y1\": 0.4469152678238054, \"yref\": \"y\"}, {\"line\": {\"color\": \"grey\", \"width\": 1.5}, \"type\": \"line\", \"x0\": 583.3099975585938, \"x1\": 583.3099975585938, \"xref\": \"x\", \"y0\": 0, \"y1\": 0.5112896835366767, \"yref\": \"y\"}, {\"line\": {\"color\": \"grey\", \"width\": 1.5}, \"type\": \"line\", \"x0\": 584.3113403320312, \"x1\": 584.3113403320312, \"xref\": \"x\", \"y0\": 0, \"y1\": 0.1665760266592791, \"yref\": \"y\"}, {\"line\": {\"color\": \"grey\", \"width\": 1.5}, \"type\": \"line\", \"x0\": 585.327880859375, \"x1\": 585.327880859375, \"xref\": \"x\", \"y0\": 0, \"y1\": 1.0035916566132594, \"yref\": \"y\"}, {\"line\": {\"color\": \"grey\", \"width\": 1.5}, \"type\": \"line\", \"x0\": 585.8253784179688, \"x1\": 585.8253784179688, \"xref\": \"x\", \"y0\": 0, \"y1\": 0.29594740596895946, \"yref\": \"y\"}, {\"line\": {\"color\": \"grey\", \"width\": 1.5}, \"type\": \"line\", \"x0\": 601.3194580078125, \"x1\": 601.3194580078125, \"xref\": \"x\", \"y0\": 0, \"y1\": 0.5852987688819143, \"yref\": \"y\"}, {\"line\": {\"color\": \"grey\", \"width\": 1.5}, \"type\": \"line\", \"x0\": 602.3258666992188, \"x1\": 602.3258666992188, \"xref\": \"x\", \"y0\": 0, \"y1\": 0.10532917293476045, \"yref\": \"y\"}, {\"line\": {\"color\": \"grey\", \"width\": 1.5}, \"type\": \"line\", \"x0\": 612.2994995117188, \"x1\": 612.2994995117188, \"xref\": \"x\", \"y0\": 0, \"y1\": 1.9504425203762146, \"yref\": \"y\"}, {\"line\": {\"color\": \"grey\", \"width\": 1.5}, \"type\": \"line\", \"x0\": 620.8479614257812, \"x1\": 620.8479614257812, \"xref\": \"x\", \"y0\": 0, \"y1\": 1.3176374189224023, \"yref\": \"y\"}, {\"line\": {\"color\": \"grey\", \"width\": 1.5}, \"type\": \"line\", \"x0\": 621.3533935546875, \"x1\": 621.3533935546875, \"xref\": \"x\", \"y0\": 0, \"y1\": 0.7957792439274531, \"yref\": \"y\"}, {\"line\": {\"color\": \"grey\", \"width\": 1.5}, \"type\": \"line\", \"x0\": 629.3179321289062, \"x1\": 629.3179321289062, \"xref\": \"x\", \"y0\": 0, \"y1\": 0.8894134101853874, \"yref\": \"y\"}, {\"line\": {\"color\": \"grey\", \"width\": 1.5}, \"type\": \"line\", \"x0\": 630.3096313476562, \"x1\": 630.3096313476562, \"xref\": \"x\", \"y0\": 0, \"y1\": 3.8407054119718036, \"yref\": \"y\"}, {\"line\": {\"color\": \"grey\", \"width\": 1.5}, \"type\": \"line\", \"x0\": 631.3141479492188, \"x1\": 631.3141479492188, \"xref\": \"x\", \"y0\": 0, \"y1\": 0.8710482476092309, \"yref\": \"y\"}, {\"line\": {\"color\": \"grey\", \"width\": 1.5}, \"type\": \"line\", \"x0\": 647.3463134765625, \"x1\": 647.3463134765625, \"xref\": \"x\", \"y0\": 0, \"y1\": 0.3299800236242099, \"yref\": \"y\"}, {\"line\": {\"color\": \"grey\", \"width\": 1.5}, \"type\": \"line\", \"x0\": 654.34912109375, \"x1\": 654.34912109375, \"xref\": \"x\", \"y0\": 0, \"y1\": 0.21612787370697178, \"yref\": \"y\"}, {\"line\": {\"color\": \"grey\", \"width\": 1.5}, \"type\": \"line\", \"x0\": 658.3878173828125, \"x1\": 658.3878173828125, \"xref\": \"x\", \"y0\": 0, \"y1\": 26.108324221159247, \"yref\": \"y\"}, {\"line\": {\"color\": \"grey\", \"width\": 1.5}, \"type\": \"line\", \"x0\": 659.3941040039062, \"x1\": 659.3941040039062, \"xref\": \"x\", \"y0\": 0, \"y1\": 6.273770768086238, \"yref\": \"y\"}, {\"line\": {\"color\": \"grey\", \"width\": 1.5}, \"type\": \"line\", \"x0\": 668.370849609375, \"x1\": 668.370849609375, \"xref\": \"x\", \"y0\": 0, \"y1\": 0.23450785885179345, \"yref\": \"y\"}, {\"line\": {\"color\": \"grey\", \"width\": 1.5}, \"type\": \"line\", \"x0\": 672.359619140625, \"x1\": 672.359619140625, \"xref\": \"x\", \"y0\": 0, \"y1\": 0.21258527979599404, \"yref\": \"y\"}, {\"line\": {\"color\": \"grey\", \"width\": 1.5}, \"type\": \"line\", \"x0\": 691.8911743164062, \"x1\": 691.8911743164062, \"xref\": \"x\", \"y0\": 0, \"y1\": 0.5987576612298967, \"yref\": \"y\"}, {\"line\": {\"color\": \"grey\", \"width\": 1.5}, \"type\": \"line\", \"x0\": 700.3893432617188, \"x1\": 700.3893432617188, \"xref\": \"x\", \"y0\": 0, \"y1\": 0.10743397768521579, \"yref\": \"y\"}, {\"line\": {\"color\": \"grey\", \"width\": 1.5}, \"type\": \"line\", \"x0\": 701.4208984375, \"x1\": 701.4208984375, \"xref\": \"x\", \"y0\": 0, \"y1\": 0.054635988099849, \"yref\": \"y\"}, {\"line\": {\"color\": \"grey\", \"width\": 1.5}, \"type\": \"line\", \"x0\": 712.3469848632812, \"x1\": 712.3469848632812, \"xref\": \"x\", \"y0\": 0, \"y1\": 0.18786123526247583, \"yref\": \"y\"}, {\"line\": {\"color\": \"grey\", \"width\": 1.5}, \"type\": \"line\", \"x0\": 725.3826904296875, \"x1\": 725.3826904296875, \"xref\": \"x\", \"y0\": 0, \"y1\": 0.5971123561080619, \"yref\": \"y\"}, {\"line\": {\"color\": \"grey\", \"width\": 1.5}, \"type\": \"line\", \"x0\": 726.3825073242188, \"x1\": 726.3825073242188, \"xref\": \"x\", \"y0\": 0, \"y1\": 0.1227160459790151, \"yref\": \"y\"}, {\"line\": {\"color\": \"grey\", \"width\": 1.5}, \"type\": \"line\", \"x0\": 730.358642578125, \"x1\": 730.358642578125, \"xref\": \"x\", \"y0\": 0, \"y1\": 1.1448655585610785, \"yref\": \"y\"}, {\"line\": {\"color\": \"grey\", \"width\": 1.5}, \"type\": \"line\", \"x0\": 743.3914794921875, \"x1\": 743.3914794921875, \"xref\": \"x\", \"y0\": 0, \"y1\": 1.1635864627851993, \"yref\": \"y\"}, {\"line\": {\"color\": \"grey\", \"width\": 1.5}, \"type\": \"line\", \"x0\": 744.39404296875, \"x1\": 744.39404296875, \"xref\": \"x\", \"y0\": 0, \"y1\": 0.1611954342338192, \"yref\": \"y\"}, {\"line\": {\"color\": \"grey\", \"width\": 1.5}, \"type\": \"line\", \"x0\": 771.4711303710938, \"x1\": 771.4711303710938, \"xref\": \"x\", \"y0\": 0, \"y1\": 19.254412938086578, \"yref\": \"y\"}, {\"line\": {\"color\": \"grey\", \"width\": 1.5}, \"type\": \"line\", \"x0\": 772.4766845703125, \"x1\": 772.4766845703125, \"xref\": \"x\", \"y0\": 0, \"y1\": 5.945169243347891, \"yref\": \"y\"}, {\"line\": {\"color\": \"grey\", \"width\": 1.5}, \"type\": \"line\", \"x0\": 801.39501953125, \"x1\": 801.39501953125, \"xref\": \"x\", \"y0\": 0, \"y1\": 0.1889136376377035, \"yref\": \"y\"}, {\"line\": {\"color\": \"grey\", \"width\": 1.5}, \"type\": \"line\", \"x0\": 817.4588012695312, \"x1\": 817.4588012695312, \"xref\": \"x\", \"y0\": 0, \"y1\": 0.59736433977537, \"yref\": \"y\"}, {\"line\": {\"color\": \"grey\", \"width\": 1.5}, \"type\": \"line\", \"x0\": 836.4530029296875, \"x1\": 836.4530029296875, \"xref\": \"x\", \"y0\": 0, \"y1\": 0.17323135998994435, \"yref\": \"y\"}, {\"line\": {\"color\": \"grey\", \"width\": 1.5}, \"type\": \"line\", \"x0\": 843.4492797851562, \"x1\": 843.4492797851562, \"xref\": \"x\", \"y0\": 0, \"y1\": 0.5412905625149985, \"yref\": \"y\"}, {\"line\": {\"color\": \"grey\", \"width\": 1.5}, \"type\": \"line\", \"x0\": 868.4848022460938, \"x1\": 868.4848022460938, \"xref\": \"x\", \"y0\": 0, \"y1\": 0.10771560648985415, \"yref\": \"y\"}, {\"line\": {\"color\": \"grey\", \"width\": 1.5}, \"type\": \"line\", \"x0\": 869.4830932617188, \"x1\": 869.4830932617188, \"xref\": \"x\", \"y0\": 0, \"y1\": 0.20326188410559662, \"yref\": \"y\"}, {\"line\": {\"color\": \"grey\", \"width\": 1.5}, \"type\": \"line\", \"x0\": 886.498291015625, \"x1\": 886.498291015625, \"xref\": \"x\", \"y0\": 0, \"y1\": 18.60373181882256, \"yref\": \"y\"}, {\"line\": {\"color\": \"grey\", \"width\": 1.5}, \"type\": \"line\", \"x0\": 887.5008544921875, \"x1\": 887.5008544921875, \"xref\": \"x\", \"y0\": 0, \"y1\": 6.124774307863863, \"yref\": \"y\"}, {\"line\": {\"color\": \"grey\", \"width\": 1.5}, \"type\": \"line\", \"x0\": 893.4781494140625, \"x1\": 893.4781494140625, \"xref\": \"x\", \"y0\": 0, \"y1\": 0.11068012022288995, \"yref\": \"y\"}, {\"line\": {\"color\": \"grey\", \"width\": 1.5}, \"type\": \"line\", \"x0\": 914.4778442382812, \"x1\": 914.4778442382812, \"xref\": \"x\", \"y0\": 0, \"y1\": 0.43018058780081847, \"yref\": \"y\"}, {\"line\": {\"color\": \"grey\", \"width\": 1.5}, \"type\": \"line\", \"x0\": 932.4891967773438, \"x1\": 932.4891967773438, \"xref\": \"x\", \"y0\": 0, \"y1\": 0.25328805335057497, \"yref\": \"y\"}, {\"line\": {\"color\": \"grey\", \"width\": 1.5}, \"type\": \"line\", \"x0\": 955.521240234375, \"x1\": 955.521240234375, \"xref\": \"x\", \"y0\": 0, \"y1\": 0.9002635304482982, \"yref\": \"y\"}, {\"line\": {\"color\": \"grey\", \"width\": 1.5}, \"type\": \"line\", \"x0\": 956.5142211914062, \"x1\": 956.5142211914062, \"xref\": \"x\", \"y0\": 0, \"y1\": 0.25570413204299913, \"yref\": \"y\"}, {\"line\": {\"color\": \"grey\", \"width\": 1.5}, \"type\": \"line\", \"x0\": 973.530517578125, \"x1\": 973.530517578125, \"xref\": \"x\", \"y0\": 0, \"y1\": 47.0674511362907, \"yref\": \"y\"}, {\"line\": {\"color\": \"grey\", \"width\": 1.5}, \"type\": \"line\", \"x0\": 974.5328369140625, \"x1\": 974.5328369140625, \"xref\": \"x\", \"y0\": 0, \"y1\": 17.75250134551867, \"yref\": \"y\"}, {\"line\": {\"color\": \"grey\", \"width\": 1.5}, \"type\": \"line\", \"x0\": 1029.5406494140625, \"x1\": 1029.5406494140625, \"xref\": \"x\", \"y0\": 0, \"y1\": 1.2350905340260214, \"yref\": \"y\"}, {\"line\": {\"color\": \"grey\", \"width\": 1.5}, \"type\": \"line\", \"x0\": 1030.5489501953125, \"x1\": 1030.5489501953125, \"xref\": \"x\", \"y0\": 0, \"y1\": 2.54994131003937, \"yref\": \"y\"}, {\"line\": {\"color\": \"grey\", \"width\": 1.5}, \"type\": \"line\", \"x0\": 1031.5455322265625, \"x1\": 1031.5455322265625, \"xref\": \"x\", \"y0\": 0, \"y1\": 0.6082144600382808, \"yref\": \"y\"}, {\"line\": {\"color\": \"grey\", \"width\": 1.5}, \"type\": \"line\", \"x0\": 1038.55859375, \"x1\": 1038.55859375, \"xref\": \"x\", \"y0\": 0, \"y1\": 1.2910457307370713, \"yref\": \"y\"}, {\"line\": {\"color\": \"grey\", \"width\": 1.5}, \"type\": \"line\", \"x0\": 1039.5626220703125, \"x1\": 1039.5626220703125, \"xref\": \"x\", \"y0\": 0, \"y1\": 0.8437154309906412, \"yref\": \"y\"}, {\"line\": {\"color\": \"grey\", \"width\": 1.5}, \"type\": \"line\", \"x0\": 1056.5648193359375, \"x1\": 1056.5648193359375, \"xref\": \"x\", \"y0\": 0, \"y1\": 3.5991716555727153, \"yref\": \"y\"}, {\"line\": {\"color\": \"grey\", \"width\": 1.5}, \"type\": \"line\", \"x0\": 1057.5618896484375, \"x1\": 1057.5618896484375, \"xref\": \"x\", \"y0\": 0, \"y1\": 1.57863320797887, \"yref\": \"y\"}, {\"line\": {\"color\": \"grey\", \"width\": 1.5}, \"type\": \"line\", \"x0\": 1074.5772705078125, \"x1\": 1074.5772705078125, \"xref\": \"x\", \"y0\": 0, \"y1\": 95.78910093561535, \"yref\": \"y\"}, {\"line\": {\"color\": \"grey\", \"width\": 1.5}, \"type\": \"line\", \"x0\": 1075.580810546875, \"x1\": 1075.580810546875, \"xref\": \"x\", \"y0\": 0, \"y1\": 42.109894820535004, \"yref\": \"y\"}, {\"line\": {\"color\": \"grey\", \"width\": 1.5}, \"type\": \"line\", \"x0\": 1076.5810546875, \"x1\": 1076.5810546875, \"xref\": \"x\", \"y0\": 0, \"y1\": 0.7030196092207642, \"yref\": \"y\"}, {\"line\": {\"color\": \"grey\", \"width\": 1.5}, \"type\": \"line\", \"x0\": 1084.5767822265625, \"x1\": 1084.5767822265625, \"xref\": \"x\", \"y0\": 0, \"y1\": 0.33444161679242873, \"yref\": \"y\"}, {\"line\": {\"color\": \"grey\", \"width\": 1.5}, \"type\": \"line\", \"x0\": 1085.57421875, \"x1\": 1085.57421875, \"xref\": \"x\", \"y0\": 0, \"y1\": 0.12983087893830092, \"yref\": \"y\"}, {\"line\": {\"color\": \"grey\", \"width\": 1.5}, \"type\": \"line\", \"x0\": 1100.562255859375, \"x1\": 1100.562255859375, \"xref\": \"x\", \"y0\": 0, \"y1\": 0.4789320161405915, \"yref\": \"y\"}, {\"line\": {\"color\": \"grey\", \"width\": 1.5}, \"type\": \"line\", \"x0\": 1101.556396484375, \"x1\": 1101.556396484375, \"xref\": \"x\", \"y0\": 0, \"y1\": 0.11816551739880525, \"yref\": \"y\"}, {\"line\": {\"color\": \"grey\", \"width\": 1.5}, \"type\": \"line\", \"x0\": 1169.6624755859375, \"x1\": 1169.6624755859375, \"xref\": \"x\", \"y0\": 0, \"y1\": 0.4200715959711666, \"yref\": \"y\"}, {\"line\": {\"color\": \"grey\", \"width\": 1.5}, \"type\": \"line\", \"x0\": 1187.661865234375, \"x1\": 1187.661865234375, \"xref\": \"x\", \"y0\": 0, \"y1\": 10.920705334894446, \"yref\": \"y\"}, {\"line\": {\"color\": \"grey\", \"width\": 1.5}, \"type\": \"line\", \"x0\": 1188.6629638671875, \"x1\": 1188.6629638671875, \"xref\": \"x\", \"y0\": 0, \"y1\": 5.527009758734533, \"yref\": \"y\"}, {\"line\": {\"color\": \"grey\", \"width\": 1.5}, \"type\": \"line\", \"x0\": 1189.676513671875, \"x1\": 1189.676513671875, \"xref\": \"x\", \"y0\": 0, \"y1\": 0.17176392569209167, \"yref\": \"y\"}, {\"line\": {\"color\": \"grey\", \"width\": 1.5}, \"type\": \"line\", \"x0\": 1258.7020263671875, \"x1\": 1258.7020263671875, \"xref\": \"x\", \"y0\": 0, \"y1\": 4.551180773231152, \"yref\": \"y\"}, {\"line\": {\"color\": \"grey\", \"width\": 1.5}, \"type\": \"line\", \"x0\": 1259.69482421875, \"x1\": 1259.69482421875, \"xref\": \"x\", \"y0\": 0, \"y1\": 2.4449234110465787, \"yref\": \"y\"}, {\"line\": {\"color\": \"lightblue\", \"width\": 1.5}, \"type\": \"line\", \"x0\": 175.11896, \"x1\": 175.11896, \"xref\": \"x\", \"y0\": 0, \"y1\": -1.9944956999999999, \"yref\": \"y\"}, {\"line\": {\"color\": \"lightblue\", \"width\": 1.5}, \"type\": \"line\", \"x0\": 232.14041, \"x1\": 232.14041, \"xref\": \"x\", \"y0\": 0, \"y1\": -15.300025, \"yref\": \"y\"}, {\"line\": {\"color\": \"lightblue\", \"width\": 1.5}, \"type\": \"line\", \"x0\": 143.0815, \"x1\": 143.0815, \"xref\": \"x\", \"y0\": 0, \"y1\": -13.627195, \"yref\": \"y\"}, {\"line\": {\"color\": \"lightblue\", \"width\": 1.5}, \"type\": \"line\", \"x0\": 345.2245, \"x1\": 345.2245, \"xref\": \"x\", \"y0\": 0, \"y1\": -8.322782, \"yref\": \"y\"}, {\"line\": {\"color\": \"lightblue\", \"width\": 1.5}, \"type\": \"line\", \"x0\": 214.11862, \"x1\": 214.11862, \"xref\": \"x\", \"y0\": 0, \"y1\": -67.32009599999999, \"yref\": \"y\"}, {\"line\": {\"color\": \"lightblue\", \"width\": 1.5}, \"type\": \"line\", \"x0\": 416.2616, \"x1\": 416.2616, \"xref\": \"x\", \"y0\": 0, \"y1\": -15.832223, \"yref\": \"y\"}, {\"line\": {\"color\": \"lightblue\", \"width\": 1.5}, \"type\": \"line\", \"x0\": 327.20267, \"x1\": 327.20267, \"xref\": \"x\", \"y0\": 0, \"y1\": -23.941295, \"yref\": \"y\"}, {\"line\": {\"color\": \"lightblue\", \"width\": 1.5}, \"type\": \"line\", \"x0\": 164.10498, \"x1\": 164.10498, \"xref\": \"x\", \"y0\": 0, \"y1\": -0.39109619999999995, \"yref\": \"y\"}, {\"line\": {\"color\": \"lightblue\", \"width\": 1.5}, \"type\": \"line\", \"x0\": 545.3042, \"x1\": 545.3042, \"xref\": \"x\", \"y0\": 0, \"y1\": -20.433846, \"yref\": \"y\"}, {\"line\": {\"color\": \"lightblue\", \"width\": 1.5}, \"type\": \"line\", \"x0\": 428.25037, \"x1\": 428.25037, \"xref\": \"x\", \"y0\": 0, \"y1\": -11.445445999999999, \"yref\": \"y\"}, {\"line\": {\"color\": \"lightblue\", \"width\": 1.5}, \"type\": \"line\", \"x0\": 214.62881, \"x1\": 214.62881, \"xref\": \"x\", \"y0\": 0, \"y1\": -0.0700736, \"yref\": \"y\"}, {\"line\": {\"color\": \"lightblue\", \"width\": 1.5}, \"type\": \"line\", \"x0\": 658.38824, \"x1\": 658.38824, \"xref\": \"x\", \"y0\": 0, \"y1\": -30.068564, \"yref\": \"y\"}, {\"line\": {\"color\": \"lightblue\", \"width\": 1.5}, \"type\": \"line\", \"x0\": 515.2824, \"x1\": 515.2824, \"xref\": \"x\", \"y0\": 0, \"y1\": -2.3193207, \"yref\": \"y\"}, {\"line\": {\"color\": \"lightblue\", \"width\": 1.5}, \"type\": \"line\", \"x0\": 258.14484, \"x1\": 258.14484, \"xref\": \"x\", \"y0\": 0, \"y1\": -0.05487133, \"yref\": \"y\"}, {\"line\": {\"color\": \"lightblue\", \"width\": 1.5}, \"type\": \"line\", \"x0\": 771.4723, \"x1\": 771.4723, \"xref\": \"x\", \"y0\": 0, \"y1\": -14.350693, \"yref\": \"y\"}, {\"line\": {\"color\": \"lightblue\", \"width\": 1.5}, \"type\": \"line\", \"x0\": 630.3093, \"x1\": 630.3093, \"xref\": \"x\", \"y0\": 0, \"y1\": -6.9786735, \"yref\": \"y\"}, {\"line\": {\"color\": \"lightblue\", \"width\": 1.5}, \"type\": \"line\", \"x0\": 315.6583, \"x1\": 315.6583, \"xref\": \"x\", \"y0\": 0, \"y1\": -0.091373146, \"yref\": \"y\"}, {\"line\": {\"color\": \"lightblue\", \"width\": 1.5}, \"type\": \"line\", \"x0\": 886.49927, \"x1\": 886.49927, \"xref\": \"x\", \"y0\": 0, \"y1\": -20.525270000000003, \"yref\": \"y\"}, {\"line\": {\"color\": \"lightblue\", \"width\": 1.5}, \"type\": \"line\", \"x0\": 743.3934, \"x1\": 743.3934, \"xref\": \"x\", \"y0\": 0, \"y1\": -5.226955, \"yref\": \"y\"}, {\"line\": {\"color\": \"lightblue\", \"width\": 1.5}, \"type\": \"line\", \"x0\": 372.20035, \"x1\": 372.20035, \"xref\": \"x\", \"y0\": 0, \"y1\": -0.01433533, \"yref\": \"y\"}, {\"line\": {\"color\": \"lightblue\", \"width\": 1.5}, \"type\": \"line\", \"x0\": 973.5313, \"x1\": 973.5313, \"xref\": \"x\", \"y0\": 0, \"y1\": -50.23156399999999, \"yref\": \"y\"}, {\"line\": {\"color\": \"lightblue\", \"width\": 1.5}, \"type\": \"line\", \"x0\": 856.4775, \"x1\": 856.4775, \"xref\": \"x\", \"y0\": 0, \"y1\": -1.9454353, \"yref\": \"y\"}, {\"line\": {\"color\": \"lightblue\", \"width\": 1.5}, \"type\": \"line\", \"x0\": 1074.579, \"x1\": 1074.579, \"xref\": \"x\", \"y0\": 0, \"y1\": -100.0, \"yref\": \"y\"}, {\"line\": {\"color\": \"lightblue\", \"width\": 1.5}, \"type\": \"line\", \"x0\": 537.7931, \"x1\": 537.7931, \"xref\": \"x\", \"y0\": 0, \"y1\": -2.282732, \"yref\": \"y\"}, {\"line\": {\"color\": \"lightblue\", \"width\": 1.5}, \"type\": \"line\", \"x0\": 985.5201, \"x1\": 985.5201, \"xref\": \"x\", \"y0\": 0, \"y1\": -1.9337429, \"yref\": \"y\"}, {\"line\": {\"color\": \"lightblue\", \"width\": 1.5}, \"type\": \"line\", \"x0\": 1187.6631, \"x1\": 1187.6631, \"xref\": \"x\", \"y0\": 0, \"y1\": -12.601395000000002, \"yref\": \"y\"}, {\"line\": {\"color\": \"lightblue\", \"width\": 1.5}, \"type\": \"line\", \"x0\": 594.33514, \"x1\": 594.33514, \"xref\": \"x\", \"y0\": 0, \"y1\": -4.805667000000001, \"yref\": \"y\"}, {\"line\": {\"color\": \"lightblue\", \"width\": 1.5}, \"type\": \"line\", \"x0\": 1056.5571, \"x1\": 1056.5571, \"xref\": \"x\", \"y0\": 0, \"y1\": -0.9185349, \"yref\": \"y\"}, {\"line\": {\"color\": \"lightblue\", \"width\": 1.5}, \"type\": \"line\", \"x0\": 1258.7002, \"x1\": 1258.7002, \"xref\": \"x\", \"y0\": 0, \"y1\": -4.843226400000001, \"yref\": \"y\"}, {\"line\": {\"color\": \"lightblue\", \"width\": 1.5}, \"type\": \"line\", \"x0\": 629.8537, \"x1\": 629.8537, \"xref\": \"x\", \"y0\": 0, \"y1\": -2.8046576, \"yref\": \"y\"}, {\"line\": {\"color\": \"lightblue\", \"width\": 1.5}, \"type\": \"line\", \"x0\": 1169.6412, \"x1\": 1169.6412, \"xref\": \"x\", \"y0\": 0, \"y1\": -1.0429648, \"yref\": \"y\"}], \"template\": {\"data\": {\"bar\": [{\"error_x\": {\"color\": \"#2a3f5f\"}, \"error_y\": {\"color\": \"#2a3f5f\"}, \"marker\": {\"line\": {\"color\": \"white\", \"width\": 0.5}}, \"type\": \"bar\"}], \"barpolar\": [{\"marker\": {\"line\": {\"color\": \"white\", \"width\": 0.5}}, \"type\": \"barpolar\"}], \"carpet\": [{\"aaxis\": {\"endlinecolor\": \"#2a3f5f\", \"gridcolor\": \"#C8D4E3\", \"linecolor\": \"#C8D4E3\", \"minorgridcolor\": \"#C8D4E3\", \"startlinecolor\": \"#2a3f5f\"}, \"baxis\": {\"endlinecolor\": \"#2a3f5f\", \"gridcolor\": \"#C8D4E3\", \"linecolor\": \"#C8D4E3\", \"minorgridcolor\": \"#C8D4E3\", \"startlinecolor\": \"#2a3f5f\"}, \"type\": \"carpet\"}], \"choropleth\": [{\"colorbar\": {\"outlinewidth\": 0, \"ticks\": \"\"}, \"type\": \"choropleth\"}], \"contour\": [{\"colorbar\": {\"outlinewidth\": 0, \"ticks\": \"\"}, \"colorscale\": [[0.0, \"#0d0887\"], [0.1111111111111111, \"#46039f\"], [0.2222222222222222, \"#7201a8\"], [0.3333333333333333, \"#9c179e\"], [0.4444444444444444, \"#bd3786\"], [0.5555555555555556, \"#d8576b\"], [0.6666666666666666, \"#ed7953\"], [0.7777777777777778, \"#fb9f3a\"], [0.8888888888888888, \"#fdca26\"], [1.0, \"#f0f921\"]], \"type\": \"contour\"}], \"contourcarpet\": [{\"colorbar\": {\"outlinewidth\": 0, \"ticks\": \"\"}, \"type\": \"contourcarpet\"}], \"heatmap\": [{\"colorbar\": {\"outlinewidth\": 0, \"ticks\": \"\"}, \"colorscale\": [[0.0, \"#0d0887\"], [0.1111111111111111, \"#46039f\"], [0.2222222222222222, \"#7201a8\"], [0.3333333333333333, \"#9c179e\"], [0.4444444444444444, \"#bd3786\"], [0.5555555555555556, \"#d8576b\"], [0.6666666666666666, \"#ed7953\"], [0.7777777777777778, \"#fb9f3a\"], [0.8888888888888888, \"#fdca26\"], [1.0, \"#f0f921\"]], \"type\": \"heatmap\"}], \"heatmapgl\": [{\"colorbar\": {\"outlinewidth\": 0, \"ticks\": \"\"}, \"colorscale\": [[0.0, \"#0d0887\"], [0.1111111111111111, \"#46039f\"], [0.2222222222222222, \"#7201a8\"], [0.3333333333333333, \"#9c179e\"], [0.4444444444444444, \"#bd3786\"], [0.5555555555555556, \"#d8576b\"], [0.6666666666666666, \"#ed7953\"], [0.7777777777777778, \"#fb9f3a\"], [0.8888888888888888, \"#fdca26\"], [1.0, \"#f0f921\"]], \"type\": \"heatmapgl\"}], \"histogram\": [{\"marker\": {\"colorbar\": {\"outlinewidth\": 0, \"ticks\": \"\"}}, \"type\": \"histogram\"}], \"histogram2d\": [{\"colorbar\": {\"outlinewidth\": 0, \"ticks\": \"\"}, \"colorscale\": [[0.0, \"#0d0887\"], [0.1111111111111111, \"#46039f\"], [0.2222222222222222, \"#7201a8\"], [0.3333333333333333, \"#9c179e\"], [0.4444444444444444, \"#bd3786\"], [0.5555555555555556, \"#d8576b\"], [0.6666666666666666, \"#ed7953\"], [0.7777777777777778, \"#fb9f3a\"], [0.8888888888888888, \"#fdca26\"], [1.0, \"#f0f921\"]], \"type\": \"histogram2d\"}], \"histogram2dcontour\": [{\"colorbar\": {\"outlinewidth\": 0, \"ticks\": \"\"}, \"colorscale\": [[0.0, \"#0d0887\"], [0.1111111111111111, \"#46039f\"], [0.2222222222222222, \"#7201a8\"], [0.3333333333333333, \"#9c179e\"], [0.4444444444444444, \"#bd3786\"], [0.5555555555555556, \"#d8576b\"], [0.6666666666666666, \"#ed7953\"], [0.7777777777777778, \"#fb9f3a\"], [0.8888888888888888, \"#fdca26\"], [1.0, \"#f0f921\"]], \"type\": \"histogram2dcontour\"}], \"mesh3d\": [{\"colorbar\": {\"outlinewidth\": 0, \"ticks\": \"\"}, \"type\": \"mesh3d\"}], \"parcoords\": [{\"line\": {\"colorbar\": {\"outlinewidth\": 0, \"ticks\": \"\"}}, \"type\": \"parcoords\"}], \"pie\": [{\"automargin\": true, \"type\": \"pie\"}], \"scatter\": [{\"marker\": {\"colorbar\": {\"outlinewidth\": 0, \"ticks\": \"\"}}, \"type\": \"scatter\"}], \"scatter3d\": [{\"line\": {\"colorbar\": {\"outlinewidth\": 0, \"ticks\": \"\"}}, \"marker\": {\"colorbar\": {\"outlinewidth\": 0, \"ticks\": \"\"}}, \"type\": \"scatter3d\"}], \"scattercarpet\": [{\"marker\": {\"colorbar\": {\"outlinewidth\": 0, \"ticks\": \"\"}}, \"type\": \"scattercarpet\"}], \"scattergeo\": [{\"marker\": {\"colorbar\": {\"outlinewidth\": 0, \"ticks\": \"\"}}, \"type\": \"scattergeo\"}], \"scattergl\": [{\"marker\": {\"colorbar\": {\"outlinewidth\": 0, \"ticks\": \"\"}}, \"type\": \"scattergl\"}], \"scattermapbox\": [{\"marker\": {\"colorbar\": {\"outlinewidth\": 0, \"ticks\": \"\"}}, \"type\": \"scattermapbox\"}], \"scatterpolar\": [{\"marker\": {\"colorbar\": {\"outlinewidth\": 0, \"ticks\": \"\"}}, \"type\": \"scatterpolar\"}], \"scatterpolargl\": [{\"marker\": {\"colorbar\": {\"outlinewidth\": 0, \"ticks\": \"\"}}, \"type\": \"scatterpolargl\"}], \"scatterternary\": [{\"marker\": {\"colorbar\": {\"outlinewidth\": 0, \"ticks\": \"\"}}, \"type\": \"scatterternary\"}], \"surface\": [{\"colorbar\": {\"outlinewidth\": 0, \"ticks\": \"\"}, \"colorscale\": [[0.0, \"#0d0887\"], [0.1111111111111111, \"#46039f\"], [0.2222222222222222, \"#7201a8\"], [0.3333333333333333, \"#9c179e\"], [0.4444444444444444, \"#bd3786\"], [0.5555555555555556, \"#d8576b\"], [0.6666666666666666, \"#ed7953\"], [0.7777777777777778, \"#fb9f3a\"], [0.8888888888888888, \"#fdca26\"], [1.0, \"#f0f921\"]], \"type\": \"surface\"}], \"table\": [{\"cells\": {\"fill\": {\"color\": \"#EBF0F8\"}, \"line\": {\"color\": \"white\"}}, \"header\": {\"fill\": {\"color\": \"#C8D4E3\"}, \"line\": {\"color\": \"white\"}}, \"type\": \"table\"}]}, \"layout\": {\"annotationdefaults\": {\"arrowcolor\": \"#2a3f5f\", \"arrowhead\": 0, \"arrowwidth\": 1}, \"autotypenumbers\": \"strict\", \"coloraxis\": {\"colorbar\": {\"outlinewidth\": 0, \"ticks\": \"\"}}, \"colorscale\": {\"diverging\": [[0, \"#8e0152\"], [0.1, \"#c51b7d\"], [0.2, \"#de77ae\"], [0.3, \"#f1b6da\"], [0.4, \"#fde0ef\"], [0.5, \"#f7f7f7\"], [0.6, \"#e6f5d0\"], [0.7, \"#b8e186\"], [0.8, \"#7fbc41\"], [0.9, \"#4d9221\"], [1, \"#276419\"]], \"sequential\": [[0.0, \"#0d0887\"], [0.1111111111111111, \"#46039f\"], [0.2222222222222222, \"#7201a8\"], [0.3333333333333333, \"#9c179e\"], [0.4444444444444444, \"#bd3786\"], [0.5555555555555556, \"#d8576b\"], [0.6666666666666666, \"#ed7953\"], [0.7777777777777778, \"#fb9f3a\"], [0.8888888888888888, \"#fdca26\"], [1.0, \"#f0f921\"]], \"sequentialminus\": [[0.0, \"#0d0887\"], [0.1111111111111111, \"#46039f\"], [0.2222222222222222, \"#7201a8\"], [0.3333333333333333, \"#9c179e\"], [0.4444444444444444, \"#bd3786\"], [0.5555555555555556, \"#d8576b\"], [0.6666666666666666, \"#ed7953\"], [0.7777777777777778, \"#fb9f3a\"], [0.8888888888888888, \"#fdca26\"], [1.0, \"#f0f921\"]]}, \"colorway\": [\"#636efa\", \"#EF553B\", \"#00cc96\", \"#ab63fa\", \"#FFA15A\", \"#19d3f3\", \"#FF6692\", \"#B6E880\", \"#FF97FF\", \"#FECB52\"], \"font\": {\"color\": \"#2a3f5f\"}, \"geo\": {\"bgcolor\": \"white\", \"lakecolor\": \"white\", \"landcolor\": \"white\", \"showlakes\": true, \"showland\": true, \"subunitcolor\": \"#C8D4E3\"}, \"hoverlabel\": {\"align\": \"left\"}, \"hovermode\": \"closest\", \"mapbox\": {\"style\": \"light\"}, \"paper_bgcolor\": \"white\", \"plot_bgcolor\": \"white\", \"polar\": {\"angularaxis\": {\"gridcolor\": \"#EBF0F8\", \"linecolor\": \"#EBF0F8\", \"ticks\": \"\"}, \"bgcolor\": \"white\", \"radialaxis\": {\"gridcolor\": \"#EBF0F8\", \"linecolor\": \"#EBF0F8\", \"ticks\": \"\"}}, \"scene\": {\"xaxis\": {\"backgroundcolor\": \"white\", \"gridcolor\": \"#DFE8F3\", \"gridwidth\": 2, \"linecolor\": \"#EBF0F8\", \"showbackground\": true, \"ticks\": \"\", \"zerolinecolor\": \"#EBF0F8\"}, \"yaxis\": {\"backgroundcolor\": \"white\", \"gridcolor\": \"#DFE8F3\", \"gridwidth\": 2, \"linecolor\": \"#EBF0F8\", \"showbackground\": true, \"ticks\": \"\", \"zerolinecolor\": \"#EBF0F8\"}, \"zaxis\": {\"backgroundcolor\": \"white\", \"gridcolor\": \"#DFE8F3\", \"gridwidth\": 2, \"linecolor\": \"#EBF0F8\", \"showbackground\": true, \"ticks\": \"\", \"zerolinecolor\": \"#EBF0F8\"}}, \"shapedefaults\": {\"line\": {\"color\": \"#2a3f5f\"}}, \"ternary\": {\"aaxis\": {\"gridcolor\": \"#DFE8F3\", \"linecolor\": \"#A2B1C6\", \"ticks\": \"\"}, \"baxis\": {\"gridcolor\": \"#DFE8F3\", \"linecolor\": \"#A2B1C6\", \"ticks\": \"\"}, \"bgcolor\": \"white\", \"caxis\": {\"gridcolor\": \"#DFE8F3\", \"linecolor\": \"#A2B1C6\", \"ticks\": \"\"}}, \"title\": {\"x\": 0.05}, \"xaxis\": {\"automargin\": true, \"gridcolor\": \"#EBF0F8\", \"linecolor\": \"#EBF0F8\", \"ticks\": \"\", \"title\": {\"standoff\": 15}, \"zerolinecolor\": \"#EBF0F8\", \"zerolinewidth\": 2}, \"yaxis\": {\"automargin\": true, \"gridcolor\": \"#EBF0F8\", \"linecolor\": \"#EBF0F8\", \"ticks\": \"\", \"title\": {\"standoff\": 15}, \"zerolinecolor\": \"#EBF0F8\", \"zerolinewidth\": 2}}}, \"title\": {\"font\": {\"size\": 16}, \"text\": \"Experimental and predicted spectrum for peptide AAAITSDILEALGR with m/z=700.8902 and charge=2.\", \"x\": 0.5, \"xanchor\": \"center\", \"yanchor\": \"top\"}, \"xaxis\": {\"mirror\": true, \"title\": {\"text\": \"m/z, Th\"}}, \"yaxis\": {\"title\": {\"text\": \"Relative intensity, %\"}}},                        {\"displaylogo\": false, \"toImageButtonOptions\": {\"format\": \"svg\", \"filename\": \"custom_image\", \"height\": 400, \"width\": 700, \"scale\": 1}, \"responsive\": true}                    ).then(function(){\n",
       "                            \n",
       "var gd = document.getElementById('2ef04dc6-aeab-4e0b-adf1-d01d1862e7c9');\n",
       "var x = new MutationObserver(function (mutations, observer) {{\n",
       "        var display = window.getComputedStyle(gd).display;\n",
       "        if (!display || display === 'none') {{\n",
       "            console.log([gd, 'removed!']);\n",
       "            Plotly.purge(gd);\n",
       "            observer.disconnect();\n",
       "        }}\n",
       "}});\n",
       "\n",
       "// Listen for the removal of the full notebook cells\n",
       "var notebookContainer = gd.closest('#notebook-container');\n",
       "if (notebookContainer) {{\n",
       "    x.observe(notebookContainer, {childList: true});\n",
       "}}\n",
       "\n",
       "// Listen for the clearing of the current output cell\n",
       "var outputEl = gd.closest('.output');\n",
       "if (outputEl) {{\n",
       "    x.observe(outputEl, {childList: true});\n",
       "}}\n",
       "\n",
       "                        })                };                });            </script>        </div>"
      ]
     },
     "metadata": {},
     "output_type": "display_data"
    }
   ],
   "source": [
    "plot_mass_spectra(\n",
    "    mz_values=mz_values, \n",
    "    intensity_values=relat_intensity_values,\n",
    "    predicted=(predicted_df.FragmentMz, predicted_df.RelativeIntensity, predicted_df.ions),\n",
    "    title=f\"Experimental and predicted spectrum for peptide AAAITSDILEALGR with m/z={df_ms2_mirrored[df_ms2_mirrored.scan == scan].prec_mono_mz.values[0]} and charge={df_ms2_mirrored[df_ms2_mirrored.scan == scan].prec_charge.values[0]}.\"\n",
    ").show(config=utils.config)"
   ]
  },
  {
   "cell_type": "markdown",
   "id": "persistent-presence",
   "metadata": {},
   "source": [
    "## Fig 2 G: Precursor/fragments elution profile \n",
    "\n",
    "For this figure we used the Bruker raw file from the [Project PXD017703 from ProteomeXchange](https://www.ebi.ac.uk/pride/archive/projects/PXD017703). as example data.\n",
    "\n",
    "To read the raw TIMS-TOF data we use a recently published [AlphaTims package](https://github.com/MannLabs/alphatims).\n",
    "\n",
    "An example is the following peptide:\n",
    "\n",
    "> the information about the peptide was taken from the pyprophet_export_60SPD.tsv file.\n",
    "\n",
    "* sequence: \"IIIPEIQK\"\n",
    "* charge: 2\n",
    "* m/z: 477.3051, Th\n",
    "* im: 0.86, 1/K0\n",
    "* rt: 703.802, seconds\n",
    "\n",
    "![image](https://i.gyazo.com/a66e3676aa75dff9834d4acee7538b94.png)"
   ]
  },
  {
   "cell_type": "code",
   "execution_count": 4,
   "id": "rolled-error",
   "metadata": {},
   "outputs": [],
   "source": [
    "peptide_info = {\n",
    "    \"sequence\": \"IIIPEIQK\",\n",
    "    \"charge\": 2,\n",
    "    \"mz\": 477.3051,\n",
    "    \"im\": 0.86,\n",
    "    \"rt\": 703.802,\n",
    "    \"fragments\": {\n",
    "        \"y8\": 953.60304,\n",
    "        \"y7\": 840.51897,\n",
    "        \"y6\": 727.43491,\n",
    "        \"y5\": 614.35085,\n",
    "        \"y4\": 517.29808,\n",
    "        \"y3\": 388.25549,\n",
    "        \"y2\": 275.17143,\n",
    "        \"y1\": 147.11285,\n",
    "        \"b1\": 114.09139,\n",
    "        \"b2\": 227.17545,\n",
    "        \"b3\": 340.25951,\n",
    "        \"b4\": 437.31228,\n",
    "        \"b5\": 566.35487,\n",
    "        \"b6\": 679.43893,\n",
    "        \"b7\": 807.49751,\n",
    "        \"b8\": 935.59247\n",
    "    }      \n",
    "}"
   ]
  },
  {
   "cell_type": "code",
   "execution_count": 5,
   "id": "chinese-authorization",
   "metadata": {},
   "outputs": [],
   "source": [
    "# this plotting function is taken from the AlphaViz package (https://github.com/MannLabs/alphaviz) and modified\n",
    "\n",
    "def plot_line(\n",
    "    timstof_data,\n",
    "    selected_indices,\n",
    "    label: str,\n",
    "    x_axis_label: str,\n",
    "    y_axis_label: str = \"intensity\",\n",
    "    remove_zeros: bool = False,\n",
    "    trim: bool = True,\n",
    "):\n",
    "    axis_dict = {\n",
    "        \"mz\": \"m/z, Th\",\n",
    "        \"rt\": \"RT, min\",\n",
    "        \"mobility\": \"Inversed IM, V·s·cm\\u207B\\u00B2\",\n",
    "        \"intensity\": \"Intensity\",\n",
    "    }\n",
    "    x_axis_label = axis_dict[x_axis_label]\n",
    "    y_axis_label = axis_dict[y_axis_label]\n",
    "    labels = {\n",
    "        'm/z, Th': \"mz_values\",\n",
    "        'RT, min': \"rt_values\",\n",
    "        'Inversed IM, V·s·cm\\u207B\\u00B2': \"mobility_values\",\n",
    "    }\n",
    "    x_dimension = labels[x_axis_label]\n",
    "    intensities = timstof_data.bin_intensities(selected_indices, [x_dimension])\n",
    "    if x_dimension == \"mz_values\":\n",
    "        x_ticks = timstof_data.mz_values\n",
    "        plot_title = f\"Spectrum\"\n",
    "    elif x_dimension == \"mobility_values\":\n",
    "        x_ticks = timstof_data.mobility_values\n",
    "        plot_title = f\"Mobilogram\"\n",
    "    elif x_dimension == \"rt_values\":\n",
    "        x_ticks = timstof_data.rt_values / 60\n",
    "        plot_title = f\"XIC\"\n",
    "    non_zeros = np.flatnonzero(intensities)\n",
    "    if len(non_zeros) == 0:\n",
    "        x_ticks = np.empty(0, dtype=x_ticks.dtype)\n",
    "        intensities = np.empty(0, dtype=intensities.dtype)\n",
    "    else:\n",
    "        if remove_zeros:\n",
    "            x_ticks = x_ticks[non_zeros]\n",
    "            intensities = intensities[non_zeros]\n",
    "        elif trim:\n",
    "            start = max(0, non_zeros[0] - 1)\n",
    "            end = non_zeros[-1] + 2\n",
    "            x_ticks = x_ticks[start: end]\n",
    "            intensities = intensities[start: end]\n",
    "\n",
    "    trace = go.Scatter(\n",
    "        x=x_ticks,\n",
    "        y=intensities,\n",
    "        mode='lines',\n",
    "        text = [f'{x_axis_label}'.format(i + 1) for i in range(len(x_ticks))],\n",
    "        hovertemplate='<b>%{text}:</b> %{x};<br><b>Intensity:</b> %{y}.',\n",
    "        name=label\n",
    "    )\n",
    "    return trace"
   ]
  },
  {
   "cell_type": "code",
   "execution_count": 14,
   "id": "material-latitude",
   "metadata": {},
   "outputs": [],
   "source": [
    "# this plotting function is taken from the AlphaViz package (https://github.com/MannLabs/alphaviz) and modified\n",
    "\n",
    "def plot_elution_profile(\n",
    "    timstof_data,\n",
    "    peptide_info,\n",
    "    mz_tol: int = 50,\n",
    "    rt_tol: int = 30,\n",
    "    im_tol: int = 0.05,\n",
    "    x_axis_label: str = \"rt\",\n",
    "    y_axis_label: str = \"intensity\",\n",
    "    title: str = \"\",\n",
    "    width: int = 900,\n",
    "    height: int = 400\n",
    "):\n",
    "    fig = go.Figure()\n",
    "    \n",
    "    rt_slice = slice(peptide_info['rt'] - rt_tol, peptide_info['rt'] + rt_tol)\n",
    "    im_slice = slice(peptide_info['im'] - im_tol, peptide_info['im'] + im_tol)\n",
    "    prec_mz_slice = slice(peptide_info['mz'] / (1 + mz_tol / 10**6), peptide_info['mz'] * (1 + mz_tol / 10**6))\n",
    "    \n",
    "    # create an elution profile for the precursor\n",
    "    precursor_indices = timstof_data[\n",
    "        rt_slice,\n",
    "        im_slice,\n",
    "        0,\n",
    "        prec_mz_slice,\n",
    "        'raw'\n",
    "    ]\n",
    "    fig.add_trace(\n",
    "        plot_line(bruker_raw_data, precursor_indices, x_axis_label='rt', remove_zeros=True, label = 'precursor')\n",
    "    )\n",
    "    \n",
    "    # create elution profiles for the all fragments\n",
    "    for frag, frag_mz in peptide_info['fragments'].items():\n",
    "        fragment_data_indices = bruker_raw_data[\n",
    "            rt_slice,\n",
    "            im_slice,\n",
    "            prec_mz_slice,\n",
    "            slice(frag_mz / (1 + mz_tol / 10**6), frag_mz * (1 + mz_tol / 10**6)),\n",
    "            'raw'\n",
    "        ]\n",
    "        if len(fragment_data_indices) > 0:\n",
    "            fig.add_trace(\n",
    "                plot_line(bruker_raw_data, fragment_data_indices, x_axis_label='rt', remove_zeros=True, label = frag)\n",
    "            )\n",
    "    \n",
    "    fig.update_layout(\n",
    "        title=dict(\n",
    "            text=title,\n",
    "            font=dict(\n",
    "                size=16,\n",
    "            ),\n",
    "            x=0.5,\n",
    "            xanchor='center',\n",
    "            yanchor='top'\n",
    "        ),\n",
    "        xaxis=dict(\n",
    "            title=x_axis_label,\n",
    "            titlefont_size=14,\n",
    "            tickmode = 'auto',\n",
    "            tickfont_size=14,\n",
    "        ),\n",
    "        yaxis=dict(\n",
    "            title=y_axis_label\n",
    "        ),\n",
    "        template = \"plotly_white\", \n",
    "        width=width,\n",
    "        height=height,\n",
    "        hovermode=\"x unified\",\n",
    "        showlegend=True\n",
    "    )\n",
    "    return fig"
   ]
  },
  {
   "cell_type": "code",
   "execution_count": 16,
   "id": "strategic-hobby",
   "metadata": {
    "scrolled": false
   },
   "outputs": [
    {
     "data": {
      "application/vnd.plotly.v1+json": {
       "config": {
        "displaylogo": false,
        "plotlyServerURL": "https://plot.ly",
        "toImageButtonOptions": {
         "filename": "custom_image",
         "format": "svg",
         "height": 400,
         "scale": 1,
         "width": 700
        }
       },
       "data": [
        {
         "hovertemplate": "<b>%{text}:</b> %{x};<br><b>Intensity:</b> %{y}.",
         "mode": "lines",
         "name": "precursor",
         "text": [
          "RT, min",
          "RT, min",
          "RT, min",
          "RT, min",
          "RT, min",
          "RT, min",
          "RT, min",
          "RT, min",
          "RT, min",
          "RT, min",
          "RT, min",
          "RT, min",
          "RT, min",
          "RT, min",
          "RT, min",
          "RT, min",
          "RT, min",
          "RT, min",
          "RT, min",
          "RT, min",
          "RT, min",
          "RT, min",
          "RT, min",
          "RT, min",
          "RT, min",
          "RT, min",
          "RT, min",
          "RT, min",
          "RT, min",
          "RT, min",
          "RT, min",
          "RT, min",
          "RT, min",
          "RT, min",
          "RT, min",
          "RT, min",
          "RT, min",
          "RT, min",
          "RT, min",
          "RT, min",
          "RT, min",
          "RT, min",
          "RT, min",
          "RT, min",
          "RT, min",
          "RT, min",
          "RT, min",
          "RT, min",
          "RT, min",
          "RT, min",
          "RT, min",
          "RT, min",
          "RT, min",
          "RT, min",
          "RT, min",
          "RT, min",
          "RT, min",
          "RT, min",
          "RT, min",
          "RT, min",
          "RT, min",
          "RT, min"
         ],
         "type": "scatter",
         "x": [
          11.23668379358785,
          11.252632865014537,
          11.268627629540385,
          11.285357525603123,
          11.301653212592926,
          11.317922927486364,
          11.333932896978682,
          11.350017034058954,
          11.365970939208506,
          11.382491318555559,
          11.398637692872414,
          11.414621836892913,
          11.430590990996299,
          11.446529842691426,
          11.462797876289955,
          11.47891192966716,
          11.49493298397592,
          11.510887402311416,
          11.526917869916675,
          11.54299606381494,
          11.559474967962556,
          11.57551645684695,
          11.591505776714287,
          11.607420386482802,
          11.62333637452215,
          11.639286526083067,
          11.655331436207105,
          11.671354357535211,
          11.687373173375743,
          11.703404452303547,
          11.719642115069023,
          11.735712762690136,
          11.751706280907257,
          11.767735277379469,
          11.784615654224128,
          11.800873995939503,
          11.81691210757162,
          11.833068848244583,
          11.849009581621512,
          11.865072443478693,
          11.88150582558913,
          11.897459652538918,
          11.913496703586748,
          11.930089583889298,
          11.946241608139045,
          11.962247731180506,
          11.978268614427284,
          11.9942501436432,
          12.010253348855995,
          12.026339983441211,
          12.04293913438728,
          12.059002225956272,
          12.075057805460505,
          12.091152543496184,
          12.107148085132184,
          12.12312305045548,
          12.139232157697654,
          12.155474869235345,
          12.171554035743167,
          12.187508307454111,
          12.203620029500872,
          12.219655785365122
         ],
         "y": [
          476,
          839,
          425,
          485,
          379,
          760,
          757,
          1149,
          760,
          1132,
          1468,
          1227,
          1340,
          1351,
          972,
          1069,
          732,
          943,
          625,
          1323,
          773,
          1794,
          1840,
          1681,
          6807,
          25605,
          103592,
          218612,
          278187,
          318892,
          334775,
          426410,
          383960,
          316543,
          287558,
          282681,
          331876,
          284257,
          237995,
          209173,
          180146,
          137709,
          105633,
          75639,
          58567,
          42616,
          33403,
          21890,
          14395,
          14393,
          11899,
          14007,
          11554,
          11211,
          9326,
          8486,
          7779,
          6149,
          5419,
          5206,
          6134,
          6971
         ]
        },
        {
         "hovertemplate": "<b>%{text}:</b> %{x};<br><b>Intensity:</b> %{y}.",
         "mode": "lines",
         "name": "y8",
         "text": [
          "RT, min",
          "RT, min",
          "RT, min",
          "RT, min",
          "RT, min",
          "RT, min",
          "RT, min",
          "RT, min",
          "RT, min",
          "RT, min",
          "RT, min",
          "RT, min",
          "RT, min",
          "RT, min",
          "RT, min",
          "RT, min",
          "RT, min",
          "RT, min",
          "RT, min",
          "RT, min"
         ],
         "type": "scatter",
         "x": [
          11.27660667884631,
          11.292839566538742,
          11.325183868366365,
          11.550722449685805,
          11.598672125205665,
          11.662600221500856,
          11.678614819441664,
          11.710895916310639,
          11.726963870927404,
          11.758976068135475,
          11.775870017526545,
          11.792128339691974,
          11.808150464359993,
          11.824320259505937,
          11.904740021172604,
          12.050250015591088,
          12.098402927408149,
          12.114426440121965,
          12.162789152128854,
          12.226880549079649
         ],
         "y": [
          70,
          39,
          44,
          11,
          51,
          60,
          10,
          74,
          74,
          105,
          63,
          154,
          53,
          28,
          63,
          32,
          28,
          18,
          10,
          9
         ]
        },
        {
         "hovertemplate": "<b>%{text}:</b> %{x};<br><b>Intensity:</b> %{y}.",
         "mode": "lines",
         "name": "y7",
         "text": [
          "RT, min",
          "RT, min",
          "RT, min",
          "RT, min",
          "RT, min",
          "RT, min",
          "RT, min",
          "RT, min",
          "RT, min",
          "RT, min",
          "RT, min",
          "RT, min",
          "RT, min",
          "RT, min",
          "RT, min",
          "RT, min",
          "RT, min",
          "RT, min",
          "RT, min",
          "RT, min",
          "RT, min",
          "RT, min",
          "RT, min",
          "RT, min",
          "RT, min",
          "RT, min",
          "RT, min",
          "RT, min",
          "RT, min",
          "RT, min",
          "RT, min",
          "RT, min",
          "RT, min",
          "RT, min",
          "RT, min",
          "RT, min",
          "RT, min",
          "RT, min",
          "RT, min",
          "RT, min",
          "RT, min",
          "RT, min",
          "RT, min",
          "RT, min",
          "RT, min",
          "RT, min",
          "RT, min",
          "RT, min",
          "RT, min",
          "RT, min",
          "RT, min",
          "RT, min",
          "RT, min",
          "RT, min",
          "RT, min",
          "RT, min",
          "RT, min",
          "RT, min",
          "RT, min",
          "RT, min",
          "RT, min"
         ],
         "type": "scatter",
         "x": [
          11.243904598439364,
          11.259837370102897,
          11.27660667884631,
          11.292839566538742,
          11.309140092138898,
          11.341163134676636,
          11.357210249056497,
          11.373760486050653,
          11.389891982862547,
          11.405932450262533,
          11.421820931535155,
          11.43779092139851,
          11.454043168419833,
          11.470149567995211,
          11.486202107483647,
          11.502152962842432,
          11.518136662101783,
          11.534252738897857,
          11.550722449685805,
          11.566734349734778,
          11.582766249373206,
          11.598672125205665,
          11.614581730189336,
          11.630529687269396,
          11.646578326544642,
          11.662600221500856,
          11.678614819441664,
          11.694655286841645,
          11.710895916310639,
          11.726963870927404,
          11.742959642275206,
          11.758976068135475,
          11.775870017526545,
          11.792128339691974,
          11.808150464359993,
          11.824320259505937,
          11.84026206812961,
          11.85631837098165,
          11.872737945946387,
          11.88870396228427,
          11.904740021172604,
          11.921280732458095,
          11.937493522811373,
          11.953486185718587,
          11.969508105112226,
          11.985498206977189,
          12.001489149489608,
          12.017502452246838,
          12.034170370109715,
          12.050250015591088,
          12.066287565162407,
          12.082462531267696,
          12.098402927408149,
          12.114426440121965,
          12.13045134088158,
          12.14671767852274,
          12.162789152128854,
          12.178753697333693,
          12.194882608665912,
          12.210893154881486,
          12.226880549079649
         ],
         "y": [
          139,
          49,
          29,
          50,
          127,
          354,
          342,
          410,
          481,
          479,
          335,
          224,
          324,
          242,
          130,
          223,
          331,
          621,
          418,
          289,
          18,
          138,
          733,
          2083,
          6617,
          14484,
          26132,
          30840,
          34200,
          34493,
          36419,
          34605,
          31542,
          29268,
          27343,
          27810,
          26105,
          21247,
          18236,
          14155,
          12228,
          7989,
          6168,
          4961,
          3460,
          3309,
          2313,
          2172,
          1526,
          1412,
          1320,
          1493,
          1582,
          1688,
          1035,
          1657,
          1562,
          1075,
          1380,
          700,
          810
         ]
        },
        {
         "hovertemplate": "<b>%{text}:</b> %{x};<br><b>Intensity:</b> %{y}.",
         "mode": "lines",
         "name": "y6",
         "text": [
          "RT, min",
          "RT, min",
          "RT, min",
          "RT, min",
          "RT, min",
          "RT, min",
          "RT, min",
          "RT, min",
          "RT, min",
          "RT, min",
          "RT, min",
          "RT, min",
          "RT, min",
          "RT, min",
          "RT, min",
          "RT, min",
          "RT, min",
          "RT, min",
          "RT, min",
          "RT, min",
          "RT, min",
          "RT, min",
          "RT, min",
          "RT, min",
          "RT, min",
          "RT, min",
          "RT, min",
          "RT, min",
          "RT, min",
          "RT, min",
          "RT, min",
          "RT, min",
          "RT, min",
          "RT, min",
          "RT, min",
          "RT, min",
          "RT, min",
          "RT, min",
          "RT, min",
          "RT, min",
          "RT, min",
          "RT, min",
          "RT, min",
          "RT, min",
          "RT, min",
          "RT, min",
          "RT, min",
          "RT, min",
          "RT, min",
          "RT, min",
          "RT, min",
          "RT, min",
          "RT, min",
          "RT, min",
          "RT, min",
          "RT, min",
          "RT, min",
          "RT, min",
          "RT, min",
          "RT, min",
          "RT, min",
          "RT, min"
         ],
         "type": "scatter",
         "x": [
          11.243904598439364,
          11.259837370102897,
          11.27660667884631,
          11.292839566538742,
          11.309140092138898,
          11.325183868366365,
          11.341163134676636,
          11.357210249056497,
          11.373760486050653,
          11.389891982862547,
          11.405932450262533,
          11.421820931535155,
          11.43779092139851,
          11.454043168419833,
          11.470149567995211,
          11.486202107483647,
          11.502152962842432,
          11.518136662101783,
          11.534252738897857,
          11.550722449685805,
          11.566734349734778,
          11.582766249373206,
          11.598672125205665,
          11.614581730189336,
          11.630529687269396,
          11.646578326544642,
          11.662600221500856,
          11.678614819441664,
          11.694655286841645,
          11.710895916310639,
          11.726963870927404,
          11.742959642275206,
          11.758976068135475,
          11.775870017526545,
          11.792128339691974,
          11.808150464359993,
          11.824320259505937,
          11.84026206812961,
          11.85631837098165,
          11.872737945946387,
          11.88870396228427,
          11.904740021172604,
          11.921280732458095,
          11.937493522811373,
          11.953486185718587,
          11.969508105112226,
          11.985498206977189,
          12.001489149489608,
          12.017502452246838,
          12.034170370109715,
          12.050250015591088,
          12.066287565162407,
          12.082462531267696,
          12.098402927408149,
          12.114426440121965,
          12.13045134088158,
          12.14671767852274,
          12.162789152128854,
          12.178753697333693,
          12.194882608665912,
          12.210893154881486,
          12.226880549079649
         ],
         "y": [
          257,
          282,
          293,
          392,
          212,
          191,
          568,
          654,
          1521,
          920,
          815,
          463,
          569,
          589,
          118,
          301,
          328,
          1042,
          1078,
          1753,
          1240,
          1107,
          2094,
          4523,
          11126,
          33720,
          73373,
          139761,
          176460,
          197376,
          204019,
          204993,
          197530,
          174146,
          164439,
          147907,
          157330,
          147187,
          126254,
          102032,
          73980,
          57892,
          39249,
          29111,
          25052,
          18118,
          13677,
          11296,
          8036,
          7957,
          7910,
          6004,
          7337,
          4627,
          4716,
          4627,
          4162,
          3926,
          3862,
          4229,
          3082,
          2783
         ]
        },
        {
         "hovertemplate": "<b>%{text}:</b> %{x};<br><b>Intensity:</b> %{y}.",
         "mode": "lines",
         "name": "y5",
         "text": [
          "RT, min",
          "RT, min",
          "RT, min",
          "RT, min",
          "RT, min",
          "RT, min",
          "RT, min",
          "RT, min",
          "RT, min",
          "RT, min",
          "RT, min",
          "RT, min",
          "RT, min",
          "RT, min",
          "RT, min",
          "RT, min",
          "RT, min",
          "RT, min",
          "RT, min",
          "RT, min",
          "RT, min",
          "RT, min",
          "RT, min",
          "RT, min",
          "RT, min",
          "RT, min",
          "RT, min",
          "RT, min",
          "RT, min",
          "RT, min",
          "RT, min",
          "RT, min",
          "RT, min",
          "RT, min",
          "RT, min",
          "RT, min",
          "RT, min",
          "RT, min",
          "RT, min",
          "RT, min",
          "RT, min",
          "RT, min",
          "RT, min",
          "RT, min",
          "RT, min",
          "RT, min",
          "RT, min",
          "RT, min",
          "RT, min",
          "RT, min",
          "RT, min",
          "RT, min",
          "RT, min",
          "RT, min",
          "RT, min",
          "RT, min",
          "RT, min",
          "RT, min",
          "RT, min",
          "RT, min",
          "RT, min",
          "RT, min"
         ],
         "type": "scatter",
         "x": [
          11.243904598439364,
          11.259837370102897,
          11.27660667884631,
          11.292839566538742,
          11.309140092138898,
          11.325183868366365,
          11.341163134676636,
          11.357210249056497,
          11.373760486050653,
          11.389891982862547,
          11.405932450262533,
          11.421820931535155,
          11.43779092139851,
          11.454043168419833,
          11.470149567995211,
          11.486202107483647,
          11.502152962842432,
          11.518136662101783,
          11.534252738897857,
          11.550722449685805,
          11.566734349734778,
          11.582766249373206,
          11.598672125205665,
          11.614581730189336,
          11.630529687269396,
          11.646578326544642,
          11.662600221500856,
          11.678614819441664,
          11.694655286841645,
          11.710895916310639,
          11.726963870927404,
          11.742959642275206,
          11.758976068135475,
          11.775870017526545,
          11.792128339691974,
          11.808150464359993,
          11.824320259505937,
          11.84026206812961,
          11.85631837098165,
          11.872737945946387,
          11.88870396228427,
          11.904740021172604,
          11.921280732458095,
          11.937493522811373,
          11.953486185718587,
          11.969508105112226,
          11.985498206977189,
          12.001489149489608,
          12.017502452246838,
          12.034170370109715,
          12.050250015591088,
          12.066287565162407,
          12.082462531267696,
          12.098402927408149,
          12.114426440121965,
          12.13045134088158,
          12.14671767852274,
          12.162789152128854,
          12.178753697333693,
          12.194882608665912,
          12.210893154881486,
          12.226880549079649
         ],
         "y": [
          566,
          525,
          1204,
          592,
          547,
          513,
          541,
          471,
          763,
          496,
          518,
          1563,
          1908,
          4455,
          2951,
          1527,
          1106,
          812,
          681,
          466,
          718,
          935,
          1301,
          3068,
          17602,
          68409,
          144353,
          250297,
          309322,
          325070,
          324276,
          345495,
          331952,
          299136,
          271850,
          257362,
          264784,
          254076,
          214562,
          183433,
          145946,
          110684,
          80918,
          56883,
          50062,
          36842,
          24778,
          20213,
          15307,
          13867,
          12561,
          12088,
          11975,
          11112,
          7854,
          7078,
          6276,
          7017,
          6026,
          6376,
          6229,
          5302
         ]
        },
        {
         "hovertemplate": "<b>%{text}:</b> %{x};<br><b>Intensity:</b> %{y}.",
         "mode": "lines",
         "name": "y4",
         "text": [
          "RT, min",
          "RT, min",
          "RT, min",
          "RT, min",
          "RT, min",
          "RT, min",
          "RT, min",
          "RT, min",
          "RT, min",
          "RT, min",
          "RT, min",
          "RT, min",
          "RT, min",
          "RT, min",
          "RT, min",
          "RT, min",
          "RT, min",
          "RT, min",
          "RT, min",
          "RT, min",
          "RT, min",
          "RT, min",
          "RT, min",
          "RT, min",
          "RT, min",
          "RT, min",
          "RT, min",
          "RT, min",
          "RT, min",
          "RT, min",
          "RT, min",
          "RT, min",
          "RT, min",
          "RT, min",
          "RT, min",
          "RT, min",
          "RT, min",
          "RT, min",
          "RT, min",
          "RT, min",
          "RT, min",
          "RT, min",
          "RT, min",
          "RT, min",
          "RT, min",
          "RT, min",
          "RT, min",
          "RT, min",
          "RT, min",
          "RT, min",
          "RT, min",
          "RT, min",
          "RT, min",
          "RT, min",
          "RT, min",
          "RT, min",
          "RT, min",
          "RT, min",
          "RT, min",
          "RT, min",
          "RT, min",
          "RT, min"
         ],
         "type": "scatter",
         "x": [
          11.243904598439364,
          11.259837370102897,
          11.27660667884631,
          11.292839566538742,
          11.309140092138898,
          11.325183868366365,
          11.341163134676636,
          11.357210249056497,
          11.373760486050653,
          11.389891982862547,
          11.405932450262533,
          11.421820931535155,
          11.43779092139851,
          11.454043168419833,
          11.470149567995211,
          11.486202107483647,
          11.502152962842432,
          11.518136662101783,
          11.534252738897857,
          11.550722449685805,
          11.566734349734778,
          11.582766249373206,
          11.598672125205665,
          11.614581730189336,
          11.630529687269396,
          11.646578326544642,
          11.662600221500856,
          11.678614819441664,
          11.694655286841645,
          11.710895916310639,
          11.726963870927404,
          11.742959642275206,
          11.758976068135475,
          11.775870017526545,
          11.792128339691974,
          11.808150464359993,
          11.824320259505937,
          11.84026206812961,
          11.85631837098165,
          11.872737945946387,
          11.88870396228427,
          11.904740021172604,
          11.921280732458095,
          11.937493522811373,
          11.953486185718587,
          11.969508105112226,
          11.985498206977189,
          12.001489149489608,
          12.017502452246838,
          12.034170370109715,
          12.050250015591088,
          12.066287565162407,
          12.082462531267696,
          12.098402927408149,
          12.114426440121965,
          12.13045134088158,
          12.14671767852274,
          12.162789152128854,
          12.178753697333693,
          12.194882608665912,
          12.210893154881486,
          12.226880549079649
         ],
         "y": [
          505,
          688,
          814,
          946,
          228,
          396,
          166,
          135,
          250,
          129,
          268,
          313,
          395,
          443,
          584,
          652,
          905,
          501,
          329,
          256,
          62,
          50,
          95,
          207,
          855,
          4659,
          9580,
          16362,
          20490,
          23469,
          22172,
          23952,
          23952,
          20682,
          17468,
          17886,
          19625,
          18262,
          14843,
          11492,
          10618,
          14220,
          20672,
          31740,
          40793,
          35715,
          20532,
          10995,
          8150,
          4862,
          3112,
          2642,
          2555,
          1983,
          1618,
          1226,
          1267,
          1427,
          1297,
          1767,
          1527,
          2300
         ]
        },
        {
         "hovertemplate": "<b>%{text}:</b> %{x};<br><b>Intensity:</b> %{y}.",
         "mode": "lines",
         "name": "y3",
         "text": [
          "RT, min",
          "RT, min",
          "RT, min",
          "RT, min",
          "RT, min",
          "RT, min",
          "RT, min",
          "RT, min",
          "RT, min",
          "RT, min",
          "RT, min",
          "RT, min",
          "RT, min",
          "RT, min",
          "RT, min",
          "RT, min",
          "RT, min",
          "RT, min",
          "RT, min",
          "RT, min",
          "RT, min",
          "RT, min",
          "RT, min",
          "RT, min",
          "RT, min",
          "RT, min",
          "RT, min",
          "RT, min",
          "RT, min",
          "RT, min",
          "RT, min",
          "RT, min",
          "RT, min",
          "RT, min",
          "RT, min",
          "RT, min",
          "RT, min",
          "RT, min",
          "RT, min",
          "RT, min",
          "RT, min",
          "RT, min",
          "RT, min",
          "RT, min",
          "RT, min",
          "RT, min",
          "RT, min",
          "RT, min",
          "RT, min"
         ],
         "type": "scatter",
         "x": [
          11.243904598439364,
          11.259837370102897,
          11.27660667884631,
          11.292839566538742,
          11.325183868366365,
          11.357210249056497,
          11.389891982862547,
          11.405932450262533,
          11.43779092139851,
          11.486202107483647,
          11.502152962842432,
          11.518136662101783,
          11.534252738897857,
          11.598672125205665,
          11.630529687269396,
          11.646578326544642,
          11.662600221500856,
          11.678614819441664,
          11.694655286841645,
          11.710895916310639,
          11.726963870927404,
          11.742959642275206,
          11.758976068135475,
          11.775870017526545,
          11.792128339691974,
          11.808150464359993,
          11.824320259505937,
          11.84026206812961,
          11.88870396228427,
          11.904740021172604,
          11.921280732458095,
          11.937493522811373,
          11.953486185718587,
          11.969508105112226,
          11.985498206977189,
          12.001489149489608,
          12.017502452246838,
          12.034170370109715,
          12.050250015591088,
          12.082462531267696,
          12.098402927408149,
          12.114426440121965,
          12.13045134088158,
          12.14671767852274,
          12.162789152128854,
          12.178753697333693,
          12.194882608665912,
          12.210893154881486,
          12.226880549079649
         ],
         "y": [
          183,
          121,
          268,
          122,
          46,
          193,
          123,
          46,
          142,
          53,
          126,
          74,
          85,
          19,
          18,
          73,
          197,
          20,
          50,
          119,
          9,
          194,
          123,
          253,
          43,
          63,
          34,
          174,
          61,
          109,
          60,
          39,
          115,
          93,
          86,
          209,
          145,
          135,
          51,
          55,
          131,
          39,
          47,
          321,
          113,
          390,
          95,
          281,
          173
         ]
        },
        {
         "hovertemplate": "<b>%{text}:</b> %{x};<br><b>Intensity:</b> %{y}.",
         "mode": "lines",
         "name": "y2",
         "text": [
          "RT, min",
          "RT, min",
          "RT, min",
          "RT, min",
          "RT, min",
          "RT, min",
          "RT, min",
          "RT, min",
          "RT, min",
          "RT, min",
          "RT, min",
          "RT, min",
          "RT, min",
          "RT, min",
          "RT, min",
          "RT, min",
          "RT, min",
          "RT, min",
          "RT, min",
          "RT, min",
          "RT, min",
          "RT, min",
          "RT, min",
          "RT, min",
          "RT, min",
          "RT, min",
          "RT, min",
          "RT, min",
          "RT, min",
          "RT, min"
         ],
         "type": "scatter",
         "x": [
          11.243904598439364,
          11.259837370102897,
          11.27660667884631,
          11.309140092138898,
          11.325183868366365,
          11.357210249056497,
          11.373760486050653,
          11.454043168419833,
          11.486202107483647,
          11.502152962842432,
          11.550722449685805,
          11.598672125205665,
          11.614581730189336,
          11.742959642275206,
          11.792128339691974,
          11.85631837098165,
          11.937493522811373,
          11.985498206977189,
          12.034170370109715,
          12.050250015591088,
          12.066287565162407,
          12.098402927408149,
          12.114426440121965,
          12.13045134088158,
          12.14671767852274,
          12.162789152128854,
          12.178753697333693,
          12.194882608665912,
          12.210893154881486,
          12.226880549079649
         ],
         "y": [
          96,
          93,
          158,
          210,
          144,
          63,
          86,
          124,
          94,
          38,
          94,
          52,
          44,
          87,
          57,
          51,
          137,
          148,
          82,
          89,
          102,
          28,
          102,
          161,
          345,
          104,
          45,
          142,
          41,
          68
         ]
        },
        {
         "hovertemplate": "<b>%{text}:</b> %{x};<br><b>Intensity:</b> %{y}.",
         "mode": "lines",
         "name": "b2",
         "text": [
          "RT, min",
          "RT, min",
          "RT, min",
          "RT, min",
          "RT, min",
          "RT, min",
          "RT, min",
          "RT, min",
          "RT, min",
          "RT, min",
          "RT, min",
          "RT, min",
          "RT, min",
          "RT, min",
          "RT, min",
          "RT, min",
          "RT, min",
          "RT, min",
          "RT, min",
          "RT, min",
          "RT, min",
          "RT, min",
          "RT, min",
          "RT, min",
          "RT, min",
          "RT, min",
          "RT, min",
          "RT, min",
          "RT, min",
          "RT, min",
          "RT, min",
          "RT, min",
          "RT, min",
          "RT, min",
          "RT, min",
          "RT, min",
          "RT, min",
          "RT, min",
          "RT, min",
          "RT, min",
          "RT, min",
          "RT, min",
          "RT, min",
          "RT, min",
          "RT, min",
          "RT, min",
          "RT, min",
          "RT, min",
          "RT, min",
          "RT, min",
          "RT, min",
          "RT, min",
          "RT, min",
          "RT, min",
          "RT, min",
          "RT, min",
          "RT, min",
          "RT, min",
          "RT, min",
          "RT, min",
          "RT, min",
          "RT, min"
         ],
         "type": "scatter",
         "x": [
          11.243904598439364,
          11.259837370102897,
          11.27660667884631,
          11.292839566538742,
          11.309140092138898,
          11.325183868366365,
          11.341163134676636,
          11.357210249056497,
          11.373760486050653,
          11.389891982862547,
          11.405932450262533,
          11.421820931535155,
          11.43779092139851,
          11.454043168419833,
          11.470149567995211,
          11.486202107483647,
          11.502152962842432,
          11.518136662101783,
          11.534252738897857,
          11.550722449685805,
          11.566734349734778,
          11.582766249373206,
          11.598672125205665,
          11.614581730189336,
          11.630529687269396,
          11.646578326544642,
          11.662600221500856,
          11.678614819441664,
          11.694655286841645,
          11.710895916310639,
          11.726963870927404,
          11.742959642275206,
          11.758976068135475,
          11.775870017526545,
          11.792128339691974,
          11.808150464359993,
          11.824320259505937,
          11.84026206812961,
          11.85631837098165,
          11.872737945946387,
          11.88870396228427,
          11.904740021172604,
          11.921280732458095,
          11.937493522811373,
          11.953486185718587,
          11.969508105112226,
          11.985498206977189,
          12.001489149489608,
          12.017502452246838,
          12.034170370109715,
          12.050250015591088,
          12.066287565162407,
          12.082462531267696,
          12.098402927408149,
          12.114426440121965,
          12.13045134088158,
          12.14671767852274,
          12.162789152128854,
          12.178753697333693,
          12.194882608665912,
          12.210893154881486,
          12.226880549079649
         ],
         "y": [
          686,
          538,
          887,
          492,
          334,
          747,
          1025,
          1440,
          2201,
          2823,
          2870,
          2175,
          1192,
          1246,
          439,
          420,
          622,
          398,
          326,
          318,
          613,
          205,
          328,
          391,
          1530,
          6537,
          16644,
          30845,
          40272,
          45178,
          47566,
          47106,
          44529,
          35283,
          37345,
          32579,
          35279,
          30240,
          26426,
          20394,
          16067,
          11638,
          7574,
          5824,
          5559,
          4273,
          3145,
          2407,
          1702,
          1589,
          1298,
          1447,
          1308,
          711,
          1089,
          990,
          706,
          459,
          1141,
          713,
          668,
          641
         ]
        },
        {
         "hovertemplate": "<b>%{text}:</b> %{x};<br><b>Intensity:</b> %{y}.",
         "mode": "lines",
         "name": "b3",
         "text": [
          "RT, min",
          "RT, min",
          "RT, min",
          "RT, min",
          "RT, min",
          "RT, min",
          "RT, min",
          "RT, min",
          "RT, min",
          "RT, min",
          "RT, min",
          "RT, min",
          "RT, min",
          "RT, min",
          "RT, min",
          "RT, min",
          "RT, min",
          "RT, min",
          "RT, min",
          "RT, min",
          "RT, min",
          "RT, min",
          "RT, min",
          "RT, min",
          "RT, min",
          "RT, min",
          "RT, min",
          "RT, min",
          "RT, min",
          "RT, min",
          "RT, min",
          "RT, min",
          "RT, min",
          "RT, min",
          "RT, min",
          "RT, min",
          "RT, min",
          "RT, min",
          "RT, min",
          "RT, min",
          "RT, min",
          "RT, min",
          "RT, min",
          "RT, min",
          "RT, min",
          "RT, min",
          "RT, min",
          "RT, min",
          "RT, min",
          "RT, min",
          "RT, min",
          "RT, min",
          "RT, min",
          "RT, min",
          "RT, min",
          "RT, min"
         ],
         "type": "scatter",
         "x": [
          11.259837370102897,
          11.292839566538742,
          11.309140092138898,
          11.325183868366365,
          11.341163134676636,
          11.357210249056497,
          11.373760486050653,
          11.389891982862547,
          11.405932450262533,
          11.421820931535155,
          11.43779092139851,
          11.454043168419833,
          11.470149567995211,
          11.486202107483647,
          11.502152962842432,
          11.518136662101783,
          11.582766249373206,
          11.614581730189336,
          11.630529687269396,
          11.646578326544642,
          11.662600221500856,
          11.678614819441664,
          11.694655286841645,
          11.710895916310639,
          11.726963870927404,
          11.742959642275206,
          11.758976068135475,
          11.775870017526545,
          11.792128339691974,
          11.808150464359993,
          11.824320259505937,
          11.84026206812961,
          11.85631837098165,
          11.872737945946387,
          11.88870396228427,
          11.904740021172604,
          11.921280732458095,
          11.937493522811373,
          11.953486185718587,
          11.969508105112226,
          11.985498206977189,
          12.001489149489608,
          12.017502452246838,
          12.034170370109715,
          12.050250015591088,
          12.066287565162407,
          12.082462531267696,
          12.098402927408149,
          12.114426440121965,
          12.13045134088158,
          12.14671767852274,
          12.162789152128854,
          12.178753697333693,
          12.194882608665912,
          12.210893154881486,
          12.226880549079649
         ],
         "y": [
          48,
          236,
          236,
          175,
          391,
          104,
          402,
          367,
          505,
          401,
          179,
          140,
          44,
          44,
          151,
          157,
          59,
          35,
          388,
          1957,
          3414,
          6204,
          8576,
          8034,
          8757,
          9483,
          8309,
          6646,
          6479,
          6465,
          7495,
          6850,
          5056,
          3646,
          2952,
          3111,
          2319,
          980,
          1033,
          702,
          705,
          580,
          445,
          384,
          307,
          567,
          92,
          171,
          228,
          151,
          156,
          121,
          179,
          46,
          150,
          103
         ]
        },
        {
         "hovertemplate": "<b>%{text}:</b> %{x};<br><b>Intensity:</b> %{y}.",
         "mode": "lines",
         "name": "b4",
         "text": [
          "RT, min",
          "RT, min",
          "RT, min",
          "RT, min",
          "RT, min",
          "RT, min",
          "RT, min",
          "RT, min",
          "RT, min",
          "RT, min",
          "RT, min",
          "RT, min",
          "RT, min",
          "RT, min",
          "RT, min",
          "RT, min",
          "RT, min",
          "RT, min",
          "RT, min",
          "RT, min",
          "RT, min",
          "RT, min",
          "RT, min",
          "RT, min",
          "RT, min",
          "RT, min",
          "RT, min",
          "RT, min",
          "RT, min",
          "RT, min",
          "RT, min",
          "RT, min",
          "RT, min",
          "RT, min",
          "RT, min",
          "RT, min",
          "RT, min",
          "RT, min",
          "RT, min",
          "RT, min"
         ],
         "type": "scatter",
         "x": [
          11.243904598439364,
          11.309140092138898,
          11.341163134676636,
          11.357210249056497,
          11.373760486050653,
          11.421820931535155,
          11.43779092139851,
          11.454043168419833,
          11.534252738897857,
          11.582766249373206,
          11.630529687269396,
          11.646578326544642,
          11.662600221500856,
          11.678614819441664,
          11.694655286841645,
          11.710895916310639,
          11.726963870927404,
          11.742959642275206,
          11.758976068135475,
          11.775870017526545,
          11.792128339691974,
          11.808150464359993,
          11.824320259505937,
          11.84026206812961,
          11.85631837098165,
          11.872737945946387,
          11.88870396228427,
          11.904740021172604,
          11.921280732458095,
          11.937493522811373,
          11.953486185718587,
          11.969508105112226,
          12.001489149489608,
          12.017502452246838,
          12.050250015591088,
          12.066287565162407,
          12.082462531267696,
          12.098402927408149,
          12.114426440121965,
          12.13045134088158
         ],
         "y": [
          62,
          90,
          90,
          26,
          53,
          26,
          35,
          50,
          30,
          10,
          49,
          96,
          226,
          688,
          412,
          571,
          728,
          346,
          752,
          450,
          298,
          370,
          319,
          643,
          336,
          252,
          215,
          121,
          102,
          252,
          110,
          22,
          76,
          26,
          39,
          82,
          9,
          62,
          9,
          71
         ]
        },
        {
         "hovertemplate": "<b>%{text}:</b> %{x};<br><b>Intensity:</b> %{y}.",
         "mode": "lines",
         "name": "b5",
         "text": [
          "RT, min",
          "RT, min",
          "RT, min",
          "RT, min",
          "RT, min",
          "RT, min",
          "RT, min",
          "RT, min",
          "RT, min",
          "RT, min",
          "RT, min",
          "RT, min",
          "RT, min",
          "RT, min",
          "RT, min",
          "RT, min",
          "RT, min",
          "RT, min",
          "RT, min",
          "RT, min",
          "RT, min",
          "RT, min",
          "RT, min",
          "RT, min",
          "RT, min",
          "RT, min",
          "RT, min",
          "RT, min",
          "RT, min",
          "RT, min",
          "RT, min",
          "RT, min",
          "RT, min",
          "RT, min",
          "RT, min",
          "RT, min",
          "RT, min",
          "RT, min",
          "RT, min",
          "RT, min",
          "RT, min",
          "RT, min",
          "RT, min",
          "RT, min",
          "RT, min",
          "RT, min",
          "RT, min",
          "RT, min",
          "RT, min",
          "RT, min",
          "RT, min",
          "RT, min",
          "RT, min",
          "RT, min"
         ],
         "type": "scatter",
         "x": [
          11.243904598439364,
          11.259837370102897,
          11.27660667884631,
          11.292839566538742,
          11.309140092138898,
          11.325183868366365,
          11.341163134676636,
          11.357210249056497,
          11.389891982862547,
          11.405932450262533,
          11.421820931535155,
          11.43779092139851,
          11.454043168419833,
          11.470149567995211,
          11.486202107483647,
          11.518136662101783,
          11.534252738897857,
          11.550722449685805,
          11.566734349734778,
          11.598672125205665,
          11.614581730189336,
          11.630529687269396,
          11.646578326544642,
          11.662600221500856,
          11.694655286841645,
          11.742959642275206,
          11.758976068135475,
          11.775870017526545,
          11.792128339691974,
          11.808150464359993,
          11.824320259505937,
          11.84026206812961,
          11.85631837098165,
          11.872737945946387,
          11.88870396228427,
          11.904740021172604,
          11.921280732458095,
          11.937493522811373,
          11.953486185718587,
          11.969508105112226,
          11.985498206977189,
          12.017502452246838,
          12.034170370109715,
          12.050250015591088,
          12.066287565162407,
          12.082462531267696,
          12.098402927408149,
          12.114426440121965,
          12.13045134088158,
          12.14671767852274,
          12.162789152128854,
          12.178753697333693,
          12.210893154881486,
          12.226880549079649
         ],
         "y": [
          239,
          275,
          221,
          150,
          161,
          481,
          275,
          82,
          185,
          133,
          35,
          43,
          165,
          256,
          71,
          40,
          54,
          240,
          12,
          26,
          120,
          127,
          34,
          247,
          169,
          40,
          90,
          28,
          21,
          38,
          120,
          94,
          175,
          21,
          44,
          137,
          9,
          23,
          172,
          125,
          323,
          108,
          130,
          56,
          42,
          226,
          227,
          173,
          267,
          58,
          52,
          83,
          203,
          80
         ]
        },
        {
         "hovertemplate": "<b>%{text}:</b> %{x};<br><b>Intensity:</b> %{y}.",
         "mode": "lines",
         "name": "b6",
         "text": [
          "RT, min",
          "RT, min",
          "RT, min",
          "RT, min",
          "RT, min",
          "RT, min",
          "RT, min",
          "RT, min",
          "RT, min",
          "RT, min",
          "RT, min",
          "RT, min",
          "RT, min",
          "RT, min",
          "RT, min",
          "RT, min",
          "RT, min",
          "RT, min",
          "RT, min",
          "RT, min",
          "RT, min",
          "RT, min",
          "RT, min",
          "RT, min",
          "RT, min",
          "RT, min",
          "RT, min",
          "RT, min",
          "RT, min",
          "RT, min",
          "RT, min",
          "RT, min",
          "RT, min",
          "RT, min",
          "RT, min",
          "RT, min",
          "RT, min",
          "RT, min",
          "RT, min",
          "RT, min",
          "RT, min"
         ],
         "type": "scatter",
         "x": [
          11.243904598439364,
          11.259837370102897,
          11.27660667884631,
          11.292839566538742,
          11.309140092138898,
          11.325183868366365,
          11.357210249056497,
          11.373760486050653,
          11.389891982862547,
          11.405932450262533,
          11.470149567995211,
          11.518136662101783,
          11.534252738897857,
          11.550722449685805,
          11.566734349734778,
          11.630529687269396,
          11.662600221500856,
          11.710895916310639,
          11.742959642275206,
          11.792128339691974,
          11.808150464359993,
          11.84026206812961,
          11.85631837098165,
          11.872737945946387,
          11.904740021172604,
          11.921280732458095,
          11.937493522811373,
          11.953486185718587,
          11.969508105112226,
          11.985498206977189,
          12.001489149489608,
          12.017502452246838,
          12.050250015591088,
          12.082462531267696,
          12.098402927408149,
          12.114426440121965,
          12.13045134088158,
          12.14671767852274,
          12.162789152128854,
          12.178753697333693,
          12.194882608665912
         ],
         "y": [
          48,
          68,
          47,
          128,
          67,
          22,
          63,
          33,
          40,
          224,
          48,
          30,
          21,
          9,
          20,
          9,
          55,
          27,
          76,
          78,
          85,
          79,
          72,
          261,
          120,
          65,
          36,
          111,
          58,
          95,
          56,
          114,
          187,
          200,
          105,
          206,
          189,
          86,
          73,
          61,
          9
         ]
        },
        {
         "hovertemplate": "<b>%{text}:</b> %{x};<br><b>Intensity:</b> %{y}.",
         "mode": "lines",
         "name": "b7",
         "text": [
          "RT, min",
          "RT, min",
          "RT, min",
          "RT, min",
          "RT, min",
          "RT, min",
          "RT, min",
          "RT, min",
          "RT, min",
          "RT, min",
          "RT, min",
          "RT, min",
          "RT, min",
          "RT, min",
          "RT, min",
          "RT, min",
          "RT, min",
          "RT, min",
          "RT, min",
          "RT, min",
          "RT, min",
          "RT, min",
          "RT, min",
          "RT, min",
          "RT, min",
          "RT, min",
          "RT, min",
          "RT, min",
          "RT, min",
          "RT, min",
          "RT, min",
          "RT, min",
          "RT, min",
          "RT, min",
          "RT, min",
          "RT, min",
          "RT, min",
          "RT, min",
          "RT, min",
          "RT, min",
          "RT, min",
          "RT, min",
          "RT, min",
          "RT, min",
          "RT, min",
          "RT, min",
          "RT, min",
          "RT, min",
          "RT, min",
          "RT, min",
          "RT, min",
          "RT, min",
          "RT, min",
          "RT, min",
          "RT, min"
         ],
         "type": "scatter",
         "x": [
          11.243904598439364,
          11.259837370102897,
          11.27660667884631,
          11.292839566538742,
          11.309140092138898,
          11.325183868366365,
          11.341163134676636,
          11.357210249056497,
          11.373760486050653,
          11.389891982862547,
          11.405932450262533,
          11.421820931535155,
          11.43779092139851,
          11.454043168419833,
          11.470149567995211,
          11.486202107483647,
          11.502152962842432,
          11.534252738897857,
          11.566734349734778,
          11.582766249373206,
          11.598672125205665,
          11.614581730189336,
          11.630529687269396,
          11.646578326544642,
          11.662600221500856,
          11.678614819441664,
          11.694655286841645,
          11.710895916310639,
          11.726963870927404,
          11.742959642275206,
          11.758976068135475,
          11.775870017526545,
          11.792128339691974,
          11.808150464359993,
          11.824320259505937,
          11.84026206812961,
          11.85631837098165,
          11.872737945946387,
          11.88870396228427,
          11.904740021172604,
          11.921280732458095,
          11.937493522811373,
          11.953486185718587,
          11.969508105112226,
          11.985498206977189,
          12.001489149489608,
          12.017502452246838,
          12.050250015591088,
          12.082462531267696,
          12.114426440121965,
          12.162789152128854,
          12.178753697333693,
          12.194882608665912,
          12.210893154881486,
          12.226880549079649
         ],
         "y": [
          1682,
          2459,
          2790,
          1504,
          1142,
          519,
          351,
          472,
          104,
          230,
          106,
          19,
          62,
          65,
          195,
          96,
          89,
          24,
          151,
          536,
          145,
          247,
          33,
          127,
          263,
          257,
          342,
          777,
          427,
          617,
          572,
          433,
          318,
          307,
          367,
          371,
          329,
          196,
          67,
          19,
          142,
          141,
          140,
          174,
          184,
          77,
          77,
          24,
          63,
          68,
          133,
          53,
          161,
          21,
          115
         ]
        },
        {
         "hovertemplate": "<b>%{text}:</b> %{x};<br><b>Intensity:</b> %{y}.",
         "mode": "lines",
         "name": "b8",
         "text": [
          "RT, min",
          "RT, min",
          "RT, min",
          "RT, min",
          "RT, min",
          "RT, min",
          "RT, min",
          "RT, min",
          "RT, min",
          "RT, min",
          "RT, min",
          "RT, min",
          "RT, min",
          "RT, min",
          "RT, min"
         ],
         "type": "scatter",
         "x": [
          11.243904598439364,
          11.341163134676636,
          11.373760486050653,
          11.454043168419833,
          11.518136662101783,
          11.646578326544642,
          11.678614819441664,
          11.710895916310639,
          11.726963870927404,
          11.758976068135475,
          11.775870017526545,
          11.808150464359993,
          11.824320259505937,
          11.85631837098165,
          12.017502452246838
         ],
         "y": [
          39,
          39,
          27,
          23,
          53,
          9,
          30,
          112,
          126,
          38,
          9,
          19,
          39,
          43,
          11
         ]
        }
       ],
       "layout": {
        "height": 400,
        "hovermode": "x unified",
        "showlegend": true,
        "template": {
         "data": {
          "bar": [
           {
            "error_x": {
             "color": "#2a3f5f"
            },
            "error_y": {
             "color": "#2a3f5f"
            },
            "marker": {
             "line": {
              "color": "white",
              "width": 0.5
             }
            },
            "type": "bar"
           }
          ],
          "barpolar": [
           {
            "marker": {
             "line": {
              "color": "white",
              "width": 0.5
             }
            },
            "type": "barpolar"
           }
          ],
          "carpet": [
           {
            "aaxis": {
             "endlinecolor": "#2a3f5f",
             "gridcolor": "#C8D4E3",
             "linecolor": "#C8D4E3",
             "minorgridcolor": "#C8D4E3",
             "startlinecolor": "#2a3f5f"
            },
            "baxis": {
             "endlinecolor": "#2a3f5f",
             "gridcolor": "#C8D4E3",
             "linecolor": "#C8D4E3",
             "minorgridcolor": "#C8D4E3",
             "startlinecolor": "#2a3f5f"
            },
            "type": "carpet"
           }
          ],
          "choropleth": [
           {
            "colorbar": {
             "outlinewidth": 0,
             "ticks": ""
            },
            "type": "choropleth"
           }
          ],
          "contour": [
           {
            "colorbar": {
             "outlinewidth": 0,
             "ticks": ""
            },
            "colorscale": [
             [
              0,
              "#0d0887"
             ],
             [
              0.1111111111111111,
              "#46039f"
             ],
             [
              0.2222222222222222,
              "#7201a8"
             ],
             [
              0.3333333333333333,
              "#9c179e"
             ],
             [
              0.4444444444444444,
              "#bd3786"
             ],
             [
              0.5555555555555556,
              "#d8576b"
             ],
             [
              0.6666666666666666,
              "#ed7953"
             ],
             [
              0.7777777777777778,
              "#fb9f3a"
             ],
             [
              0.8888888888888888,
              "#fdca26"
             ],
             [
              1,
              "#f0f921"
             ]
            ],
            "type": "contour"
           }
          ],
          "contourcarpet": [
           {
            "colorbar": {
             "outlinewidth": 0,
             "ticks": ""
            },
            "type": "contourcarpet"
           }
          ],
          "heatmap": [
           {
            "colorbar": {
             "outlinewidth": 0,
             "ticks": ""
            },
            "colorscale": [
             [
              0,
              "#0d0887"
             ],
             [
              0.1111111111111111,
              "#46039f"
             ],
             [
              0.2222222222222222,
              "#7201a8"
             ],
             [
              0.3333333333333333,
              "#9c179e"
             ],
             [
              0.4444444444444444,
              "#bd3786"
             ],
             [
              0.5555555555555556,
              "#d8576b"
             ],
             [
              0.6666666666666666,
              "#ed7953"
             ],
             [
              0.7777777777777778,
              "#fb9f3a"
             ],
             [
              0.8888888888888888,
              "#fdca26"
             ],
             [
              1,
              "#f0f921"
             ]
            ],
            "type": "heatmap"
           }
          ],
          "heatmapgl": [
           {
            "colorbar": {
             "outlinewidth": 0,
             "ticks": ""
            },
            "colorscale": [
             [
              0,
              "#0d0887"
             ],
             [
              0.1111111111111111,
              "#46039f"
             ],
             [
              0.2222222222222222,
              "#7201a8"
             ],
             [
              0.3333333333333333,
              "#9c179e"
             ],
             [
              0.4444444444444444,
              "#bd3786"
             ],
             [
              0.5555555555555556,
              "#d8576b"
             ],
             [
              0.6666666666666666,
              "#ed7953"
             ],
             [
              0.7777777777777778,
              "#fb9f3a"
             ],
             [
              0.8888888888888888,
              "#fdca26"
             ],
             [
              1,
              "#f0f921"
             ]
            ],
            "type": "heatmapgl"
           }
          ],
          "histogram": [
           {
            "marker": {
             "colorbar": {
              "outlinewidth": 0,
              "ticks": ""
             }
            },
            "type": "histogram"
           }
          ],
          "histogram2d": [
           {
            "colorbar": {
             "outlinewidth": 0,
             "ticks": ""
            },
            "colorscale": [
             [
              0,
              "#0d0887"
             ],
             [
              0.1111111111111111,
              "#46039f"
             ],
             [
              0.2222222222222222,
              "#7201a8"
             ],
             [
              0.3333333333333333,
              "#9c179e"
             ],
             [
              0.4444444444444444,
              "#bd3786"
             ],
             [
              0.5555555555555556,
              "#d8576b"
             ],
             [
              0.6666666666666666,
              "#ed7953"
             ],
             [
              0.7777777777777778,
              "#fb9f3a"
             ],
             [
              0.8888888888888888,
              "#fdca26"
             ],
             [
              1,
              "#f0f921"
             ]
            ],
            "type": "histogram2d"
           }
          ],
          "histogram2dcontour": [
           {
            "colorbar": {
             "outlinewidth": 0,
             "ticks": ""
            },
            "colorscale": [
             [
              0,
              "#0d0887"
             ],
             [
              0.1111111111111111,
              "#46039f"
             ],
             [
              0.2222222222222222,
              "#7201a8"
             ],
             [
              0.3333333333333333,
              "#9c179e"
             ],
             [
              0.4444444444444444,
              "#bd3786"
             ],
             [
              0.5555555555555556,
              "#d8576b"
             ],
             [
              0.6666666666666666,
              "#ed7953"
             ],
             [
              0.7777777777777778,
              "#fb9f3a"
             ],
             [
              0.8888888888888888,
              "#fdca26"
             ],
             [
              1,
              "#f0f921"
             ]
            ],
            "type": "histogram2dcontour"
           }
          ],
          "mesh3d": [
           {
            "colorbar": {
             "outlinewidth": 0,
             "ticks": ""
            },
            "type": "mesh3d"
           }
          ],
          "parcoords": [
           {
            "line": {
             "colorbar": {
              "outlinewidth": 0,
              "ticks": ""
             }
            },
            "type": "parcoords"
           }
          ],
          "pie": [
           {
            "automargin": true,
            "type": "pie"
           }
          ],
          "scatter": [
           {
            "marker": {
             "colorbar": {
              "outlinewidth": 0,
              "ticks": ""
             }
            },
            "type": "scatter"
           }
          ],
          "scatter3d": [
           {
            "line": {
             "colorbar": {
              "outlinewidth": 0,
              "ticks": ""
             }
            },
            "marker": {
             "colorbar": {
              "outlinewidth": 0,
              "ticks": ""
             }
            },
            "type": "scatter3d"
           }
          ],
          "scattercarpet": [
           {
            "marker": {
             "colorbar": {
              "outlinewidth": 0,
              "ticks": ""
             }
            },
            "type": "scattercarpet"
           }
          ],
          "scattergeo": [
           {
            "marker": {
             "colorbar": {
              "outlinewidth": 0,
              "ticks": ""
             }
            },
            "type": "scattergeo"
           }
          ],
          "scattergl": [
           {
            "marker": {
             "colorbar": {
              "outlinewidth": 0,
              "ticks": ""
             }
            },
            "type": "scattergl"
           }
          ],
          "scattermapbox": [
           {
            "marker": {
             "colorbar": {
              "outlinewidth": 0,
              "ticks": ""
             }
            },
            "type": "scattermapbox"
           }
          ],
          "scatterpolar": [
           {
            "marker": {
             "colorbar": {
              "outlinewidth": 0,
              "ticks": ""
             }
            },
            "type": "scatterpolar"
           }
          ],
          "scatterpolargl": [
           {
            "marker": {
             "colorbar": {
              "outlinewidth": 0,
              "ticks": ""
             }
            },
            "type": "scatterpolargl"
           }
          ],
          "scatterternary": [
           {
            "marker": {
             "colorbar": {
              "outlinewidth": 0,
              "ticks": ""
             }
            },
            "type": "scatterternary"
           }
          ],
          "surface": [
           {
            "colorbar": {
             "outlinewidth": 0,
             "ticks": ""
            },
            "colorscale": [
             [
              0,
              "#0d0887"
             ],
             [
              0.1111111111111111,
              "#46039f"
             ],
             [
              0.2222222222222222,
              "#7201a8"
             ],
             [
              0.3333333333333333,
              "#9c179e"
             ],
             [
              0.4444444444444444,
              "#bd3786"
             ],
             [
              0.5555555555555556,
              "#d8576b"
             ],
             [
              0.6666666666666666,
              "#ed7953"
             ],
             [
              0.7777777777777778,
              "#fb9f3a"
             ],
             [
              0.8888888888888888,
              "#fdca26"
             ],
             [
              1,
              "#f0f921"
             ]
            ],
            "type": "surface"
           }
          ],
          "table": [
           {
            "cells": {
             "fill": {
              "color": "#EBF0F8"
             },
             "line": {
              "color": "white"
             }
            },
            "header": {
             "fill": {
              "color": "#C8D4E3"
             },
             "line": {
              "color": "white"
             }
            },
            "type": "table"
           }
          ]
         },
         "layout": {
          "annotationdefaults": {
           "arrowcolor": "#2a3f5f",
           "arrowhead": 0,
           "arrowwidth": 1
          },
          "autotypenumbers": "strict",
          "coloraxis": {
           "colorbar": {
            "outlinewidth": 0,
            "ticks": ""
           }
          },
          "colorscale": {
           "diverging": [
            [
             0,
             "#8e0152"
            ],
            [
             0.1,
             "#c51b7d"
            ],
            [
             0.2,
             "#de77ae"
            ],
            [
             0.3,
             "#f1b6da"
            ],
            [
             0.4,
             "#fde0ef"
            ],
            [
             0.5,
             "#f7f7f7"
            ],
            [
             0.6,
             "#e6f5d0"
            ],
            [
             0.7,
             "#b8e186"
            ],
            [
             0.8,
             "#7fbc41"
            ],
            [
             0.9,
             "#4d9221"
            ],
            [
             1,
             "#276419"
            ]
           ],
           "sequential": [
            [
             0,
             "#0d0887"
            ],
            [
             0.1111111111111111,
             "#46039f"
            ],
            [
             0.2222222222222222,
             "#7201a8"
            ],
            [
             0.3333333333333333,
             "#9c179e"
            ],
            [
             0.4444444444444444,
             "#bd3786"
            ],
            [
             0.5555555555555556,
             "#d8576b"
            ],
            [
             0.6666666666666666,
             "#ed7953"
            ],
            [
             0.7777777777777778,
             "#fb9f3a"
            ],
            [
             0.8888888888888888,
             "#fdca26"
            ],
            [
             1,
             "#f0f921"
            ]
           ],
           "sequentialminus": [
            [
             0,
             "#0d0887"
            ],
            [
             0.1111111111111111,
             "#46039f"
            ],
            [
             0.2222222222222222,
             "#7201a8"
            ],
            [
             0.3333333333333333,
             "#9c179e"
            ],
            [
             0.4444444444444444,
             "#bd3786"
            ],
            [
             0.5555555555555556,
             "#d8576b"
            ],
            [
             0.6666666666666666,
             "#ed7953"
            ],
            [
             0.7777777777777778,
             "#fb9f3a"
            ],
            [
             0.8888888888888888,
             "#fdca26"
            ],
            [
             1,
             "#f0f921"
            ]
           ]
          },
          "colorway": [
           "#636efa",
           "#EF553B",
           "#00cc96",
           "#ab63fa",
           "#FFA15A",
           "#19d3f3",
           "#FF6692",
           "#B6E880",
           "#FF97FF",
           "#FECB52"
          ],
          "font": {
           "color": "#2a3f5f"
          },
          "geo": {
           "bgcolor": "white",
           "lakecolor": "white",
           "landcolor": "white",
           "showlakes": true,
           "showland": true,
           "subunitcolor": "#C8D4E3"
          },
          "hoverlabel": {
           "align": "left"
          },
          "hovermode": "closest",
          "mapbox": {
           "style": "light"
          },
          "paper_bgcolor": "white",
          "plot_bgcolor": "white",
          "polar": {
           "angularaxis": {
            "gridcolor": "#EBF0F8",
            "linecolor": "#EBF0F8",
            "ticks": ""
           },
           "bgcolor": "white",
           "radialaxis": {
            "gridcolor": "#EBF0F8",
            "linecolor": "#EBF0F8",
            "ticks": ""
           }
          },
          "scene": {
           "xaxis": {
            "backgroundcolor": "white",
            "gridcolor": "#DFE8F3",
            "gridwidth": 2,
            "linecolor": "#EBF0F8",
            "showbackground": true,
            "ticks": "",
            "zerolinecolor": "#EBF0F8"
           },
           "yaxis": {
            "backgroundcolor": "white",
            "gridcolor": "#DFE8F3",
            "gridwidth": 2,
            "linecolor": "#EBF0F8",
            "showbackground": true,
            "ticks": "",
            "zerolinecolor": "#EBF0F8"
           },
           "zaxis": {
            "backgroundcolor": "white",
            "gridcolor": "#DFE8F3",
            "gridwidth": 2,
            "linecolor": "#EBF0F8",
            "showbackground": true,
            "ticks": "",
            "zerolinecolor": "#EBF0F8"
           }
          },
          "shapedefaults": {
           "line": {
            "color": "#2a3f5f"
           }
          },
          "ternary": {
           "aaxis": {
            "gridcolor": "#DFE8F3",
            "linecolor": "#A2B1C6",
            "ticks": ""
           },
           "baxis": {
            "gridcolor": "#DFE8F3",
            "linecolor": "#A2B1C6",
            "ticks": ""
           },
           "bgcolor": "white",
           "caxis": {
            "gridcolor": "#DFE8F3",
            "linecolor": "#A2B1C6",
            "ticks": ""
           }
          },
          "title": {
           "x": 0.05
          },
          "xaxis": {
           "automargin": true,
           "gridcolor": "#EBF0F8",
           "linecolor": "#EBF0F8",
           "ticks": "",
           "title": {
            "standoff": 15
           },
           "zerolinecolor": "#EBF0F8",
           "zerolinewidth": 2
          },
          "yaxis": {
           "automargin": true,
           "gridcolor": "#EBF0F8",
           "linecolor": "#EBF0F8",
           "ticks": "",
           "title": {
            "standoff": 15
           },
           "zerolinecolor": "#EBF0F8",
           "zerolinewidth": 2
          }
         }
        },
        "title": {
         "font": {
          "size": 16
         },
         "text": "Precursor/fragments elution profile",
         "x": 0.5,
         "xanchor": "center",
         "yanchor": "top"
        },
        "width": 900,
        "xaxis": {
         "tickfont": {
          "size": 14
         },
         "tickmode": "auto",
         "title": {
          "font": {
           "size": 14
          },
          "text": "rt"
         }
        },
        "yaxis": {
         "title": {
          "text": "intensity"
         }
        }
       }
      },
      "text/html": [
       "<div>                            <div id=\"e8bb926d-6609-4678-a5cb-52715818ba29\" class=\"plotly-graph-div\" style=\"height:400px; width:900px;\"></div>            <script type=\"text/javascript\">                require([\"plotly\"], function(Plotly) {                    window.PLOTLYENV=window.PLOTLYENV || {};                                    if (document.getElementById(\"e8bb926d-6609-4678-a5cb-52715818ba29\")) {                    Plotly.newPlot(                        \"e8bb926d-6609-4678-a5cb-52715818ba29\",                        [{\"hovertemplate\": \"<b>%{text}:</b> %{x};<br><b>Intensity:</b> %{y}.\", \"mode\": \"lines\", \"name\": \"precursor\", \"text\": [\"RT, min\", \"RT, min\", \"RT, min\", \"RT, min\", \"RT, min\", \"RT, min\", \"RT, min\", \"RT, min\", \"RT, min\", \"RT, min\", \"RT, min\", \"RT, min\", \"RT, min\", \"RT, min\", \"RT, min\", \"RT, min\", \"RT, min\", \"RT, min\", \"RT, min\", \"RT, min\", \"RT, min\", \"RT, min\", \"RT, min\", \"RT, min\", \"RT, min\", \"RT, min\", \"RT, min\", \"RT, min\", \"RT, min\", \"RT, min\", \"RT, min\", \"RT, min\", \"RT, min\", \"RT, min\", \"RT, min\", \"RT, min\", \"RT, min\", \"RT, min\", \"RT, min\", \"RT, min\", \"RT, min\", \"RT, min\", \"RT, min\", \"RT, min\", \"RT, min\", \"RT, min\", \"RT, min\", \"RT, min\", \"RT, min\", \"RT, min\", \"RT, min\", \"RT, min\", \"RT, min\", \"RT, min\", \"RT, min\", \"RT, min\", \"RT, min\", \"RT, min\", \"RT, min\", \"RT, min\", \"RT, min\", \"RT, min\"], \"type\": \"scatter\", \"x\": [11.23668379358785, 11.252632865014537, 11.268627629540385, 11.285357525603123, 11.301653212592926, 11.317922927486364, 11.333932896978682, 11.350017034058954, 11.365970939208506, 11.382491318555559, 11.398637692872414, 11.414621836892913, 11.430590990996299, 11.446529842691426, 11.462797876289955, 11.47891192966716, 11.49493298397592, 11.510887402311416, 11.526917869916675, 11.54299606381494, 11.559474967962556, 11.57551645684695, 11.591505776714287, 11.607420386482802, 11.62333637452215, 11.639286526083067, 11.655331436207105, 11.671354357535211, 11.687373173375743, 11.703404452303547, 11.719642115069023, 11.735712762690136, 11.751706280907257, 11.767735277379469, 11.784615654224128, 11.800873995939503, 11.81691210757162, 11.833068848244583, 11.849009581621512, 11.865072443478693, 11.88150582558913, 11.897459652538918, 11.913496703586748, 11.930089583889298, 11.946241608139045, 11.962247731180506, 11.978268614427284, 11.9942501436432, 12.010253348855995, 12.026339983441211, 12.04293913438728, 12.059002225956272, 12.075057805460505, 12.091152543496184, 12.107148085132184, 12.12312305045548, 12.139232157697654, 12.155474869235345, 12.171554035743167, 12.187508307454111, 12.203620029500872, 12.219655785365122], \"y\": [476.0, 839.0, 425.0, 485.0, 379.0, 760.0, 757.0, 1149.0, 760.0, 1132.0, 1468.0, 1227.0, 1340.0, 1351.0, 972.0, 1069.0, 732.0, 943.0, 625.0, 1323.0, 773.0, 1794.0, 1840.0, 1681.0, 6807.0, 25605.0, 103592.0, 218612.0, 278187.0, 318892.0, 334775.0, 426410.0, 383960.0, 316543.0, 287558.0, 282681.0, 331876.0, 284257.0, 237995.0, 209173.0, 180146.0, 137709.0, 105633.0, 75639.0, 58567.0, 42616.0, 33403.0, 21890.0, 14395.0, 14393.0, 11899.0, 14007.0, 11554.0, 11211.0, 9326.0, 8486.0, 7779.0, 6149.0, 5419.0, 5206.0, 6134.0, 6971.0]}, {\"hovertemplate\": \"<b>%{text}:</b> %{x};<br><b>Intensity:</b> %{y}.\", \"mode\": \"lines\", \"name\": \"y8\", \"text\": [\"RT, min\", \"RT, min\", \"RT, min\", \"RT, min\", \"RT, min\", \"RT, min\", \"RT, min\", \"RT, min\", \"RT, min\", \"RT, min\", \"RT, min\", \"RT, min\", \"RT, min\", \"RT, min\", \"RT, min\", \"RT, min\", \"RT, min\", \"RT, min\", \"RT, min\", \"RT, min\"], \"type\": \"scatter\", \"x\": [11.27660667884631, 11.292839566538742, 11.325183868366365, 11.550722449685805, 11.598672125205665, 11.662600221500856, 11.678614819441664, 11.710895916310639, 11.726963870927404, 11.758976068135475, 11.775870017526545, 11.792128339691974, 11.808150464359993, 11.824320259505937, 11.904740021172604, 12.050250015591088, 12.098402927408149, 12.114426440121965, 12.162789152128854, 12.226880549079649], \"y\": [70.0, 39.0, 44.0, 11.0, 51.0, 60.0, 10.0, 74.0, 74.0, 105.0, 63.0, 154.0, 53.0, 28.0, 63.0, 32.0, 28.0, 18.0, 10.0, 9.0]}, {\"hovertemplate\": \"<b>%{text}:</b> %{x};<br><b>Intensity:</b> %{y}.\", \"mode\": \"lines\", \"name\": \"y7\", \"text\": [\"RT, min\", \"RT, min\", \"RT, min\", \"RT, min\", \"RT, min\", \"RT, min\", \"RT, min\", \"RT, min\", \"RT, min\", \"RT, min\", \"RT, min\", \"RT, min\", \"RT, min\", \"RT, min\", \"RT, min\", \"RT, min\", \"RT, min\", \"RT, min\", \"RT, min\", \"RT, min\", \"RT, min\", \"RT, min\", \"RT, min\", \"RT, min\", \"RT, min\", \"RT, min\", \"RT, min\", \"RT, min\", \"RT, min\", \"RT, min\", \"RT, min\", \"RT, min\", \"RT, min\", \"RT, min\", \"RT, min\", \"RT, min\", \"RT, min\", \"RT, min\", \"RT, min\", \"RT, min\", \"RT, min\", \"RT, min\", \"RT, min\", \"RT, min\", \"RT, min\", \"RT, min\", \"RT, min\", \"RT, min\", \"RT, min\", \"RT, min\", \"RT, min\", \"RT, min\", \"RT, min\", \"RT, min\", \"RT, min\", \"RT, min\", \"RT, min\", \"RT, min\", \"RT, min\", \"RT, min\", \"RT, min\"], \"type\": \"scatter\", \"x\": [11.243904598439364, 11.259837370102897, 11.27660667884631, 11.292839566538742, 11.309140092138898, 11.341163134676636, 11.357210249056497, 11.373760486050653, 11.389891982862547, 11.405932450262533, 11.421820931535155, 11.43779092139851, 11.454043168419833, 11.470149567995211, 11.486202107483647, 11.502152962842432, 11.518136662101783, 11.534252738897857, 11.550722449685805, 11.566734349734778, 11.582766249373206, 11.598672125205665, 11.614581730189336, 11.630529687269396, 11.646578326544642, 11.662600221500856, 11.678614819441664, 11.694655286841645, 11.710895916310639, 11.726963870927404, 11.742959642275206, 11.758976068135475, 11.775870017526545, 11.792128339691974, 11.808150464359993, 11.824320259505937, 11.84026206812961, 11.85631837098165, 11.872737945946387, 11.88870396228427, 11.904740021172604, 11.921280732458095, 11.937493522811373, 11.953486185718587, 11.969508105112226, 11.985498206977189, 12.001489149489608, 12.017502452246838, 12.034170370109715, 12.050250015591088, 12.066287565162407, 12.082462531267696, 12.098402927408149, 12.114426440121965, 12.13045134088158, 12.14671767852274, 12.162789152128854, 12.178753697333693, 12.194882608665912, 12.210893154881486, 12.226880549079649], \"y\": [139.0, 49.0, 29.0, 50.0, 127.0, 354.0, 342.0, 410.0, 481.0, 479.0, 335.0, 224.0, 324.0, 242.0, 130.0, 223.0, 331.0, 621.0, 418.0, 289.0, 18.0, 138.0, 733.0, 2083.0, 6617.0, 14484.0, 26132.0, 30840.0, 34200.0, 34493.0, 36419.0, 34605.0, 31542.0, 29268.0, 27343.0, 27810.0, 26105.0, 21247.0, 18236.0, 14155.0, 12228.0, 7989.0, 6168.0, 4961.0, 3460.0, 3309.0, 2313.0, 2172.0, 1526.0, 1412.0, 1320.0, 1493.0, 1582.0, 1688.0, 1035.0, 1657.0, 1562.0, 1075.0, 1380.0, 700.0, 810.0]}, {\"hovertemplate\": \"<b>%{text}:</b> %{x};<br><b>Intensity:</b> %{y}.\", \"mode\": \"lines\", \"name\": \"y6\", \"text\": [\"RT, min\", \"RT, min\", \"RT, min\", \"RT, min\", \"RT, min\", \"RT, min\", \"RT, min\", \"RT, min\", \"RT, min\", \"RT, min\", \"RT, min\", \"RT, min\", \"RT, min\", \"RT, min\", \"RT, min\", \"RT, min\", \"RT, min\", \"RT, min\", \"RT, min\", \"RT, min\", \"RT, min\", \"RT, min\", \"RT, min\", \"RT, min\", \"RT, min\", \"RT, min\", \"RT, min\", \"RT, min\", \"RT, min\", \"RT, min\", \"RT, min\", \"RT, min\", \"RT, min\", \"RT, min\", \"RT, min\", \"RT, min\", \"RT, min\", \"RT, min\", \"RT, min\", \"RT, min\", \"RT, min\", \"RT, min\", \"RT, min\", \"RT, min\", \"RT, min\", \"RT, min\", \"RT, min\", \"RT, min\", \"RT, min\", \"RT, min\", \"RT, min\", \"RT, min\", \"RT, min\", \"RT, min\", \"RT, min\", \"RT, min\", \"RT, min\", \"RT, min\", \"RT, min\", \"RT, min\", \"RT, min\", \"RT, min\"], \"type\": \"scatter\", \"x\": [11.243904598439364, 11.259837370102897, 11.27660667884631, 11.292839566538742, 11.309140092138898, 11.325183868366365, 11.341163134676636, 11.357210249056497, 11.373760486050653, 11.389891982862547, 11.405932450262533, 11.421820931535155, 11.43779092139851, 11.454043168419833, 11.470149567995211, 11.486202107483647, 11.502152962842432, 11.518136662101783, 11.534252738897857, 11.550722449685805, 11.566734349734778, 11.582766249373206, 11.598672125205665, 11.614581730189336, 11.630529687269396, 11.646578326544642, 11.662600221500856, 11.678614819441664, 11.694655286841645, 11.710895916310639, 11.726963870927404, 11.742959642275206, 11.758976068135475, 11.775870017526545, 11.792128339691974, 11.808150464359993, 11.824320259505937, 11.84026206812961, 11.85631837098165, 11.872737945946387, 11.88870396228427, 11.904740021172604, 11.921280732458095, 11.937493522811373, 11.953486185718587, 11.969508105112226, 11.985498206977189, 12.001489149489608, 12.017502452246838, 12.034170370109715, 12.050250015591088, 12.066287565162407, 12.082462531267696, 12.098402927408149, 12.114426440121965, 12.13045134088158, 12.14671767852274, 12.162789152128854, 12.178753697333693, 12.194882608665912, 12.210893154881486, 12.226880549079649], \"y\": [257.0, 282.0, 293.0, 392.0, 212.0, 191.0, 568.0, 654.0, 1521.0, 920.0, 815.0, 463.0, 569.0, 589.0, 118.0, 301.0, 328.0, 1042.0, 1078.0, 1753.0, 1240.0, 1107.0, 2094.0, 4523.0, 11126.0, 33720.0, 73373.0, 139761.0, 176460.0, 197376.0, 204019.0, 204993.0, 197530.0, 174146.0, 164439.0, 147907.0, 157330.0, 147187.0, 126254.0, 102032.0, 73980.0, 57892.0, 39249.0, 29111.0, 25052.0, 18118.0, 13677.0, 11296.0, 8036.0, 7957.0, 7910.0, 6004.0, 7337.0, 4627.0, 4716.0, 4627.0, 4162.0, 3926.0, 3862.0, 4229.0, 3082.0, 2783.0]}, {\"hovertemplate\": \"<b>%{text}:</b> %{x};<br><b>Intensity:</b> %{y}.\", \"mode\": \"lines\", \"name\": \"y5\", \"text\": [\"RT, min\", \"RT, min\", \"RT, min\", \"RT, min\", \"RT, min\", \"RT, min\", \"RT, min\", \"RT, min\", \"RT, min\", \"RT, min\", \"RT, min\", \"RT, min\", \"RT, min\", \"RT, min\", \"RT, min\", \"RT, min\", \"RT, min\", \"RT, min\", \"RT, min\", \"RT, min\", \"RT, min\", \"RT, min\", \"RT, min\", \"RT, min\", \"RT, min\", \"RT, min\", \"RT, min\", \"RT, min\", \"RT, min\", \"RT, min\", \"RT, min\", \"RT, min\", \"RT, min\", \"RT, min\", \"RT, min\", \"RT, min\", \"RT, min\", \"RT, min\", \"RT, min\", \"RT, min\", \"RT, min\", \"RT, min\", \"RT, min\", \"RT, min\", \"RT, min\", \"RT, min\", \"RT, min\", \"RT, min\", \"RT, min\", \"RT, min\", \"RT, min\", \"RT, min\", \"RT, min\", \"RT, min\", \"RT, min\", \"RT, min\", \"RT, min\", \"RT, min\", \"RT, min\", \"RT, min\", \"RT, min\", \"RT, min\"], \"type\": \"scatter\", \"x\": [11.243904598439364, 11.259837370102897, 11.27660667884631, 11.292839566538742, 11.309140092138898, 11.325183868366365, 11.341163134676636, 11.357210249056497, 11.373760486050653, 11.389891982862547, 11.405932450262533, 11.421820931535155, 11.43779092139851, 11.454043168419833, 11.470149567995211, 11.486202107483647, 11.502152962842432, 11.518136662101783, 11.534252738897857, 11.550722449685805, 11.566734349734778, 11.582766249373206, 11.598672125205665, 11.614581730189336, 11.630529687269396, 11.646578326544642, 11.662600221500856, 11.678614819441664, 11.694655286841645, 11.710895916310639, 11.726963870927404, 11.742959642275206, 11.758976068135475, 11.775870017526545, 11.792128339691974, 11.808150464359993, 11.824320259505937, 11.84026206812961, 11.85631837098165, 11.872737945946387, 11.88870396228427, 11.904740021172604, 11.921280732458095, 11.937493522811373, 11.953486185718587, 11.969508105112226, 11.985498206977189, 12.001489149489608, 12.017502452246838, 12.034170370109715, 12.050250015591088, 12.066287565162407, 12.082462531267696, 12.098402927408149, 12.114426440121965, 12.13045134088158, 12.14671767852274, 12.162789152128854, 12.178753697333693, 12.194882608665912, 12.210893154881486, 12.226880549079649], \"y\": [566.0, 525.0, 1204.0, 592.0, 547.0, 513.0, 541.0, 471.0, 763.0, 496.0, 518.0, 1563.0, 1908.0, 4455.0, 2951.0, 1527.0, 1106.0, 812.0, 681.0, 466.0, 718.0, 935.0, 1301.0, 3068.0, 17602.0, 68409.0, 144353.0, 250297.0, 309322.0, 325070.0, 324276.0, 345495.0, 331952.0, 299136.0, 271850.0, 257362.0, 264784.0, 254076.0, 214562.0, 183433.0, 145946.0, 110684.0, 80918.0, 56883.0, 50062.0, 36842.0, 24778.0, 20213.0, 15307.0, 13867.0, 12561.0, 12088.0, 11975.0, 11112.0, 7854.0, 7078.0, 6276.0, 7017.0, 6026.0, 6376.0, 6229.0, 5302.0]}, {\"hovertemplate\": \"<b>%{text}:</b> %{x};<br><b>Intensity:</b> %{y}.\", \"mode\": \"lines\", \"name\": \"y4\", \"text\": [\"RT, min\", \"RT, min\", \"RT, min\", \"RT, min\", \"RT, min\", \"RT, min\", \"RT, min\", \"RT, min\", \"RT, min\", \"RT, min\", \"RT, min\", \"RT, min\", \"RT, min\", \"RT, min\", \"RT, min\", \"RT, min\", \"RT, min\", \"RT, min\", \"RT, min\", \"RT, min\", \"RT, min\", \"RT, min\", \"RT, min\", \"RT, min\", \"RT, min\", \"RT, min\", \"RT, min\", \"RT, min\", \"RT, min\", \"RT, min\", \"RT, min\", \"RT, min\", \"RT, min\", \"RT, min\", \"RT, min\", \"RT, min\", \"RT, min\", \"RT, min\", \"RT, min\", \"RT, min\", \"RT, min\", \"RT, min\", \"RT, min\", \"RT, min\", \"RT, min\", \"RT, min\", \"RT, min\", \"RT, min\", \"RT, min\", \"RT, min\", \"RT, min\", \"RT, min\", \"RT, min\", \"RT, min\", \"RT, min\", \"RT, min\", \"RT, min\", \"RT, min\", \"RT, min\", \"RT, min\", \"RT, min\", \"RT, min\"], \"type\": \"scatter\", \"x\": [11.243904598439364, 11.259837370102897, 11.27660667884631, 11.292839566538742, 11.309140092138898, 11.325183868366365, 11.341163134676636, 11.357210249056497, 11.373760486050653, 11.389891982862547, 11.405932450262533, 11.421820931535155, 11.43779092139851, 11.454043168419833, 11.470149567995211, 11.486202107483647, 11.502152962842432, 11.518136662101783, 11.534252738897857, 11.550722449685805, 11.566734349734778, 11.582766249373206, 11.598672125205665, 11.614581730189336, 11.630529687269396, 11.646578326544642, 11.662600221500856, 11.678614819441664, 11.694655286841645, 11.710895916310639, 11.726963870927404, 11.742959642275206, 11.758976068135475, 11.775870017526545, 11.792128339691974, 11.808150464359993, 11.824320259505937, 11.84026206812961, 11.85631837098165, 11.872737945946387, 11.88870396228427, 11.904740021172604, 11.921280732458095, 11.937493522811373, 11.953486185718587, 11.969508105112226, 11.985498206977189, 12.001489149489608, 12.017502452246838, 12.034170370109715, 12.050250015591088, 12.066287565162407, 12.082462531267696, 12.098402927408149, 12.114426440121965, 12.13045134088158, 12.14671767852274, 12.162789152128854, 12.178753697333693, 12.194882608665912, 12.210893154881486, 12.226880549079649], \"y\": [505.0, 688.0, 814.0, 946.0, 228.0, 396.0, 166.0, 135.0, 250.0, 129.0, 268.0, 313.0, 395.0, 443.0, 584.0, 652.0, 905.0, 501.0, 329.0, 256.0, 62.0, 50.0, 95.0, 207.0, 855.0, 4659.0, 9580.0, 16362.0, 20490.0, 23469.0, 22172.0, 23952.0, 23952.0, 20682.0, 17468.0, 17886.0, 19625.0, 18262.0, 14843.0, 11492.0, 10618.0, 14220.0, 20672.0, 31740.0, 40793.0, 35715.0, 20532.0, 10995.0, 8150.0, 4862.0, 3112.0, 2642.0, 2555.0, 1983.0, 1618.0, 1226.0, 1267.0, 1427.0, 1297.0, 1767.0, 1527.0, 2300.0]}, {\"hovertemplate\": \"<b>%{text}:</b> %{x};<br><b>Intensity:</b> %{y}.\", \"mode\": \"lines\", \"name\": \"y3\", \"text\": [\"RT, min\", \"RT, min\", \"RT, min\", \"RT, min\", \"RT, min\", \"RT, min\", \"RT, min\", \"RT, min\", \"RT, min\", \"RT, min\", \"RT, min\", \"RT, min\", \"RT, min\", \"RT, min\", \"RT, min\", \"RT, min\", \"RT, min\", \"RT, min\", \"RT, min\", \"RT, min\", \"RT, min\", \"RT, min\", \"RT, min\", \"RT, min\", \"RT, min\", \"RT, min\", \"RT, min\", \"RT, min\", \"RT, min\", \"RT, min\", \"RT, min\", \"RT, min\", \"RT, min\", \"RT, min\", \"RT, min\", \"RT, min\", \"RT, min\", \"RT, min\", \"RT, min\", \"RT, min\", \"RT, min\", \"RT, min\", \"RT, min\", \"RT, min\", \"RT, min\", \"RT, min\", \"RT, min\", \"RT, min\", \"RT, min\"], \"type\": \"scatter\", \"x\": [11.243904598439364, 11.259837370102897, 11.27660667884631, 11.292839566538742, 11.325183868366365, 11.357210249056497, 11.389891982862547, 11.405932450262533, 11.43779092139851, 11.486202107483647, 11.502152962842432, 11.518136662101783, 11.534252738897857, 11.598672125205665, 11.630529687269396, 11.646578326544642, 11.662600221500856, 11.678614819441664, 11.694655286841645, 11.710895916310639, 11.726963870927404, 11.742959642275206, 11.758976068135475, 11.775870017526545, 11.792128339691974, 11.808150464359993, 11.824320259505937, 11.84026206812961, 11.88870396228427, 11.904740021172604, 11.921280732458095, 11.937493522811373, 11.953486185718587, 11.969508105112226, 11.985498206977189, 12.001489149489608, 12.017502452246838, 12.034170370109715, 12.050250015591088, 12.082462531267696, 12.098402927408149, 12.114426440121965, 12.13045134088158, 12.14671767852274, 12.162789152128854, 12.178753697333693, 12.194882608665912, 12.210893154881486, 12.226880549079649], \"y\": [183.0, 121.0, 268.0, 122.0, 46.0, 193.0, 123.0, 46.0, 142.0, 53.0, 126.0, 74.0, 85.0, 19.0, 18.0, 73.0, 197.0, 20.0, 50.0, 119.0, 9.0, 194.0, 123.0, 253.0, 43.0, 63.0, 34.0, 174.0, 61.0, 109.0, 60.0, 39.0, 115.0, 93.0, 86.0, 209.0, 145.0, 135.0, 51.0, 55.0, 131.0, 39.0, 47.0, 321.0, 113.0, 390.0, 95.0, 281.0, 173.0]}, {\"hovertemplate\": \"<b>%{text}:</b> %{x};<br><b>Intensity:</b> %{y}.\", \"mode\": \"lines\", \"name\": \"y2\", \"text\": [\"RT, min\", \"RT, min\", \"RT, min\", \"RT, min\", \"RT, min\", \"RT, min\", \"RT, min\", \"RT, min\", \"RT, min\", \"RT, min\", \"RT, min\", \"RT, min\", \"RT, min\", \"RT, min\", \"RT, min\", \"RT, min\", \"RT, min\", \"RT, min\", \"RT, min\", \"RT, min\", \"RT, min\", \"RT, min\", \"RT, min\", \"RT, min\", \"RT, min\", \"RT, min\", \"RT, min\", \"RT, min\", \"RT, min\", \"RT, min\"], \"type\": \"scatter\", \"x\": [11.243904598439364, 11.259837370102897, 11.27660667884631, 11.309140092138898, 11.325183868366365, 11.357210249056497, 11.373760486050653, 11.454043168419833, 11.486202107483647, 11.502152962842432, 11.550722449685805, 11.598672125205665, 11.614581730189336, 11.742959642275206, 11.792128339691974, 11.85631837098165, 11.937493522811373, 11.985498206977189, 12.034170370109715, 12.050250015591088, 12.066287565162407, 12.098402927408149, 12.114426440121965, 12.13045134088158, 12.14671767852274, 12.162789152128854, 12.178753697333693, 12.194882608665912, 12.210893154881486, 12.226880549079649], \"y\": [96.0, 93.0, 158.0, 210.0, 144.0, 63.0, 86.0, 124.0, 94.0, 38.0, 94.0, 52.0, 44.0, 87.0, 57.0, 51.0, 137.0, 148.0, 82.0, 89.0, 102.0, 28.0, 102.0, 161.0, 345.0, 104.0, 45.0, 142.0, 41.0, 68.0]}, {\"hovertemplate\": \"<b>%{text}:</b> %{x};<br><b>Intensity:</b> %{y}.\", \"mode\": \"lines\", \"name\": \"b2\", \"text\": [\"RT, min\", \"RT, min\", \"RT, min\", \"RT, min\", \"RT, min\", \"RT, min\", \"RT, min\", \"RT, min\", \"RT, min\", \"RT, min\", \"RT, min\", \"RT, min\", \"RT, min\", \"RT, min\", \"RT, min\", \"RT, min\", \"RT, min\", \"RT, min\", \"RT, min\", \"RT, min\", \"RT, min\", \"RT, min\", \"RT, min\", \"RT, min\", \"RT, min\", \"RT, min\", \"RT, min\", \"RT, min\", \"RT, min\", \"RT, min\", \"RT, min\", \"RT, min\", \"RT, min\", \"RT, min\", \"RT, min\", \"RT, min\", \"RT, min\", \"RT, min\", \"RT, min\", \"RT, min\", \"RT, min\", \"RT, min\", \"RT, min\", \"RT, min\", \"RT, min\", \"RT, min\", \"RT, min\", \"RT, min\", \"RT, min\", \"RT, min\", \"RT, min\", \"RT, min\", \"RT, min\", \"RT, min\", \"RT, min\", \"RT, min\", \"RT, min\", \"RT, min\", \"RT, min\", \"RT, min\", \"RT, min\", \"RT, min\"], \"type\": \"scatter\", \"x\": [11.243904598439364, 11.259837370102897, 11.27660667884631, 11.292839566538742, 11.309140092138898, 11.325183868366365, 11.341163134676636, 11.357210249056497, 11.373760486050653, 11.389891982862547, 11.405932450262533, 11.421820931535155, 11.43779092139851, 11.454043168419833, 11.470149567995211, 11.486202107483647, 11.502152962842432, 11.518136662101783, 11.534252738897857, 11.550722449685805, 11.566734349734778, 11.582766249373206, 11.598672125205665, 11.614581730189336, 11.630529687269396, 11.646578326544642, 11.662600221500856, 11.678614819441664, 11.694655286841645, 11.710895916310639, 11.726963870927404, 11.742959642275206, 11.758976068135475, 11.775870017526545, 11.792128339691974, 11.808150464359993, 11.824320259505937, 11.84026206812961, 11.85631837098165, 11.872737945946387, 11.88870396228427, 11.904740021172604, 11.921280732458095, 11.937493522811373, 11.953486185718587, 11.969508105112226, 11.985498206977189, 12.001489149489608, 12.017502452246838, 12.034170370109715, 12.050250015591088, 12.066287565162407, 12.082462531267696, 12.098402927408149, 12.114426440121965, 12.13045134088158, 12.14671767852274, 12.162789152128854, 12.178753697333693, 12.194882608665912, 12.210893154881486, 12.226880549079649], \"y\": [686.0, 538.0, 887.0, 492.0, 334.0, 747.0, 1025.0, 1440.0, 2201.0, 2823.0, 2870.0, 2175.0, 1192.0, 1246.0, 439.0, 420.0, 622.0, 398.0, 326.0, 318.0, 613.0, 205.0, 328.0, 391.0, 1530.0, 6537.0, 16644.0, 30845.0, 40272.0, 45178.0, 47566.0, 47106.0, 44529.0, 35283.0, 37345.0, 32579.0, 35279.0, 30240.0, 26426.0, 20394.0, 16067.0, 11638.0, 7574.0, 5824.0, 5559.0, 4273.0, 3145.0, 2407.0, 1702.0, 1589.0, 1298.0, 1447.0, 1308.0, 711.0, 1089.0, 990.0, 706.0, 459.0, 1141.0, 713.0, 668.0, 641.0]}, {\"hovertemplate\": \"<b>%{text}:</b> %{x};<br><b>Intensity:</b> %{y}.\", \"mode\": \"lines\", \"name\": \"b3\", \"text\": [\"RT, min\", \"RT, min\", \"RT, min\", \"RT, min\", \"RT, min\", \"RT, min\", \"RT, min\", \"RT, min\", \"RT, min\", \"RT, min\", \"RT, min\", \"RT, min\", \"RT, min\", \"RT, min\", \"RT, min\", \"RT, min\", \"RT, min\", \"RT, min\", \"RT, min\", \"RT, min\", \"RT, min\", \"RT, min\", \"RT, min\", \"RT, min\", \"RT, min\", \"RT, min\", \"RT, min\", \"RT, min\", \"RT, min\", \"RT, min\", \"RT, min\", \"RT, min\", \"RT, min\", \"RT, min\", \"RT, min\", \"RT, min\", \"RT, min\", \"RT, min\", \"RT, min\", \"RT, min\", \"RT, min\", \"RT, min\", \"RT, min\", \"RT, min\", \"RT, min\", \"RT, min\", \"RT, min\", \"RT, min\", \"RT, min\", \"RT, min\", \"RT, min\", \"RT, min\", \"RT, min\", \"RT, min\", \"RT, min\", \"RT, min\"], \"type\": \"scatter\", \"x\": [11.259837370102897, 11.292839566538742, 11.309140092138898, 11.325183868366365, 11.341163134676636, 11.357210249056497, 11.373760486050653, 11.389891982862547, 11.405932450262533, 11.421820931535155, 11.43779092139851, 11.454043168419833, 11.470149567995211, 11.486202107483647, 11.502152962842432, 11.518136662101783, 11.582766249373206, 11.614581730189336, 11.630529687269396, 11.646578326544642, 11.662600221500856, 11.678614819441664, 11.694655286841645, 11.710895916310639, 11.726963870927404, 11.742959642275206, 11.758976068135475, 11.775870017526545, 11.792128339691974, 11.808150464359993, 11.824320259505937, 11.84026206812961, 11.85631837098165, 11.872737945946387, 11.88870396228427, 11.904740021172604, 11.921280732458095, 11.937493522811373, 11.953486185718587, 11.969508105112226, 11.985498206977189, 12.001489149489608, 12.017502452246838, 12.034170370109715, 12.050250015591088, 12.066287565162407, 12.082462531267696, 12.098402927408149, 12.114426440121965, 12.13045134088158, 12.14671767852274, 12.162789152128854, 12.178753697333693, 12.194882608665912, 12.210893154881486, 12.226880549079649], \"y\": [48.0, 236.0, 236.0, 175.0, 391.0, 104.0, 402.0, 367.0, 505.0, 401.0, 179.0, 140.0, 44.0, 44.0, 151.0, 157.0, 59.0, 35.0, 388.0, 1957.0, 3414.0, 6204.0, 8576.0, 8034.0, 8757.0, 9483.0, 8309.0, 6646.0, 6479.0, 6465.0, 7495.0, 6850.0, 5056.0, 3646.0, 2952.0, 3111.0, 2319.0, 980.0, 1033.0, 702.0, 705.0, 580.0, 445.0, 384.0, 307.0, 567.0, 92.0, 171.0, 228.0, 151.0, 156.0, 121.0, 179.0, 46.0, 150.0, 103.0]}, {\"hovertemplate\": \"<b>%{text}:</b> %{x};<br><b>Intensity:</b> %{y}.\", \"mode\": \"lines\", \"name\": \"b4\", \"text\": [\"RT, min\", \"RT, min\", \"RT, min\", \"RT, min\", \"RT, min\", \"RT, min\", \"RT, min\", \"RT, min\", \"RT, min\", \"RT, min\", \"RT, min\", \"RT, min\", \"RT, min\", \"RT, min\", \"RT, min\", \"RT, min\", \"RT, min\", \"RT, min\", \"RT, min\", \"RT, min\", \"RT, min\", \"RT, min\", \"RT, min\", \"RT, min\", \"RT, min\", \"RT, min\", \"RT, min\", \"RT, min\", \"RT, min\", \"RT, min\", \"RT, min\", \"RT, min\", \"RT, min\", \"RT, min\", \"RT, min\", \"RT, min\", \"RT, min\", \"RT, min\", \"RT, min\", \"RT, min\"], \"type\": \"scatter\", \"x\": [11.243904598439364, 11.309140092138898, 11.341163134676636, 11.357210249056497, 11.373760486050653, 11.421820931535155, 11.43779092139851, 11.454043168419833, 11.534252738897857, 11.582766249373206, 11.630529687269396, 11.646578326544642, 11.662600221500856, 11.678614819441664, 11.694655286841645, 11.710895916310639, 11.726963870927404, 11.742959642275206, 11.758976068135475, 11.775870017526545, 11.792128339691974, 11.808150464359993, 11.824320259505937, 11.84026206812961, 11.85631837098165, 11.872737945946387, 11.88870396228427, 11.904740021172604, 11.921280732458095, 11.937493522811373, 11.953486185718587, 11.969508105112226, 12.001489149489608, 12.017502452246838, 12.050250015591088, 12.066287565162407, 12.082462531267696, 12.098402927408149, 12.114426440121965, 12.13045134088158], \"y\": [62.0, 90.0, 90.0, 26.0, 53.0, 26.0, 35.0, 50.0, 30.0, 10.0, 49.0, 96.0, 226.0, 688.0, 412.0, 571.0, 728.0, 346.0, 752.0, 450.0, 298.0, 370.0, 319.0, 643.0, 336.0, 252.0, 215.0, 121.0, 102.0, 252.0, 110.0, 22.0, 76.0, 26.0, 39.0, 82.0, 9.0, 62.0, 9.0, 71.0]}, {\"hovertemplate\": \"<b>%{text}:</b> %{x};<br><b>Intensity:</b> %{y}.\", \"mode\": \"lines\", \"name\": \"b5\", \"text\": [\"RT, min\", \"RT, min\", \"RT, min\", \"RT, min\", \"RT, min\", \"RT, min\", \"RT, min\", \"RT, min\", \"RT, min\", \"RT, min\", \"RT, min\", \"RT, min\", \"RT, min\", \"RT, min\", \"RT, min\", \"RT, min\", \"RT, min\", \"RT, min\", \"RT, min\", \"RT, min\", \"RT, min\", \"RT, min\", \"RT, min\", \"RT, min\", \"RT, min\", \"RT, min\", \"RT, min\", \"RT, min\", \"RT, min\", \"RT, min\", \"RT, min\", \"RT, min\", \"RT, min\", \"RT, min\", \"RT, min\", \"RT, min\", \"RT, min\", \"RT, min\", \"RT, min\", \"RT, min\", \"RT, min\", \"RT, min\", \"RT, min\", \"RT, min\", \"RT, min\", \"RT, min\", \"RT, min\", \"RT, min\", \"RT, min\", \"RT, min\", \"RT, min\", \"RT, min\", \"RT, min\", \"RT, min\"], \"type\": \"scatter\", \"x\": [11.243904598439364, 11.259837370102897, 11.27660667884631, 11.292839566538742, 11.309140092138898, 11.325183868366365, 11.341163134676636, 11.357210249056497, 11.389891982862547, 11.405932450262533, 11.421820931535155, 11.43779092139851, 11.454043168419833, 11.470149567995211, 11.486202107483647, 11.518136662101783, 11.534252738897857, 11.550722449685805, 11.566734349734778, 11.598672125205665, 11.614581730189336, 11.630529687269396, 11.646578326544642, 11.662600221500856, 11.694655286841645, 11.742959642275206, 11.758976068135475, 11.775870017526545, 11.792128339691974, 11.808150464359993, 11.824320259505937, 11.84026206812961, 11.85631837098165, 11.872737945946387, 11.88870396228427, 11.904740021172604, 11.921280732458095, 11.937493522811373, 11.953486185718587, 11.969508105112226, 11.985498206977189, 12.017502452246838, 12.034170370109715, 12.050250015591088, 12.066287565162407, 12.082462531267696, 12.098402927408149, 12.114426440121965, 12.13045134088158, 12.14671767852274, 12.162789152128854, 12.178753697333693, 12.210893154881486, 12.226880549079649], \"y\": [239.0, 275.0, 221.0, 150.0, 161.0, 481.0, 275.0, 82.0, 185.0, 133.0, 35.0, 43.0, 165.0, 256.0, 71.0, 40.0, 54.0, 240.0, 12.0, 26.0, 120.0, 127.0, 34.0, 247.0, 169.0, 40.0, 90.0, 28.0, 21.0, 38.0, 120.0, 94.0, 175.0, 21.0, 44.0, 137.0, 9.0, 23.0, 172.0, 125.0, 323.0, 108.0, 130.0, 56.0, 42.0, 226.0, 227.0, 173.0, 267.0, 58.0, 52.0, 83.0, 203.0, 80.0]}, {\"hovertemplate\": \"<b>%{text}:</b> %{x};<br><b>Intensity:</b> %{y}.\", \"mode\": \"lines\", \"name\": \"b6\", \"text\": [\"RT, min\", \"RT, min\", \"RT, min\", \"RT, min\", \"RT, min\", \"RT, min\", \"RT, min\", \"RT, min\", \"RT, min\", \"RT, min\", \"RT, min\", \"RT, min\", \"RT, min\", \"RT, min\", \"RT, min\", \"RT, min\", \"RT, min\", \"RT, min\", \"RT, min\", \"RT, min\", \"RT, min\", \"RT, min\", \"RT, min\", \"RT, min\", \"RT, min\", \"RT, min\", \"RT, min\", \"RT, min\", \"RT, min\", \"RT, min\", \"RT, min\", \"RT, min\", \"RT, min\", \"RT, min\", \"RT, min\", \"RT, min\", \"RT, min\", \"RT, min\", \"RT, min\", \"RT, min\", \"RT, min\"], \"type\": \"scatter\", \"x\": [11.243904598439364, 11.259837370102897, 11.27660667884631, 11.292839566538742, 11.309140092138898, 11.325183868366365, 11.357210249056497, 11.373760486050653, 11.389891982862547, 11.405932450262533, 11.470149567995211, 11.518136662101783, 11.534252738897857, 11.550722449685805, 11.566734349734778, 11.630529687269396, 11.662600221500856, 11.710895916310639, 11.742959642275206, 11.792128339691974, 11.808150464359993, 11.84026206812961, 11.85631837098165, 11.872737945946387, 11.904740021172604, 11.921280732458095, 11.937493522811373, 11.953486185718587, 11.969508105112226, 11.985498206977189, 12.001489149489608, 12.017502452246838, 12.050250015591088, 12.082462531267696, 12.098402927408149, 12.114426440121965, 12.13045134088158, 12.14671767852274, 12.162789152128854, 12.178753697333693, 12.194882608665912], \"y\": [48.0, 68.0, 47.0, 128.0, 67.0, 22.0, 63.0, 33.0, 40.0, 224.0, 48.0, 30.0, 21.0, 9.0, 20.0, 9.0, 55.0, 27.0, 76.0, 78.0, 85.0, 79.0, 72.0, 261.0, 120.0, 65.0, 36.0, 111.0, 58.0, 95.0, 56.0, 114.0, 187.0, 200.0, 105.0, 206.0, 189.0, 86.0, 73.0, 61.0, 9.0]}, {\"hovertemplate\": \"<b>%{text}:</b> %{x};<br><b>Intensity:</b> %{y}.\", \"mode\": \"lines\", \"name\": \"b7\", \"text\": [\"RT, min\", \"RT, min\", \"RT, min\", \"RT, min\", \"RT, min\", \"RT, min\", \"RT, min\", \"RT, min\", \"RT, min\", \"RT, min\", \"RT, min\", \"RT, min\", \"RT, min\", \"RT, min\", \"RT, min\", \"RT, min\", \"RT, min\", \"RT, min\", \"RT, min\", \"RT, min\", \"RT, min\", \"RT, min\", \"RT, min\", \"RT, min\", \"RT, min\", \"RT, min\", \"RT, min\", \"RT, min\", \"RT, min\", \"RT, min\", \"RT, min\", \"RT, min\", \"RT, min\", \"RT, min\", \"RT, min\", \"RT, min\", \"RT, min\", \"RT, min\", \"RT, min\", \"RT, min\", \"RT, min\", \"RT, min\", \"RT, min\", \"RT, min\", \"RT, min\", \"RT, min\", \"RT, min\", \"RT, min\", \"RT, min\", \"RT, min\", \"RT, min\", \"RT, min\", \"RT, min\", \"RT, min\", \"RT, min\"], \"type\": \"scatter\", \"x\": [11.243904598439364, 11.259837370102897, 11.27660667884631, 11.292839566538742, 11.309140092138898, 11.325183868366365, 11.341163134676636, 11.357210249056497, 11.373760486050653, 11.389891982862547, 11.405932450262533, 11.421820931535155, 11.43779092139851, 11.454043168419833, 11.470149567995211, 11.486202107483647, 11.502152962842432, 11.534252738897857, 11.566734349734778, 11.582766249373206, 11.598672125205665, 11.614581730189336, 11.630529687269396, 11.646578326544642, 11.662600221500856, 11.678614819441664, 11.694655286841645, 11.710895916310639, 11.726963870927404, 11.742959642275206, 11.758976068135475, 11.775870017526545, 11.792128339691974, 11.808150464359993, 11.824320259505937, 11.84026206812961, 11.85631837098165, 11.872737945946387, 11.88870396228427, 11.904740021172604, 11.921280732458095, 11.937493522811373, 11.953486185718587, 11.969508105112226, 11.985498206977189, 12.001489149489608, 12.017502452246838, 12.050250015591088, 12.082462531267696, 12.114426440121965, 12.162789152128854, 12.178753697333693, 12.194882608665912, 12.210893154881486, 12.226880549079649], \"y\": [1682.0, 2459.0, 2790.0, 1504.0, 1142.0, 519.0, 351.0, 472.0, 104.0, 230.0, 106.0, 19.0, 62.0, 65.0, 195.0, 96.0, 89.0, 24.0, 151.0, 536.0, 145.0, 247.0, 33.0, 127.0, 263.0, 257.0, 342.0, 777.0, 427.0, 617.0, 572.0, 433.0, 318.0, 307.0, 367.0, 371.0, 329.0, 196.0, 67.0, 19.0, 142.0, 141.0, 140.0, 174.0, 184.0, 77.0, 77.0, 24.0, 63.0, 68.0, 133.0, 53.0, 161.0, 21.0, 115.0]}, {\"hovertemplate\": \"<b>%{text}:</b> %{x};<br><b>Intensity:</b> %{y}.\", \"mode\": \"lines\", \"name\": \"b8\", \"text\": [\"RT, min\", \"RT, min\", \"RT, min\", \"RT, min\", \"RT, min\", \"RT, min\", \"RT, min\", \"RT, min\", \"RT, min\", \"RT, min\", \"RT, min\", \"RT, min\", \"RT, min\", \"RT, min\", \"RT, min\"], \"type\": \"scatter\", \"x\": [11.243904598439364, 11.341163134676636, 11.373760486050653, 11.454043168419833, 11.518136662101783, 11.646578326544642, 11.678614819441664, 11.710895916310639, 11.726963870927404, 11.758976068135475, 11.775870017526545, 11.808150464359993, 11.824320259505937, 11.85631837098165, 12.017502452246838], \"y\": [39.0, 39.0, 27.0, 23.0, 53.0, 9.0, 30.0, 112.0, 126.0, 38.0, 9.0, 19.0, 39.0, 43.0, 11.0]}],                        {\"height\": 400, \"hovermode\": \"x unified\", \"showlegend\": true, \"template\": {\"data\": {\"bar\": [{\"error_x\": {\"color\": \"#2a3f5f\"}, \"error_y\": {\"color\": \"#2a3f5f\"}, \"marker\": {\"line\": {\"color\": \"white\", \"width\": 0.5}}, \"type\": \"bar\"}], \"barpolar\": [{\"marker\": {\"line\": {\"color\": \"white\", \"width\": 0.5}}, \"type\": \"barpolar\"}], \"carpet\": [{\"aaxis\": {\"endlinecolor\": \"#2a3f5f\", \"gridcolor\": \"#C8D4E3\", \"linecolor\": \"#C8D4E3\", \"minorgridcolor\": \"#C8D4E3\", \"startlinecolor\": \"#2a3f5f\"}, \"baxis\": {\"endlinecolor\": \"#2a3f5f\", \"gridcolor\": \"#C8D4E3\", \"linecolor\": \"#C8D4E3\", \"minorgridcolor\": \"#C8D4E3\", \"startlinecolor\": \"#2a3f5f\"}, \"type\": \"carpet\"}], \"choropleth\": [{\"colorbar\": {\"outlinewidth\": 0, \"ticks\": \"\"}, \"type\": \"choropleth\"}], \"contour\": [{\"colorbar\": {\"outlinewidth\": 0, \"ticks\": \"\"}, \"colorscale\": [[0.0, \"#0d0887\"], [0.1111111111111111, \"#46039f\"], [0.2222222222222222, \"#7201a8\"], [0.3333333333333333, \"#9c179e\"], [0.4444444444444444, \"#bd3786\"], [0.5555555555555556, \"#d8576b\"], [0.6666666666666666, \"#ed7953\"], [0.7777777777777778, \"#fb9f3a\"], [0.8888888888888888, \"#fdca26\"], [1.0, \"#f0f921\"]], \"type\": \"contour\"}], \"contourcarpet\": [{\"colorbar\": {\"outlinewidth\": 0, \"ticks\": \"\"}, \"type\": \"contourcarpet\"}], \"heatmap\": [{\"colorbar\": {\"outlinewidth\": 0, \"ticks\": \"\"}, \"colorscale\": [[0.0, \"#0d0887\"], [0.1111111111111111, \"#46039f\"], [0.2222222222222222, \"#7201a8\"], [0.3333333333333333, \"#9c179e\"], [0.4444444444444444, \"#bd3786\"], [0.5555555555555556, \"#d8576b\"], [0.6666666666666666, \"#ed7953\"], [0.7777777777777778, \"#fb9f3a\"], [0.8888888888888888, \"#fdca26\"], [1.0, \"#f0f921\"]], \"type\": \"heatmap\"}], \"heatmapgl\": [{\"colorbar\": {\"outlinewidth\": 0, \"ticks\": \"\"}, \"colorscale\": [[0.0, \"#0d0887\"], [0.1111111111111111, \"#46039f\"], [0.2222222222222222, \"#7201a8\"], [0.3333333333333333, \"#9c179e\"], [0.4444444444444444, \"#bd3786\"], [0.5555555555555556, \"#d8576b\"], [0.6666666666666666, \"#ed7953\"], [0.7777777777777778, \"#fb9f3a\"], [0.8888888888888888, \"#fdca26\"], [1.0, \"#f0f921\"]], \"type\": \"heatmapgl\"}], \"histogram\": [{\"marker\": {\"colorbar\": {\"outlinewidth\": 0, \"ticks\": \"\"}}, \"type\": \"histogram\"}], \"histogram2d\": [{\"colorbar\": {\"outlinewidth\": 0, \"ticks\": \"\"}, \"colorscale\": [[0.0, \"#0d0887\"], [0.1111111111111111, \"#46039f\"], [0.2222222222222222, \"#7201a8\"], [0.3333333333333333, \"#9c179e\"], [0.4444444444444444, \"#bd3786\"], [0.5555555555555556, \"#d8576b\"], [0.6666666666666666, \"#ed7953\"], [0.7777777777777778, \"#fb9f3a\"], [0.8888888888888888, \"#fdca26\"], [1.0, \"#f0f921\"]], \"type\": \"histogram2d\"}], \"histogram2dcontour\": [{\"colorbar\": {\"outlinewidth\": 0, \"ticks\": \"\"}, \"colorscale\": [[0.0, \"#0d0887\"], [0.1111111111111111, \"#46039f\"], [0.2222222222222222, \"#7201a8\"], [0.3333333333333333, \"#9c179e\"], [0.4444444444444444, \"#bd3786\"], [0.5555555555555556, \"#d8576b\"], [0.6666666666666666, \"#ed7953\"], [0.7777777777777778, \"#fb9f3a\"], [0.8888888888888888, \"#fdca26\"], [1.0, \"#f0f921\"]], \"type\": \"histogram2dcontour\"}], \"mesh3d\": [{\"colorbar\": {\"outlinewidth\": 0, \"ticks\": \"\"}, \"type\": \"mesh3d\"}], \"parcoords\": [{\"line\": {\"colorbar\": {\"outlinewidth\": 0, \"ticks\": \"\"}}, \"type\": \"parcoords\"}], \"pie\": [{\"automargin\": true, \"type\": \"pie\"}], \"scatter\": [{\"marker\": {\"colorbar\": {\"outlinewidth\": 0, \"ticks\": \"\"}}, \"type\": \"scatter\"}], \"scatter3d\": [{\"line\": {\"colorbar\": {\"outlinewidth\": 0, \"ticks\": \"\"}}, \"marker\": {\"colorbar\": {\"outlinewidth\": 0, \"ticks\": \"\"}}, \"type\": \"scatter3d\"}], \"scattercarpet\": [{\"marker\": {\"colorbar\": {\"outlinewidth\": 0, \"ticks\": \"\"}}, \"type\": \"scattercarpet\"}], \"scattergeo\": [{\"marker\": {\"colorbar\": {\"outlinewidth\": 0, \"ticks\": \"\"}}, \"type\": \"scattergeo\"}], \"scattergl\": [{\"marker\": {\"colorbar\": {\"outlinewidth\": 0, \"ticks\": \"\"}}, \"type\": \"scattergl\"}], \"scattermapbox\": [{\"marker\": {\"colorbar\": {\"outlinewidth\": 0, \"ticks\": \"\"}}, \"type\": \"scattermapbox\"}], \"scatterpolar\": [{\"marker\": {\"colorbar\": {\"outlinewidth\": 0, \"ticks\": \"\"}}, \"type\": \"scatterpolar\"}], \"scatterpolargl\": [{\"marker\": {\"colorbar\": {\"outlinewidth\": 0, \"ticks\": \"\"}}, \"type\": \"scatterpolargl\"}], \"scatterternary\": [{\"marker\": {\"colorbar\": {\"outlinewidth\": 0, \"ticks\": \"\"}}, \"type\": \"scatterternary\"}], \"surface\": [{\"colorbar\": {\"outlinewidth\": 0, \"ticks\": \"\"}, \"colorscale\": [[0.0, \"#0d0887\"], [0.1111111111111111, \"#46039f\"], [0.2222222222222222, \"#7201a8\"], [0.3333333333333333, \"#9c179e\"], [0.4444444444444444, \"#bd3786\"], [0.5555555555555556, \"#d8576b\"], [0.6666666666666666, \"#ed7953\"], [0.7777777777777778, \"#fb9f3a\"], [0.8888888888888888, \"#fdca26\"], [1.0, \"#f0f921\"]], \"type\": \"surface\"}], \"table\": [{\"cells\": {\"fill\": {\"color\": \"#EBF0F8\"}, \"line\": {\"color\": \"white\"}}, \"header\": {\"fill\": {\"color\": \"#C8D4E3\"}, \"line\": {\"color\": \"white\"}}, \"type\": \"table\"}]}, \"layout\": {\"annotationdefaults\": {\"arrowcolor\": \"#2a3f5f\", \"arrowhead\": 0, \"arrowwidth\": 1}, \"autotypenumbers\": \"strict\", \"coloraxis\": {\"colorbar\": {\"outlinewidth\": 0, \"ticks\": \"\"}}, \"colorscale\": {\"diverging\": [[0, \"#8e0152\"], [0.1, \"#c51b7d\"], [0.2, \"#de77ae\"], [0.3, \"#f1b6da\"], [0.4, \"#fde0ef\"], [0.5, \"#f7f7f7\"], [0.6, \"#e6f5d0\"], [0.7, \"#b8e186\"], [0.8, \"#7fbc41\"], [0.9, \"#4d9221\"], [1, \"#276419\"]], \"sequential\": [[0.0, \"#0d0887\"], [0.1111111111111111, \"#46039f\"], [0.2222222222222222, \"#7201a8\"], [0.3333333333333333, \"#9c179e\"], [0.4444444444444444, \"#bd3786\"], [0.5555555555555556, \"#d8576b\"], [0.6666666666666666, \"#ed7953\"], [0.7777777777777778, \"#fb9f3a\"], [0.8888888888888888, \"#fdca26\"], [1.0, \"#f0f921\"]], \"sequentialminus\": [[0.0, \"#0d0887\"], [0.1111111111111111, \"#46039f\"], [0.2222222222222222, \"#7201a8\"], [0.3333333333333333, \"#9c179e\"], [0.4444444444444444, \"#bd3786\"], [0.5555555555555556, \"#d8576b\"], [0.6666666666666666, \"#ed7953\"], [0.7777777777777778, \"#fb9f3a\"], [0.8888888888888888, \"#fdca26\"], [1.0, \"#f0f921\"]]}, \"colorway\": [\"#636efa\", \"#EF553B\", \"#00cc96\", \"#ab63fa\", \"#FFA15A\", \"#19d3f3\", \"#FF6692\", \"#B6E880\", \"#FF97FF\", \"#FECB52\"], \"font\": {\"color\": \"#2a3f5f\"}, \"geo\": {\"bgcolor\": \"white\", \"lakecolor\": \"white\", \"landcolor\": \"white\", \"showlakes\": true, \"showland\": true, \"subunitcolor\": \"#C8D4E3\"}, \"hoverlabel\": {\"align\": \"left\"}, \"hovermode\": \"closest\", \"mapbox\": {\"style\": \"light\"}, \"paper_bgcolor\": \"white\", \"plot_bgcolor\": \"white\", \"polar\": {\"angularaxis\": {\"gridcolor\": \"#EBF0F8\", \"linecolor\": \"#EBF0F8\", \"ticks\": \"\"}, \"bgcolor\": \"white\", \"radialaxis\": {\"gridcolor\": \"#EBF0F8\", \"linecolor\": \"#EBF0F8\", \"ticks\": \"\"}}, \"scene\": {\"xaxis\": {\"backgroundcolor\": \"white\", \"gridcolor\": \"#DFE8F3\", \"gridwidth\": 2, \"linecolor\": \"#EBF0F8\", \"showbackground\": true, \"ticks\": \"\", \"zerolinecolor\": \"#EBF0F8\"}, \"yaxis\": {\"backgroundcolor\": \"white\", \"gridcolor\": \"#DFE8F3\", \"gridwidth\": 2, \"linecolor\": \"#EBF0F8\", \"showbackground\": true, \"ticks\": \"\", \"zerolinecolor\": \"#EBF0F8\"}, \"zaxis\": {\"backgroundcolor\": \"white\", \"gridcolor\": \"#DFE8F3\", \"gridwidth\": 2, \"linecolor\": \"#EBF0F8\", \"showbackground\": true, \"ticks\": \"\", \"zerolinecolor\": \"#EBF0F8\"}}, \"shapedefaults\": {\"line\": {\"color\": \"#2a3f5f\"}}, \"ternary\": {\"aaxis\": {\"gridcolor\": \"#DFE8F3\", \"linecolor\": \"#A2B1C6\", \"ticks\": \"\"}, \"baxis\": {\"gridcolor\": \"#DFE8F3\", \"linecolor\": \"#A2B1C6\", \"ticks\": \"\"}, \"bgcolor\": \"white\", \"caxis\": {\"gridcolor\": \"#DFE8F3\", \"linecolor\": \"#A2B1C6\", \"ticks\": \"\"}}, \"title\": {\"x\": 0.05}, \"xaxis\": {\"automargin\": true, \"gridcolor\": \"#EBF0F8\", \"linecolor\": \"#EBF0F8\", \"ticks\": \"\", \"title\": {\"standoff\": 15}, \"zerolinecolor\": \"#EBF0F8\", \"zerolinewidth\": 2}, \"yaxis\": {\"automargin\": true, \"gridcolor\": \"#EBF0F8\", \"linecolor\": \"#EBF0F8\", \"ticks\": \"\", \"title\": {\"standoff\": 15}, \"zerolinecolor\": \"#EBF0F8\", \"zerolinewidth\": 2}}}, \"title\": {\"font\": {\"size\": 16}, \"text\": \"Precursor/fragments elution profile\", \"x\": 0.5, \"xanchor\": \"center\", \"yanchor\": \"top\"}, \"width\": 900, \"xaxis\": {\"tickfont\": {\"size\": 14}, \"tickmode\": \"auto\", \"title\": {\"font\": {\"size\": 14}, \"text\": \"rt\"}}, \"yaxis\": {\"title\": {\"text\": \"intensity\"}}},                        {\"displaylogo\": false, \"toImageButtonOptions\": {\"format\": \"svg\", \"filename\": \"custom_image\", \"height\": 400, \"width\": 700, \"scale\": 1}, \"responsive\": true}                    ).then(function(){\n",
       "                            \n",
       "var gd = document.getElementById('e8bb926d-6609-4678-a5cb-52715818ba29');\n",
       "var x = new MutationObserver(function (mutations, observer) {{\n",
       "        var display = window.getComputedStyle(gd).display;\n",
       "        if (!display || display === 'none') {{\n",
       "            console.log([gd, 'removed!']);\n",
       "            Plotly.purge(gd);\n",
       "            observer.disconnect();\n",
       "        }}\n",
       "}});\n",
       "\n",
       "// Listen for the removal of the full notebook cells\n",
       "var notebookContainer = gd.closest('#notebook-container');\n",
       "if (notebookContainer) {{\n",
       "    x.observe(notebookContainer, {childList: true});\n",
       "}}\n",
       "\n",
       "// Listen for the clearing of the current output cell\n",
       "var outputEl = gd.closest('.output');\n",
       "if (outputEl) {{\n",
       "    x.observe(outputEl, {childList: true});\n",
       "}}\n",
       "\n",
       "                        })                };                });            </script>        </div>"
      ]
     },
     "metadata": {},
     "output_type": "display_data"
    }
   ],
   "source": [
    "plot_elution_profile(\n",
    "    bruker_raw_data, \n",
    "    peptide_info,\n",
    "    title='Precursor/fragments elution profile'\n",
    ").show(config=utils.config)"
   ]
  }
 ],
 "metadata": {
  "kernelspec": {
   "display_name": "Python 3",
   "language": "python",
   "name": "python3"
  },
  "language_info": {
   "codemirror_mode": {
    "name": "ipython",
    "version": 3
   },
   "file_extension": ".py",
   "mimetype": "text/x-python",
   "name": "python",
   "nbconvert_exporter": "python",
   "pygments_lexer": "ipython3",
   "version": "3.8.0"
  }
 },
 "nbformat": 4,
 "nbformat_minor": 5
}
