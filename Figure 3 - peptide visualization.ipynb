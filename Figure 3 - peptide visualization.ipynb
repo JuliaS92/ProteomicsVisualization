{
 "cells": [
  {
   "cell_type": "markdown",
   "metadata": {},
   "source": [
    "# Figure 3: Peptide visualization\n",
    "## Library imports"
   ]
  },
  {
   "cell_type": "code",
   "execution_count": null,
   "metadata": {},
   "outputs": [],
   "source": [
    "## Install all packages directly in the notebook\n",
    "#!pip install numpy pandas plotly"
   ]
  },
  {
   "cell_type": "code",
   "execution_count": null,
   "metadata": {},
   "outputs": [],
   "source": [
    "import pandas as pd\n",
    "import re\n",
    "import numpy as np\n",
    "import plotly.graph_objects as go\n",
    "import plotly.express as px\n",
    "import plotly.io as pio\n",
    "pio.renderers.default = \"notebook\""
   ]
  },
  {
   "cell_type": "markdown",
   "metadata": {
    "scrolled": true
   },
   "source": [
    "## Figure 3A: Peptide Atlas style figure for peptide visualization\n",
    "This uses https://www.ebi.ac.uk/pride/archive/projects/PXD012867 as example data.\n",
    "\n",
    "The data stored in this repo was filtered from the original peptides.txt file to only contain required columns:\n",
    "```python\n",
    "yeast_peptides = pd.read_csv(\"./yeast_peptides.txt\", sep='\\t', usecols=lambda x: bool(re.match(\"Sequence|Proteins|Start position|End position|Gene names|Intensity .*\", x)))\n",
    "yeast_peptides.to_csv(\"./Data/yeast_peptides.csv\", sep='\\t', index=False)\n",
    "```"
   ]
  },
  {
   "cell_type": "code",
   "execution_count": null,
   "metadata": {},
   "outputs": [],
   "source": [
    "yeast_peptides = pd.read_csv(\"./Data/yeast_peptides.csv\", sep='\\t')"
   ]
  },
  {
   "cell_type": "code",
   "execution_count": null,
   "metadata": {},
   "outputs": [],
   "source": [
    "def peptide_atlas(peptides, gene, gap=1, range_max=None):\n",
    "    \"\"\"\n",
    "    Draw peptide atlas style graph of peptide coverage.\n",
    "    \n",
    "    Args:\n",
    "        - peptides: pandas table with MaxQuant peptide output.\n",
    "        - gene: gene name to show\n",
    "        - gap: default=1; minimum distance between peptides to be shown in the same row\n",
    "        - range_max: default=None; maximum value for x-axis range. If None, end at last identified peptide.\n",
    "    Returns:\n",
    "        - plotly express line graph, colors are assigned by number of observations\n",
    "        - peptide summary table\n",
    "    \"\"\"\n",
    "    pg = peptides.loc[peptides['Gene names'] == gene,\n",
    "                      [col for col in peptides.columns\n",
    "                       if col in ['Sequence', 'Proteins', 'Start position', 'End position', 'Gene names']\n",
    "                       or col.startswith(\"Intensity \")]].copy()\\\n",
    "    .sort_values(['Start position', 'End position'])\n",
    "    \n",
    "    # count quantifications\n",
    "    pg.insert(0, \"% quantified\", pg[[col for col in pg.columns if col.startswith(\"Intensity \")]]\\\n",
    "                 .apply(lambda x: np.round(sum(x>0)/len(x), 2), axis=1))\n",
    "    pg.drop([col for col in pg.columns if col.startswith(\"Intensity \")], axis=1, inplace=True)\n",
    "    \n",
    "    # assign traces to non-overlapping peptides\n",
    "    trace_ends, traces = [-gap], []\n",
    "    for s,e in zip(pg[\"Start position\"], pg[\"End position\"]):\n",
    "        traced = False\n",
    "        for t in range(len(trace_ends)):\n",
    "            if s >= trace_ends[t]+gap:\n",
    "                traces.append(t)\n",
    "                trace_ends[t] = e\n",
    "                traced = True\n",
    "                break\n",
    "        if not traced:\n",
    "            traces.append(len(trace_ends))\n",
    "            trace_ends.append(e)\n",
    "    pg.insert(0, \"Trace\", traces)\n",
    "    \n",
    "    # draw and return plot\n",
    "    colors = [px.colors.find_intermediate_color(\n",
    "        px.colors.sequential.Reds[2],px.colors.sequential.Reds[-2], n, colortype=\"rgb\"\n",
    "    ) for n in np.unique(pg[\"% quantified\"])]\n",
    "    pa = px.line(pd.concat([pg[['Sequence', 'Proteins', 'Start position', 'Gene names', 'Trace',\"% quantified\"]]\\\n",
    "                                .rename({\"Start position\": \"Sequence position\"}, axis=1),\n",
    "                            pg[['Sequence', 'Proteins', 'End position', 'Gene names', 'Trace', \"% quantified\"]]\\\n",
    "                                .rename({\"End position\": \"Sequence position\"}, axis=1)]).sort_values(\"% quantified\"),\n",
    "                 x=\"Sequence position\", y=\"Trace\", line_group=\"Sequence\", template=\"simple_white\", color=\"% quantified\",\n",
    "                 color_discrete_sequence = colors, height=100+30*(max(pg.Trace)+1),\n",
    "                 range_x=[0,max(pg[\"End position\"]) if range_max is None else range_max], range_y=[-0.5,(max(pg.Trace)+0.5)],\n",
    "                 title=\"Peptides identified for {} ({})\".format(gene, pg.Proteins.iloc[0]))\\\n",
    "    .update_traces(line_width=20).update_yaxes(visible=False).update_xaxes(showgrid=True)\\\n",
    "    .update_layout(margin={\"autoexpand\":False,\"b\":50,\"l\":20,\"r\":20,\"t\":50})\n",
    "    return pa, pg"
   ]
  },
  {
   "cell_type": "code",
   "execution_count": null,
   "metadata": {
    "scrolled": true
   },
   "outputs": [],
   "source": [
    "pa, pg = peptide_atlas(yeast_peptides, \"HSP42\", gap=1)\n",
    "pa.update_layout(font_size=10).show()"
   ]
  },
  {
   "cell_type": "code",
   "execution_count": null,
   "metadata": {},
   "outputs": [],
   "source": [
    "pg"
   ]
  },
  {
   "cell_type": "markdown",
   "metadata": {},
   "source": [
    "## Figure 3B: AlphaMap visualization\n",
    "For a full guide on how to create these figures please refer to the AlphaMap github repository: https://github.com/MannLabs/alphamap\n",
    "\n",
    "This also uses https://www.ebi.ac.uk/pride/archive/projects/PXD012867 as example data, but the evidence file was regenerated and again filtered for storage in the repository.\n",
    "\n",
    "```python\n",
    "yeast_evidence = pd.read_csv(\"./yeast_evidence.txt\", sep='\\t', usecols=lambda x:bool(re.match(\"Proteins|Modified sequence|Raw file|id\", x)))\n",
    "yeast_evidence = yeast_evidence.loc[yeast_evidence[\"Raw file\"].isin([\n",
    "    \"20190124_QX3_JuSc_SA_JS7_1_RPN4_0h_1_190125133334\",\n",
    "    \"20190124_QX3_JuSc_SA_JS7_1_RPN4_0h_2\",\n",
    "    \"20190124_QX3_JuSc_SA_JS7_1_RPN4_0h_3\",\n",
    "    \"20190124_QX3_JuSc_SA_JS7_1_RPN4_0h_4\",\n",
    "    \"20190124_QX3_JuSc_SA_JS7_1_wt_0h_1_190125155225\",\n",
    "    \"20190124_QX3_JuSc_SA_JS7_1_wt_0h_2\",\n",
    "    \"20190124_QX3_JuSc_SA_JS7_1_wt_0h_3\",\n",
    "    \"20190124_QX3_JuSc_SA_JS7_1_wt_0h_4\"]),:]\n",
    "yeast_evidence.to_csv(\"./Data/yeast_evidence.txt\", sep='\\t', index=False)\n",
    "```"
   ]
  },
  {
   "cell_type": "code",
   "execution_count": null,
   "metadata": {},
   "outputs": [],
   "source": [
    "## Install all packages directly in the notebook\n",
    "#!pip install alphamap"
   ]
  },
  {
   "cell_type": "code",
   "execution_count": null,
   "metadata": {},
   "outputs": [],
   "source": [
    "from alphamap.organisms_data import import_fasta\n",
    "yeast_fasta = import_fasta(\"Saccharomyces cerevisiae\")\n",
    "\n",
    "from alphamap.organisms_data import import_uniprot_annotation\n",
    "yeast_uniprot = import_uniprot_annotation('Saccharomyces cerevisiae')"
   ]
  },
  {
   "cell_type": "code",
   "execution_count": null,
   "metadata": {
    "scrolled": true
   },
   "outputs": [],
   "source": [
    "from alphamap.importing import import_data\n",
    "mq_data_rpn0 = import_data(\"./Data/yeast_evidence.txt\",\n",
    "                      sample=[\"20190124_QX3_JuSc_SA_JS7_1_RPN4_0h_1_190125133334\",\n",
    "                              \"20190124_QX3_JuSc_SA_JS7_1_RPN4_0h_2\",\n",
    "                              \"20190124_QX3_JuSc_SA_JS7_1_RPN4_0h_3\",\n",
    "                              \"20190124_QX3_JuSc_SA_JS7_1_RPN4_0h_4\"])\n",
    "mq_data_rpn0[\"naked_sequence\"] = mq_data_rpn0[\"naked_sequence\"].apply(lambda x: re.sub(r'\\(.+?\\)', \"\", x))\n",
    "mq_data_rpn0.drop([i for i,el in enumerate(mq_data_rpn0[\"all_protein_ids\"]) if el.startswith(\"CON\")], inplace=True)\n",
    "mq_data_wt0 = import_data(\"./Data/yeast_evidence.txt\",\n",
    "                      sample=[\"20190124_QX3_JuSc_SA_JS7_1_wt_0h_1_190125155225\",\n",
    "                              \"20190124_QX3_JuSc_SA_JS7_1_wt_0h_2\",\n",
    "                              \"20190124_QX3_JuSc_SA_JS7_1_wt_0h_3\",\n",
    "                              \"20190124_QX3_JuSc_SA_JS7_1_wt_0h_4\"])\n",
    "mq_data_wt0[\"naked_sequence\"] = mq_data_wt0[\"naked_sequence\"].apply(lambda x: re.sub(r'\\(.+?\\)', \"\", x))\n",
    "mq_data_wt0.drop([i for i,el in enumerate(mq_data_wt0[\"all_protein_ids\"]) if el.startswith(\"CON\")], inplace=True)\n",
    "\n",
    "from alphamap.preprocessing import format_input_data\n",
    "formatted_mq_data_rpn0 = format_input_data(df=mq_data_rpn0, fasta = yeast_fasta, modification_exp = r'\\(.+?\\)')\n",
    "formatted_mq_data_wt0 = format_input_data(df=mq_data_wt0, fasta = yeast_fasta, modification_exp = r'\\(.+?\\)')"
   ]
  },
  {
   "cell_type": "code",
   "execution_count": null,
   "metadata": {
    "scrolled": false
   },
   "outputs": [],
   "source": [
    "from alphamap.sequenceplot import plot_peptide_traces, uniprot_color_dict\n",
    "from alphamap.uniprot_integration import uniprot_feature_dict\n",
    "fig3B = plot_peptide_traces([formatted_mq_data_wt0, formatted_mq_data_rpn0],\n",
    "                          name = ['wildtype', 'mutant'],\n",
    "                          protein = \"Q12329\",\n",
    "                          fasta = yeast_fasta,\n",
    "                          uniprot=yeast_uniprot,\n",
    "                          selected_features=['CHAIN','DOMAIN','STRUCTURE'],\n",
    "                          uniprot_feature_dict=uniprot_feature_dict, \n",
    "                          uniprot_color_dict=uniprot_color_dict)\n",
    "fig3B.update_layout(width=900, height=400, font_size=10)"
   ]
  },
  {
   "cell_type": "markdown",
   "metadata": {},
   "source": [
    "## Fig3C: PhosphoSitePlus style lollipop plot for PTM visualization\n",
    "This uses https://www.ebi.ac.uk/pride/archive/projects/PXD010697 as an example data set. The data was reduced to the relevant columns for storage in the repository.\n",
    "\n",
    "```python\n",
    "fb_phospho = pd.read_csv(\"./forebrain_Phospho (STY)Sites.txt\", sep='\\t',\n",
    "                         usecols=lambda x: bool(re.match(\"Proteins|Positions within proteins|Intensity|Localization prob\", x)))\n",
    "fb_phospho.to_csv(\"./Data/forebrain_Phospho (STY)Sites.txt\", sep='\\t', index=False)\n",
    "```"
   ]
  },
  {
   "cell_type": "code",
   "execution_count": null,
   "metadata": {},
   "outputs": [],
   "source": [
    "fb_phospho = pd.read_csv(\"./Data/forebrain_Phospho (STY)Sites.txt\", sep='\\t')"
   ]
  },
  {
   "cell_type": "code",
   "execution_count": null,
   "metadata": {},
   "outputs": [],
   "source": [
    "def lollipop(df, proteinid, range_max=None,\n",
    "             columns={\"ids\": \"Proteins\", \"pos\": \"Positions within proteins\",\n",
    "                      \"int\": \"Intensity\", \"prob\": \"Localization prob\"}):\n",
    "    \"\"\"\n",
    "    This function generates a lollipop plot representing PTM localization, intensity and localization probability.\n",
    "    \n",
    "    Args:\n",
    "        - df (pd.DataFrame): Loaded sites table\n",
    "        - proteinid (str): Protein identifier\n",
    "        - range_max (int/None): default = None, optional maximum value for the x-axis.\n",
    "                                If none the maximum site position+20 is used.\n",
    "        - columns (dict): default = MaxQuant sites table names, defines the column names for:\n",
    "            - ids: semicolon separated protein identifiers\n",
    "            - pos: semicolon separated site positions\n",
    "            - int: single column containing site intensity\n",
    "            - prob: single column containing localization probability\n",
    "    Returns:\n",
    "        - gene (pd.DataFrame): filtered and transformed dataframe used for plotting\n",
    "        - plot (plotly.Figure): interactive lollipop plot\n",
    "    \"\"\"\n",
    "    gene = df.loc[[proteinid in str(el) for el in df[columns[\"ids\"]]], list(columns.values())]\n",
    "    gene[columns[\"pos\"]] = gene[[columns[\"pos\"], columns[\"ids\"]]].apply(\n",
    "        lambda x: int(x.values[0].split(\";\")[x.values[1].split(\";\").index(proteinid)]), axis=1)\n",
    "    gene[columns[\"int\"]] = gene[columns[\"int\"]].apply(np.log10)\n",
    "    gene.rename({columns[\"int\"]: \"log10(\"+columns[\"int\"]+\")\"}, axis=1, inplace=True)\n",
    "    gene.insert(0, \"size\", gene[columns[\"prob\"]].apply(\n",
    "        lambda x: 1 if x<0.5 else 2 if x<0.8 else 3 if x<0.95 else 4 if x<0.98 else 5))\n",
    "    gene = gene.loc[np.isfinite(gene[\"log10(\"+columns[\"int\"]+\")\"])]\n",
    "    if len(gene) == 0:\n",
    "        return gene, None\n",
    "    plot = px.scatter(gene, x=columns[\"pos\"], y=\"log10(\"+columns[\"int\"]+\")\", size=\"size\",\n",
    "                      template=\"simple_white\", title=proteinid,\n",
    "                      hover_data=[columns[\"pos\"], \"log10(\"+columns[\"int\"]+\")\", columns[\"prob\"]],\n",
    "                      range_x=[-20,max(gene[columns[\"pos\"]])+20 if range_max is None else range_max])\n",
    "    for i,el in gene.iterrows():\n",
    "        plot.add_shape(x0=el[columns[\"pos\"]], x1=el[columns[\"pos\"]],\n",
    "                    y0=0, y1=el[\"log10(\"+columns[\"int\"]+\")\"], line_width=1, opacity=0.5)\n",
    "    return gene, plot"
   ]
  },
  {
   "cell_type": "code",
   "execution_count": null,
   "metadata": {},
   "outputs": [],
   "source": [
    "_, fig3C = lollipop(fb_phospho, \"Q9WTQ5\")\n",
    "fig3C.update_layout(font_size=10, width=900, height=400)"
   ]
  }
 ],
 "metadata": {
  "kernelspec": {
   "display_name": "Python 3 (ipykernel)",
   "language": "python",
   "name": "python3"
  },
  "language_info": {
   "codemirror_mode": {
    "name": "ipython",
    "version": 3
   },
   "file_extension": ".py",
   "mimetype": "text/x-python",
   "name": "python",
   "nbconvert_exporter": "python",
   "pygments_lexer": "ipython3",
   "version": "3.7.6"
  }
 },
 "nbformat": 4,
 "nbformat_minor": 4
}
